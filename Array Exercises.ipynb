{
 "cells": [
  {
   "cell_type": "markdown",
   "metadata": {},
   "source": [
    "# **Array Exercises**"
   ]
  },
  {
   "cell_type": "code",
   "execution_count": 1,
   "metadata": {},
   "outputs": [
    {
     "data": {
      "text/html": [
       "<style>.container { width:100% !important; }</style>"
      ],
      "text/plain": [
       "<IPython.core.display.HTML object>"
      ]
     },
     "metadata": {},
     "output_type": "display_data"
    }
   ],
   "source": [
    "from IPython.core.display import display, HTML\n",
    "display(HTML(\"<style>.container { width:100% !important; }</style>\"))"
   ]
  },
  {
   "cell_type": "code",
   "execution_count": 110,
   "metadata": {},
   "outputs": [
    {
     "name": "stdout",
     "output_type": "stream",
     "text": [
      "Key(3) found at: 2\n",
      "Key(10) found at: -1\n"
     ]
    }
   ],
   "source": [
    "def binary_search_rec(arr, k , start = None, end = None):\n",
    "    if end is None:\n",
    "        end = len(arr) - 1\n",
    "        \n",
    "    while start <= end:\n",
    "        m = (start + end) // 2\n",
    "        if arr[m] == k:\n",
    "            return m\n",
    "        if k > arr[m]:\n",
    "            start = m + 1\n",
    "            return binary_search_rec(arr, k , start, end)\n",
    "        elif k < arr[m]:\n",
    "            end = m -1\n",
    "            return binary_search_rec(arr, k , start, end)\n",
    "    return -1\n",
    "\n",
    "v1 = [1, 2, 3, 4, 5, 6, 7, 8]\n",
    "m = 3\n",
    "print(f\"Key({m}) found at: \" + str(binary_search_recursive(v1, 3)))\n",
    "m = 10\n",
    "print(f\"Key({m}) found at: \" + str(binary_search_recursive(v1, m)))"
   ]
  },
  {
   "cell_type": "markdown",
   "metadata": {},
   "source": [
    "## Find Maximum in Sliding Window\n",
    "- use heaps for searching the maximum in every window. In that case, the time complexity will rise to `O(n log(w))`."
   ]
  },
  {
   "cell_type": "code",
   "execution_count": 23,
   "metadata": {},
   "outputs": [
    {
     "name": "stdout",
     "output_type": "stream",
     "text": [
      "5\n"
     ]
    }
   ],
   "source": [
    "elements = [5, 1, 3, 7, 2]\n",
    "\n",
    "heapq._heapify_max(elements)\n",
    "pop_max = heapq._heappop_max(elements)\n",
    "\n",
    "print(pop_max)"
   ]
  },
  {
   "cell_type": "code",
   "execution_count": 25,
   "metadata": {},
   "outputs": [],
   "source": [
    "def find_max_sliding_window(arr, window_size):\n",
    "    res = []\n",
    "    start = 0\n",
    "    end = window_size\n",
    "    \n",
    "    # find max using heapq in \n",
    "    def find_max(lst):\n",
    "        heapq._heapify_max(lst)\n",
    "        pop_max = heapq._heappop_max(lst)\n",
    "        # return max(lst)\n",
    "        return pop_max \n",
    "    \n",
    "        \n",
    "    while end <= len(arr):\n",
    "        res.append(find_max(arr[start: end]))\n",
    "        start += 1\n",
    "        end += 1\n",
    "        \n",
    "    return res"
   ]
  },
  {
   "cell_type": "markdown",
   "metadata": {},
   "source": [
    "## Search a Rotated Array\n",
    "- Search for a given number in a sorted array, with unique elements, that has been rotated by some arbitrary number. Return -1 if the number does not exist."
   ]
  },
  {
   "cell_type": "markdown",
   "metadata": {},
   "source": [
    "### Attention!\n",
    "- In regular sorted array, if `target > arr[m]` it means that we are in the 1st half of the array so we change start to `m+1` and if `target < arr[m]` it means that we are in the second half and\n",
    "we change end to `m-1`.\n",
    "- But in this problem, if target is in unsoreted part, it could be either smaller or greater than `arr[m]`. For the unsorted part of the array both smaller and greater than `arr[m]` is possible so we need to add 2 more conditions"
   ]
  },
  {
   "cell_type": "markdown",
   "metadata": {},
   "source": [
    "### In a sorted array, if `target < arr[m]` it  means we definitely are on the left side of the array and we only need to set `end = mid - 1` but in this question, with  `target < arr[m]` we could be on both side of the array and based on the side we're at, we may need to use `start = mid + 1` or `end = mid - 1`\n",
    "\n",
    "- https://leetcode.com/problems/search-in-rotated-sorted-array/solution/"
   ]
  },
  {
   "cell_type": "markdown",
   "metadata": {},
   "source": [
    "\n",
    "<img src=\"images\\rotated_array_sort.png\" width=\"1000\" >"
   ]
  },
  {
   "cell_type": "code",
   "execution_count": 60,
   "metadata": {},
   "outputs": [
    {
     "name": "stdout",
     "output_type": "stream",
     "text": [
      "Key(3) found at: 4\n",
      "Key(6) found at: 0\n",
      "Key(3) found at: 4\n",
      "Key(6) found at: 2\n",
      "Key(8) found at: -1\n"
     ]
    }
   ],
   "source": [
    "def binary_search_rotated(arr, key):\n",
    "    start = 0\n",
    "    end = len(arr) - 1\n",
    "\n",
    "    if start > end:\n",
    "        return -1\n",
    "\n",
    "    while start <= end:\n",
    "        mid = (start+ end)//2\n",
    "#         print(start, mid, end)\n",
    "        if arr[mid] == key:\n",
    "            return mid\n",
    "\n",
    "        # checks if the 1st half is sorted \n",
    "        if arr[start] <= arr[mid]:\n",
    "            if key <= arr[mid] and key >= arr[start]: # if key is in sorted halF\n",
    "                end = mid - 1 # regular binary search\n",
    "            else:\n",
    "                start = mid + 1\n",
    "        \n",
    "        # checks if the 2nd half is sorted \n",
    "        elif arr[mid] <= arr[end]:\n",
    "            if key >= arr[mid] and key <= arr[end]:  # if key is found in this sorted half\n",
    "                start = mid + 1\n",
    "            else:\n",
    "                end = mid - 1\n",
    "\n",
    "    return -1\n",
    "\n",
    "v1 = [6, 7, 1, 2, 3, 4, 5]\n",
    "print(\"Key(3) found at: \" + str(binary_search_rotated(v1, 3)))\n",
    "print(\"Key(6) found at: \" + str(binary_search_rotated(v1, 6))) \n",
    "\n",
    "v2 = [4, 5, 6,  2, 3]\n",
    "\n",
    "print(\"Key(3) found at: \" + str(binary_search_rotated(v2, 3)))\n",
    "print(\"Key(6) found at: \" + str(binary_search_rotated(v2, 6))) \n",
    "\n",
    "print(\"Key(8) found at: \" + str(binary_search_rotated(v2, 8)))"
   ]
  },
  {
   "cell_type": "markdown",
   "metadata": {},
   "source": [
    "## Find the Smallest Common Number\n",
    "- In the example below,​ you are given three positive integer arrays which are sorted in ascending order.You have to find the smallest number that is common in all three arrays. Return -1 if the smallest common number is not found."
   ]
  },
  {
   "cell_type": "code",
   "execution_count": 78,
   "metadata": {},
   "outputs": [
    {
     "name": "stdout",
     "output_type": "stream",
     "text": [
      "Least Common Number: 6\n"
     ]
    }
   ],
   "source": [
    "def find_least_common_number(a, b, c):\n",
    "  i = 0\n",
    "  j = 0\n",
    "  k = 0\n",
    "\n",
    "  while i < len(a) and j < len(b) and k < len(c):\n",
    "\n",
    "    # Finding the smallest common number\n",
    "    if a[i] == b[j] and b[j] == c[k]:\n",
    "      return a[i]\n",
    "\n",
    "    # Let's increment the iterator\n",
    "    # for the smallest value.\n",
    "\n",
    "    if a[i] <= b[j] and a[i] <= c[k]:\n",
    "      i+=1\n",
    "\n",
    "    elif b[j] <= a[i] and b[j] <= c[k]:\n",
    "      j+=1 \n",
    "    \n",
    "    elif c[k] <= a[i] and c[k] <= b[j]:\n",
    "      k+=1\n",
    "\n",
    "  return -1\n",
    "\n",
    "v1 = [6, 7, 10, 25, 30, 63, 64]\n",
    "v2 = [1, 4, 5, 6, 7, 8, 50]\n",
    "v3 = [1, 6, 10, 14]\n",
    "\n",
    "result = find_least_common_number(v1, v2, v3)\n",
    "print(\"Least Common Number: \" + str(result))"
   ]
  },
  {
   "cell_type": "markdown",
   "metadata": {},
   "source": [
    "## Find Low/High Index of a Key in a Sorted Array"
   ]
  },
  {
   "cell_type": "code",
   "execution_count": 158,
   "metadata": {},
   "outputs": [
    {
     "name": "stdout",
     "output_type": "stream",
     "text": [
      "Low Index of 5: 15\n",
      "High Index of 5: 17\n",
      "Low Index of 6: -1\n",
      "High Index of 6: 23\n"
     ]
    }
   ],
   "source": [
    "def find_low_index(arr: list, k : int):\n",
    "    s = 0\n",
    "    e =  len(arr) - 1\n",
    "    startIndex = -1\n",
    "    while s < e:\n",
    "        m = (s + e) // 2\n",
    "# if k is equal or smaller than mid element,we search the left part (subarray with smaller values)\n",
    "        # brings down the end limit\n",
    "        if k < arr[m]:\n",
    "            e = m -  1\n",
    "        elif  k == arr[m]:\n",
    "            startIndex = m\n",
    "            e = m -  1\n",
    "# if k is greater than mid element, we search the right part (subarray with greater values)\n",
    "        # brings down the end limit\n",
    "        elif k > arr[m]:\n",
    "            s = m + 1\n",
    "    return startIndex\n",
    "\n",
    "def find_high_index(arr, k: int):\n",
    "    s = 0\n",
    "    e = len(arr) - 1\n",
    "    endIndex =  -1\n",
    "    while s <= e:\n",
    "        m = (s + e) // 2\n",
    "# if k is equal or greater than mid element, we search the right part(subarray with greater values)\n",
    "        # brings down the end limit\n",
    "        if k > arr[m]:\n",
    "            s =  m + 1\n",
    "        elif k == arr[m]:\n",
    "            endIndex = m\n",
    "            s =  m + 1\n",
    "#  if k is smaller than mid element, we search the left part (subarray with smaller values)\n",
    "        # brings down the end limit\n",
    "        elif k < arr[m]:\n",
    "            e = m - 1\n",
    "    return endIndex\n",
    "\n",
    "\n",
    "\n",
    "array = [1, 1, 1, 2, 2, 2, 2, 2, 3, 3, 3, 4, 4, 4, 4, 5, 5, 5, 6, 6, 6, 6, 6, 6]\n",
    "key = 5\n",
    "low = find_low_index(array, key)\n",
    "high = find_high_index(array, key)\n",
    "print(\"Low Index of \" + str(key) + \": \" + str(low))\n",
    "print(\"High Index of \" + str(key) + \": \" + str(high))\n",
    "\n",
    "key = -2\n",
    "low = find_low_index(array, key)\n",
    "key = 6\n",
    "high = find_high_index(array, key)\n",
    "print(\"Low Index of \" + str(key) + \": \" + str(low))\n",
    "print(\"High Index of \" + str(key) + \": \" + str(high))"
   ]
  },
  {
   "cell_type": "markdown",
   "metadata": {},
   "source": [
    "## Move All Zeros to the Beginning of the Array\n",
    "Move all zeros to the left of an array while maintaining its order.\n",
    "-  The array has to be modified in-place."
   ]
  },
  {
   "cell_type": "markdown",
   "metadata": {},
   "source": [
    "### A. Not efficient solution"
   ]
  },
  {
   "cell_type": "code",
   "execution_count": 1,
   "metadata": {},
   "outputs": [
    {
     "name": "stdout",
     "output_type": "stream",
     "text": [
      "Original Array: [1, 10, 20, 0, 59, 63, 0, 88, 0]\n",
      "After Moving Zeroes to Left:  [0, 0, 0, 1, 10, 20, 59, 63, 88]\n"
     ]
    }
   ],
   "source": [
    "def move_zeros_to_left(arr):\n",
    "    for i in range(len(arr)):\n",
    "        if arr[i] == 0:\n",
    "            arr.insert(0, 0)\n",
    "            del arr[i+1] # because we've added a 0,index of current element is moved one step forward\n",
    "    return arr\n",
    "\n",
    "\n",
    "v = [1, 10, 20, 0, 59, 63, 0, 88, 0]\n",
    "print(\"Original Array:\", v)\n",
    "\n",
    "move_zeros_to_left(v)\n",
    "\n",
    "print(\"After Moving Zeroes to Left: \", v)"
   ]
  },
  {
   "cell_type": "markdown",
   "metadata": {},
   "source": [
    "### B. reader/writer indexes Solution\n",
    "- We read from the last element, 2 pointers for read and write\n",
    "- If we reach 0, read stored the value in itself and moves one step but write stays (we're going to replace 0)\n",
    "- If we reach non 0, write the value of previously read index in the write index element (replace 0 with the prev nin 0 element read from read index) and move both indices\n",
    "- Keep going till read becomes -1\n",
    "- Replace all previous elemenets of write index with 0\n",
    "#### write only moves after writing\n",
    "#### read onle readd non 0 values"
   ]
  },
  {
   "cell_type": "code",
   "execution_count": 164,
   "metadata": {},
   "outputs": [
    {
     "name": "stdout",
     "output_type": "stream",
     "text": [
      "Original Array: [1, 10, 20, 0, 59, 63, 0, 88, 0]\n",
      "After Moving Zeroes to Left:  [0, 0, 0, 1, 10, 20, 59, 63, 88]\n"
     ]
    }
   ],
   "source": [
    "def move_zeros_to_left(arr):\n",
    "    read , write = len(arr)-1, len(arr)-1\n",
    "    while read >= 0:\n",
    "        if arr[read] == 0: # when arr[read] is 0, we only need to move read backward\n",
    "            read -= 1\n",
    "        if arr[read] != 0: # when arr[read] is NOT 0, we replace value at arr[write]\n",
    "            # then move both indices backward\n",
    "            arr[write] = arr[read]\n",
    "            read -= 1\n",
    "            write -= 1\n",
    "    # after read gets to the end of the array, we replace all remaining elements in write with 0      \n",
    "    while write >=  0:\n",
    "        arr[write] = 0\n",
    "        write -= 1\n",
    "        \n",
    "    return arr\n",
    "    \n",
    "\n",
    "v = [1, 10, 20, 0, 59, 63, 0, 88, 0]\n",
    "print(\"Original Array:\", v)\n",
    "\n",
    "move_zeros_to_left(v)\n",
    "\n",
    "print(\"After Moving Zeroes to Left: \", v)"
   ]
  },
  {
   "cell_type": "markdown",
   "metadata": {},
   "source": [
    "## Stock Buy Sell to Maximize Profit\n",
    "Given a list of daily stock prices (integers for simplicity), return the buy and sell prices for making the maximum profit.\n",
    "\n",
    "We need to maximize the single buy/sell profit. If we can’t make any profit, we’ll try to minimize the loss. For the below examples, buy and sell prices for making a maximum profit are highlighted."
   ]
  },
  {
   "cell_type": "markdown",
   "metadata": {},
   "source": [
    "### 1. The idea is that when `current_profit` exceeds the `global_profit`, we should see on that day\n",
    "### 1. If the current day price is below `curr_buy` price, we should but on that day\n",
    "### 3. Finaly because `final_buy = final_sell - final_profit`  , we subtract `final_profit` from `final_sell` to report buy"
   ]
  },
  {
   "cell_type": "code",
   "execution_count": 6,
   "metadata": {},
   "outputs": [
    {
     "name": "stdout",
     "output_type": "stream",
     "text": [
      "Buy Price: 1, Sell Price: 5\n",
      "Buy Price: 6, Sell Price: 5\n"
     ]
    }
   ],
   "source": [
    "def find_buy_sell_stock_prices(price):\n",
    "    if price == None or len(price) < 2:\n",
    "        return None\n",
    "\n",
    "    curr_buy = price[0]\n",
    "    final_sell = price[1]\n",
    "    final_profit = final_sell - curr_buy\n",
    "    \n",
    "    curr_profit = float('-inf')\n",
    "    \n",
    "    for i in range(1, len(price)):\n",
    "        curr_profit = price[i] - curr_buy\n",
    "        if curr_profit > final_profit: # when curr_profit exceeds global_profit, set new sell\n",
    "            final_profit = curr_profit\n",
    "            final_sell = price[i]\n",
    "        if price[i] < curr_buy:\n",
    "            curr_buy = price[i]\n",
    "    final_buy = final_sell - final_profit\n",
    "    return [final_buy, final_sell]\n",
    "\n",
    "\n",
    "array = [2, 2, 3, 4, 3, 2, 1, 2, 5]  \n",
    "result = find_buy_sell_stock_prices(array)\n",
    "print(\"Buy Price: \" + str(result[0]) + \", Sell Price: \" + str(result[1]))\n",
    "\n",
    "array = [8, 6, 5, 4, 3, 2, 1]\n",
    "result = find_buy_sell_stock_prices(array)\n",
    "print(\"Buy Price: \" + str(result[0]) + \", Sell Price: \" + str(result[1]))"
   ]
  },
  {
   "cell_type": "markdown",
   "metadata": {},
   "source": [
    "## Merge an Array With Overlapping Intervals\n",
    "You are given an array (list) of interval pairs as input where each interval has a start and end timestamp. The input array is sorted by starting timestamps. You are required to merge overlapping intervals and return a new output array.\n",
    "\n",
    "> Hints \n",
    "- Try the linear scan.\n",
    "- Use the pair class defined in the exercise to handle pairs of time stamps."
   ]
  },
  {
   "cell_type": "code",
   "execution_count": 46,
   "metadata": {},
   "outputs": [],
   "source": [
    "class Pair:\n",
    "  def __init__(self, first, second):\n",
    "    self.start = first\n",
    "    self.end = second\n",
    "\n",
    "def merge_intervals(pairs):\n",
    "  # write your code here\n",
    "    res = []\n",
    "    final_start = pairs[0].start\n",
    "    final_end = pairs[0].end\n",
    "    \n",
    "    for p in pairs[1:]:\n",
    "        curr_start = p.start\n",
    "        curr_end = p.end\n",
    "#         print('*********************')\n",
    "#         print('final: ', final_start, final_end)\n",
    "#         print('current: ', curr_start, curr_end)\n",
    "        if curr_start <= final_end and curr_end > final_end:\n",
    "            final_end = curr_end\n",
    "        elif curr_start > final_end: # it means the current interval is ended so:\n",
    "            res.append(Pair(final_start, final_end)) # add the current interval to the result \n",
    "            final_start = curr_start # and start a new interval with the current values\n",
    "            final_end = curr_end\n",
    "            \n",
    "    res.append(Pair(final_start, final_end)) # add the current interval to the list\n",
    "    return res"
   ]
  },
  {
   "cell_type": "code",
   "execution_count": 48,
   "metadata": {},
   "outputs": [
    {
     "name": "stdout",
     "output_type": "stream",
     "text": [
      "[1, 8] [10, 15] "
     ]
    }
   ],
   "source": [
    "v = [Pair(1, 5), Pair(3, 7), Pair(4, 6), \n",
    "     Pair(6, 8), Pair(10, 12), Pair(11, 15)]\n",
    "\n",
    "result = merge_intervals(v)\n",
    "\n",
    "for i in range(len(result)):\n",
    "  print(\"[\" + str(result[i].start) + \", \" + str(result[i].end) + \"]\", end =\" \")"
   ]
  },
  {
   "cell_type": "markdown",
   "metadata": {},
   "source": [
    "## Cyclic Sort (easy)\n",
    "- https://www.educative.io/module/lesson/data-structures-in-python/g7WOQPpAm4G"
   ]
  },
  {
   "cell_type": "markdown",
   "metadata": {},
   "source": [
    "### A, Naive Solution\n",
    "`O(n2)`"
   ]
  },
  {
   "cell_type": "code",
   "execution_count": 51,
   "metadata": {},
   "outputs": [
    {
     "name": "stdout",
     "output_type": "stream",
     "text": [
      "[1, 2, 3, 4, 5]\n",
      "[1, 2, 3, 4, 5, 6]\n",
      "[1, 2, 3, 4, 5, 6]\n"
     ]
    }
   ],
   "source": [
    "def cyclic_sort(nums):\n",
    "    for i in range(len(nums)-1):\n",
    "        for j in range(i+1, len(nums)):\n",
    "            if nums[i] > nums[j]:\n",
    "                nums[i], nums[j] = nums[j], nums[i]\n",
    "    return nums\n",
    "\n",
    "\n",
    "print(cyclic_sort([3, 1, 5, 4, 2]))\n",
    "print(cyclic_sort([2, 6, 4, 3, 1, 5]))\n",
    "print(cyclic_sort([1, 5, 6, 4, 3, 2]))"
   ]
  },
  {
   "cell_type": "markdown",
   "metadata": {},
   "source": [
    "### B. Better Solution\n",
    "- `O(n)`"
   ]
  },
  {
   "cell_type": "code",
   "execution_count": 86,
   "metadata": {},
   "outputs": [
    {
     "name": "stdout",
     "output_type": "stream",
     "text": [
      "[3, 1, 5, 4, 2]\n",
      "[5, 1, 3, 4, 2]\n",
      "[2, 1, 3, 4, 5]\n",
      "[1, 2, 3, 4, 5]\n",
      "***************************\n",
      "\n",
      "[2, 6, 4, 3, 1, 5]\n",
      "[6, 2, 4, 3, 1, 5]\n",
      "[5, 2, 4, 3, 1, 6]\n",
      "[1, 2, 4, 3, 5, 6]\n",
      "[1, 2, 3, 4, 5, 6]\n",
      "***************************\n",
      "\n",
      "[1, 5, 6, 4, 3, 2]\n",
      "[1, 3, 6, 4, 5, 2]\n",
      "[1, 6, 3, 4, 5, 2]\n",
      "[1, 2, 3, 4, 5, 6]\n"
     ]
    }
   ],
   "source": [
    "def cyclic_sort(nums):\n",
    "    for i in range(len(nums)-1):\n",
    "        # we use i - 1 becase indices starts from 0 but values in the list starts from 1\n",
    "        # every ith element in the list must be equal to i + 1\n",
    "        while nums[i] != i + 1:\n",
    "            print(nums)\n",
    "            # nums[i]-1 is the correct index of the ith element\n",
    "            # nums[nums[i]-1] is the corect value of the ith index\n",
    "            nums[nums[i]-1], nums[i] = nums[i], nums[nums[i]-1] # swap elements\n",
    "\n",
    "    return nums\n",
    "\n",
    "print(cyclic_sort([3, 1, 5, 4, 2]))\n",
    "print('***************************')\n",
    "print()\n",
    "print(cyclic_sort([2, 6, 4, 3, 1, 5]))\n",
    "print('***************************')\n",
    "print()\n",
    "print(cyclic_sort([1, 5, 6, 4, 3, 2]))"
   ]
  },
  {
   "cell_type": "markdown",
   "metadata": {},
   "source": [
    "## Maximum Sum Subarray of Size K (easy)\n",
    "Given an array of positive numbers and a positive number ‘k,’ find the maximum sum of any contiguous subarray of size ‘k’."
   ]
  },
  {
   "cell_type": "markdown",
   "metadata": {},
   "source": [
    "A better approach #\n",
    "If you observe closely, you will realize that to calculate the sum of a contiguous subarray, we can utilize the sum of the previous subarray. For this, consider each subarray as a Sliding Window of size ‘k.’ To calculate the sum of the next subarray, we need to slide the window ahead by one element. So to slide the window forward and calculate the sum of the new position of the sliding window, we need to do two things:\n",
    "\n",
    "Subtract the element going out of the sliding window, i.e., subtract the first element of the window.\n",
    "Add the new element getting included in the sliding window, i.e., the element coming right after the end of the window."
   ]
  },
  {
   "cell_type": "code",
   "execution_count": 134,
   "metadata": {},
   "outputs": [
    {
     "name": "stdout",
     "output_type": "stream",
     "text": [
      "Subarray of size 3 with maximum sub is:  9\n",
      "Maximum sum of a subarray of size K: [5, 1, 3]\n",
      "***************************\n",
      "\n",
      "Subarray of size 2 with maximum sub is:  7\n",
      "Maximum sum of a subarray of size K: [3, 4]\n"
     ]
    }
   ],
   "source": [
    "def max_sub_array_of_size_k(k, arr):\n",
    "    max_sum = sum(arr[:k]) # set max_sum to the first possible subarray of size k\n",
    "    window_sum = max_sum - arr[0]  # subtract the first value of the current window for later\n",
    "    for i in range(1, len(arr) - k + 1):\n",
    "        window_sum += arr[i+(k-1)]\n",
    "        if window_sum > max_sum :\n",
    "            max_sum = window_sum\n",
    "            start_index = i # this is the start indx of the max subarray\n",
    "        window_sum -= arr[i]\n",
    "        \n",
    "    print(f'Subarray of size {k} with maximum sub is: ', max_sum)    \n",
    "    return arr[start_index: start_index + k]\n",
    "\n",
    "\n",
    "\n",
    "\n",
    "print(\"Maximum sum of a subarray of size K: \" + str(max_sub_array_of_size_k(3, [2, 1, 5, 1, 3, 2])))\n",
    "print('***************************')\n",
    "print()\n",
    "print(\"Maximum sum of a subarray of size K: \" + str(max_sub_array_of_size_k(2, [2, 3, 4, 1, 5])))\n"
   ]
  },
  {
   "cell_type": "markdown",
   "metadata": {},
   "source": [
    "## Smallest Subarray with a given sum (Medium)\n",
    "Given an array of positive numbers and a positive number ‘S,’ find the length of the smallest contiguous subarray whose sum is greater than or equal to ‘S’. Return 0 if no such subarray exists."
   ]
  },
  {
   "cell_type": "markdown",
   "metadata": {},
   "source": [
    "### Using 2 pointers solution \n",
    "- https://www.educative.io/module/lesson/data-structures-in-python/7DKvWWZAMNO"
   ]
  },
  {
   "cell_type": "code",
   "execution_count": 135,
   "metadata": {},
   "outputs": [
    {
     "name": "stdout",
     "output_type": "stream",
     "text": [
      "[5, 2]\n",
      "Smallest subarray length: 2\n",
      "***************************\n",
      "\n",
      "[8]\n",
      "Smallest subarray length: 1\n",
      "***************************\n",
      "\n",
      "[3, 4, 1]\n",
      "Smallest subarray length: 3\n"
     ]
    }
   ],
   "source": [
    "def smallest_subarray_with_given_sum(k, arr):\n",
    "    subarray_length = float('inf')\n",
    "    window_start_index  = 0\n",
    "    window_end_index = 1\n",
    "    window_sum = arr[0] # the first subarray has the 1st element in it\n",
    "    for window_end_index in range(1, len(arr)):\n",
    "        window_sum += arr[window_end_index]\n",
    "        while window_sum >= k:\n",
    "            # we remove the starting element from the current window\n",
    "            window_sum -= arr[window_start_index]\n",
    "\n",
    "            # if the size of the reduce window is smaller than subarray_length\n",
    "            if (window_end_index - window_start_index + 1) < subarray_length:\n",
    "                subarray_length = (window_end_index - window_start_index + 1) \n",
    "                s = window_start_index # store the final start index\n",
    "                e =  window_end_index # store the final end index\n",
    "            window_start_index += 1 # move start_index one step further\n",
    "            \n",
    "    print(arr[s: e + 1])\n",
    "    return subarray_length\n",
    "    \n",
    "    \n",
    "print(\"Smallest subarray length: \" + str(smallest_subarray_with_given_sum(7, [2, 1, 5, 2, 3, 2])))\n",
    "print('***************************')\n",
    "print()\n",
    "print(\"Smallest subarray length: \" + str(smallest_subarray_with_given_sum(7, [2, 1, 5, 2, 8])))\n",
    "print('***************************')\n",
    "print()\n",
    "print(\"Smallest subarray length: \" + str(smallest_subarray_with_given_sum(8, [3, 4, 1, 1, 6])))"
   ]
  },
  {
   "cell_type": "markdown",
   "metadata": {},
   "source": [
    "## Squaring a Sorted Array (easy)\n",
    "Given a sorted array, create a new array containing squares of all the numbers of the input array in the sorted order."
   ]
  },
  {
   "cell_type": "code",
   "execution_count": 146,
   "metadata": {},
   "outputs": [
    {
     "name": "stdout",
     "output_type": "stream",
     "text": [
      "Squares: [0, 1, 4, 4, 9]\n",
      "Squares: [0, 1, 1, 4, 9]\n"
     ]
    }
   ],
   "source": [
    "def make_squares(arr):\n",
    "    # we need to create squares becuase we set each of its element gradually\n",
    "    squares = [0 for x in range(len(arr))]\n",
    "    \n",
    "    # index for storing values in squares(starts from the last element which is the greatest)\n",
    "    highest_square_index = len(arr) - 1 \n",
    "    right = len(arr) - 1 # end of the intial array\n",
    "    left = 0 # strat of the initial array\n",
    "    while left <= right:\n",
    "        if arr[left]**2 > arr[right]**2:\n",
    "            squares[highest_square_index] = arr[left]**2\n",
    "            left += 1\n",
    "        else:\n",
    "            squares[highest_square_index] = arr[right]**2\n",
    "            right -= 1\n",
    "        highest_square_index -= 1 # move it backward after each insertion\n",
    "\n",
    "    return squares\n",
    "\n",
    "\n",
    "print(\"Squares: \" + str(make_squares([-2, -1, 0, 2, 3])))\n",
    "print(\"Squares: \" + str(make_squares([-3, -1, 0, 1, 2])))"
   ]
  },
  {
   "cell_type": "markdown",
   "metadata": {},
   "source": [
    "## Subsets (easy)\n",
    "Given a set with distinct elements, find all of its distinct subsets.\n",
    "\n",
    "https://www.educative.io/courses/grokking-the-coding-interview/gx2OqlvEnWG"
   ]
  },
  {
   "cell_type": "markdown",
   "metadata": {},
   "source": [
    "### A. Subsets using  **BFS** \n",
    "- In each level, we add the `curr_number` to all the previous elements"
   ]
  },
  {
   "cell_type": "code",
   "execution_count": 13,
   "metadata": {},
   "outputs": [
    {
     "name": "stdout",
     "output_type": "stream",
     "text": [
      "Here is the list of subsets: [[], [1], [3], [1, 3]]\n",
      "Here is the list of subsets: [[], [1], [5], [1, 5], [3], [1, 3], [5, 3], [1, 5, 3]]\n"
     ]
    }
   ],
   "source": [
    "def find_subsets(nums):\n",
    "    subsets = []\n",
    "    subsets.append([]) # first element is an empty subset\n",
    "    for curr_num in nums:\n",
    "    # we will take all existing subsets and insert the current number in them to create new subsets\n",
    "        for i in range(len(subsets)):\n",
    "        # create a new subset temp_set from the existing subset and insert the current element to it\n",
    "            # we need to use list() here otherwise, each time a new temp_set is created,\n",
    "            # all the previous ones would change as well \n",
    "            temp_set = list(subsets[i]) \n",
    "            temp_set.append(curr_num)\n",
    "            subsets.append(temp_set)\n",
    "\n",
    "    return subsets\n",
    "\n",
    "\n",
    "\n",
    "print(\"Here is the list of subsets: \" + str(find_subsets([1, 3])))\n",
    "print(\"Here is the list of subsets: \" + str(find_subsets([1, 5, 3])))"
   ]
  },
  {
   "cell_type": "markdown",
   "metadata": {},
   "source": [
    "### B. **Backtracking**"
   ]
  },
  {
   "cell_type": "code",
   "execution_count": 56,
   "metadata": {},
   "outputs": [
    {
     "name": "stdout",
     "output_type": "stream",
     "text": [
      "Here is the list of subsets: [[], [1], [1, 3], [3]]\n",
      "Here is the list of subsets: [[], [1], [1, 5], [1, 5, 3], [1, 3], [5], [5, 3], [3]]\n"
     ]
    }
   ],
   "source": [
    "def find_subsets(nums):\n",
    "    subsets = []\n",
    "    def dfs(path, start_index):\n",
    "        subsets.append(list(path))\n",
    "\n",
    "        for d in nums[start_index: ]:\n",
    "            path.append(d)\n",
    "            start_index += 1\n",
    "            dfs(path, start_index)\n",
    "            path.pop()\n",
    "            \n",
    "    dfs(path = [], start_index = 0)\n",
    "    return subsets\n",
    "\n",
    "\n",
    "\n",
    "print(\"Here is the list of subsets: \" + str(find_subsets([1, 3])))\n",
    "print(\"Here is the list of subsets: \" + str(find_subsets([1, 5, 3])))"
   ]
  },
  {
   "cell_type": "markdown",
   "metadata": {},
   "source": [
    "## Subsets With Duplicates (Medium)\n",
    "Given a set of numbers that might contain duplicates, find all of its distinct subsets."
   ]
  },
  {
   "cell_type": "markdown",
   "metadata": {},
   "source": [
    "## A. **BFS**\n",
    "1. Sort all numbers of the given set. This will ensure that all duplicate numbers are next to each other.\n",
    "2. Follow the same BFS approach but whenever we are about to process a duplicate (i.e., when the current and the previous numbers are same), instead of adding the current number (which is a duplicate) to all the existing subsets, only add it to the subsets which were created in the previous step."
   ]
  },
  {
   "cell_type": "markdown",
   "metadata": {},
   "source": [
    "### For each new number to add,  `end_index` shows the number of `subsets` which are already added (in previous steps)\n",
    "### So `start_index = end_index + 1` shows the  index of the first elemenet  added in the last iteration to `subsets`"
   ]
  },
  {
   "cell_type": "code",
   "execution_count": 61,
   "metadata": {},
   "outputs": [
    {
     "name": "stdout",
     "output_type": "stream",
     "text": [
      "Here is the list of subsets: [[], [1], [3], [1, 3], [3, 3], [1, 3, 3]]\n",
      "Here is the list of subsets: [[], [1], [3], [1, 3], [3, 3], [1, 3, 3], [5], [1, 5], [3, 5], [1, 3, 5], [3, 3, 5], [1, 3, 3, 5]]\n"
     ]
    }
   ],
   "source": [
    "def subsetsWithDup(nums):\n",
    "    nums.sort() # sort input array to have duplicates near each other\n",
    "    subsets = []\n",
    "    subsets.append([])\n",
    "    start_index, end_index =  0, 0\n",
    "    for i in range(len(nums)):\n",
    "        start_index = 0 # in each iteration, reset the start_index\n",
    "        if i > 0 and nums[i] == nums[i-1]: # for duplicates start_index is not 0\n",
    "            start_index = end_index + 1 # to exclude elemenets which added in 2 steps or more ago\n",
    "            \n",
    "        end_index = len(subsets) - 1 # this is used for the next iteration (stores the length)\n",
    "        \n",
    "        # this range gives the list of elements in subsets to append nums[i] to preve adding\n",
    "        # duplicate elemenets to subsets\n",
    "        for j in range(start_index, end_index + 1): \n",
    "            temp_set = list(subsets[j])\n",
    "            temp_set.append(nums[i])\n",
    "            subsets.append(temp_set)\n",
    "    return subsets\n",
    "    \n",
    "\n",
    "print(\"Here is the list of subsets: \" + str(subsetsWithDup([1, 3, 3])))\n",
    "print(\"Here is the list of subsets: \" + str(subsetsWithDup([1, 5, 3, 3])))"
   ]
  },
  {
   "cell_type": "markdown",
   "metadata": {},
   "source": [
    "### B. **Baktracking**\n",
    "To check for duplicates, we can't use:\n",
    "\n",
    "` for d in nums[start_index: ]:\n",
    "    if len(path) > 1 and  d == path[-1]`\n",
    "    \n",
    "because after each `dfs()` call, we `pop()` the last element from the path and the last element  remanined in the path is not the last added element. To solve this issue, we need to use index and check:\n",
    "\n",
    "`nums[i] == nums[i-1]`"
   ]
  },
  {
   "cell_type": "code",
   "execution_count": 84,
   "metadata": {},
   "outputs": [
    {
     "name": "stdout",
     "output_type": "stream",
     "text": [
      "Here is the list of subsets: [[], [1], [1, 3], [3]]\n",
      "Here is the list of subsets: [[], [1], [1, 3], [1, 3, 5], [1, 3, 5, 5], [1, 5], [1, 5, 5], [3], [3, 5], [3, 5, 5], [5], [5, 5]]\n"
     ]
    }
   ],
   "source": [
    "def subsetsWithDup(nums):\n",
    "    nums.sort()\n",
    "    subsets = []\n",
    "    def dfs(path, start_index):\n",
    "        subsets.append(list(path))\n",
    "        \n",
    "        for i in range(start_index, len(nums)):\n",
    "            # duplicates may occure when at leats we've checked 2 elemensts\n",
    "            if i > 0 and nums[i] == nums[i-1]: \n",
    "                continue # skip this number because it's a duplicate\n",
    "            path.append(nums[i])\n",
    "            start_index += 1\n",
    "            dfs(path, start_index)\n",
    "            path.pop()\n",
    "    dfs(path = [], start_index = 0)\n",
    "    return subsets\n",
    "    \n",
    "\n",
    "print(\"Here is the list of subsets: \" + str(subsetsWithDup([1, 3, 3])))\n",
    "print(\"Here is the list of subsets: \" + str(subsetsWithDup([1, 5, 3, 3])))"
   ]
  },
  {
   "cell_type": "code",
   "execution_count": null,
   "metadata": {},
   "outputs": [],
   "source": []
  },
  {
   "cell_type": "code",
   "execution_count": null,
   "metadata": {},
   "outputs": [],
   "source": []
  },
  {
   "cell_type": "code",
   "execution_count": null,
   "metadata": {},
   "outputs": [],
   "source": []
  },
  {
   "cell_type": "code",
   "execution_count": null,
   "metadata": {},
   "outputs": [],
   "source": []
  },
  {
   "cell_type": "code",
   "execution_count": null,
   "metadata": {},
   "outputs": [],
   "source": []
  },
  {
   "cell_type": "code",
   "execution_count": null,
   "metadata": {},
   "outputs": [],
   "source": []
  },
  {
   "cell_type": "code",
   "execution_count": null,
   "metadata": {},
   "outputs": [],
   "source": []
  },
  {
   "cell_type": "code",
   "execution_count": null,
   "metadata": {},
   "outputs": [],
   "source": []
  },
  {
   "cell_type": "code",
   "execution_count": null,
   "metadata": {},
   "outputs": [],
   "source": []
  },
  {
   "cell_type": "code",
   "execution_count": null,
   "metadata": {},
   "outputs": [],
   "source": []
  },
  {
   "cell_type": "code",
   "execution_count": null,
   "metadata": {},
   "outputs": [],
   "source": []
  }
 ],
 "metadata": {
  "kernelspec": {
   "display_name": "Python 3",
   "language": "python",
   "name": "python3"
  },
  "language_info": {
   "codemirror_mode": {
    "name": "ipython",
    "version": 3
   },
   "file_extension": ".py",
   "mimetype": "text/x-python",
   "name": "python",
   "nbconvert_exporter": "python",
   "pygments_lexer": "ipython3",
   "version": "3.7.4"
  }
 },
 "nbformat": 4,
 "nbformat_minor": 2
}
