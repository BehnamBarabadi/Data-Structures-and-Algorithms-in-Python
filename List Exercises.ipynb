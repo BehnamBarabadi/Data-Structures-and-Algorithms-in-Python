{
 "cells": [
  {
   "cell_type": "markdown",
   "metadata": {},
   "source": [
    "# **List Exercises**"
   ]
  },
  {
   "cell_type": "code",
   "execution_count": 1,
   "metadata": {},
   "outputs": [
    {
     "data": {
      "text/html": [
       "<style>.container { width:80% !important; }</style>"
      ],
      "text/plain": [
       "<IPython.core.display.HTML object>"
      ]
     },
     "metadata": {},
     "output_type": "display_data"
    }
   ],
   "source": [
    "from IPython.core.display import display, HTML\n",
    "display(HTML(\"<style>.container { width:80% !important; }</style>\"))"
   ]
  },
  {
   "cell_type": "markdown",
   "metadata": {},
   "source": [
    "## Challenge 1: Remove Even Integers from List\n",
    "Given a list of size n, remove all even integers from it"
   ]
  },
  {
   "cell_type": "code",
   "execution_count": null,
   "metadata": {},
   "outputs": [],
   "source": [
    "7/2"
   ]
  },
  {
   "cell_type": "code",
   "execution_count": null,
   "metadata": {},
   "outputs": [],
   "source": [
    "7//2"
   ]
  },
  {
   "cell_type": "code",
   "execution_count": null,
   "metadata": {},
   "outputs": [],
   "source": [
    "7%2"
   ]
  },
  {
   "cell_type": "code",
   "execution_count": null,
   "metadata": {},
   "outputs": [],
   "source": [
    "def remove_even(in_list):\n",
    "    even_list = [x for x in in_list if x%2 != 0]\n",
    "    return even_list"
   ]
  },
  {
   "cell_type": "code",
   "execution_count": null,
   "metadata": {},
   "outputs": [],
   "source": [
    "remove_even([15, 150, -28, 199, -178, -180, 26, 79, 41, 192, -162, -11, 71, -60, -57, -102, -98, 90, -4, -167, -128, -91, -176, 112, 56, -153, -155, 172, -44, 70, -65, -133, 111, -189, 88, 85, 194, 99])"
   ]
  },
  {
   "cell_type": "markdown",
   "metadata": {},
   "source": [
    "## Challenge 2: Merge Two Sorted Lists\n",
    "Given two sorted lists, merge them into one list which should also be sorted."
   ]
  },
  {
   "cell_type": "code",
   "execution_count": null,
   "metadata": {},
   "outputs": [],
   "source": [
    "def merge_lists(lst1, lst2):\n",
    "    if len(lst2) == 0: # when the 2nd list is empty\n",
    "        return lst1\n",
    "    for l1 in lst1:\n",
    "        for i in range(len(lst2)-1):\n",
    "            if l1 <= lst2[i]:\n",
    "                #print(l1)\n",
    "                lst2.insert(i, l1)\n",
    "                #print(lst2)\n",
    "                break # break this for loop\n",
    "\n",
    "            elif l1 > lst2[i] and l1 < lst2[i+1]:\n",
    "                #print(l1)\n",
    "                lst2.insert(i+1, l1)\n",
    "                #print(lst2)\n",
    "                break\n",
    "\n",
    "            elif l1 >= lst2[-1]:\n",
    "                #print(l1)\n",
    "                lst2.append(l1)\n",
    "                #print(lst2)\n",
    "                break\n",
    "    \n",
    "    return lst2\n"
   ]
  },
  {
   "cell_type": "code",
   "execution_count": null,
   "metadata": {},
   "outputs": [],
   "source": [
    "merge_lists([0, 1, 3, 4, 5],[2, 6, 7, 8])"
   ]
  },
  {
   "cell_type": "code",
   "execution_count": null,
   "metadata": {},
   "outputs": [],
   "source": [
    "merge_lists([4, 4, 4, 4, 4, 4, 4],[4, 4, 4, 4, 4, 4, 4])"
   ]
  },
  {
   "cell_type": "code",
   "execution_count": null,
   "metadata": {},
   "outputs": [],
   "source": [
    "merge_lists([1, 4, 45, 63],[])"
   ]
  },
  {
   "cell_type": "code",
   "execution_count": null,
   "metadata": {},
   "outputs": [],
   "source": [
    "merge_lists([], [1, 4, 45, 63])"
   ]
  },
  {
   "cell_type": "code",
   "execution_count": null,
   "metadata": {},
   "outputs": [],
   "source": [
    "merge_lists([-133, -100, 0, 4],[-2000, 2000])"
   ]
  },
  {
   "cell_type": "markdown",
   "metadata": {},
   "source": [
    "### Better Solution\n"
   ]
  },
  {
   "cell_type": "code",
   "execution_count": null,
   "metadata": {},
   "outputs": [],
   "source": [
    "def merge_arrays(lst1, lst2):\n",
    "    ind1 = 0  # Creating 2 new variable to track the 'current index'\n",
    "    ind2 = 0\n",
    "    # While both indeces are less than the length of their lists\n",
    "    while ind1 < len(lst1) and ind2 < len(lst2):\n",
    "        # If the current element of list1 is greater\n",
    "        # than the current element of list2\n",
    "        if(lst1[ind1] > lst2[ind2]):\n",
    "            # insert list2's current index to list1\n",
    "            lst1.insert(ind1, lst2[ind2])\n",
    "            ind1 += 1  # increment indices\n",
    "            ind2 += 1\n",
    "        else:\n",
    "            ind1 += 1\n",
    "\n",
    "    if ind2 < len(lst2):  # Append whatever is left of list2 to list1\n",
    "        lst1.extend(lst2[ind2:])\n",
    "    return lst1\n",
    "    \n",
    "    return lst1\n",
    "        "
   ]
  },
  {
   "cell_type": "code",
   "execution_count": null,
   "metadata": {},
   "outputs": [],
   "source": [
    "merge_lists([0, 1, 3, 4, 5],[2, 6, 7, 8])"
   ]
  },
  {
   "cell_type": "code",
   "execution_count": null,
   "metadata": {},
   "outputs": [],
   "source": [
    "merge_lists([4, 4, 4, 4, 4, 4, 4],[4, 4, 4, 4, 4, 4, 4])"
   ]
  },
  {
   "cell_type": "code",
   "execution_count": null,
   "metadata": {},
   "outputs": [],
   "source": [
    "merge_lists([-133, -100, 0, 4],[-2000, 2000])"
   ]
  },
  {
   "cell_type": "code",
   "execution_count": null,
   "metadata": {},
   "outputs": [],
   "source": [
    "merge_lists([], [1, 4, 45, 63])"
   ]
  },
  {
   "cell_type": "code",
   "execution_count": null,
   "metadata": {},
   "outputs": [],
   "source": [
    "merge_lists([1, 4, 45, 63],[])"
   ]
  },
  {
   "cell_type": "markdown",
   "metadata": {},
   "source": [
    "## Challenge 4: List of Products of all Elements\n",
    "Given a list, modify it so that each index stores the product of all elements in the list except the element at the index itself."
   ]
  },
  {
   "cell_type": "code",
   "execution_count": null,
   "metadata": {},
   "outputs": [],
   "source": [
    "# O(n**2)\n",
    "def find_product(lst):\n",
    "    result = []\n",
    "    for outter_index in range(len(lst)):\n",
    "        val = 1\n",
    "        for inner_index in range(len(lst)):\n",
    "            if inner_index != outter_index:\n",
    "                val *= lst[inner_index]\n",
    "        result.append(val)\n",
    "        \n",
    "    return result\n"
   ]
  },
  {
   "cell_type": "code",
   "execution_count": null,
   "metadata": {},
   "outputs": [],
   "source": [
    "find_product([1, 2, 3, 4])"
   ]
  },
  {
   "cell_type": "code",
   "execution_count": null,
   "metadata": {},
   "outputs": [],
   "source": [
    "find_product([2, 5, 9, 3, 6])"
   ]
  },
  {
   "cell_type": "code",
   "execution_count": null,
   "metadata": {},
   "outputs": [],
   "source": [
    "def find_product2(lst):\n",
    "    total_product = 1\n",
    "    for x in lst:\n",
    "        total_product *= x\n",
    "    res = [int(total_product / x) for x in lst]\n",
    "    return res"
   ]
  },
  {
   "cell_type": "code",
   "execution_count": null,
   "metadata": {},
   "outputs": [],
   "source": [
    "find_product2([1, 2, 3, 4])"
   ]
  },
  {
   "cell_type": "code",
   "execution_count": null,
   "metadata": {},
   "outputs": [],
   "source": [
    "find_product2([2, 5, 9, 3, 6])"
   ]
  },
  {
   "cell_type": "code",
   "execution_count": null,
   "metadata": {},
   "outputs": [],
   "source": [
    "def find_product(lst):\n",
    "    result = []\n",
    "    leftside_product = 1  # To store product of all previous values from currentIndex\n",
    "    for i in range(len(lst)):\n",
    "        rightside_product = 1  # To store current product for index i\n",
    "        # compute product of values to the right of i index of list\n",
    "        for ele in lst[i+1:]:\n",
    "            rightside_product *= ele\n",
    "        # currentproduct * product of all values to the left of i index\n",
    "        result.append(rightside_product * leftside_product)\n",
    "        # Updating `left`\n",
    "        leftside_product *= lst[i]\n",
    "\n",
    "    return result\n",
    "\n",
    "\n",
    "print(find_product([1, 2, 3, 4]))"
   ]
  },
  {
   "cell_type": "code",
   "execution_count": null,
   "metadata": {},
   "outputs": [],
   "source": [
    "def find_product(lst):\n",
    "    # get product start from left\n",
    "    left = 1\n",
    "    product = []\n",
    "    for ele in lst:\n",
    "        product.append(left)\n",
    "        left = left * ele\n",
    "    # get product starting from right\n",
    "    right = 1\n",
    "    # i starts from the index of the last element of lst and goes backward to 0\n",
    "    for i in range(len(lst)-1, -1, -1):\n",
    "        product[i] = product[i] * right\n",
    "        right = right * lst[i]\n",
    "\n",
    "    return product\n",
    "\n",
    "\n",
    "print(find_product([0, 1, 2, 3]))\n",
    "\n",
    "print(find_product([ 1, 2, 3, 4]))"
   ]
  },
  {
   "cell_type": "code",
   "execution_count": null,
   "metadata": {},
   "outputs": [],
   "source": [
    "def find_product(lst):\n",
    "    \n",
    "    lp = []\n",
    "    l = 1\n",
    "    for i in range(len(lst)):\n",
    "        lp.append(l)\n",
    "        l *= lst[i]\n",
    "    \n",
    "    rp = ['none'] * len(lst)\n",
    "    r = 1\n",
    "    for i in range(len(lst)-1, -1, -1):\n",
    "        rp[i] = r\n",
    "        r *= lst[i]\n",
    "        \n",
    "    return np.multiply(rp,lp)\n",
    "\n",
    "print(find_product([ 1, 2, 3, 4]))"
   ]
  },
  {
   "cell_type": "code",
   "execution_count": null,
   "metadata": {},
   "outputs": [],
   "source": [
    "def find_product3(lst):\n",
    "    res = []\n",
    "    lefside_prod = 1\n",
    "    for i in range(len(lst)):\n",
    "        rightside_prod = 1\n",
    "        for x in lst[i+1: ]:\n",
    "            rightside_prod *= x\n",
    "        total = lefside_prod * rightside_prod\n",
    "        res.append(total)\n",
    "        lefside_prod *= lst[i]\n",
    "    return res"
   ]
  },
  {
   "cell_type": "markdown",
   "metadata": {},
   "source": [
    "## Challenge 5: Find Minimum Value in List\n",
    "- 1st sort the array\n",
    "- Then return the 1st element of the array"
   ]
  },
  {
   "cell_type": "code",
   "execution_count": null,
   "metadata": {},
   "outputs": [],
   "source": [
    "def merge_sort(arr):\n",
    "    if len(arr) <= 1:\n",
    "        return arr\n",
    "    m = len(arr)//2\n",
    "    l = ms(arr[: m])\n",
    "    r = ms(arr[m: ])\n",
    "    return merge(l, r)\n",
    "    \n",
    "def merge(l, r):\n",
    "    res = []\n",
    "    lp = rp = 0\n",
    "    while lp < len(l) and rp < len(r):\n",
    "        if l[lp] < r[rp]:\n",
    "            res.append(l[lp])\n",
    "            lp += 1\n",
    "        else:\n",
    "            res.append(r[rp])\n",
    "            rp += 1\n",
    "    #leftovers \n",
    "    res.extend(l[lp:])\n",
    "    res.extend(r[rp:])\n",
    "    return res\n",
    "    "
   ]
  },
  {
   "cell_type": "code",
   "execution_count": null,
   "metadata": {},
   "outputs": [],
   "source": [
    "nlist = [14,46,43,27, 14]\n",
    "merge_sort(nlist)"
   ]
  },
  {
   "cell_type": "code",
   "execution_count": null,
   "metadata": {},
   "outputs": [],
   "source": [
    "def min_finder(arr):\n",
    "    arr = merge_sort(arr)\n",
    "    return arr[0]"
   ]
  },
  {
   "cell_type": "code",
   "execution_count": null,
   "metadata": {},
   "outputs": [],
   "source": [
    "nlist = [14,46,43,27, 14]\n",
    "min_finder(nlist)\n"
   ]
  },
  {
   "cell_type": "markdown",
   "metadata": {},
   "source": [
    "## Challenge 7: Find Second Maximum Value in a List"
   ]
  },
  {
   "cell_type": "code",
   "execution_count": null,
   "metadata": {},
   "outputs": [],
   "source": [
    "def find_second_maximum(lst):\n",
    "    m = lst[0]\n",
    "    for x in lst:\n",
    "        if x > m:\n",
    "            m = x\n",
    "    lst = [x for x in lst if x!= m] # remove all instances of the max element from the list\n",
    "    m = lst[0]\n",
    "    for x in lst:\n",
    "        if x > m:\n",
    "            m = x\n",
    "    return m\n",
    "\n",
    "# We have two 9s but we need to show the 2nd max value whihc is 6\n",
    "print(find_second_maximum([9, 2, 3, 6, 9]))"
   ]
  },
  {
   "cell_type": "code",
   "execution_count": null,
   "metadata": {},
   "outputs": [],
   "source": [
    "def find_second_maximum(lst):\n",
    "    import math\n",
    "    max_el = lst[0]\n",
    "    second_max = -math.inf\n",
    "    for x in lst[1:]:\n",
    "        if x > max_el:\n",
    "            second_max = max_el\n",
    "            max_el = x         \n",
    "        elif x > second_max and x != max_el:\n",
    "            second_max = x\n",
    "    return second_max\n",
    "\n",
    "\n",
    "# We have two 9s but we need to show the 2nd max value whihc is 6\n",
    "print(find_second_maximum([-9, 2, 0, 6, -9]))\n",
    "find_second_maximum([4, 2, 1, 5, 0, 5])"
   ]
  },
  {
   "cell_type": "markdown",
   "metadata": {},
   "source": [
    "## Challenge 8: Right Rotate List\n",
    "Given a list, can you rotate its elements by one index from right to left?"
   ]
  },
  {
   "cell_type": "code",
   "execution_count": null,
   "metadata": {},
   "outputs": [],
   "source": [
    "def right_rotate(lst, k):\n",
    "    l = len(lst)\n",
    "    res = []\n",
    "    for x in lst[l-k: ]: # l-k is the index of the element in lst whoch becomes the 1st element of res\n",
    "        res.append(x)\n",
    "    res.extend(lst[: l-k]) # add the 1st k elelements of lst to end of res\n",
    "    return res"
   ]
  },
  {
   "cell_type": "code",
   "execution_count": null,
   "metadata": {},
   "outputs": [],
   "source": [
    "lst = [10,20,30,40,50]\n",
    "n = 3\n",
    "right_rotate(lst, 3)"
   ]
  },
  {
   "cell_type": "code",
   "execution_count": null,
   "metadata": {},
   "outputs": [],
   "source": [
    "right_rotate([10,20,30,40,50,60,70], n)"
   ]
  },
  {
   "cell_type": "code",
   "execution_count": null,
   "metadata": {},
   "outputs": [],
   "source": [
    "def right_rotate(lst, k):\n",
    "    res = lst[-k :] + lst[: -k]\n",
    "    return res"
   ]
  },
  {
   "cell_type": "code",
   "execution_count": null,
   "metadata": {},
   "outputs": [],
   "source": [
    "right_rotate([10,20,30,40,50,60,70], 3)"
   ]
  },
  {
   "cell_type": "markdown",
   "metadata": {},
   "source": [
    "## Challenge 9: Rearrange Positive & Negative Values\n",
    "Given a list, can you rearrange its elements in such a way that the negative elements appear at one end and positive elements appear at the other"
   ]
  },
  {
   "cell_type": "code",
   "execution_count": null,
   "metadata": {},
   "outputs": [],
   "source": [
    "def rearrange(lst):\n",
    "    pos = [] \n",
    "    neg = [] \n",
    "    for x in lst :\n",
    "        if x < 0:\n",
    "            neg.append(x)\n",
    "        else:\n",
    "            pos.append(x)\n",
    "    res  = neg + pos\n",
    "    return res\n",
    "    \n",
    "rearrange([-1, 2, -3, -4, 5])"
   ]
  },
  {
   "cell_type": "code",
   "execution_count": null,
   "metadata": {},
   "outputs": [],
   "source": [
    "def rearrange(lst):\n",
    "    i = 0\n",
    "    while  i < len(lst):\n",
    "        ele = lst[i]\n",
    "        if lst[i] < 0:            \n",
    "            lst.remove(lst[i])\n",
    "            lst.insert(0, ele)\n",
    "            i += 1\n",
    "        else:\n",
    "            lst.remove(lst[i])\n",
    "            lst.append(ele)\n",
    "            i +=1 \n",
    "    return lst\n",
    "\n",
    "print(rearrange([-1, 0, 2, -3, -4, 5]))"
   ]
  },
  {
   "cell_type": "code",
   "execution_count": null,
   "metadata": {},
   "outputs": [],
   "source": [
    "def rearrange(lst):\n",
    "    return [x for x in lst if x < 0] + [x for x in lst if x >= 0]\n",
    "\n",
    "print(rearrange([-1, 0, 2, -3, -4, 5]))"
   ]
  },
  {
   "cell_type": "code",
   "execution_count": null,
   "metadata": {},
   "outputs": [],
   "source": [
    "def rearrange(lst):\n",
    "    leftMostPosEle = 0  # index of left most element\n",
    "    for i in range(len(lst)):\n",
    "        if lst[i] < 0: # if negative number\n",
    "            lst[i], lst[leftMostPosEle] = lst[leftMostPosEle], lst[i] # swap the two\n",
    "            leftMostPosEle += 1 # update the last position\n",
    "    return lst\n",
    "\n",
    "print(rearrange([10, -1, 20, 0, 4, 5, -9, -6]))"
   ]
  },
  {
   "cell_type": "markdown",
   "metadata": {},
   "source": [
    "## Challenge 10: Rearrange Sorted List in Max/Min Form\n",
    "Arrange elements in such a way that the maximum element appears at first position, then minimum at second, then second maximum at third and second minimum at fourth and so on."
   ]
  },
  {
   "cell_type": "code",
   "execution_count": null,
   "metadata": {},
   "outputs": [],
   "source": [
    "def max_min(lst):\n",
    "    # convert list to deque\n",
    "    from collections import deque\n",
    "    lst.sort()\n",
    "    d = deque(lst)\n",
    "    # create an empty list for results\n",
    "    res = []\n",
    "    i = 0\n",
    "    while i < len(lst):\n",
    "        res.append(d.pop())\n",
    "        i += 1\n",
    "        print(i)\n",
    "        if i < len(lst)-1:\n",
    "            res.append(d.popleft())\n",
    "            i += 1\n",
    "            print(res)\n",
    "    return res"
   ]
  },
  {
   "cell_type": "code",
   "execution_count": null,
   "metadata": {},
   "outputs": [],
   "source": [
    "lst = [5, 1 ,4, 2, 3]\n",
    "max_min(lst)\n"
   ]
  },
  {
   "cell_type": "code",
   "execution_count": null,
   "metadata": {},
   "outputs": [],
   "source": [
    "def max_min(lst):\n",
    "    lst.sort()\n",
    "    res = []\n",
    "    for i in range(len(lst)//2):\n",
    "        res.append(lst[-1-i])\n",
    "        res.append(lst[i])\n",
    "    if len(lst) % 2 == 1: # when length of input is odd\n",
    "        res.append(lst[len(lst)//2])\n",
    "    return res\n",
    "\n",
    "lst = [5,1,4,2,3]\n",
    "max_min(lst)\n"
   ]
  },
  {
   "cell_type": "markdown",
   "metadata": {},
   "source": [
    "## Challenge 11: Maximum Sum Sublist\n",
    "Given an array, find the contiguous sublist with the largest sum."
   ]
  },
  {
   "cell_type": "code",
   "execution_count": 20,
   "metadata": {},
   "outputs": [],
   "source": [
    "def find_max_sum_sublist(lst):\n",
    "    sums = []\n",
    "    start_index  = 0\n",
    "    while start_index < len(lst):\n",
    "        added = 0\n",
    "        for i in range(start_index+1, len(lst)): # adding elemensts starting from the next element to the start_index\n",
    "            added += lst[i]\n",
    "            sums.append(added)\n",
    "            if i == len(lst)-1: # when reaching the last index, added is the last lelment itself\n",
    "                sums.append(lst[i])\n",
    "        start_index += 1 # go to the next element to start from \n",
    "\n",
    "    return max(sums)\n",
    "            \n",
    "    "
   ]
  },
  {
   "cell_type": "code",
   "execution_count": 21,
   "metadata": {},
   "outputs": [
    {
     "data": {
      "text/plain": [
       "-2"
      ]
     },
     "execution_count": 21,
     "metadata": {},
     "output_type": "execute_result"
    }
   ],
   "source": [
    "lst = [-4, 2, -5, 1 ,2, 3, 6, -5 ,1]\n",
    "find_max_sum_sublist(lst)"
   ]
  },
  {
   "cell_type": "code",
   "execution_count": 60,
   "metadata": {},
   "outputs": [
    {
     "name": "stdout",
     "output_type": "stream",
     "text": [
      "[-2, 10, 7, -5, 15, 6]\n",
      "----------------------\n",
      "[8, 15, 10, 25, 31]\n",
      "[17, 12, 27, 33, 8]\n",
      "[2, 17, 23, -2]\n",
      "[10, 16, -9]\n",
      "[21, -4]\n"
     ]
    },
    {
     "data": {
      "text/plain": [
       "33"
      ]
     },
     "execution_count": 60,
     "metadata": {},
     "output_type": "execute_result"
    }
   ],
   "source": [
    "def find_max_sum_sublist(lst):\n",
    "    print(lst)\n",
    "    print(\"----------------------\")\n",
    "    sums = []\n",
    "    added = lst[0]\n",
    "    for x in lst[1:]:\n",
    "        added += x\n",
    "        sums.append(added) # sum of all subsets starting from the 1st elemenet\n",
    "    print(sums)\n",
    "    sums.append(lst[-1]) # for the last element, sum is the the last element itself\n",
    "    max_sum = max(sums) # find the maximum of this list as the initial max sum\n",
    "\n",
    "    # in each iteration, we subtract an element from the caclulated sums\n",
    "    for i in range(len(lst)-2): \n",
    "        sums = [x-lst[i] for x in sums[1:]]\n",
    "        print(sums)\n",
    "        if max(sums) > max_sum:\n",
    "            max_sum = max(sums)\n",
    "\n",
    "    return max_sum\n",
    "\n",
    "lst = [-2 ,10, 7, -5, 15, 6]\n",
    "\n",
    "find_max_sum_sublist(lst)"
   ]
  },
  {
   "cell_type": "code",
   "execution_count": 69,
   "metadata": {},
   "outputs": [
    {
     "name": "stdout",
     "output_type": "stream",
     "text": [
      "3 -2\n",
      "5 3\n",
      "4 5\n"
     ]
    },
    {
     "data": {
      "text/plain": [
       "5"
      ]
     },
     "execution_count": 69,
     "metadata": {},
     "output_type": "execute_result"
    }
   ],
   "source": [
    "def find_max_sum_sublist(lst): \n",
    "  if (len(lst) < 1): \n",
    "    return 0\n",
    "\n",
    "  curr_max = lst[0]\n",
    "  global_max = lst[0]\n",
    "  for i in range(1, len(lst)):\n",
    "    curr_max = max(lst[i], curr_max + lst[i])\n",
    "    print(curr_max, global_max)\n",
    "    if curr_max > global_max:\n",
    "      global_max = curr_max\n",
    "\n",
    "  return global_max;\n",
    "\n",
    "\n",
    "lst = [-2 ,10, 7, -5, 15, -6]\n",
    "lst = [-2, 3, 2, -1]\n",
    "find_max_sum_sublist(lst)"
   ]
  },
  {
   "cell_type": "code",
   "execution_count": 76,
   "metadata": {},
   "outputs": [
    {
     "name": "stdout",
     "output_type": "stream",
     "text": [
      "3 -2\n",
      "5 3\n",
      "4 5\n"
     ]
    },
    {
     "data": {
      "text/plain": [
       "5"
      ]
     },
     "execution_count": 76,
     "metadata": {},
     "output_type": "execute_result"
    }
   ],
   "source": [
    "def find_max_sum_sublist(lst): \n",
    "    curr_max = global_max = lst[0]\n",
    "    for i in range(1, len(lst)):\n",
    "        curr_max = max(lst[i], curr_max + lst[i])\n",
    "        print(curr_max, global_max)\n",
    "        if curr_max > global_max:\n",
    "            global_max = curr_max\n",
    "    return global_max\n",
    "\n",
    "\n",
    "\n",
    "lst = [-2 ,10, 7, -5, 15, -6]\n",
    "lst = [-2, 3, 2, -1]\n",
    "find_max_sum_sublist(lst)"
   ]
  },
  {
   "cell_type": "markdown",
   "metadata": {},
   "source": [
    "## Find all triplets with zero sum"
   ]
  },
  {
   "cell_type": "code",
   "execution_count": 1,
   "metadata": {},
   "outputs": [
    {
     "data": {
      "text/plain": [
       "[[0, -1, 1],\n",
       " [0, -1, 1],\n",
       " [0, 2, -2],\n",
       " [0, 5, -5],\n",
       " [-1, 1, 0],\n",
       " [-1, 5, -4],\n",
       " [-1, 5, -4],\n",
       " [-1, 0, 1],\n",
       " [1, 2, -3],\n",
       " [1, -2, 1],\n",
       " [2, -2, 0],\n",
       " [2, -3, 1],\n",
       " [-2, 5, -3],\n",
       " [5, -5, 0],\n",
       " [-3, 8, -5],\n",
       " [8, -4, -4],\n",
       " [-4, -5, 9],\n",
       " [-4, -5, 9]]"
      ]
     },
     "execution_count": 1,
     "metadata": {},
     "output_type": "execute_result"
    }
   ],
   "source": [
    "l = [0, -1, 1, 2, -2, 5, -3, 8, -4, -4, -5, 9, 0, 1]\n",
    "\n",
    "\n",
    "f = []\n",
    "total = 0 \n",
    "for i in range(len(l)):\n",
    "    for j in range(i+1, len(l)):\n",
    "        for k in range(j+1, len(l)):\n",
    "            total = l[i] + l[j] + l[k]\n",
    "            if total == 0:\n",
    "                temp  = [l[i], l[j], l[k]]\n",
    "                #print(temp)\n",
    "                f.append(temp)\n",
    "        \n",
    "        \n",
    "f\n"
   ]
  },
  {
   "cell_type": "code",
   "execution_count": null,
   "metadata": {},
   "outputs": [],
   "source": []
  },
  {
   "cell_type": "code",
   "execution_count": null,
   "metadata": {},
   "outputs": [],
   "source": []
  },
  {
   "cell_type": "markdown",
   "metadata": {},
   "source": [
    "##  What will be the output of the following piece of code?\n",
    "\n",
    "```python\n",
    "def foo(value, lst):\n",
    "    value = 1\n",
    "    lst[0] = 44\n",
    "\n",
    "v = 3\n",
    "lst = [1, 2, 3]\n",
    "foo(v, lst)\n",
    "print(v, lst[0])```"
   ]
  },
  {
   "cell_type": "code",
   "execution_count": 77,
   "metadata": {},
   "outputs": [
    {
     "name": "stdout",
     "output_type": "stream",
     "text": [
      "3 44\n"
     ]
    }
   ],
   "source": [
    "def foo(value, lst):\n",
    "    value = 1\n",
    "    lst[0] = 44\n",
    "\n",
    "v = 3\n",
    "lst = [1, 2, 3]\n",
    "foo(v, lst)\n",
    "print(v, lst[0])"
   ]
  },
  {
   "cell_type": "markdown",
   "metadata": {},
   "source": [
    "- `v` is an integer which is immutable so it won't change after `foo` is executed\n",
    "- `lst` is a list which is mutable so it value changes after `foo` executed"
   ]
  },
  {
   "cell_type": "markdown",
   "metadata": {},
   "source": [
    "## What will be output of the following piece of code?\n",
    "\n",
    "```python\n",
    "list = [[[1, 2], [3, 4]], [[5, 6], [7, 8]]]\n",
    "def foo(m):\n",
    "  v = m[0][0]\n",
    "  for row in m:\n",
    "    for element in row:\n",
    "      if v < element: v = element\n",
    "  return v\n",
    "\n",
    "\n",
    "print(foo(list[0]))```"
   ]
  },
  {
   "cell_type": "markdown",
   "metadata": {},
   "source": [
    "4"
   ]
  },
  {
   "cell_type": "markdown",
   "metadata": {},
   "source": [
    "## What is the output of the following piece of code?\n",
    "\n",
    "```python\n",
    "def f(i, values = []):\n",
    "    values.append(i)\n",
    "    print (values),\n",
    "    return values\n",
    "f(1)\n",
    "f(2)\n",
    "f(3)```"
   ]
  },
  {
   "cell_type": "code",
   "execution_count": 92,
   "metadata": {},
   "outputs": [
    {
     "name": "stdout",
     "output_type": "stream",
     "text": [
      "[1]\n",
      "[1, 2]\n",
      "[1, 2, 3]\n"
     ]
    },
    {
     "data": {
      "text/plain": [
       "[1, 2, 3]"
      ]
     },
     "execution_count": 92,
     "metadata": {},
     "output_type": "execute_result"
    }
   ],
   "source": [
    "def f(i, values = []):\n",
    "    values.append(i)\n",
    "    print (values),\n",
    "    return values\n",
    "f(1)\n",
    "f(2)\n",
    "f(3)"
   ]
  },
  {
   "cell_type": "markdown",
   "metadata": {},
   "source": [
    "This is one of the most common Python pitfalls. Essentially, “A new list is created once when the function is defined, and the same list is used in each successive call.” to quote https://docs.python-guide.org/writing/gotchas/ 6 (which is a great read btw)"
   ]
  },
  {
   "cell_type": "markdown",
   "metadata": {},
   "source": [
    "## What will be output of the following piece of code?\n",
    "```python\n",
    "res = []\n",
    "path = []\n",
    "for i in range(3):\n",
    "    path.append(i)\n",
    "    res.append(path)\n",
    "print(res)```"
   ]
  },
  {
   "cell_type": "markdown",
   "metadata": {},
   "source": [
    "`[[0, 1, 2], [0, 1, 2], [0, 1, 2]]`\n",
    "\n",
    "We get the same copy three times! Because append(path) actually appends a reference (memory address), we actually append the same list three times. path.append(i) mutates the list and affects all references to that list. To fix this, we create a new list before we append."
   ]
  },
  {
   "cell_type": "code",
   "execution_count": null,
   "metadata": {},
   "outputs": [],
   "source": []
  }
 ],
 "metadata": {
  "kernelspec": {
   "display_name": "Python 3",
   "language": "python",
   "name": "python3"
  },
  "language_info": {
   "codemirror_mode": {
    "name": "ipython",
    "version": 3
   },
   "file_extension": ".py",
   "mimetype": "text/x-python",
   "name": "python",
   "nbconvert_exporter": "python",
   "pygments_lexer": "ipython3",
   "version": "3.7.4"
  }
 },
 "nbformat": 4,
 "nbformat_minor": 2
}
