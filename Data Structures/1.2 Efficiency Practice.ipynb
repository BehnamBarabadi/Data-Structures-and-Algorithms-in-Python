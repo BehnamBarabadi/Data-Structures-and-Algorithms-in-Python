{
 "cells": [
  {
   "cell_type": "markdown",
   "metadata": {},
   "source": [
    "### Efficiency Practice\n",
    "Below are some examples of functions in Python. Look at each and take note of the time efficiency. \n",
    "Then, in the quiz, enter those values using the correct notation. Use approximations wherever possible!\n",
    "\"\"\"|"
   ]
  },
  {
   "cell_type": "markdown",
   "metadata": {},
   "source": [
    "input manatees: a list of \"manatees\", where one manatee is represented by a dictionary\n",
    "a single manatee has properties like \"name\", \"age\", et cetera\n",
    " * n = the number of elements in \"manatees\"\n",
    " * m = the number of properties per \"manatee\" (i.e. the number of keys in a manatee dictionary"
   ]
  },
  {
   "cell_type": "markdown",
   "metadata": {},
   "source": [
    "```PYTHON\n",
    "def example1(manatees):\n",
    "    for manatee in manatees:\n",
    "        print manatee['name']\n",
    "```\n",
    "\n",
    "Answer:\n",
    "> $O(n)$"
   ]
  },
  {
   "cell_type": "markdown",
   "metadata": {},
   "source": [
    "```PYTHON\n",
    "def example2(manatees):\n",
    "    print manatees[0]['name']\n",
    "    print manatees[0]['age']\n",
    "\n",
    "```\n",
    "Answer:\n",
    "> $O(1)$"
   ]
  },
  {
   "cell_type": "markdown",
   "metadata": {},
   "source": [
    "```PYTHON\n",
    "def example3(manatees):\n",
    "    for manatee in manatees:\n",
    "        for manatee_property in manatee:\n",
    "            print manatee_property, \": \", manatee[manatee_property]\n",
    "\n",
    "```\n",
    "Answer:\n",
    "> $O(n * m)$"
   ]
  },
  {
   "cell_type": "markdown",
   "metadata": {},
   "source": [
    "```PYTHON\n",
    "def example4(manatees):\n",
    "    oldest_manatee = \"No manatees here!\"\n",
    "    for manatee1 in manatees:\n",
    "        for manatee2 in manatees:\n",
    "            if manatee1['age'] < manatee2['age']:\n",
    "                oldest_manatee = manatee2['name']\n",
    "            else:\n",
    "                oldest_manatee = manatee1['name']\n",
    "    print oldest_manatee\n",
    "```\n",
    "Answer:\n",
    "> $O(n^2)$"
   ]
  },
  {
   "cell_type": "code",
   "execution_count": null,
   "metadata": {},
   "outputs": [],
   "source": []
  }
 ],
 "metadata": {
  "kernelspec": {
   "display_name": "Python 3",
   "language": "python",
   "name": "python3"
  },
  "language_info": {
   "codemirror_mode": {
    "name": "ipython",
    "version": 3
   },
   "file_extension": ".py",
   "mimetype": "text/x-python",
   "name": "python",
   "nbconvert_exporter": "python",
   "pygments_lexer": "ipython3",
   "version": "3.7.4"
  }
 },
 "nbformat": 4,
 "nbformat_minor": 2
}
