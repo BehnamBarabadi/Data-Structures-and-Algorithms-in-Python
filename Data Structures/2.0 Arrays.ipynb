{
 "cells": [
  {
   "cell_type": "markdown",
   "metadata": {},
   "source": [
    "# **Arrays**\n",
    "- Not Fixed Size\n",
    "\n",
    "[documents](https://docs.python.org/3/library/array.html)\n",
    "\n",
    "[examples from here](https://www.askpython.com/python/array/python-array-examples)"
   ]
  },
  {
   "cell_type": "code",
   "execution_count": 4,
   "metadata": {},
   "outputs": [
    {
     "data": {
      "text/html": [
       "<style>.container { width:80% !important; }</style>"
      ],
      "text/plain": [
       "<IPython.core.display.HTML object>"
      ]
     },
     "metadata": {},
     "output_type": "display_data"
    }
   ],
   "source": [
    "from IPython.core.display import display, HTML\n",
    "display(HTML(\"<style>.container { width:80% !important; }</style>\"))"
   ]
  },
  {
   "cell_type": "markdown",
   "metadata": {},
   "source": [
    "![image info](https://cdn.askpython.com/wp-content/uploads/2019/09/python-array-supported-type-code.png)"
   ]
  },
  {
   "cell_type": "code",
   "execution_count": 1,
   "metadata": {},
   "outputs": [],
   "source": [
    "from array import array"
   ]
  },
  {
   "cell_type": "code",
   "execution_count": 3,
   "metadata": {},
   "outputs": [],
   "source": [
    "import array\n",
    " \n",
    "# creating array\n",
    "int_array = array.array('i', [1, 2, 3, 4])\n",
    " \n",
    "float_array = array.array('f', [1.1, 2.2, 3.3, 4.4])"
   ]
  },
  {
   "cell_type": "code",
   "execution_count": 7,
   "metadata": {},
   "outputs": [
    {
     "name": "stdout",
     "output_type": "stream",
     "text": [
      "array('i', [1, 2, 3, 4])\n",
      "array('f', [1.100000023841858, 2.200000047683716, 3.299999952316284, 4.400000095367432])\n",
      "<class 'array.array'>\n"
     ]
    }
   ],
   "source": [
    "# printing array\n",
    "print(int_array)\n",
    "print(float_array)\n",
    "\n",
    "print(type(int_array))"
   ]
  },
  {
   "cell_type": "markdown",
   "metadata": {},
   "source": [
    "###  Inserting and Appending Elements"
   ]
  },
  {
   "cell_type": "code",
   "execution_count": 8,
   "metadata": {},
   "outputs": [
    {
     "name": "stdout",
     "output_type": "stream",
     "text": [
      "array('i', [-1, 1, -2, 2, 3, 4])\n"
     ]
    }
   ],
   "source": [
    "int_array = array.array('i', [1, 2, 3, 4])\n",
    "int_array.insert(0, -1)  # -1,1,2,3,4\n",
    "int_array.insert(2, -2)  # -1,1,-2,2,3,4\n",
    "print(int_array)"
   ]
  },
  {
   "cell_type": "code",
   "execution_count": 31,
   "metadata": {},
   "outputs": [
    {
     "name": "stdout",
     "output_type": "stream",
     "text": [
      "array('i', [1, 2, 3, 4, -3])\n"
     ]
    }
   ],
   "source": [
    "int_array = array.array('i', [1, 2, 3, 4])\n",
    "int_array.append(-3)\n",
    "print(int_array)  # array('i', [1, 2, 3, 4, -3])"
   ]
  },
  {
   "cell_type": "code",
   "execution_count": 48,
   "metadata": {},
   "outputs": [
    {
     "data": {
      "text/plain": [
       "array('i', [2, 4, 5])"
      ]
     },
     "execution_count": 48,
     "metadata": {},
     "output_type": "execute_result"
    }
   ],
   "source": [
    "ia = array.array('i', [2, 4, 5])\n",
    "ia.insert(0, 2)\n",
    "ia\n",
    "ia.remove(2)\n",
    "ia"
   ]
  },
  {
   "cell_type": "markdown",
   "metadata": {},
   "source": [
    "### Removing Array Elements"
   ]
  },
  {
   "cell_type": "code",
   "execution_count": 50,
   "metadata": {},
   "outputs": [
    {
     "name": "stdout",
     "output_type": "stream",
     "text": [
      "array('i', [1, 3, 4])\n"
     ]
    }
   ],
   "source": [
    "int_array = array.array('i', [1, 3, 3, 4])\n",
    "int_array.remove(3) # removes the 1st occurance\n",
    "print(int_array)  # array('i', [1, 3, 4])"
   ]
  },
  {
   "cell_type": "code",
   "execution_count": 54,
   "metadata": {},
   "outputs": [
    {
     "data": {
      "text/plain": [
       "4"
      ]
     },
     "execution_count": 54,
     "metadata": {},
     "output_type": "execute_result"
    }
   ],
   "source": [
    "int_array = array.array('i', [1, 3, 3, 4])\n",
    "int_array.pop(3) # removes and returnes the element at the given index"
   ]
  },
  {
   "cell_type": "markdown",
   "metadata": {},
   "source": [
    "### Slicing an Array"
   ]
  },
  {
   "cell_type": "code",
   "execution_count": null,
   "metadata": {},
   "outputs": [],
   "source": [
    "int_array = array.array('i', [0, 1, 2, 3, 4, 5])\n",
    "print(int_array[3:])  # array('i', [3, 4, 5])\n",
    "print(int_array[:2])  # array('i', [0, 1])\n",
    "print(int_array[1:3])  # array('i', [1, 2])\n",
    " \n",
    "# negative index slicing\n",
    "print(int_array[-2:])  # array('i', [4, 5])\n",
    "print(int_array[:-2])  # array('i', [0, 1, 2, 3])"
   ]
  },
  {
   "cell_type": "markdown",
   "metadata": {},
   "source": [
    "### Searching an Element in the Array\n",
    "- We can use the index() function to find the index of first occurrence of an element. If the element is not present in the array, ValueError is raised."
   ]
  },
  {
   "cell_type": "code",
   "execution_count": 63,
   "metadata": {},
   "outputs": [
    {
     "name": "stdout",
     "output_type": "stream",
     "text": [
      "1 is found at index 1\n",
      "array.index(x): x not in array\n"
     ]
    }
   ],
   "source": [
    "int_array = array.array('i', [0, 1, 2, 3, 1, 2])\n",
    " \n",
    "print(f'1 is found at index {int_array.index(1)}')\n",
    "try:\n",
    "    print(int_array.index(20))\n",
    "except ValueError as ve:\n",
    "    print(ve)"
   ]
  },
  {
   "cell_type": "markdown",
   "metadata": {},
   "source": [
    "### Updating Value at Specified Index"
   ]
  },
  {
   "cell_type": "code",
   "execution_count": 64,
   "metadata": {},
   "outputs": [
    {
     "name": "stdout",
     "output_type": "stream",
     "text": [
      "array('i', [-1, -2, 2, 3, 1, 2])\n",
      "array assignment index out of range\n"
     ]
    }
   ],
   "source": [
    "int_array = array.array('i', [0, 1, 2, 3, 1, 2])\n",
    " \n",
    "int_array[0] = -1\n",
    "int_array[1] = -2\n",
    "print(int_array)\n",
    " \n",
    "try:\n",
    "    int_array[10] = -10\n",
    "except IndexError as ie:\n",
    "    print(ie)"
   ]
  },
  {
   "cell_type": "markdown",
   "metadata": {},
   "source": [
    "### Reversing an Array"
   ]
  },
  {
   "cell_type": "code",
   "execution_count": 12,
   "metadata": {},
   "outputs": [
    {
     "name": "stdout",
     "output_type": "stream",
     "text": [
      "array('i', [3, 2, 1, 0])\n"
     ]
    }
   ],
   "source": [
    "int_array = array.array('i', [0, 1, 2, 3])\n",
    "int_array.reverse()\n",
    "print(int_array)  # array('i', [3, 2, 1, 0])"
   ]
  },
  {
   "cell_type": "markdown",
   "metadata": {},
   "source": [
    "### Count of the Occurrence of an Element"
   ]
  },
  {
   "cell_type": "code",
   "execution_count": 66,
   "metadata": {},
   "outputs": [
    {
     "name": "stdout",
     "output_type": "stream",
     "text": [
      "3\n",
      "0\n"
     ]
    }
   ],
   "source": [
    "int_array = array.array('i', [0, 1, 1, 0, 1])\n",
    "print(int_array.count(1))  # 3\n",
    "print(int_array.count(10))  # 0"
   ]
  },
  {
   "cell_type": "markdown",
   "metadata": {},
   "source": [
    "### Extending an Array by Appending an Iterable"
   ]
  },
  {
   "cell_type": "code",
   "execution_count": 15,
   "metadata": {},
   "outputs": [
    {
     "name": "stdout",
     "output_type": "stream",
     "text": [
      "array('i', [0, 1, 2, 3, 4])\n",
      "array('i', [2, 3, 4])\n",
      "array('i', [2, 3, 4, 1, 2])\n",
      "array('i', [1, 0, 2])\n"
     ]
    }
   ],
   "source": [
    "array1 = array.array('i', [0, 1])\n",
    "array2 = array.array('i', [2, 3, 4])\n",
    " \n",
    "array1.extend(array2)\n",
    "print(array1)  # array('i', [0, 1, 2, 3, 4])\n",
    " \n",
    "print(array2)  # array('i', [2, 3, 4])\n",
    "array2.extend([1, 2])\n",
    "print(array2)  # array('i', [2, 3, 4, 1, 2])\n",
    " \n",
    "array1 = array.array('i', [1])\n",
    "array1.extend(set([0,0,0,2])) # set([0,0,0,2]) is [0, 2]\n",
    "print(array1)  # array('i', [1, 0, 2])\n"
   ]
  },
  {
   "cell_type": "markdown",
   "metadata": {},
   "source": [
    "### Converting Array to List"
   ]
  },
  {
   "cell_type": "code",
   "execution_count": 74,
   "metadata": {},
   "outputs": [
    {
     "name": "stdout",
     "output_type": "stream",
     "text": [
      "[0, 1, 2, 3]\n",
      "[0, 1, 2, 3]\n"
     ]
    }
   ],
   "source": [
    "int_array = array.array('i', [0, 1, 2, 3])\n",
    "print(int_array.tolist())  # [0, 1, 2, 3]\n",
    "\n",
    "print(list(int_array))  # [0, 1, 2, 3]"
   ]
  },
  {
   "cell_type": "code",
   "execution_count": 73,
   "metadata": {},
   "outputs": [
    {
     "data": {
      "text/plain": [
       "[1, 2]"
      ]
     },
     "execution_count": 73,
     "metadata": {},
     "output_type": "execute_result"
    }
   ],
   "source": [
    "ia = array.array('i', [1,2])\n",
    "list(ia)"
   ]
  },
  {
   "cell_type": "markdown",
   "metadata": {},
   "source": [
    "### Fix size list in python\n",
    "- In `dtype=object`, `object` could be replaced with any datatype like int, str, ..."
   ]
  },
  {
   "cell_type": "code",
   "execution_count": 22,
   "metadata": {},
   "outputs": [],
   "source": [
    "import numpy as np\n",
    "a = np.empty(5, dtype=object)"
   ]
  },
  {
   "cell_type": "code",
   "execution_count": 24,
   "metadata": {},
   "outputs": [],
   "source": [
    "a[1] = 4"
   ]
  },
  {
   "cell_type": "code",
   "execution_count": 25,
   "metadata": {},
   "outputs": [
    {
     "data": {
      "text/plain": [
       "array([None, 4, 'hi', None, None], dtype=object)"
      ]
     },
     "execution_count": 25,
     "metadata": {},
     "output_type": "execute_result"
    }
   ],
   "source": [
    "a[2]= 'hi'\n",
    "a"
   ]
  },
  {
   "cell_type": "code",
   "execution_count": 29,
   "metadata": {},
   "outputs": [
    {
     "data": {
      "text/plain": [
       "(5,)"
      ]
     },
     "execution_count": 29,
     "metadata": {},
     "output_type": "execute_result"
    }
   ],
   "source": [
    "a.shape"
   ]
  },
  {
   "cell_type": "code",
   "execution_count": 32,
   "metadata": {},
   "outputs": [],
   "source": [
    "b = np.empty(4, dtype=int)\n",
    "b[0]= 14"
   ]
  },
  {
   "cell_type": "markdown",
   "metadata": {},
   "source": [
    "```python\n",
    "b[1]= 'hi'\n",
    "---------------------------------------------------------------------------\n",
    "ValueError                                Traceback (most recent call last)\n",
    "<ipython-input-31-a5b1e47e9970> in <module>\n",
    "      1 b = np.empty(4, dtype=int)\n",
    "----> 2 b[1]= 'hi'\n",
    "\n",
    "ValueError: invalid literal for int() with base 10: 'hi'\n",
    "```"
   ]
  },
  {
   "cell_type": "code",
   "execution_count": null,
   "metadata": {},
   "outputs": [],
   "source": []
  }
 ],
 "metadata": {
  "kernelspec": {
   "display_name": "Python 3",
   "language": "python",
   "name": "python3"
  },
  "language_info": {
   "codemirror_mode": {
    "name": "ipython",
    "version": 3
   },
   "file_extension": ".py",
   "mimetype": "text/x-python",
   "name": "python",
   "nbconvert_exporter": "python",
   "pygments_lexer": "ipython3",
   "version": "3.7.4"
  }
 },
 "nbformat": 4,
 "nbformat_minor": 2
}
