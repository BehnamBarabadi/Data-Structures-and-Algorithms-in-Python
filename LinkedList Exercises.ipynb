{
 "cells": [
  {
   "cell_type": "markdown",
   "metadata": {},
   "source": [
    "# **LinkedList Exercises**"
   ]
  },
  {
   "cell_type": "code",
   "execution_count": 2,
   "metadata": {},
   "outputs": [
    {
     "data": {
      "text/html": [
       "<style>.container { width:85% !important; }</style>"
      ],
      "text/plain": [
       "<IPython.core.display.HTML object>"
      ]
     },
     "metadata": {},
     "output_type": "display_data"
    }
   ],
   "source": [
    "from IPython.core.display import display, HTML\n",
    "display(HTML(\"<style>.container { width:85% !important; }</style>\"))"
   ]
  },
  {
   "cell_type": "code",
   "execution_count": 3,
   "metadata": {},
   "outputs": [
    {
     "name": "stdout",
     "output_type": "stream",
     "text": [
      "1 2 3\n"
     ]
    }
   ],
   "source": [
    "class Node():\n",
    "    def __init__(self, val):\n",
    "        self.data = val\n",
    "        self.next_element = None\n",
    "\n",
    "class LinkedList:\n",
    "    def __init__(self):\n",
    "        self.head_node = None\n",
    "\n",
    "    def get_head(self):\n",
    "        return self.head_node\n",
    "\n",
    "    def is_empty(self):\n",
    "        if(self.head_node is None):  # Check whether the head is None\n",
    "            return True\n",
    "        else:\n",
    "            return False\n",
    "\n",
    "    # Supplementary print function\n",
    "    def print_list(self):\n",
    "        if(self.is_empty()):\n",
    "            print(\"List is Empty\")\n",
    "            return False\n",
    "        curr_node = self.head_node\n",
    "        while curr_node.next_element is not None:\n",
    "            print(curr_node.data, end = ' -> ')\n",
    "            curr_node = curr_node.next_element\n",
    "        print(curr_node.data )\n",
    "        return True\n",
    "            \n",
    "                        \n",
    "        \n",
    "e1 = Node(1)   \n",
    "e2 = Node(2)\n",
    "e3 = Node(3)\n",
    "\n",
    "l1 = LinkedList()\n",
    "l1.head_node = e1\n",
    "l1.head_node.next_element = e2\n",
    "e2.next_element = e3\n",
    "print(l1.head_node.data, e2.data, e3.data)"
   ]
  },
  {
   "cell_type": "code",
   "execution_count": 4,
   "metadata": {},
   "outputs": [
    {
     "name": "stdout",
     "output_type": "stream",
     "text": [
      "1 -> 2 -> 3\n"
     ]
    },
    {
     "data": {
      "text/plain": [
       "True"
      ]
     },
     "execution_count": 4,
     "metadata": {},
     "output_type": "execute_result"
    }
   ],
   "source": [
    "l1.print_list()"
   ]
  },
  {
   "cell_type": "markdown",
   "metadata": {},
   "source": [
    "## Challenge 1: Insertion at Head"
   ]
  },
  {
   "cell_type": "code",
   "execution_count": 5,
   "metadata": {},
   "outputs": [],
   "source": [
    "def insertAtHead(lst, val):\n",
    "    new_node = Node(val)\n",
    "    if lst.is_empty():\n",
    "        lst.head_node = new_node\n",
    "    else:\n",
    "        new_node.next_element = lst.head_node\n",
    "        lst.head_node = new_node\n",
    "        "
   ]
  },
  {
   "cell_type": "code",
   "execution_count": 6,
   "metadata": {},
   "outputs": [
    {
     "name": "stdout",
     "output_type": "stream",
     "text": [
      "List is Empty\n",
      "0\n",
      "1 -> 0\n",
      "2 -> 1 -> 0\n",
      "3 -> 2 -> 1 -> 0\n"
     ]
    },
    {
     "data": {
      "text/plain": [
       "True"
      ]
     },
     "execution_count": 6,
     "metadata": {},
     "output_type": "execute_result"
    }
   ],
   "source": [
    "l = LinkedList()\n",
    "\n",
    "lst = LinkedList()\n",
    "lst.print_list()\n",
    "\n",
    "insertAtHead(lst, 0)\n",
    "lst.print_list()\n",
    "insertAtHead(lst, 1)\n",
    "lst.print_list()\n",
    "insertAtHead(lst, 2)\n",
    "lst.print_list()\n",
    "insertAtHead(lst, 3)\n",
    "lst.print_list()\n"
   ]
  },
  {
   "cell_type": "markdown",
   "metadata": {},
   "source": [
    "### Challenge 1: Insertion at Tail"
   ]
  },
  {
   "cell_type": "code",
   "execution_count": 7,
   "metadata": {},
   "outputs": [],
   "source": [
    "from LinkedList import LinkedList\n",
    "from Node import Node\n",
    "# Access head_node => list.get_head()\n",
    "# Check if list is empty => list.is_empty()\n",
    "# Node class  {int data ; Node next_element;}\n",
    "\n",
    "# Inserts a value at the end of the list\n",
    "\n",
    "\n",
    "def insertAtTail(lst, value):\n",
    "    new_node = Node(value)\n",
    "    if lst.is_empty():\n",
    "        lst.head_node = new_node\n",
    "    else:\n",
    "        curr_node = lst.head_node\n",
    "        while curr_node.next_element is not None: \n",
    "            curr_node = curr_node.next_element # finding the last node\n",
    "        curr_node.next_element = new_node\n",
    "    "
   ]
  },
  {
   "cell_type": "code",
   "execution_count": 8,
   "metadata": {},
   "outputs": [
    {
     "name": "stdout",
     "output_type": "stream",
     "text": [
      "List is Empty\n",
      "0 -> None\n",
      "0 -> 1 -> None\n",
      "0 -> 1 -> 2 -> None\n",
      "0 -> 1 -> 2 -> 3 -> None\n"
     ]
    }
   ],
   "source": [
    "l = LinkedList()\n",
    "\n",
    "lst = LinkedList()\n",
    "lst.print_list()\n",
    "insertAtTail(lst, 0)\n",
    "lst.print_list()\n",
    "insertAtTail(lst, 1)\n",
    "lst.print_list()\n",
    "insertAtTail(lst, 2)\n",
    "lst.print_list()\n",
    "insertAtTail(lst, 3)\n",
    "lst.print_list()\n"
   ]
  },
  {
   "cell_type": "markdown",
   "metadata": {},
   "source": [
    "## Challenge 1: Insertion at the kth Position"
   ]
  },
  {
   "cell_type": "code",
   "execution_count": 9,
   "metadata": {},
   "outputs": [],
   "source": [
    "def inserAtKPosition(lst, val, k):\n",
    "    if lst.is_empty():\n",
    "        print(\"List is Empty\")\n",
    "        return\n",
    "    elif k == 0 :\n",
    "        insertAtHead(lst, val)\n",
    "    else:\n",
    "        new_node = Node(val)\n",
    "        curr_node = lst.head_node\n",
    "        c = 0\n",
    "#       use k-1 because we want the node before the node at the given index\n",
    "#       use current_node is not None for situations where given index is greater than number of elemenets\n",
    "        while c < k-1 and curr_node is not None:\n",
    "            curr_node =  curr_node.next_element\n",
    "            c += 1\n",
    "        if curr_node is None:\n",
    "            print('index out of bound')\n",
    "            return\n",
    "        else:\n",
    "            new_node.next_element = curr_node.next_element  \n",
    "            curr_node.next_element = new_node\n",
    "        "
   ]
  },
  {
   "cell_type": "code",
   "execution_count": 10,
   "metadata": {},
   "outputs": [
    {
     "name": "stdout",
     "output_type": "stream",
     "text": [
      "0 -> 1 -> 2 -> 3 -> None\n"
     ]
    }
   ],
   "source": [
    "l = LinkedList()\n",
    "\n",
    "lst = LinkedList()\n",
    "insertAtTail(lst, 0)\n",
    "insertAtTail(lst, 1)\n",
    "insertAtTail(lst, 2)\n",
    "insertAtTail(lst, 3)\n",
    "lst.print_list()"
   ]
  },
  {
   "cell_type": "code",
   "execution_count": 11,
   "metadata": {},
   "outputs": [
    {
     "name": "stdout",
     "output_type": "stream",
     "text": [
      "index out of bound\n",
      "0 -> 1 -> 2 -> 3 -> None\n"
     ]
    }
   ],
   "source": [
    "inserAtKPosition(lst, 'N', 10)\n",
    "lst.print_list()"
   ]
  },
  {
   "cell_type": "markdown",
   "metadata": {},
   "source": [
    "## Challenge 2: Search in a Singly Linked List"
   ]
  },
  {
   "cell_type": "code",
   "execution_count": 12,
   "metadata": {},
   "outputs": [],
   "source": [
    "from Node import Node\n",
    "from LinkedList import LinkedList\n",
    "# Access head_node => list.get_head()\n",
    "# Check if list is empty => list.is_empty()\n",
    "# Node class  {int data ; Node next_element;}\n",
    "\n",
    "# Searches a value in the given list.\n",
    "\n",
    "\n",
    "def search(lst, value):\n",
    "    if lst.is_empty():\n",
    "        print(\"list is empty\")\n",
    "        return False\n",
    "    else:\n",
    "        curr_node = lst.head_node\n",
    "        while curr_node is not None:\n",
    "            if curr_node.data == value: \n",
    "                return True\n",
    "            curr_node = curr_node.next_element\n",
    "        return False\n"
   ]
  },
  {
   "cell_type": "code",
   "execution_count": 13,
   "metadata": {},
   "outputs": [
    {
     "name": "stdout",
     "output_type": "stream",
     "text": [
      "5 -> 40 -> 10 -> 4 -> None\n",
      "True\n"
     ]
    }
   ],
   "source": [
    "lst = LinkedList()\n",
    "insertAtHead(lst, 4)\n",
    "insertAtHead(lst, 10)\n",
    "insertAtHead(lst, 40)\n",
    "insertAtHead(lst, 5)\n",
    "lst.print_list()\n",
    "print(search(lst, 4))\n"
   ]
  },
  {
   "cell_type": "code",
   "execution_count": 14,
   "metadata": {},
   "outputs": [
    {
     "name": "stdout",
     "output_type": "stream",
     "text": [
      "5 -> 40 -> 10 -> 4 -> None\n",
      "False\n"
     ]
    }
   ],
   "source": [
    "lst.print_list()\n",
    "print(search(lst, 20))"
   ]
  },
  {
   "cell_type": "markdown",
   "metadata": {},
   "source": [
    "## Challenge : Delete the first element in a Singly Linked List"
   ]
  },
  {
   "cell_type": "code",
   "execution_count": 15,
   "metadata": {},
   "outputs": [],
   "source": [
    "def delete_at_head(lst):\n",
    "    if lst.is_empty():\n",
    "        print(\"list is empty\")\n",
    "        return False\n",
    "    else:\n",
    "        temp_node = lst.head_node\n",
    "        lst.head_node = temp_node.next_element "
   ]
  },
  {
   "cell_type": "code",
   "execution_count": 16,
   "metadata": {},
   "outputs": [
    {
     "name": "stdout",
     "output_type": "stream",
     "text": [
      "5 -> 40 -> 10 -> 4 -> None\n"
     ]
    }
   ],
   "source": [
    "lst = LinkedList()\n",
    "insertAtHead(lst, 4)\n",
    "insertAtHead(lst, 10)\n",
    "insertAtHead(lst, 40)\n",
    "insertAtHead(lst, 5)\n",
    "lst.print_list()"
   ]
  },
  {
   "cell_type": "code",
   "execution_count": 17,
   "metadata": {},
   "outputs": [
    {
     "name": "stdout",
     "output_type": "stream",
     "text": [
      "40 -> 10 -> 4 -> None\n"
     ]
    }
   ],
   "source": [
    "delete_at_head(lst)\n",
    "lst.print_list()"
   ]
  },
  {
   "cell_type": "markdown",
   "metadata": {},
   "source": [
    "## Challenge 3: Deletion by Value"
   ]
  },
  {
   "cell_type": "code",
   "execution_count": 18,
   "metadata": {},
   "outputs": [],
   "source": [
    "def delete(lst, val):\n",
    "    deleted = False\n",
    "    \n",
    "    if lst.is_empty():\n",
    "        print(\"list is empty\")\n",
    "        return deleted\n",
    "    \n",
    "    elif val == lst.head_node.data:\n",
    "        delete_at_head(lst)\n",
    "        deleted = True\n",
    "\n",
    "    else:\n",
    "        # we need to find the node before the node with the given value to delete\n",
    "        # curr_node.next_element.data == val\n",
    "        curr_node = lst.head_node\n",
    "        while curr_node.next_element is not None: # current_node is the node before the desired node\n",
    "            if curr_node.next_element.data == val: # if element found\n",
    "                curr_node.next_element = curr_node.next_element.next_element\n",
    "                deleted = True\n",
    "                break\n",
    "            else:\n",
    "                curr_node = curr_node.next_element\n",
    "                \n",
    "    if deleted is False:\n",
    "        print(str(val) + \" is not in list!\")\n",
    "    else:\n",
    "        print(str(val) + \" deleted!\")\n",
    "\n",
    "    return deleted"
   ]
  },
  {
   "cell_type": "code",
   "execution_count": 19,
   "metadata": {},
   "outputs": [
    {
     "name": "stdout",
     "output_type": "stream",
     "text": [
      "2 -> 3 -> 4 -> 1 -> None\n",
      "4 deleted!\n",
      "True\n",
      "2 -> 3 -> 1 -> None\n"
     ]
    }
   ],
   "source": [
    "lst = LinkedList()\n",
    "insertAtHead(lst, 1)\n",
    "insertAtHead(lst, 4)\n",
    "insertAtHead(lst, 3)\n",
    "insertAtHead(lst, 2)\n",
    "\n",
    "lst.print_list()\n",
    "\n",
    "\n",
    "print(delete(lst, 4))\n",
    "lst.print_list()"
   ]
  },
  {
   "cell_type": "code",
   "execution_count": 20,
   "metadata": {},
   "outputs": [
    {
     "name": "stdout",
     "output_type": "stream",
     "text": [
      "30 is not in list!\n",
      "False\n",
      "2 -> 3 -> 1 -> None\n"
     ]
    }
   ],
   "source": [
    "print(delete(lst, 30))\n",
    "lst.print_list()"
   ]
  },
  {
   "cell_type": "code",
   "execution_count": 21,
   "metadata": {},
   "outputs": [
    {
     "name": "stdout",
     "output_type": "stream",
     "text": [
      "2 deleted!\n",
      "True\n",
      "3 -> 1 -> None\n"
     ]
    }
   ],
   "source": [
    "print(delete(lst, 2))\n",
    "lst.print_list()"
   ]
  },
  {
   "cell_type": "markdown",
   "metadata": {},
   "source": [
    "## Challenge 4: Find the Length of a Linked List"
   ]
  },
  {
   "cell_type": "code",
   "execution_count": 22,
   "metadata": {},
   "outputs": [],
   "source": [
    "def length(lst):\n",
    "    counter = 0\n",
    "    curr_node = lst.head_node\n",
    "    while curr_node is not None: # when list is empty, this while loop doesn't execute\n",
    "        counter += 1\n",
    "        curr_node = curr_node.next_element\n",
    "    return counter\n"
   ]
  },
  {
   "cell_type": "code",
   "execution_count": 23,
   "metadata": {},
   "outputs": [
    {
     "name": "stdout",
     "output_type": "stream",
     "text": [
      "List length is: 0\n",
      "2 -> 3 -> 4 -> 1 -> None\n",
      "List length is: 4\n"
     ]
    }
   ],
   "source": [
    "lst = LinkedList()\n",
    "\n",
    "print(f\"List length is: {length(lst)}\")\n",
    "\n",
    "insertAtHead(lst, 1)\n",
    "insertAtHead(lst, 4)\n",
    "insertAtHead(lst, 3)\n",
    "insertAtHead(lst, 2)\n",
    "lst.print_list()\n",
    "print(f\"List length is: {length(lst)}\")"
   ]
  },
  {
   "cell_type": "markdown",
   "metadata": {},
   "source": [
    "## Challenge 5: Reverse a Linked List"
   ]
  },
  {
   "cell_type": "code",
   "execution_count": 24,
   "metadata": {},
   "outputs": [
    {
     "name": "stdout",
     "output_type": "stream",
     "text": [
      "10 -> 9 -> 4 -> 6 -> None\n",
      "******************************\n",
      "6 -> 4 -> 9 -> 10 -> None\n"
     ]
    }
   ],
   "source": [
    "from LinkedList import LinkedList\n",
    "from Node import Node\n",
    "def reverse(lst):\n",
    "  # To reverse linked, we need to keep track of three things\n",
    "  prev_node = None # Maintain track of the previous node\n",
    "  curr_node = lst.get_head() # The current node\n",
    "  \n",
    "  #Reversal\n",
    "  while curr_node is not None:\n",
    "    next_node = curr_node.next_element \n",
    "    curr_node.next_element = prev_node # this line changes the direction of the links\n",
    "    # update current and previous nodes\n",
    "    prev_node = curr_node # last value for prev_node is the last element of list\n",
    "    curr_node = next_node # last value for curr_node is None\n",
    "    #lst.print_list()\n",
    "    \n",
    "    #Set the last element as the new head node\n",
    "    lst.head_node = prev_node\n",
    "  return lst\n",
    "\n",
    "lst = LinkedList()\n",
    "\n",
    "\n",
    "insertAtHead(lst, 6)\n",
    "insertAtHead(lst, 4)\n",
    "insertAtHead(lst, 9)\n",
    "insertAtHead(lst, 10)\n",
    "lst.print_list()\n",
    "print(\"******************************\")\n",
    "\n",
    "reverse(lst)\n",
    "lst.print_list()"
   ]
  },
  {
   "cell_type": "markdown",
   "metadata": {},
   "source": [
    "## Challenge 6: Detect Loop in a Linked List\n",
    "- https://www.codingninjas.com/blog/2020/09/09/floyds-cycle-detection-algorithm/"
   ]
  },
  {
   "cell_type": "code",
   "execution_count": 25,
   "metadata": {},
   "outputs": [
    {
     "name": "stdout",
     "output_type": "stream",
     "text": [
      "7 -> 14 -> 21 -> None\n",
      "True\n"
     ]
    }
   ],
   "source": [
    "def detect_loop(lst):\n",
    "    loop_found = False\n",
    "    checked_nodes = [lst.head_node] # a list to store all checked nodes\n",
    "    curr_node = lst.head_node.next_element\n",
    "    while curr_node is not None:\n",
    "        if curr_node in checked_nodes: # if current node is already checked, return True\n",
    "            loop_found = True\n",
    "            return loop_found\n",
    "        checked_nodes.append(curr_node)\n",
    "        curr_node = curr_node.next_element\n",
    "    return loop_found\n",
    "        \n",
    "\n",
    "lst = LinkedList()\n",
    "\n",
    "insertAtHead(lst, 21)\n",
    "insertAtHead(lst, 14)\n",
    "insertAtHead(lst, 7)\n",
    "lst.print_list()\n",
    "\n",
    "# Adding a loop\n",
    "head = lst.get_head()\n",
    "node = lst.get_head()\n",
    "\n",
    "\n",
    "\n",
    "# Adding a loop\n",
    "head = lst.get_head()\n",
    "node = lst.get_head()\n",
    "\n",
    "# Below code will make this list: 7 -> 14 -> 21 -> 14\n",
    "for i in range(4): \n",
    "    if node.next_element is None:\n",
    "        node.next_element = head.next_element\n",
    "        break\n",
    "    node = node.next_element\n",
    "\n",
    "print(detect_loop(lst))"
   ]
  },
  {
   "cell_type": "code",
   "execution_count": 26,
   "metadata": {},
   "outputs": [
    {
     "name": "stdout",
     "output_type": "stream",
     "text": [
      "7 -> 14 -> 21 -> None\n",
      "True\n"
     ]
    }
   ],
   "source": [
    "# Floyd's Cycle Finding Algorithm\n",
    "def detect_loop(lst):\n",
    "    # Keep two iterators\n",
    "    onestep = lst.get_head()\n",
    "    twostep = lst.get_head()\n",
    "    # If any of these nodes are None, it means that we dont have any loop\n",
    "    while onestep and twostep and twostep.next_element: # if all of them are not None\n",
    "        onestep = onestep.next_element  # Moves one node at a time\n",
    "        twostep = twostep.next_element.next_element  # Skips a node\n",
    "        if onestep == twostep:  # Loop exists\n",
    "            return True\n",
    "    return False\n",
    "\n",
    "# ----------------------\n",
    "\n",
    "\n",
    "lst = LinkedList()\n",
    "\n",
    "insertAtHead(lst, 21)\n",
    "insertAtHead(lst, 14)\n",
    "insertAtHead(lst, 7)\n",
    "lst.print_list()\n",
    "\n",
    "# Adding a loop\n",
    "head = lst.get_head()\n",
    "node = lst.get_head()\n",
    "\n",
    "# Below code will make this list: 7 -> 14 -> 21 -> 14\n",
    "for i in range(4): \n",
    "    if node.next_element is None:\n",
    "        node.next_element = head.next_element\n",
    "        break\n",
    "    node = node.next_element\n",
    "\n",
    "print(detect_loop(lst))"
   ]
  },
  {
   "cell_type": "markdown",
   "metadata": {},
   "source": [
    "# Challenge 7: Find Middle Node of Linked List\n",
    "- You have to implement the find_mid() function which will take a linked list as an input and return the value of the middle node."
   ]
  },
  {
   "cell_type": "code",
   "execution_count": 27,
   "metadata": {},
   "outputs": [
    {
     "name": "stdout",
     "output_type": "stream",
     "text": [
      "7 -> 14 -> 21 -> None\n",
      "14\n",
      "---------------------\n",
      "28 -> 7 -> 14 -> 21 -> None\n",
      "7\n",
      "---------------------\n"
     ]
    }
   ],
   "source": [
    "def find_mid(lst):\n",
    "    # first we need to find the length of the list\n",
    "    # even: middle number lenghth/2\n",
    "    # odd: middle number length//2 + 1\n",
    "    l = length(lst) # use length function to get the length f the list\n",
    "    import math\n",
    "\n",
    "    middle_number = math.ceil(l / 2) # round the number up. EX: math.ceil(5 / 2) = 3\n",
    "    curr_node = lst.head_node\n",
    "    for i in range(0, middle_number - 1):\n",
    "       curr_node = curr_node.next_element \n",
    "    return curr_node.data\n",
    "\n",
    "#     OR WE USE THIS CODE BELOW:   \n",
    "#     c = 0 # counter for node number\n",
    "#     curr_node = lst.head_node\n",
    "#     while curr_node is not None:\n",
    "#         c += 1\n",
    "#         if c == middle_number:\n",
    "#             return curr_node.data\n",
    "#         curr_node = curr_node.next_element\n",
    "    \n",
    "\n",
    "\n",
    "lst = LinkedList()\n",
    "\n",
    "insertAtHead(lst, 21)\n",
    "insertAtHead(lst, 14)\n",
    "insertAtHead(lst, 7)\n",
    "lst.print_list()\n",
    "print(find_mid(lst))\n",
    "print(\"---------------------\")\n",
    "\n",
    "insertAtHead(lst, 28)\n",
    "lst.print_list()\n",
    "print(find_mid(lst))\n",
    "print(\"---------------------\")"
   ]
  },
  {
   "cell_type": "code",
   "execution_count": 28,
   "metadata": {},
   "outputs": [],
   "source": [
    "# Solution #2: Two Pointers \n",
    "def find_mid(lst):\n",
    "    if lst.is_empty():\n",
    "        return \n",
    "    if length(lst) == 1:\n",
    "        return lst.head_node.data\n",
    "    # when length is at least 2:\n",
    "    # Move middle_node (Slower) one step at a time\n",
    "    # Move curr_node (Faster) two steps at a time\n",
    "    # When curr_node reaches at end, middle_node will be at the middle of List \n",
    "    middle_node = lst.head_node # the first element\n",
    "    curr_node = lst.head_node.next_element.next_element # the third element\n",
    "    while curr_node is not None:\n",
    "        middle_node = middle_node.next_element\n",
    "        curr_node = curr_node.next_element\n",
    "        if curr_node is not None: # WHEN LENGTH IS EVEN, in the last run curr_node can move only 1 step before becoming None\n",
    "            curr_node = curr_node.next_element\n",
    "    # when we reach the end of while loop, curr_node becomes the last node and middle_node becomes the middle node of the list\n",
    "    if middle_node is not None:\n",
    "        return middle_node.data\n",
    "        "
   ]
  },
  {
   "cell_type": "code",
   "execution_count": 29,
   "metadata": {},
   "outputs": [
    {
     "name": "stdout",
     "output_type": "stream",
     "text": [
      "List is Empty\n",
      "---------------------\n",
      "21 -> None\n",
      "21\n",
      "---------------------\n",
      "7 -> 14 -> 21 -> None\n",
      "14\n",
      "---------------------\n",
      "7 -> 14 -> 21 -> 28 -> None\n",
      "14\n",
      "---------------------\n"
     ]
    }
   ],
   "source": [
    "lst = LinkedList()\n",
    "lst.print_list()\n",
    "print(\"---------------------\")\n",
    "\n",
    "insertAtHead(lst, 21)\n",
    "lst.print_list()\n",
    "print(find_mid(lst))\n",
    "print(\"---------------------\")\n",
    "\n",
    "insertAtHead(lst, 14)\n",
    "insertAtHead(lst, 7)\n",
    "lst.print_list()\n",
    "print(find_mid(lst))\n",
    "print(\"---------------------\")\n",
    "\n",
    "insertAtTail(lst, 28)\n",
    "lst.print_list()\n",
    "print(find_mid(lst))\n",
    "print(\"---------------------\")"
   ]
  },
  {
   "cell_type": "markdown",
   "metadata": {},
   "source": [
    "## Challenge 8: Remove Duplicates from Linked List"
   ]
  },
  {
   "cell_type": "code",
   "execution_count": 30,
   "metadata": {},
   "outputs": [],
   "source": [
    "def remove_duplicates(lst):\n",
    "    prev_node = None\n",
    "    curr_node = lst.head_node\n",
    "    checked_node = []\n",
    "    while curr_node is not None:\n",
    "        if curr_node.data in checked_node:\n",
    "            prev_node.next_element = curr_node.next_element # connect the prev_node to the next_node and prev_node stays the same\n",
    "        else:\n",
    "            prev_node = curr_node # prev_node changes and gets the value of curr_node\n",
    "        checked_node.append(curr_node.data)\n",
    "        curr_node  = curr_node.next_element # in both cases curr_node updates and gets the value of the next node\n",
    "    return lst \n",
    "            "
   ]
  },
  {
   "cell_type": "code",
   "execution_count": 31,
   "metadata": {},
   "outputs": [
    {
     "name": "stdout",
     "output_type": "stream",
     "text": [
      "7 -> 14 -> 21 -> 14 -> 22 -> 7 -> None\n",
      "---------------------\n",
      "7 -> 14 -> 21 -> 22 -> None\n"
     ]
    }
   ],
   "source": [
    "lst = LinkedList()\n",
    "\n",
    "insertAtHead(lst, 21)\n",
    "insertAtHead(lst, 14)\n",
    "insertAtHead(lst, 7)\n",
    "insertAtTail(lst, 14)\n",
    "insertAtTail(lst, 22)\n",
    "insertAtTail(lst, 7)\n",
    "lst.print_list()\n",
    "print(\"---------------------\")\n",
    "remove_duplicates(lst)\n",
    "lst.print_list()\n"
   ]
  },
  {
   "cell_type": "code",
   "execution_count": 32,
   "metadata": {},
   "outputs": [
    {
     "name": "stdout",
     "output_type": "stream",
     "text": [
      "7 -> 14 -> 21 -> 14 -> 22 -> 7 -> None\n",
      "---------------------\n",
      "7 -> 14 -> 21 -> 22 -> None\n"
     ]
    }
   ],
   "source": [
    "def remove_duplicates(lst):\n",
    "    if lst.is_empty():\n",
    "        return\n",
    "    \n",
    "    outer_node = lst.head_node\n",
    "    while outer_node is not None:\n",
    "        inner_node = outer_node # on each iteration we only need to check outer_node only with the next nodes\n",
    "        # The previous nodes are already checked.\n",
    "        while inner_node is not None:\n",
    "            # we need to have the below check otherwise inner_node.next_element.data produces error on the last element\n",
    "            if inner_node.next_element is not None: \n",
    "                if inner_node.next_element.data == outer_node.data: # if duplicate is found\n",
    "                    inner_node.next_element = inner_node.next_element.next_element\n",
    "                else:\n",
    "                    inner_node = inner_node.next_element\n",
    "            else: # means we're at the last element of the list, so set it to None, exit the inner while loop and goto next outer_node\n",
    "                inner_node = inner_node.next_element\n",
    "        outer_node = outer_node.next_element\n",
    "    return lst\n",
    "    \n",
    "    \n",
    "lst = LinkedList()\n",
    "\n",
    "insertAtHead(lst, 21)\n",
    "insertAtHead(lst, 14)\n",
    "insertAtHead(lst, 7)\n",
    "insertAtTail(lst, 14)\n",
    "insertAtTail(lst, 22)\n",
    "insertAtTail(lst, 7)\n",
    "lst.print_list()\n",
    "print(\"---------------------\")\n",
    "remove_duplicates(lst)\n",
    "lst.print_list()"
   ]
  },
  {
   "cell_type": "code",
   "execution_count": 33,
   "metadata": {},
   "outputs": [
    {
     "data": {
      "text/plain": [
       "7"
      ]
     },
     "execution_count": 33,
     "metadata": {},
     "output_type": "execute_result"
    }
   ],
   "source": [
    "lst.head_node.data"
   ]
  },
  {
   "cell_type": "markdown",
   "metadata": {},
   "source": [
    "## Challenge 9: Union & Intersection of Linked Lists\n",
    "- Given two lists, A and B, the union is the list that contains elements or objects that belong to either A, B, or to both.\n",
    "- Given two lists, A and B, the intersection is the largest list which contains all the elements that are common to both the sets."
   ]
  },
  {
   "cell_type": "code",
   "execution_count": 34,
   "metadata": {},
   "outputs": [
    {
     "name": "stdout",
     "output_type": "stream",
     "text": [
      "15 -> 22 -> 8 -> None\n",
      "---------------------\n",
      "7 -> 14 -> 21 -> None\n",
      "---------------------\n"
     ]
    }
   ],
   "source": [
    "def union(list1, list2):\n",
    "    if list1.is_empty():\n",
    "        return list2\n",
    "    if list2.is_empty():\n",
    "        return list1\n",
    "    curr_node = list1.head_node\n",
    "    while curr_node.next_element is not None:\n",
    "        curr_node = curr_node.next_element\n",
    "    # output of this loop is the last node of list 1\n",
    "    curr_node.next_element = list2.head_node\n",
    "    return remove_duplicates(list1)\n",
    "    \n",
    "    \n",
    "lst1 = LinkedList()\n",
    "\n",
    "insertAtHead(lst1, 8)\n",
    "insertAtHead(lst1, 22)\n",
    "insertAtHead(lst1, 15)\n",
    "lst1.print_list()\n",
    "print(\"---------------------\")\n",
    "\n",
    "lst2  = LinkedList()\n",
    "\n",
    "insertAtTail(lst2, 7)\n",
    "insertAtTail(lst2, 14)\n",
    "insertAtTail(lst2, 21)\n",
    "lst2.print_list()\n",
    "print(\"---------------------\")\n",
    "\n",
    "# remove_duplicates(lst)\n",
    "# lst.print_list()\n",
    "    "
   ]
  },
  {
   "cell_type": "code",
   "execution_count": 35,
   "metadata": {},
   "outputs": [
    {
     "name": "stdout",
     "output_type": "stream",
     "text": [
      "15 -> 22 -> 8 -> 7 -> 14 -> 21 -> None\n"
     ]
    }
   ],
   "source": [
    "union(lst1, lst2).print_list()"
   ]
  },
  {
   "cell_type": "code",
   "execution_count": 36,
   "metadata": {},
   "outputs": [],
   "source": [
    "def intersection(list1, list2):\n",
    "    if list1.is_empty():\n",
    "        return \n",
    "    if list2.is_empty():\n",
    "        return \n",
    "    \n",
    "    curr1 = list1.head_node\n",
    "    curr2 = list2.head_node\n",
    "    \n",
    "    # creating a new linked list to store the intersection\n",
    "    l = LinkedList()\n",
    "    while curr1 is not None: # outer loop\n",
    "        curr2 = list2.head_node # on each iteration of the outer loop, reset the inner loop starting node\n",
    "        while curr2 is not None: # inner loop\n",
    "            if curr2.data == curr1.data:\n",
    "                if l.is_empty(): # when adding the 1st element to the empty list\n",
    "                    l.head_node = Node(curr1.data)\n",
    "                    curr_node = l.head_node\n",
    "                else: # when adding next elements to the new list\n",
    "                    curr_node.next_element = Node(curr1.data)\n",
    "                    curr_node = curr_node.next_element\n",
    "            #l.print_list()\n",
    "            #print(\"data: \", curr2.next_element.data)\n",
    "            curr2 = curr2.next_element # iterating through the next element of the inner loop\n",
    "        # when all elements of inner loop is checked, go to the next element of outerloop\n",
    "        #print(\"1: \",curr1.data)\n",
    "        curr1 = curr1.next_element\n",
    "       \n",
    "    return remove_duplicates(l)\n",
    "        \n",
    "        "
   ]
  },
  {
   "cell_type": "code",
   "execution_count": 37,
   "metadata": {},
   "outputs": [
    {
     "name": "stdout",
     "output_type": "stream",
     "text": [
      "15 -> 22 -> 14 -> 7 -> None\n",
      "---------------------\n",
      "15 -> 14 -> 21 -> 15 -> None\n",
      "---------------------\n",
      "15 -> 14 -> None\n"
     ]
    }
   ],
   "source": [
    "lst1  = LinkedList()\n",
    "\n",
    "insertAtTail(lst1, 15)\n",
    "insertAtTail(lst1, 22)\n",
    "insertAtTail(lst1, 14)\n",
    "insertAtTail(lst1, 7)\n",
    "lst1.print_list()\n",
    "print(\"---------------------\")\n",
    "\n",
    "lst2  = LinkedList()\n",
    "\n",
    "insertAtTail(lst2, 15)\n",
    "insertAtTail(lst2, 14)\n",
    "insertAtTail(lst2, 21)\n",
    "insertAtTail(lst2, 15)\n",
    "lst2.print_list()\n",
    "print(\"---------------------\")\n",
    "\n",
    "\n",
    "intersection(lst1, lst2).print_list()\n"
   ]
  },
  {
   "cell_type": "code",
   "execution_count": null,
   "metadata": {},
   "outputs": [],
   "source": [
    "\n"
   ]
  },
  {
   "cell_type": "code",
   "execution_count": 38,
   "metadata": {},
   "outputs": [
    {
     "name": "stdout",
     "output_type": "stream",
     "text": [
      "15 -> 22 -> 14 -> 7 -> None\n",
      "---------------------\n",
      "15 -> 14 -> 21 -> 15 -> None\n",
      "---------------------\n",
      "14 -> 15 -> None\n"
     ]
    }
   ],
   "source": [
    "def intersection(list1, list2):\n",
    "    if list1.is_empty():\n",
    "        return \n",
    "    if list2.is_empty():\n",
    "        return \n",
    "    l = LinkedList()\n",
    "    \n",
    "    curr_node = list1.head_node\n",
    "    while curr_node is not None:\n",
    "        value = curr_node.data\n",
    "        if search(list2, value) is True:\n",
    "            insertAtHead(l, value)\n",
    "        curr_node = curr_node.next_element\n",
    "    return remove_duplicates(l)\n",
    "            \n",
    "        \n",
    "lst1  = LinkedList()\n",
    "\n",
    "insertAtTail(lst1, 15)\n",
    "insertAtTail(lst1, 22)\n",
    "insertAtTail(lst1, 14)\n",
    "insertAtTail(lst1, 7)\n",
    "lst1.print_list()\n",
    "print(\"---------------------\")\n",
    "\n",
    "lst2  = LinkedList()\n",
    "\n",
    "insertAtTail(lst2, 15)\n",
    "insertAtTail(lst2, 14)\n",
    "insertAtTail(lst2, 21)\n",
    "insertAtTail(lst2, 15)\n",
    "lst2.print_list()\n",
    "print(\"---------------------\")\n",
    "\n",
    "\n",
    "intersection(lst1, lst2).print_list()\n"
   ]
  },
  {
   "cell_type": "markdown",
   "metadata": {},
   "source": [
    "## Challenge 10: Return the Nth node from End\n",
    "- This question asks for the `nth` node not the node at index `n`\n",
    "- `n` strats from `1` and not `0`"
   ]
  },
  {
   "cell_type": "code",
   "execution_count": 54,
   "metadata": {},
   "outputs": [],
   "source": [
    "def find_nth(lst, n):\n",
    "    l =  length(lst) \n",
    "    print(f\"length is : {l}\")\n",
    "    if n < 0 or n > l:\n",
    "        return -1\n",
    "\n",
    "    from_beginning = l - n\n",
    "\n",
    "    if lst.is_empty():\n",
    "        return -1\n",
    "    curr_node = lst.head_node\n",
    "    counter = 0\n",
    "    while curr_node is not None:\n",
    "        if counter == from_beginning:\n",
    "            return curr_node.data\n",
    "        else:\n",
    "            curr_node = curr_node.next_element\n",
    "            counter += 1"
   ]
  },
  {
   "cell_type": "code",
   "execution_count": 55,
   "metadata": {},
   "outputs": [
    {
     "name": "stdout",
     "output_type": "stream",
     "text": [
      "15 -> 22 -> 8 -> 7 -> 14 -> 21 -> None\n",
      "---------------------\n"
     ]
    }
   ],
   "source": [
    "lst = LinkedList()\n",
    "\n",
    "insertAtTail(lst, 15)\n",
    "insertAtTail(lst, 22)\n",
    "insertAtTail(lst, 8)\n",
    "insertAtTail(lst, 7)\n",
    "insertAtTail(lst, 14)\n",
    "insertAtTail(lst, 21)\n",
    "lst1.print_list()\n",
    "print(\"---------------------\")\n"
   ]
  },
  {
   "cell_type": "code",
   "execution_count": 56,
   "metadata": {},
   "outputs": [
    {
     "name": "stdout",
     "output_type": "stream",
     "text": [
      "length is : 6\n"
     ]
    },
    {
     "data": {
      "text/plain": [
       "8"
      ]
     },
     "execution_count": 56,
     "metadata": {},
     "output_type": "execute_result"
    }
   ],
   "source": [
    "find_nth(lst, 4)"
   ]
  },
  {
   "cell_type": "markdown",
   "metadata": {},
   "source": [
    "### Alternate Solution\n",
    "Moving `n` noded from the end is equal to moving `l-n` nodes form the beginning\n",
    "\n",
    "Also we can solve it using 2 pionters:\n",
    "> 1st pointer1 moves `n` node from the beginning `(n)`\n",
    "\n",
    "> After that pointer2 and 1 move silmultaneously\n",
    "\n",
    "> Then both move the remaining nodes `(l-n)`"
   ]
  },
  {
   "cell_type": "code",
   "execution_count": 79,
   "metadata": {},
   "outputs": [
    {
     "name": "stdout",
     "output_type": "stream",
     "text": [
      "15 -> 22 -> 8 -> 7 -> 14 -> 21 -> None\n",
      "---------------------\n",
      "element : 15, counter: 1\n",
      "element : 22, counter: 2\n",
      "element : 8, counter: 3\n",
      "element : 7, counter: 4\n",
      "element : 14, counter: 5\n",
      "element : 21, counter: 6\n",
      "-1\n",
      "---------------------\n",
      "element : 15, counter: 1\n",
      "element : 22, counter: 2\n",
      "element : 8, counter: 3\n",
      "element : 7, counter: 4\n"
     ]
    },
    {
     "data": {
      "text/plain": [
       "8"
      ]
     },
     "execution_count": 79,
     "metadata": {},
     "output_type": "execute_result"
    }
   ],
   "source": [
    "def find_nth(lst, n):\n",
    "    if lst.is_empty():\n",
    "        return -1\n",
    "    \n",
    "    end_node = lst.head_node # This iterator will reach the end of the list\n",
    "    nth_node = lst.head_node  # This iterator will reach the Nth node\n",
    "    counter = 0\n",
    "\n",
    "    while end_node is not None:\n",
    "        counter += 1 # 1st element has counter 1 and not 0\n",
    "        print(f\"element : {end_node.data}, counter: {counter}\")\n",
    "        if counter == n: # when reaching the nth node from the beginning (n traversed, l-n is left)\n",
    "            break\n",
    "        end_node = end_node.next_element\n",
    "        \n",
    "    if end_node is None: # when we've reached the end of the list without reaching nth node from the beginning (n > length)\n",
    "        return -1\n",
    "        \n",
    "    while end_node.next_element is not None: # as king as there is one more node than the current node update both nodes\n",
    "        end_node = end_node.next_element\n",
    "        nth_node = nth_node.next_element \n",
    "        \n",
    "    return nth_node.data      \n",
    "\n",
    "lst = LinkedList()\n",
    "\n",
    "insertAtTail(lst, 15)\n",
    "insertAtTail(lst, 22)\n",
    "insertAtTail(lst, 8)\n",
    "insertAtTail(lst, 7)\n",
    "insertAtTail(lst, 14)\n",
    "insertAtTail(lst, 21)\n",
    "lst1.print_list()\n",
    "print(\"---------------------\")\n",
    "\n",
    "print(find_nth(lst, 8))\n",
    "print(\"---------------------\")\n",
    "\n",
    "find_nth(lst, 4)"
   ]
  },
  {
   "cell_type": "code",
   "execution_count": null,
   "metadata": {},
   "outputs": [],
   "source": []
  },
  {
   "cell_type": "code",
   "execution_count": null,
   "metadata": {},
   "outputs": [],
   "source": []
  }
 ],
 "metadata": {
  "kernelspec": {
   "display_name": "Python 3",
   "language": "python",
   "name": "python3"
  },
  "language_info": {
   "codemirror_mode": {
    "name": "ipython",
    "version": 3
   },
   "file_extension": ".py",
   "mimetype": "text/x-python",
   "name": "python",
   "nbconvert_exporter": "python",
   "pygments_lexer": "ipython3",
   "version": "3.7.4"
  }
 },
 "nbformat": 4,
 "nbformat_minor": 2
}
