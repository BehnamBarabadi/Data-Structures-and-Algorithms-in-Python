{
 "cells": [
  {
   "cell_type": "markdown",
   "metadata": {},
   "source": [
    "# **Binary Search Tree**\n",
    "- Always left child is smaller than parent and right child is greater "
   ]
  },
  {
   "cell_type": "code",
   "execution_count": 12,
   "metadata": {
    "scrolled": true
   },
   "outputs": [
    {
     "data": {
      "text/html": [
       "<style>.container { width:83% !important; }</style>"
      ],
      "text/plain": [
       "<IPython.core.display.HTML object>"
      ]
     },
     "metadata": {},
     "output_type": "display_data"
    }
   ],
   "source": [
    "from IPython.core.display import display, HTML\n",
    "display(HTML(\"<style>.container { width:83% !important; }</style>\"))"
   ]
  },
  {
   "cell_type": "markdown",
   "metadata": {},
   "source": [
    "### Attention!\n",
    "- Trees don't have a list of all nodes (unlike Graphs) because each node has maximom 2 children so we don't needa seperate list to keep track of all nodes\n",
    "- Linkedlists also don't have an elemenets list"
   ]
  },
  {
   "cell_type": "markdown",
   "metadata": {},
   "source": [
    "<img src=\"images\\binary_search_tree.jpg\" width=\"500\" >"
   ]
  },
  {
   "cell_type": "markdown",
   "metadata": {},
   "source": [
    "## My Approach"
   ]
  },
  {
   "cell_type": "code",
   "execution_count": 3,
   "metadata": {},
   "outputs": [],
   "source": [
    "class Node(object):\n",
    "    def __init__(self, value):\n",
    "        self.value = value\n",
    "        self.left = None\n",
    "        self.right = None \n",
    "\n",
    "class BST(object):\n",
    "    def __init__(self, root):\n",
    "        self.root = Node(root)\n",
    "\n",
    "    def insert(self, new_val):\n",
    "        self.insert_helper(self.root, new_val)\n",
    "\n",
    "    def insert_helper(self, current_node, new_val):\n",
    "        if new_val < current_node.value: # go to the left\n",
    "            if current_node.left is None: # Base Case: when the current_node has no left child\n",
    "                current_node.left = Node(new_val)\n",
    "            else:\n",
    "                return self.insert_helper(current_node.left, new_val)\n",
    "            \n",
    "        if new_val >= current_node.value: # go to the right\n",
    "            if current_node.right is None: # Base Case: when the current_node has no right child\n",
    "                current_node.right = Node(new_val)\n",
    "            else:\n",
    "                return self.insert_helper(current_node.right, new_val)\n",
    "\n",
    "\n",
    "    def search(self, val): \n",
    "        return self.preorder_search(self.root, val)\n",
    "    \n",
    "    def preorder_search(self, current_node, val): # recusrsive serach\n",
    "        if current_node is None: # base case 1\n",
    "            return False\n",
    "        elif current_node.value == val: # base case 2\n",
    "            return True\n",
    "        else:\n",
    "            return self.preorder_search(current_node.left, val) or self.preorder_search(current_node.right, val)\n",
    "                \n",
    "        \n",
    "    def print(self):\n",
    "        return self.inorder_print(self.root)\n",
    "    \n",
    "    def inorder_print(self, current_node):\n",
    "        if current_node is None: # base case \n",
    "            return ''\n",
    "        else:\n",
    "            traverse = ' '\n",
    "            traverse += str(current_node.value)\n",
    "            traverse += self.inorder_print(current_node.left)\n",
    "            traverse += self.inorder_print(current_node.right)\n",
    "        return traverse\n",
    "    "
   ]
  },
  {
   "cell_type": "code",
   "execution_count": 4,
   "metadata": {
    "scrolled": true
   },
   "outputs": [
    {
     "name": "stdout",
     "output_type": "stream",
     "text": [
      "True\n",
      "True\n",
      "False\n",
      " 4 2 1 3 6 5\n"
     ]
    }
   ],
   "source": [
    "# Set up tree\n",
    "tree = BST(4)\n",
    "\n",
    "# Insert elements\n",
    "tree.insert(2)\n",
    "#print(tree.print_tree())\n",
    "tree.insert(1)\n",
    "#print(tree.print_tree())\n",
    "tree.insert(3)\n",
    "#print(tree.print_tree())\n",
    "tree.insert(6)\n",
    "#print(tree.print_tree())\n",
    "tree.insert(5)\n",
    "#print(tree.print_tree())\n",
    "\n",
    "# Check search\n",
    "# Should be True\n",
    "print (tree.search(4))\n",
    "       \n",
    "# # Should be False\n",
    "print (tree.search(6))\n",
    "print (tree.search(9))\n",
    "print(tree.print())"
   ]
  },
  {
   "cell_type": "markdown",
   "metadata": {},
   "source": [
    "## Udacity"
   ]
  },
  {
   "cell_type": "code",
   "execution_count": 16,
   "metadata": {},
   "outputs": [],
   "source": [
    "class Node(object):\n",
    "    def __init__(self, value):\n",
    "        self.value = value\n",
    "        self.left = None\n",
    "        self.right = None \n",
    "    "
   ]
  },
  {
   "cell_type": "code",
   "execution_count": 21,
   "metadata": {},
   "outputs": [],
   "source": [
    "class BST(object):\n",
    "    def __init__(self, root):\n",
    "        self.root = Node(root)\n",
    "\n",
    "    def insert(self, new_val):\n",
    "        self.insert_helper(self.root, new_val)\n",
    "\n",
    "    def insert_helper(self, current, new_val):\n",
    "        if current.value < new_val:\n",
    "            if current.right is not None:\n",
    "                self.insert_helper(current.right, new_val)\n",
    "            else:  # Base condition (if current.right is not None)\n",
    "                current.right = Node(new_val) # answer to the Base condition\n",
    "        else:\n",
    "            if current.left is not None: # Base condition\n",
    "                self.insert_helper(current.left, new_val)\n",
    "            else:\n",
    "                current.left = Node(new_val) # answer to the Base condition\n",
    "\n",
    "    def search(self, find_val):\n",
    "        return self.preorder_search(self.root, find_val)\n",
    "\n",
    "    def preorder_search(self, current, find_val):\n",
    "        if current:\n",
    "            if current.value == find_val:\n",
    "                return True\n",
    "            elif current.value < find_val:\n",
    "                return self.preorder_search(current.right, find_val)\n",
    "            else:\n",
    "                return self.preorder_search(current.left, find_val)\n",
    "        return False\n",
    "    \n",
    "    def print_tree(self):\n",
    "      return self.print_preorder(self.root)\n",
    "\n",
    "    def print_preorder(self, start):\n",
    "        traverse = ''\n",
    "        if start:\n",
    "            traverse = str(start.value) + ' '\n",
    "            traverse += self.print_preorder(start.left)\n",
    "            traverse += self.print_preorder(start.right)\n",
    "        return traverse\n",
    "        \n",
    "        "
   ]
  },
  {
   "cell_type": "code",
   "execution_count": 22,
   "metadata": {},
   "outputs": [
    {
     "name": "stdout",
     "output_type": "stream",
     "text": [
      "True\n",
      "True\n",
      "False\n",
      "4 2 1 3 6 5 \n"
     ]
    }
   ],
   "source": [
    "# Set up tree\n",
    "tree = BST(4)\n",
    "\n",
    "# Insert elements\n",
    "tree.insert(2)\n",
    "#print(tree.print_tree())\n",
    "tree.insert(1)\n",
    "#print(tree.print_tree())\n",
    "tree.insert(3)\n",
    "#print(tree.print_tree())\n",
    "tree.insert(6)\n",
    "#print(tree.print_tree())\n",
    "tree.insert(5)\n",
    "#print(tree.print_tree())\n",
    "\n",
    "# Check search\n",
    "# Should be True\n",
    "print (tree.search(4))\n",
    "       \n",
    "# # Should be False\n",
    "print (tree.search(6))\n",
    "print (tree.search(9))\n",
    "print(tree.print_tree())"
   ]
  },
  {
   "cell_type": "code",
   "execution_count": null,
   "metadata": {},
   "outputs": [],
   "source": []
  },
  {
   "cell_type": "code",
   "execution_count": null,
   "metadata": {},
   "outputs": [],
   "source": []
  }
 ],
 "metadata": {
  "kernelspec": {
   "display_name": "Python 3",
   "language": "python",
   "name": "python3"
  },
  "language_info": {
   "codemirror_mode": {
    "name": "ipython",
    "version": 3
   },
   "file_extension": ".py",
   "mimetype": "text/x-python",
   "name": "python",
   "nbconvert_exporter": "python",
   "pygments_lexer": "ipython3",
   "version": "3.7.4"
  }
 },
 "nbformat": 4,
 "nbformat_minor": 2
}
