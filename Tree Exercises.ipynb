{
 "cells": [
  {
   "cell_type": "markdown",
   "metadata": {},
   "source": [
    "# **Tree Exercises**"
   ]
  },
  {
   "cell_type": "code",
   "execution_count": 1,
   "metadata": {},
   "outputs": [
    {
     "data": {
      "text/html": [
       "<style>.container { width:83% !important; }</style>"
      ],
      "text/plain": [
       "<IPython.core.display.HTML object>"
      ]
     },
     "metadata": {},
     "output_type": "display_data"
    }
   ],
   "source": [
    "from IPython.core.display import display, HTML\n",
    "display(HTML(\"<style>.container { width:83% !important; }</style>\"))"
   ]
  },
  {
   "cell_type": "markdown",
   "metadata": {},
   "source": [
    "Refer to this course for eplanation:\n",
    "- https://www.educative.io/courses/ds-and-algorithms-in-python/mEmPJBmWqWr"
   ]
  },
  {
   "cell_type": "code",
   "execution_count": 2,
   "metadata": {},
   "outputs": [],
   "source": [
    "class Node():\n",
    "    def __init__(self, value):\n",
    "        self.value = value\n",
    "        self.right = None\n",
    "        self.left = None"
   ]
  },
  {
   "cell_type": "code",
   "execution_count": 3,
   "metadata": {},
   "outputs": [
    {
     "name": "stdout",
     "output_type": "stream",
     "text": [
      "preorder_print: \n",
      " 1 2 4 5 3 6 7\n",
      "*****************\n",
      "\n",
      "inorder_print: \n",
      "4 2 5 1 6 3 7 \n",
      "*****************\n",
      "\n",
      "inorder_print: \n",
      "4 5 2 6 7 3 1 \n",
      "*****************\n",
      "\n",
      "levelorder_print: \n",
      "1 2 3 4 5 6 7 \n",
      "*****************\n",
      "\n",
      "reverse_levelorder_print: \n",
      "4 5 6 7 2 3 1 \n",
      "*****************\n",
      "\n",
      "height: \n",
      "2\n",
      "*****************\n",
      "\n",
      "size_recursive: \n",
      "7\n",
      "*****************\n",
      "\n",
      "size_iterative: \n",
      "7\n",
      "*****************\n",
      "\n",
      "search 7: \n",
      "True\n",
      "*****************\n",
      "\n",
      "insert X, y, z: \n",
      "None\n",
      "None\n",
      "None\n",
      "*****************\n",
      "\n",
      "search N: \n",
      "False\n",
      "*****************\n",
      "\n",
      "preorder_print: \n",
      " 1 2 4 X Y 5 Z 3 6 7\n",
      "*****************\n",
      "\n",
      "insert N: \n",
      "None\n",
      "*****************\n",
      "\n",
      "search N: \n",
      "True\n",
      "*****************\n",
      "\n"
     ]
    }
   ],
   "source": [
    "class BinaryTree():\n",
    "    def __init__ (self, root_val):\n",
    "        self.root = Node(root_val)\n",
    "        \n",
    "    def preorder_print(self, start_node):\n",
    "        if start_node is None: # Base Case\n",
    "            return ''\n",
    "        else:\n",
    "            traversal = ' '\n",
    "            traversal += str(start_node.value) \n",
    "            traversal += self.preorder_print(start_node.left)\n",
    "            traversal += self.preorder_print(start_node.right)\n",
    "        return traversal\n",
    "    \n",
    "    def inorder_print(self, start_node):\n",
    "        if start_node is None:  # base case\n",
    "            return ''\n",
    "        else:\n",
    "            traversal = ''\n",
    "            traversal += self.inorder_print(start_node.left)\n",
    "            traversal += str(start_node.value) + ' '\n",
    "            traversal += self.inorder_print(start_node.right)\n",
    "        return traversal\n",
    "    \n",
    "    def postorder_print(self, start_node):\n",
    "        if start_node is None:\n",
    "            return ''\n",
    "        else:\n",
    "            traversal = ''\n",
    "            traversal += self.postorder_print(start_node.left)\n",
    "            traversal += self.postorder_print(start_node.right)\n",
    "            traversal += str(start_node.value) + ' '\n",
    "        return traversal\n",
    "    \n",
    "    def levelorder_print(self, start_node):\n",
    "        # BFS, WE NEED TO USE A QUEUE\n",
    "        from collections import deque\n",
    "        q = deque() # q is a queue\n",
    "        \n",
    "        if start_node is None: \n",
    "            return\n",
    "        traversal = ''\n",
    "        q.append(start_node)\n",
    "        while len(q) != 0:\n",
    "            top_ele = q.popleft() # deque the oldest element\n",
    "            traversal += str(top_ele.value) + ' '\n",
    "            if top_ele.left is not None:\n",
    "                q.append(top_ele.left)\n",
    "            if top_ele.right is not None:\n",
    "                q.append(top_ele.right)\n",
    "        return traversal\n",
    "    \n",
    "    \n",
    "    def reverse_levelorder_print(self, start_node):\n",
    "        if start_node is None:\n",
    "            return\n",
    "        # WE NEED TO USE A QUEUE AND A STACK\n",
    "        from collections import deque\n",
    "        q = deque()\n",
    "        s = deque()\n",
    "        \n",
    "        q.append(start_node)\n",
    "        traversal = ''\n",
    "        while len(q) != 0:\n",
    "            top_ele = q.popleft() # pop the top element of the que\n",
    "            s.append(top_ele) # push it to stack\n",
    "            if top_ele.right is not None: # enqueue the right node first if it's not None\n",
    "                q.append(top_ele.right)\n",
    "            if top_ele.left is not None: # enqueue the left node then if it's not None\n",
    "                q.append(top_ele.left)\n",
    "            \n",
    "        while len(s) != 0: # stack now has all the nodes but in reversed order\n",
    "            traversal += str(s.pop().value) + \" \"\n",
    "            \n",
    "        return traversal\n",
    "    \n",
    "    def height(self, start_node):\n",
    "    # Recursively defined, the height of a node is one greater than the max of its right and left children’s height\n",
    "        if start_node is None:\n",
    "            return -1 # The parent of None objects are the leaf nodes with height of 0\n",
    "        # h in each stage is 1 + max of left and right height \n",
    "        h = 1 + max(self.height(start_node.left), self.height(start_node.right))\n",
    "        return h\n",
    "    \n",
    "    \n",
    "    def size_recursive(self, start_node):\n",
    "        #The size of the tree is the total number of nodes in a tree\n",
    "        if start_node is None:\n",
    "            return 0\n",
    "        else:\n",
    "            c = 1 # this is for the currect node\n",
    "            c += self.size_recursive(start_node.left) # add 1 for the left node if it's not None\n",
    "            c += self.size_recursive(start_node.right) # add 1 for the right node if it's not None\n",
    "        return c\n",
    "        \n",
    "            \n",
    "    def size_iterative(self, start_node):\n",
    "        #The size of the tree is the total number of nodes in a tree\n",
    "        if start_node is None:\n",
    "            return -1\n",
    "\n",
    "        from collections import deque\n",
    "        s = deque() # we can use a stack or queue, doesn't make any difference\n",
    "        s.append(start_node)\n",
    "        c = 1\n",
    "        while len(s) != 0:\n",
    "            top_ele = s.pop()\n",
    "            if top_ele.left is not None:\n",
    "                s.append(top_ele.left)\n",
    "                c += 1\n",
    "            if top_ele.right is not None:\n",
    "                s.append(top_ele.right)\n",
    "                c += 1\n",
    "        return c\n",
    "            \n",
    "\n",
    "    def search(self, start_node, val):\n",
    "        if start_node is None: # base case 1\n",
    "            return False\n",
    "        elif start_node.value == val: # base case 2\n",
    "            return True\n",
    "        else:\n",
    "            return self.search(start_node.left, val) or self.search(start_node.right, val)\n",
    "                                                                    \n",
    "        \n",
    "#     def insert(self, new_val):\n",
    "#         self.insert_helper(self.root, new_val)\n",
    "\n",
    "    def insert_levelorder(self, start_node, new_val):       \n",
    "        #level order insertion using queue\n",
    "        if start_node is None: # Base Case: when the current_node has no left child\n",
    "            start_node = Node(new_val)\n",
    "            return\n",
    "\n",
    "        from collections import deque\n",
    "        q = deque()\n",
    "        q.append(start_node)\n",
    "        while len(q) != 0:\n",
    "            oldest_ele = q.popleft()\n",
    "            if oldest_ele.left is None:\n",
    "                oldest_ele.left = Node(new_val)\n",
    "                break\n",
    "            else:\n",
    "                q.append(oldest_ele.left)\n",
    "            if oldest_ele.right is None:\n",
    "                oldest_ele.right = Node(new_val)\n",
    "                break\n",
    "            else:\n",
    "                q.append(oldest_ele.right)\n",
    "                \n",
    "    def insert_atleft(self, start_node, new_val):       \n",
    "        #adding new node as a left child\n",
    "        #if new_val < current_node.value: # go to the left\n",
    "        if start_node.left is None: # Base Case: when the current_node has no left child\n",
    "            start_node.left = Node(new_val)\n",
    "        else:\n",
    "            #print('start_node.left.value:', start_node.left.value )\n",
    "            return self.insert_atleft(start_node.left, new_val)        \n",
    "\n",
    "        \n",
    "            \n",
    "                                                                    \n",
    "    \n",
    "\n",
    "#               1\n",
    "#            /    \\  \n",
    "#          2       3  \n",
    "#        /  \\    /  \\\n",
    "#       4    5  6    7 \n",
    "    \n",
    "tree = BinaryTree(1)\n",
    "tree.root.left = Node(2)\n",
    "tree.root.right = Node(3)\n",
    "tree.root.left.left = Node(4)\n",
    "tree.root.left.right = Node(5)\n",
    "tree.root.right.left = Node(6)\n",
    "tree.root.right.right = Node(7)\n",
    "\n",
    "print(\"preorder_print: \")\n",
    "print(tree.preorder_print(tree.root))\n",
    "print('*****************')\n",
    "print()\n",
    "\n",
    "\n",
    "print(\"inorder_print: \")\n",
    "print(tree.inorder_print(tree.root))\n",
    "print('*****************')\n",
    "print()\n",
    "\n",
    "print(\"inorder_print: \")\n",
    "print(tree.postorder_print(tree.root))\n",
    "print('*****************')\n",
    "print()\n",
    "\n",
    "print(\"levelorder_print: \")\n",
    "print(tree.levelorder_print(tree.root))\n",
    "print('*****************')\n",
    "print()\n",
    "\n",
    "print(\"reverse_levelorder_print: \")\n",
    "print(tree.reverse_levelorder_print(tree.root))\n",
    "print('*****************')\n",
    "print()\n",
    "\n",
    "\n",
    "print(\"height: \")\n",
    "print(tree.height(tree.root))\n",
    "print('*****************')\n",
    "print()\n",
    "\n",
    "print(\"size_recursive: \")\n",
    "print(tree.size_recursive(tree.root))\n",
    "print('*****************')\n",
    "print()\n",
    "\n",
    "\n",
    "print(\"size_iterative: \")\n",
    "print(tree.size_iterative(tree.root))\n",
    "print('*****************')\n",
    "print()\n",
    "\n",
    "n = 7\n",
    "print(f\"search {n}: \")\n",
    "print(tree.search(tree.root, n))\n",
    "print('*****************')\n",
    "print()\n",
    "\n",
    "val = 'X, y, z'\n",
    "print(f\"insert {val}: \")\n",
    "print(tree.insert_levelorder(tree.root, 'X'))\n",
    "print(tree.insert_levelorder(tree.root, 'Y'))\n",
    "print(tree.insert_levelorder(tree.root, 'Z'))\n",
    "print('*****************')\n",
    "print()\n",
    "\n",
    "\n",
    "val = 'N'\n",
    "print(f\"search {val}: \")\n",
    "print(tree.search(tree.root, val))\n",
    "print('*****************')\n",
    "print()\n",
    "\n",
    "print(\"preorder_print: \")\n",
    "print(tree.preorder_print(tree.root))\n",
    "print('*****************')\n",
    "print()\n",
    "\n",
    "print(f\"insert {'N'}: \")\n",
    "print(tree.insert_atleft(tree.root, 'N'))\n",
    "print('*****************')\n",
    "print()\n",
    "\n",
    "n = 'N'\n",
    "print(f\"search {n}: \")\n",
    "print(tree.search(tree.root, n))\n",
    "print('*****************')\n",
    "print()\n"
   ]
  },
  {
   "cell_type": "markdown",
   "metadata": {},
   "source": [
    "---"
   ]
  },
  {
   "cell_type": "markdown",
   "metadata": {},
   "source": [
    "# **BST**"
   ]
  },
  {
   "cell_type": "code",
   "execution_count": 4,
   "metadata": {},
   "outputs": [],
   "source": [
    "class Node():\n",
    "    def __init__(self, val):\n",
    "        self.value = val\n",
    "        self.left = None\n",
    "        self.right = None\n",
    "        \n",
    "        \n",
    "class BST():\n",
    "    def __init__(self, val):\n",
    "        self.root = Node(val)\n",
    "    \n",
    "    \n",
    "    def insert(self, start_node, val):\n",
    "        if start_node is None:\n",
    "            start_node = Node(val)\n",
    "            \n",
    "        if val < start_node.value:\n",
    "            if start_node.left is None:\n",
    "                start_node.left = Node(val)\n",
    "            else:\n",
    "                self.insert(start_node.left, val)\n",
    "                \n",
    "        if val >= start_node.value:\n",
    "            if start_node.right is None:\n",
    "                start_node.right = Node(val)\n",
    "            else:\n",
    "                self.insert(start_node.right, val)\n",
    "                \n",
    "                \n",
    "    def levelorder_search(self, start_node, val):\n",
    "        # levelorder is BFS and we need to use a queue\n",
    "        if start_node is None:\n",
    "            return False\n",
    "        from collections import deque\n",
    "        q = deque()\n",
    "        q.append(start_node)\n",
    "        while len(q) > 0:\n",
    "            oldest_ele = q.popleft()\n",
    "            if oldest_ele.value == val:\n",
    "                return True\n",
    "            if oldest_ele.left is not None:\n",
    "                q.append(oldest_ele.left)\n",
    "            if oldest_ele.right is not None:\n",
    "                q.append(oldest_ele.right)\n",
    "            \n",
    "        return False\n",
    "        \n",
    "            \n",
    "    def levelorder_print(self, start_node):\n",
    "        from collections import deque\n",
    "        q = deque()\n",
    "        q.append(start_node)\n",
    "        traversal = ''\n",
    "        while len(q) != 0:\n",
    "            oldest_ele = q.popleft()\n",
    "            traversal += str(oldest_ele.value) + \" \"\n",
    "            if oldest_ele.left is not None:\n",
    "                q.append(oldest_ele.left)\n",
    "            if oldest_ele.right is not None:\n",
    "                q.append(oldest_ele.right)\n",
    "        return traversal\n",
    "    \n",
    "    def inorder_print(self, start_node):\n",
    "        if start_node is None:  # base case\n",
    "            return ''\n",
    "        else:\n",
    "            traversal = ''\n",
    "            traversal += self.inorder_print(start_node.left)\n",
    "            traversal += str(start_node.value) + ' '\n",
    "            traversal += self.inorder_print(start_node.right)\n",
    "        return traversal"
   ]
  },
  {
   "cell_type": "code",
   "execution_count": 5,
   "metadata": {},
   "outputs": [
    {
     "name": "stdout",
     "output_type": "stream",
     "text": [
      "preorder_print: \n",
      "100 50 200 25 125 350 \n",
      "*****************\n",
      "\n",
      "preorder_print: \n",
      "100 50 200 25 90 125 350 \n",
      "*****************\n",
      "\n",
      "preorder_print: \n",
      "100 50 200 25 90 125 350 0 400 \n",
      "*****************\n",
      "\n"
     ]
    }
   ],
   "source": [
    "#              100\n",
    "#            /    \\  \n",
    "#          50     200  \n",
    "#         /      /  \\\n",
    "#       25     125   350 \n",
    "    \n",
    "tree = BST(100)\n",
    "tree.root.left = Node(50)\n",
    "tree.root.right = Node(200)\n",
    "tree.root.left.left = Node(25)\n",
    "#tree1.root.left.right = Node(25)\n",
    "tree.root.right.left = Node(125)\n",
    "tree.root.right.right = Node(350)\n",
    "print(\"preorder_print: \")\n",
    "print(tree.levelorder_print(tree.root))\n",
    "print('*****************')\n",
    "print()\n",
    "\n",
    "\n",
    "\n",
    "tree.insert(tree.root, 90)\n",
    "#              100\n",
    "#            /    \\  \n",
    "#          50     200  \n",
    "#         / \\     /  \\\n",
    "#       25  90   125   350 \n",
    "print(\"preorder_print: \")\n",
    "print(tree.levelorder_print(tree.root))\n",
    "print('*****************')\n",
    "print()\n",
    "\n",
    "\n",
    "tree.insert(tree.root, 0)\n",
    "tree.insert(tree.root, 400)\n",
    "#              100\n",
    "#            /    \\  \n",
    "#          50     200  \n",
    "#         / \\     / \\\n",
    "#       25  90  125  350 \n",
    "#      /             \\\n",
    "#     0              400  \n",
    "print(\"preorder_print: \")\n",
    "print(tree.levelorder_print(tree.root))\n",
    "print('*****************')\n",
    "print()\n"
   ]
  },
  {
   "cell_type": "code",
   "execution_count": 6,
   "metadata": {},
   "outputs": [
    {
     "name": "stdout",
     "output_type": "stream",
     "text": [
      "preorder_print: \n",
      "0 25 50 90 100 125 200 350 400 \n",
      "*****************\n",
      "\n"
     ]
    }
   ],
   "source": [
    "print(\"preorder_print: \")\n",
    "print(tree.inorder_print(tree.root))\n",
    "print('*****************')\n",
    "print()\n"
   ]
  },
  {
   "cell_type": "code",
   "execution_count": 7,
   "metadata": {},
   "outputs": [
    {
     "name": "stdout",
     "output_type": "stream",
     "text": [
      "levelorder_search 350\n",
      "True\n",
      "*****************\n",
      "\n",
      "levelorder_search 35\n",
      "False\n",
      "*****************\n",
      "\n"
     ]
    }
   ],
   "source": [
    "val = 350\n",
    "print(f\"levelorder_search {val}\")\n",
    "print(tree.levelorder_search(tree.root, val))\n",
    "print('*****************')\n",
    "print()\n",
    "\n",
    "val = 35\n",
    "print(f\"levelorder_search {val}\")\n",
    "print(tree.levelorder_search(tree.root, val))\n",
    "print('*****************')\n",
    "print()"
   ]
  },
  {
   "cell_type": "markdown",
   "metadata": {},
   "source": [
    "## Exercise: Checking the BST property\n",
    "- If a tree is BST, leverorder print is sorted from small to large"
   ]
  },
  {
   "cell_type": "code",
   "execution_count": 8,
   "metadata": {},
   "outputs": [],
   "source": [
    "def is_bst(curr_node):\n",
    "    return is_bst_helper(curr_node)\n",
    "\n",
    "def is_bst_helper(curr_node, lower = float('-inf'), upper = float('inf')):\n",
    "    if curr_node is None: # Base case\n",
    "        return True\n",
    "    # each node needs an lower and upper limit\n",
    "    #print(\"lower\", lower, \"upper\", upper)\n",
    "    if curr_node.value > upper or curr_node.value < lower:\n",
    "        return False\n",
    "    \n",
    "    # if both return True, the result would be True\n",
    "    # When checking the left Node: the value decreases so we have a NEW MAX but minimum remains the same as the parent node\n",
    "    # When checking the right Node: the value increases so we have a NEW MIN but maximum remains the same as the parent node\n",
    "    return is_bst_helper(curr_node.left, lower, curr_node.value) and is_bst_helper(curr_node.right, curr_node.value, upper)\n",
    "    \n",
    "    "
   ]
  },
  {
   "cell_type": "code",
   "execution_count": 9,
   "metadata": {},
   "outputs": [
    {
     "name": "stdout",
     "output_type": "stream",
     "text": [
      "preorder_print: \n",
      "0 25 50 90 100 125 200 350 400 \n",
      "*****************\n",
      "\n",
      "Is BST: \n"
     ]
    },
    {
     "data": {
      "text/plain": [
       "True"
      ]
     },
     "execution_count": 9,
     "metadata": {},
     "output_type": "execute_result"
    }
   ],
   "source": [
    "#              100\n",
    "#            /    \\  \n",
    "#          50      200  \n",
    "#         / \\     /  \\\n",
    "#       25  90  125   350 \n",
    "#      /               \\\n",
    "#     0                 400  \n",
    "\n",
    "print(\"preorder_print: \")\n",
    "print(tree.inorder_print(tree.root))\n",
    "print('*****************')\n",
    "print()\n",
    "\n",
    "print(\"Is BST: \")\n",
    "is_bst(tree.root)"
   ]
  },
  {
   "cell_type": "code",
   "execution_count": 10,
   "metadata": {
    "scrolled": false
   },
   "outputs": [
    {
     "name": "stdout",
     "output_type": "stream",
     "text": [
      "preorder_print: \n",
      "2 4 3 8 10 \n",
      "*****************\n",
      "\n",
      "Is BST: \n"
     ]
    },
    {
     "data": {
      "text/plain": [
       "False"
      ]
     },
     "execution_count": 10,
     "metadata": {},
     "output_type": "execute_result"
    }
   ],
   "source": [
    "#              4\n",
    "#            /  \\  \n",
    "#          2     8  \n",
    "#               / \\\n",
    "#              3   10 \n",
    "\n",
    "bst = BST(4)\n",
    "bst.root.left = Node(2)\n",
    "bst.root.right = Node(8)\n",
    "bst.root.right.left = Node(3)\n",
    "bst.root.right.right = Node(10)\n",
    "\n",
    "print(\"preorder_print: \")\n",
    "print(bst.inorder_print(bst.root))\n",
    "print('*****************')\n",
    "print()\n",
    "print(\"Is BST: \")\n",
    "is_bst(bst.root)"
   ]
  },
  {
   "cell_type": "markdown",
   "metadata": {},
   "source": [
    "## Challenge: Check if Two Binary Trees are Identical"
   ]
  },
  {
   "cell_type": "code",
   "execution_count": 11,
   "metadata": {},
   "outputs": [],
   "source": [
    "def are_identical(root1, root2):\n",
    "    # USING DFS PREORDER SEARCH ALGO RECURSIVEly\n",
    "    if root1 is None and root2 is None:\n",
    "        return True\n",
    "    elif root1 is not None and root2 is not None:\n",
    "        # root1.value == root2.value must be inside return because root.value might not exist (if root is Nine)\n",
    "        # because of the 'and' operator, if one of these become False, the result would be False\n",
    "        return root1.value == root2.value and are_identical(root1.left, root2.left) and are_identical(root1.right, root2.right)\n",
    "    else:\n",
    "        return False # when one is None and the other is Not none"
   ]
  },
  {
   "cell_type": "code",
   "execution_count": 12,
   "metadata": {},
   "outputs": [
    {
     "name": "stdout",
     "output_type": "stream",
     "text": [
      "preorder_print: \n",
      "100 50 200 25 125 350 \n",
      "*****************\n",
      "\n",
      "preorder_print: \n",
      "100 50 200 25 125 350 \n",
      "*****************\n",
      "\n",
      "Are they identical?\n",
      "False\n"
     ]
    }
   ],
   "source": [
    "#              100\n",
    "#            /    \\  \n",
    "#          50      200  \n",
    "#           \\     /  \\\n",
    "#           25  125   350 \n",
    "    \n",
    "tree1 = BinaryTree(100)\n",
    "tree1.root.left = Node(50)\n",
    "tree1.root.right = Node(200)\n",
    "#tree.root.left.left = Node(4)\n",
    "tree1.root.left.right = Node(25)\n",
    "tree1.root.right.left = Node(125)\n",
    "tree1.root.right.right = Node(350)\n",
    "print(\"preorder_print: \")\n",
    "print(tree.levelorder_print(tree1.root))\n",
    "print('*****************')\n",
    "print()\n",
    "\n",
    "\n",
    "\n",
    "#              100\n",
    "#            /    \\  \n",
    "#          50     200  \n",
    "#         /      /  \\\n",
    "#       25     125   350 \n",
    "    \n",
    "tree2 = BinaryTree(100)\n",
    "tree2.root.left = Node(50)\n",
    "tree2.root.right = Node(200)\n",
    "tree2.root.left.left = Node(25)\n",
    "#tree1.root.left.right = Node(25)\n",
    "tree2.root.right.left = Node(125)\n",
    "tree2.root.right.right = Node(350)\n",
    "print(\"preorder_print: \")\n",
    "print(tree.levelorder_print(tree2.root))\n",
    "print('*****************')\n",
    "print()\n",
    "\n",
    "print(\"Are they identical?\")\n",
    "print(are_identical(tree1.root, tree2.root))\n",
    "\n"
   ]
  },
  {
   "cell_type": "code",
   "execution_count": 13,
   "metadata": {},
   "outputs": [
    {
     "name": "stdout",
     "output_type": "stream",
     "text": [
      "The trees are not identical\n"
     ]
    }
   ],
   "source": [
    "bst = BST(4)\n",
    "bst.root.left = Node(2)\n",
    "bst.root.right = Node(8)\n",
    "bst.root.right.left = Node(3)\n",
    "bst.root.right.right = Node(10)\n",
    "\n",
    "bst2 = BST(4)\n",
    "bst2.root.left = Node(2)\n",
    "bst2.root.right = Node(8)\n",
    "bst2.root.right.left = Node(5)\n",
    "bst2.root.right.right = Node(10)\n",
    "#bst2.root.left.left = Node(1)\n",
    "\n",
    "if(are_identical(bst.root, bst2.root)):\n",
    "  print(\"The trees are identical\")\n",
    "else:\n",
    "  print(\"The trees are not identical\")"
   ]
  },
  {
   "cell_type": "markdown",
   "metadata": {},
   "source": [
    "### Challenge: Create a function that takes a list as input and creata a BST?"
   ]
  },
  {
   "cell_type": "code",
   "execution_count": 14,
   "metadata": {},
   "outputs": [
    {
     "name": "stdout",
     "output_type": "stream",
     "text": [
      "preorder_print: \n",
      "25 50 100 125 200 350 \n",
      "*****************\n",
      "\n",
      "preorder_print: \n",
      "1 2 10 50 180 199 \n",
      "*****************\n",
      "\n",
      "The trees are Not identical\n"
     ]
    }
   ],
   "source": [
    "def create_BST(lst):\n",
    "    bst = BST(lst[0]) # constructue automatically creates the root node out of the given element\n",
    "    for val in lst[1:]:\n",
    "        bst.insert(bst.root, val)\n",
    "    return bst\n",
    "\n",
    "\n",
    "arr1 = [100,50,200,25,125,350]\n",
    "arr2 = [1,2,10,50,180,199]\n",
    "\n",
    "bst1 = create_BST(arr1)\n",
    "bst2 = create_BST(arr2)\n",
    "\n",
    "print(\"preorder_print: \")\n",
    "print(bst1.inorder_print(bst1.root))\n",
    "print('*****************')\n",
    "print()\n",
    "\n",
    "\n",
    "print(\"preorder_print: \")\n",
    "print(bst2.inorder_print(bst2.root))\n",
    "print('*****************')\n",
    "print()\n",
    "\n",
    "if(are_identical(bst1.root, bst2.root)):\n",
    "  print(\"The trees are identical\")\n",
    "else:\n",
    "  print(\"The trees are Not identical\")"
   ]
  },
  {
   "cell_type": "markdown",
   "metadata": {},
   "source": [
    "## Challenge: In-Order Iterator for a Binary Tree using STACK\n",
    "\n",
    "- we will need to set up a stack in the correct state at iterator construction. For that purpose, we push all elements from the root up to the leftmost node of the binary tree at iterator construction. The next task is to implement the getNext() method. It requires returning the next element in in-order traversal. It can be done by just returning the top node from the stack AND also setting up the stack in the correct state for the next getNext() call. For the latter, we look at the right child of the top node of the stack. If it’s non-null, we push all the nodes from this node to its leftmost node on to the stack."
   ]
  },
  {
   "cell_type": "code",
   "execution_count": 15,
   "metadata": {},
   "outputs": [
    {
     "name": "stdout",
     "output_type": "stream",
     "text": [
      "preorder_print: \n",
      "2 4 5 8 10 \n",
      "*****************\n",
      "\n",
      "Inorder Iterator = [2, 4, 5, 8, 10]\n",
      "*****************\n",
      "\n",
      "Inorder Iterator = [12, 25, 35, 50, 60, 75, 75, 125, 200, 300]\n"
     ]
    }
   ],
   "source": [
    "def inorder_iterator(root):\n",
    "    res = []\n",
    "    if root is None:\n",
    "        return\n",
    "    \n",
    "    from collections import deque\n",
    "    s = deque()\n",
    "    curr_node  = root\n",
    "    \n",
    "    while curr_node is not None or len(s) != 0:\n",
    "        if curr_node is not None: # find the left most element for the curr_node\n",
    "            s.append(curr_node)\n",
    "            curr_node = curr_node.left # this loop breakes when the urr_node becomes None\n",
    "            \n",
    "        # Whenever we reach a None, we pop the last element from the stack and add its right nodes to the stack\n",
    "        elif curr_node is None and len(s) != 0: # \n",
    "            curr_node = s.pop()\n",
    "            res.append(curr_node.value)\n",
    "            # when right child is None (curr_node becomes None) then if cluase doesn't run and inside elif,\n",
    "            # curr_node becomes the top stack element \n",
    "            curr_node =  curr_node.right\n",
    "    return res\n",
    "            \n",
    "            \n",
    "#              4\n",
    "#            /  \\  \n",
    "#          2     8  \n",
    "#               / \\\n",
    "#              5   10 \n",
    "\n",
    "bst = BST(4)\n",
    "bst.root.left = Node(2)\n",
    "bst.root.right = Node(8)\n",
    "bst.root.right.left = Node(5)\n",
    "bst.root.right.right = Node(10)\n",
    "\n",
    "\n",
    "print(\"preorder_print: \")\n",
    "print(bst.inorder_print(bst.root))\n",
    "print('*****************')\n",
    "print()\n",
    "\n",
    "print(\"Inorder Iterator = \", end = \"\")\n",
    "print(inorder_iterator(bst.root))\n",
    "print('*****************')\n",
    "print()\n",
    "\n",
    "arr = [25,125,200,300,75,50,12,35,60,75]\n",
    "bst2 = create_BST(arr)\n",
    "print(\"Inorder Iterator = \", end = \"\")\n",
    "print(inorder_iterator(bst2.root))"
   ]
  },
  {
   "cell_type": "markdown",
   "metadata": {},
   "source": [
    "## Challenge: Iterative In-Order Traversal of Binary Tree"
   ]
  },
  {
   "cell_type": "markdown",
   "metadata": {},
   "source": [
    "```python\n",
    "initialize the current_node as root.\n",
    "create an empty stack stk.\n",
    "Push the current_node in stk and set  current_node = current_node->left until current_node becomes NULL.\n",
    "if stk is not empty and current_node == NULL then\n",
    "  Print the top element from stk\n",
    "  Pop the top element from stk and set current_node = element_popped->right\n",
    "  go to step 3\n",
    "if current_node is null and stack is empty then algorithm terminates.\n",
    "```"
   ]
  },
  {
   "cell_type": "code",
   "execution_count": 16,
   "metadata": {},
   "outputs": [],
   "source": [
    "def inorder_traversal(root):\n",
    "    #inorder traversal is a DFS an we use stack\n",
    "    if root is None:\n",
    "        return\n",
    "    curr_node = root\n",
    "    s = []\n",
    "    while curr_node is not None or len(s) != 0:\n",
    "        # let's find the left most element for each curr_node\n",
    "        if curr_node is not None:\n",
    "            s.append(curr_node)\n",
    "            curr_node = curr_node.left\n",
    "        elif curr_node is None and len(s) != 0:\n",
    "            curr_node = s.pop()\n",
    "            print(str(curr_node.value) + \" \")\n",
    "            curr_node = curr_node.right\n",
    "\n",
    "            "
   ]
  },
  {
   "cell_type": "code",
   "execution_count": 17,
   "metadata": {},
   "outputs": [
    {
     "name": "stdout",
     "output_type": "stream",
     "text": [
      "Inorder traversal: \n",
      "2 \n",
      "4 \n",
      "5 \n",
      "8 \n",
      "10 \n"
     ]
    }
   ],
   "source": [
    "bst = BST(4)\n",
    "bst.root.left = Node(2)\n",
    "bst.root.right = Node(8)\n",
    "bst.root.right.left = Node(5)\n",
    "bst.root.right.right = Node(10)\n",
    "\n",
    "\n",
    "print(\"Inorder traversal: \", end = \"\\n\")\n",
    "inorder_traversal(bst.root)"
   ]
  },
  {
   "cell_type": "markdown",
   "metadata": {},
   "source": [
    "## Challenge: In-order Successor of Binary Search Tree"
   ]
  },
  {
   "cell_type": "markdown",
   "metadata": {},
   "source": [
    "```python\n",
    "####             100\n",
    "###            /     \\  \n",
    "####         50      200  \n",
    "###         /  \\     /  \\\n",
    "####       25  75  125  350 \n",
    "\n",
    "inorder_traversal: 25 50 75 100 125 200  350 \n",
    "```\n",
    "In-order successor of 25 is 50\n",
    "\n",
    "In-order successor of 50 is 75\n",
    "\n",
    "In-order successor of 75 is 100\n",
    "\n",
    "In-order successor of 100 is 125\n",
    "\n",
    "In-order successor of 125 is 200\n",
    "\n",
    "In-order successor of 200 is 350\n",
    "\n",
    "In-order successor of 350 is NULL since it is the last node"
   ]
  },
  {
   "cell_type": "code",
   "execution_count": 18,
   "metadata": {},
   "outputs": [
    {
     "name": "stdout",
     "output_type": "stream",
     "text": [
      "Inorder inorder_successor 100: \n"
     ]
    },
    {
     "data": {
      "text/plain": [
       "125"
      ]
     },
     "execution_count": 18,
     "metadata": {},
     "output_type": "execute_result"
    }
   ],
   "source": [
    "def inorder_successor(root, val):\n",
    "    ret = inorder_iterator(root)\n",
    "    for i in range(len(ret)):\n",
    "        #print(i)\n",
    "        if i == len(ret)-1: # we've reached the end of the tree\n",
    "            return 'Null' \n",
    "        elif ret[i] ==  val: # when the searched value is found\n",
    "            return ret[i+1] # return the next value in inorder_traversal\n",
    "        \n",
    "    return 'Null'\n",
    "               \n",
    "bst = create_BST([100, 50, 200, 25, 75, 125, 350])\n",
    "val = 100\n",
    "print(f\"Inorder inorder_successor {val}: \")\n",
    "inorder_successor(bst.root, val)"
   ]
  },
  {
   "cell_type": "code",
   "execution_count": 19,
   "metadata": {},
   "outputs": [],
   "source": [
    "def inorder_successor(root, val):\n",
    "    res = []\n",
    "    if root is None:\n",
    "        return\n",
    "    # levelorder >>> DFS >>> Stack\n",
    "    from collections import deque\n",
    "    s = deque()\n",
    "    curr_node  = root\n",
    "    found = False\n",
    "    while curr_node is not None or len(s) != 0:\n",
    "\n",
    "        if curr_node is not None: # find the left most element for the curr_node\n",
    "            s.append(curr_node)\n",
    "            curr_node = curr_node.left # this loop breakes when the urr_node becomes None\n",
    "            \n",
    "        # Whenever we reached None, we pop the last element from the stack and add its right nodes to the stack\n",
    "        elif curr_node is None and len(s) != 0: # \n",
    "            curr_node = s.pop()\n",
    "            if found is True:\n",
    "                return (curr_node.value)\n",
    "            res.append(curr_node.value)\n",
    "            if curr_node.value == val:\n",
    "                found = True\n",
    "            curr_node =  curr_node.right\n",
    "    if found == False:\n",
    "        return 'Null'"
   ]
  },
  {
   "cell_type": "code",
   "execution_count": 20,
   "metadata": {},
   "outputs": [
    {
     "name": "stdout",
     "output_type": "stream",
     "text": [
      "Inorder inorder_successor 3: \n"
     ]
    },
    {
     "data": {
      "text/plain": [
       "'Null'"
      ]
     },
     "execution_count": 20,
     "metadata": {},
     "output_type": "execute_result"
    }
   ],
   "source": [
    "bst = create_BST([100, 50, 200, 25, 75, 125, 350])\n",
    "val = 3\n",
    "print(f\"Inorder inorder_successor {val}: \")\n",
    "inorder_successor(bst.root, val)"
   ]
  },
  {
   "cell_type": "markdown",
   "metadata": {},
   "source": [
    "## Challenge: Level Order Traversal of Binary Tree Iterative\n",
    "- Each level nodes must be printed in a seperate line\n",
    "- We use Null as in indicator that we've reache end of a level "
   ]
  },
  {
   "cell_type": "markdown",
   "metadata": {},
   "source": [
    "### After leftpoping each element, we check if the first element in the queue is None, if it is, it means we've reached the end of a level (or the end of the tree), print an empty line, append another None abject to the queue to ad an indicator of end of level and leftpop another node."
   ]
  },
  {
   "cell_type": "code",
   "execution_count": 21,
   "metadata": {},
   "outputs": [],
   "source": [
    "####             100\n",
    "###            /     \\  \n",
    "####         50      200  \n",
    "###         /  \\        \\\n",
    "####       25  75       350 \n",
    "\n",
    "#  level_order_traversal:\n",
    "#     100\n",
    "#     50 200\n",
    "#     25 75 350"
   ]
  },
  {
   "cell_type": "code",
   "execution_count": 117,
   "metadata": {},
   "outputs": [
    {
     "name": "stdout",
     "output_type": "stream",
     "text": [
      "100 \n",
      "50 200 \n",
      "25 75 350 \n"
     ]
    },
    {
     "data": {
      "text/plain": [
       "'100 50 200 25 75 350 '"
      ]
     },
     "execution_count": 117,
     "metadata": {},
     "output_type": "execute_result"
    }
   ],
   "source": [
    "# USING BFS AND QUEUE\n",
    "def level_order_traversal(root):\n",
    "    res = \"\"\n",
    "    if root is None:\n",
    "        return \n",
    "    # levelorder >>> BFS >>> Queue\n",
    "    from collections import deque\n",
    "    q = deque()\n",
    "    q.append(root)\n",
    "    q.append(None) # None object is the indicator of end of a level\n",
    "    # Attention! None objects don't enter the while loop, they become next element in the final for loop\n",
    "    while len(q) > 0:\n",
    "        curr_node = q.popleft()\n",
    "        print(str(curr_node.value) , end = \" \")\n",
    "        res += str(curr_node.value) + \" \"\n",
    "        if curr_node.left is not None:\n",
    "            q.append(curr_node.left)\n",
    "        if curr_node.right is not None:\n",
    "            q.append(curr_node.right)\n",
    "        if q[0] == None: # we have reached the end of a level or the end of the tree\n",
    "            print() # en empty line to seperate levels\n",
    "            curr_node = q.popleft() # go to the next node\n",
    "            if len(q) != 0: # it means that we're at the end of a level and not at the end of the tree\n",
    "                q.append(None) # add a None object to show the end of a level\n",
    "                \n",
    "    \n",
    "    return res\n",
    "\n",
    "bst = create_BST([100,50,200,25,75,350])\n",
    "level_order_traversal(bst.root)"
   ]
  },
  {
   "cell_type": "markdown",
   "metadata": {},
   "source": [
    "## Challenge: Reverse Level Order Traversal (easy)\n",
    "Solution:\n",
    "\n",
    "- This problem follows the Binary Tree Level Order Traversal pattern. We can follow the same BFS approach. The only difference will be that instead of appending the current level at the end, we will append the current level at the beginning of the result list."
   ]
  },
  {
   "cell_type": "code",
   "execution_count": 23,
   "metadata": {},
   "outputs": [],
   "source": [
    "####             12\n",
    "###            /   \\  \n",
    "####         7      1  \n",
    "###        /       / \\\n",
    "####     9       10   5\n",
    "\n",
    "#  Reverse_LevelOrder_Traversal:\n",
    "#     [[9, 10, 5],\n",
    "#     [7, 1],\n",
    "#     [12]]"
   ]
  },
  {
   "cell_type": "code",
   "execution_count": 24,
   "metadata": {},
   "outputs": [
    {
     "name": "stdout",
     "output_type": "stream",
     "text": [
      "Reverse level order traversal: \n"
     ]
    },
    {
     "data": {
      "text/plain": [
       "deque([[9, 10, 5], [7, 1], [12]])"
      ]
     },
     "execution_count": 24,
     "metadata": {},
     "output_type": "execute_result"
    }
   ],
   "source": [
    "def Reverse_LevelOrder_Traversal(root):\n",
    "    if root is None:\n",
    "        return\n",
    "    # levelorder >>> BFS >>> Queue\n",
    "    from collections import deque\n",
    "    res = deque()\n",
    "    q = deque()\n",
    "    q.append(root)\n",
    "    q.append(None)\n",
    "    curr_level_nodes = []\n",
    "    while len(q) > 0:\n",
    "        curr_node = q.popleft()\n",
    "        curr_level_nodes.append(curr_node.value) # for each level\n",
    "        if curr_node.left is not None:\n",
    "            q.append(curr_node.left)\n",
    "        if curr_node.right is not None:\n",
    "            q.append(curr_node.right)\n",
    "         # check for end of level\n",
    "        if q[0] is None: # end of level or end of tree\n",
    "            curr_node = q.popleft()\n",
    "            res.appendleft(curr_level_nodes)\n",
    "            curr_level_nodes = []\n",
    "            if len(q) != 0: # end of level but not end of tree\n",
    "                q.append(None)\n",
    "    return res\n",
    "\n",
    "\n",
    "tree = BinaryTree(12)\n",
    "tree.root.left = Node(7)\n",
    "tree.root.right = Node(1)\n",
    "tree.root.left.left = Node(9)\n",
    "tree.root.right.left = Node(10)\n",
    "tree.root.right.right = Node(5)\n",
    "print(\"Reverse level order traversal: \" )\n",
    "Reverse_LevelOrder_Traversal(tree.root)"
   ]
  },
  {
   "cell_type": "markdown",
   "metadata": {},
   "source": [
    "### Alternative Solution"
   ]
  },
  {
   "cell_type": "code",
   "execution_count": 25,
   "metadata": {},
   "outputs": [
    {
     "name": "stdout",
     "output_type": "stream",
     "text": [
      "Reverse level order traversal: \n"
     ]
    },
    {
     "data": {
      "text/plain": [
       "deque([[9, 10, 5], [7, 1], [12]])"
      ]
     },
     "execution_count": 25,
     "metadata": {},
     "output_type": "execute_result"
    }
   ],
   "source": [
    "def Reverse_LevelOrder_Traversal(root):\n",
    "    if root is None:\n",
    "        return\n",
    "    # levelorder >>> BFS >>> Queue\n",
    "    from collections import deque\n",
    "    res = deque()\n",
    "    q = deque()\n",
    "    q.append(root)\n",
    "    while len(q) > 0:\n",
    "        curr_level_length = len(q) # curr_level_length is equal to the number of nodes added in the previous iteration in while loop\n",
    "        curr_level_nodes = []\n",
    "        # We added this for loop for each level, because we need to have each level nodes seperately\n",
    "        for i in range(curr_level_length): # we need to popleft elements form the queue equal to the number of nodes in the current level\n",
    "            curr_node = q.popleft()\n",
    "            curr_level_nodes.append(curr_node.value)\n",
    "            # insert the children of current node in the queue\n",
    "            if curr_node.left is not None:\n",
    "                q.append(curr_node.left)\n",
    "            if curr_node.right is not None:\n",
    "                q.append(curr_node.right)\n",
    "        res.appendleft(curr_level_nodes)\n",
    "    return res\n",
    "    \n",
    "    \n",
    "print(\"Reverse level order traversal: \" )\n",
    "Reverse_LevelOrder_Traversal(tree.root)    "
   ]
  },
  {
   "cell_type": "markdown",
   "metadata": {},
   "source": [
    "## Challenge: Level Averages in a Binary Tree (easy)"
   ]
  },
  {
   "cell_type": "code",
   "execution_count": 33,
   "metadata": {},
   "outputs": [],
   "source": [
    "####             12\n",
    "###            /   \\  \n",
    "####         7      1  \n",
    "###        /       / \\\n",
    "####     9       10   5\n",
    "\n",
    "#  find_level_averages:\n",
    "#   [12, 4, 8]"
   ]
  },
  {
   "cell_type": "code",
   "execution_count": 37,
   "metadata": {},
   "outputs": [
    {
     "data": {
      "text/plain": [
       "[12.0, 4.0, 8.0]"
      ]
     },
     "execution_count": 37,
     "metadata": {},
     "output_type": "execute_result"
    }
   ],
   "source": [
    "def find_level_averages(root):\n",
    "    res = []\n",
    "    if root is None:\n",
    "        return \n",
    "    # levelorder >>> BFS >>> Queue\n",
    "    from collections import deque\n",
    "    import numpy as np\n",
    "    q = deque()\n",
    "    q.append(root)\n",
    "    while len(q) > 0:\n",
    "        level_length = len(q) # level_length is equal to the number of nodes in the current level\n",
    "        level_sum = 0\n",
    "        for i in range(level_length):\n",
    "            curr_node = q.popleft()\n",
    "            level_sum += curr_node.value\n",
    "            if curr_node.left is not None:\n",
    "                q.append(curr_node.left)\n",
    "            if curr_node.right is not None:\n",
    "                q.append(curr_node.right)\n",
    "        res.append(level_sum / level_length)\n",
    "    return res\n",
    "        \n",
    "        \n",
    "find_level_averages(tree.root)"
   ]
  },
  {
   "cell_type": "markdown",
   "metadata": {},
   "source": [
    "## Challenge: Level Order Successor (easy)\n",
    "- The level order successor is the node that appears right after the given node in the level order traversal."
   ]
  },
  {
   "cell_type": "markdown",
   "metadata": {},
   "source": [
    "### Attention!\n",
    "- For this question and basically when we don't need to keep track of current level nodes, we ndon't need a for loop inside the while loop unlike previous questions."
   ]
  },
  {
   "cell_type": "code",
   "execution_count": null,
   "metadata": {},
   "outputs": [],
   "source": [
    "####             12\n",
    "###            /   \\  \n",
    "####         7      1  \n",
    "###        /       / \\\n",
    "####     9       10   5\n",
    "\n",
    "#  Level Order Successor(7): 1\n",
    "# Level Order Successor(10): 5"
   ]
  },
  {
   "cell_type": "code",
   "execution_count": 79,
   "metadata": {},
   "outputs": [
    {
     "name": "stdout",
     "output_type": "stream",
     "text": [
      "Reverse level order traversal: \n"
     ]
    }
   ],
   "source": [
    "def find_successor(root, key):\n",
    "    if root is None:\n",
    "        return\n",
    "    # levelorder >>> BFS >>> Queue\n",
    "    from collections import deque\n",
    "    q = deque()\n",
    "    q.append(root)\n",
    "    while len(q) > 0:\n",
    "        curr_node = q.popleft()\n",
    "        # insert the children of current node in the queue\n",
    "        if curr_node.left is not None:\n",
    "            q.append(curr_node.left)\n",
    "        if curr_node.right is not None:\n",
    "            q.append(curr_node.right)\n",
    "        if curr_node.value == key:\n",
    "            break\n",
    "    return q[0] if len(q) > 0 else None\n",
    "\n",
    "    \n",
    "print(\"Reverse level order traversal: \" )\n",
    "find_successor(tree.root, 5)    "
   ]
  },
  {
   "cell_type": "markdown",
   "metadata": {},
   "source": [
    "## Challenge: Zigzag Traversal (medium)\n",
    "- Given a binary tree, populate an array to represent its zigzag level order traversal. You should populate the values of all nodes of the first level from left to right, then right to left for the next level and keep alternating in the same manner for the following levels"
   ]
  },
  {
   "cell_type": "code",
   "execution_count": null,
   "metadata": {},
   "outputs": [],
   "source": [
    "####             12         level 1\n",
    "###            /   \\  \n",
    "####         7      1       level 2\n",
    "###        /       / \\\n",
    "####     9       10   5     level 3\n",
    "\n",
    "# Zigzag Level Order Traversal:  \n",
    "#  [[12],[1, 7],[9, 10, 5]]"
   ]
  },
  {
   "cell_type": "code",
   "execution_count": 105,
   "metadata": {},
   "outputs": [
    {
     "data": {
      "text/plain": [
       "[[12], [1, 7], [9, 10, 5]]"
      ]
     },
     "execution_count": 105,
     "metadata": {},
     "output_type": "execute_result"
    }
   ],
   "source": [
    "def zig_zog_inorder_traversal(root):\n",
    "    if root is None:\n",
    "        return\n",
    "    res = [] \n",
    "    from collections import deque\n",
    "    q = deque()\n",
    "    q.append(root)\n",
    "    left_to_right = True\n",
    "    \n",
    "    while len(q) > 0:\n",
    "        curr_level_nodes = deque()\n",
    "        l = len(q)\n",
    "        for i in range(l):            \n",
    "            curr_node = q.popleft()\n",
    "            \n",
    "            # add the node to the current level based on the traverse direction\n",
    "            if left_to_right is True: # on odd levels we append to the end of curr_level_nodes\n",
    "                curr_level_nodes.append(curr_node.value)\n",
    "            else: # on even levels we append to the beginning of curr_level_nodes (appendleft)\n",
    "                curr_level_nodes.appendleft(curr_node.value)\n",
    "            \n",
    "            # insert the children of current node in the queue\n",
    "            if curr_node.left is not None:\n",
    "                q.append(curr_node.left)\n",
    "            if curr_node.right is not None:\n",
    "                q.append(curr_node.right)\n",
    "\n",
    "        res.append(list(curr_level_nodes))\n",
    "        # reverse the traversal direction\n",
    "        left_to_right = not left_to_right\n",
    "    return res\n",
    "\n",
    "\n",
    "zig_zog_inorder_traversal(tree.root)"
   ]
  },
  {
   "cell_type": "markdown",
   "metadata": {},
   "source": [
    "## Challenge: Connect Level Order Siblings (medium)\n",
    "- Given a binary tree, connect each node with its level order successor. The last node of each level should point to a null node."
   ]
  },
  {
   "cell_type": "markdown",
   "metadata": {},
   "source": [
    "<img src=\"images\\Connect Level Order Siblings.png\" width=\"800\" >\n"
   ]
  },
  {
   "cell_type": "markdown",
   "metadata": {},
   "source": [
    "### Redefining the class `Node` which now has a `next` element as well"
   ]
  },
  {
   "cell_type": "code",
   "execution_count": null,
   "metadata": {},
   "outputs": [],
   "source": [
    "### class Node():\n",
    "    def __init__(self, value):\n",
    "        self.value = value\n",
    "        self.right = None\n",
    "        self.left = None\n",
    "        self.next = None"
   ]
  },
  {
   "cell_type": "code",
   "execution_count": 114,
   "metadata": {},
   "outputs": [
    {
     "name": "stdout",
     "output_type": "stream",
     "text": [
      "Reverse level order traversal: \n"
     ]
    },
    {
     "data": {
      "text/plain": [
       "deque([[12], [7, 1], [9, 10, 5]])"
      ]
     },
     "execution_count": 114,
     "metadata": {},
     "output_type": "execute_result"
    }
   ],
   "source": [
    "tree = BinaryTree(12)\n",
    "tree.root.left = Node(7)\n",
    "tree.root.right = Node(1)\n",
    "tree.root.left.left = Node(9)\n",
    "tree.root.right.left = Node(10)\n",
    "tree.root.right.right = Node(5)\n",
    "print(\"Reverse level order traversal: \" )\n",
    "Reverse_LevelOrder_Traversal(tree.root)"
   ]
  },
  {
   "cell_type": "code",
   "execution_count": 132,
   "metadata": {},
   "outputs": [
    {
     "data": {
      "text/plain": [
       "'Null'"
      ]
     },
     "execution_count": 132,
     "metadata": {},
     "output_type": "execute_result"
    }
   ],
   "source": [
    "tree.root.next"
   ]
  },
  {
   "cell_type": "code",
   "execution_count": null,
   "metadata": {},
   "outputs": [],
   "source": [
    "####             12\n",
    "###            /   \\  \n",
    "####         7      1  \n",
    "###        /       / \\\n",
    "####     9       10   5\n",
    "\n",
    "#  12 >>> Null\n",
    "# Level Order Successor(10): 5"
   ]
  },
  {
   "cell_type": "code",
   "execution_count": 161,
   "metadata": {},
   "outputs": [],
   "source": [
    "def Connect_Level_Order_Siblings(root):\n",
    "    if root is None:\n",
    "        return\n",
    "    # levelorder >>> BFS >>> Queue\n",
    "    from collections import deque\n",
    "    q = deque()\n",
    "    q.append(root)\n",
    "    while len(q) > 0:       \n",
    "        prev_node = None # every level starts with a None node as the prev_node \n",
    "        l = len(q)\n",
    "        for i in range(l):\n",
    "            curr_node = q.popleft()\n",
    "            if prev_node is not None:\n",
    "                prev_node.next = curr_node.value\n",
    "            prev_node = curr_node\n",
    "\n",
    "            if curr_node.left is not None:\n",
    "                q.append(curr_node.left)\n",
    "            if curr_node.right is not None:\n",
    "                q.append(curr_node.right)\n",
    "            "
   ]
  },
  {
   "cell_type": "code",
   "execution_count": 162,
   "metadata": {},
   "outputs": [
    {
     "name": "stdout",
     "output_type": "stream",
     "text": [
      "Connect_Level_Order_Siblings: \n"
     ]
    },
    {
     "data": {
      "text/plain": [
       "'Null'"
      ]
     },
     "execution_count": 162,
     "metadata": {},
     "output_type": "execute_result"
    }
   ],
   "source": [
    "print(\"Connect_Level_Order_Siblings: \" )\n",
    "Connect_Level_Order_Siblings(tree.root)  \n",
    "\n",
    "tree.root.right.right.next"
   ]
  },
  {
   "cell_type": "markdown",
   "metadata": {},
   "source": [
    "### Other Solution"
   ]
  },
  {
   "cell_type": "code",
   "execution_count": 159,
   "metadata": {},
   "outputs": [
    {
     "name": "stdout",
     "output_type": "stream",
     "text": [
      "Connect_Level_Order_Siblings: \n"
     ]
    }
   ],
   "source": [
    "def Connect_Level_Order_Siblings(root):\n",
    "    if root is None:\n",
    "        return\n",
    "    # levelorder >>> BFS >>> Queue\n",
    "    from collections import deque\n",
    "    q = deque()\n",
    "    q.append(root)\n",
    "    q.append(None)\n",
    "    while len(q) > 0:       \n",
    "        curr_node = q.popleft()\n",
    "        if q[0] is None: \n",
    "            curr_node.next = 'Null'\n",
    "        else:\n",
    "            curr_node.next = q[0].value\n",
    "        \n",
    "        # insert the children of current node in the queue\n",
    "        if curr_node.left is not None:\n",
    "            q.append(curr_node.left)\n",
    "        if curr_node.right is not None:\n",
    "            q.append(curr_node.right)\n",
    "        if q[0] is None: # end of level or end of tree\n",
    "            curr_node = q.popleft()\n",
    "            if len(q) != 0:\n",
    "                q.append(None)\n",
    "   \n",
    "\n",
    "    \n",
    "print(\"Connect_Level_Order_Siblings: \" )\n",
    "Connect_Level_Order_Siblings(tree.root)    "
   ]
  },
  {
   "cell_type": "code",
   "execution_count": 160,
   "metadata": {},
   "outputs": [
    {
     "data": {
      "text/plain": [
       "'Null'"
      ]
     },
     "execution_count": 160,
     "metadata": {},
     "output_type": "execute_result"
    }
   ],
   "source": [
    "tree.root.right.right.next"
   ]
  },
  {
   "cell_type": "code",
   "execution_count": null,
   "metadata": {},
   "outputs": [],
   "source": []
  }
 ],
 "metadata": {
  "kernelspec": {
   "display_name": "Python 3",
   "language": "python",
   "name": "python3"
  },
  "language_info": {
   "codemirror_mode": {
    "name": "ipython",
    "version": 3
   },
   "file_extension": ".py",
   "mimetype": "text/x-python",
   "name": "python",
   "nbconvert_exporter": "python",
   "pygments_lexer": "ipython3",
   "version": "3.7.4"
  }
 },
 "nbformat": 4,
 "nbformat_minor": 2
}
