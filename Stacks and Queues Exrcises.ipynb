{
 "cells": [
  {
   "cell_type": "markdown",
   "metadata": {},
   "source": [
    "# **Stacks and Queues Exrcises**"
   ]
  },
  {
   "cell_type": "code",
   "execution_count": 1,
   "metadata": {},
   "outputs": [
    {
     "data": {
      "text/html": [
       "<style>.container { width:80% !important; }</style>"
      ],
      "text/plain": [
       "<IPython.core.display.HTML object>"
      ]
     },
     "metadata": {},
     "output_type": "display_data"
    }
   ],
   "source": [
    "from IPython.core.display import display, HTML\n",
    "display(HTML(\"<style>.container { width:80% !important; }</style>\"))"
   ]
  },
  {
   "cell_type": "markdown",
   "metadata": {},
   "source": [
    "## **Stack**"
   ]
  },
  {
   "cell_type": "code",
   "execution_count": 2,
   "metadata": {},
   "outputs": [
    {
     "name": "stdout",
     "output_type": "stream",
     "text": [
      "is_empty(): True\n",
      "top: None\n",
      "size: 0\n"
     ]
    }
   ],
   "source": [
    "class MyStack():\n",
    "    def __init__(self):\n",
    "         self.stack_list = []\n",
    "    \n",
    "    def size(self):\n",
    "        return len(self.stack_list)\n",
    "        \n",
    "    def is_empty(self):\n",
    "        return self.size() == 0 # return True if self.size() == 0\n",
    "        # or you can use this: \n",
    "        # if len(self.stack_list) == 0:\n",
    "        #    return True\n",
    "        \n",
    "    def top(self):\n",
    "        if self.is_empty():\n",
    "            return None\n",
    "        return self.stack_list[-1]\n",
    "    \n",
    "    def push(self, ele):\n",
    "        self.stack_list.append(ele)\n",
    "        \n",
    "    def pop(self):\n",
    "        if self.is_empty():\n",
    "            return \n",
    "        else:\n",
    "            return self.stack_list.pop()\n",
    "            # or use this\n",
    "#             try:\n",
    "#                 return self.stack_list[-1]\n",
    "#             finally: self.stack_list.remove(self.stack_list[-1])\n",
    "       \n",
    "\n",
    "        \n",
    "\n",
    "stack = MyStack()\n",
    "print(\"is_empty(): \" + str(stack.is_empty()))\n",
    "print(\"top: \" + str(stack.top()))\n",
    "print(\"size: \" + str(stack.size()))\n"
   ]
  },
  {
   "cell_type": "code",
   "execution_count": 3,
   "metadata": {},
   "outputs": [
    {
     "name": "stdout",
     "output_type": "stream",
     "text": [
      "top(): 4\n",
      "4\n",
      "3\n",
      "2\n",
      "1\n",
      "0\n",
      "is_empty(): True\n"
     ]
    }
   ],
   "source": [
    "stack = MyStack()\n",
    "\n",
    "for i in range(5):  # Pushing values in\n",
    "    stack.push(i)\n",
    "\n",
    "print(\"top(): \" + str(stack.top()))\n",
    "\n",
    "for x in range(5):  # Removing values\n",
    "    print(stack.pop())\n",
    "\n",
    "print(\"is_empty(): \" + str(stack.is_empty()))  # Checking if its empty"
   ]
  },
  {
   "cell_type": "markdown",
   "metadata": {},
   "source": [
    "## **Queue**"
   ]
  },
  {
   "cell_type": "code",
   "execution_count": 4,
   "metadata": {},
   "outputs": [
    {
     "name": "stdout",
     "output_type": "stream",
     "text": [
      "is_empty(): True\n",
      "front(): None\n",
      "back(): None\n",
      "size(): 0\n"
     ]
    }
   ],
   "source": [
    "class MyQueue():\n",
    "    def __init__ (self):\n",
    "        self.queue_list = []\n",
    "        \n",
    "    def size(self):\n",
    "        return len(self.queue_list)\n",
    "    \n",
    "    def is_empty(self):\n",
    "        return self.size() == 0 # return True if self.size() == 0\n",
    "    \n",
    "    def front(self): # is the 1st element in th queue (the element added  first)\n",
    "        if self.is_empty():\n",
    "            return None\n",
    "        return self.queue_list[0]\n",
    "    \n",
    "    def back(self): # is the last element (newest added element)\n",
    "        if self.is_empty():\n",
    "            return None\n",
    "        return self.queue_list[-1]\n",
    "    \n",
    "    def enqueue(self, ele): # Insert element at the last index\n",
    "        return self.queue_list.append(ele)\n",
    "    \n",
    "    def dequeue(self): # get and remove the first element\n",
    "        if self.is_empty():\n",
    "            return None\n",
    "        first_ele = self.front() # store the 1st element\n",
    "        self.queue_list.remove(first_ele) # remove the first element\n",
    "        return first_ele # return the the 1st element\n",
    "#       OR TRY THIS OCODE\n",
    "#         try:\n",
    "#             return self.queue_list[0]\n",
    "#         finally:\n",
    "#             del self.queue_list[0]\n",
    "        \n",
    "        \n",
    "queue = MyQueue()\n",
    "print(\"is_empty(): \" + str(queue.is_empty()))\n",
    "print(\"front(): \" + str(queue.front()))\n",
    "print(\"back(): \" + str(queue.back()))\n",
    "print(\"size(): \" + str(queue.size()))\n"
   ]
  },
  {
   "cell_type": "code",
   "execution_count": 5,
   "metadata": {},
   "outputs": [
    {
     "name": "stdout",
     "output_type": "stream",
     "text": [
      "queue.enqueue(2);\n",
      "queue.enqueue(4);\n",
      "queue.enqueue(6);\n",
      "queue.enqueue(8);\n",
      "queue.enqueue(10);\n",
      "Dequeue(): 2\n",
      "Dequeue(): 4\n",
      "front(): 6\n",
      "back(): 10\n",
      "Dequeue(): 6\n",
      "Dequeue(): 8\n",
      "Dequeue(): 10\n",
      "Dequeue(): 12\n",
      "Dequeue(): 14\n",
      "is_empty(): True\n"
     ]
    }
   ],
   "source": [
    "queue = MyQueue()\n",
    "\n",
    "print(\"queue.enqueue(2);\")\n",
    "queue.enqueue(2)\n",
    "print(\"queue.enqueue(4);\")\n",
    "queue.enqueue(4)\n",
    "print(\"queue.enqueue(6);\")\n",
    "queue.enqueue(6)\n",
    "print(\"queue.enqueue(8);\")\n",
    "queue.enqueue(8)\n",
    "print(\"queue.enqueue(10);\")\n",
    "queue.enqueue(10)\n",
    "\n",
    "print(\"Dequeue(): \" + str(queue.dequeue()))\n",
    "print(\"Dequeue(): \" + str(queue.dequeue()))\n",
    "\n",
    "print(\"front(): \" + str(queue.front()))\n",
    "print(\"back(): \" + str(queue.back()))\n",
    "\n",
    "queue.enqueue(12)\n",
    "queue.enqueue(14)\n",
    "\n",
    "while queue.is_empty() is False:\n",
    "    print(\"Dequeue(): \" + str(queue.dequeue()))\n",
    "\n",
    "print(\"is_empty(): \" + str(queue.is_empty()))\n"
   ]
  },
  {
   "cell_type": "code",
   "execution_count": 6,
   "metadata": {},
   "outputs": [
    {
     "name": "stdout",
     "output_type": "stream",
     "text": [
      "[]\n"
     ]
    }
   ],
   "source": [
    "print(queue.queue_list)"
   ]
  },
  {
   "cell_type": "markdown",
   "metadata": {},
   "source": [
    "## Challenge 3: Reversing First k Elements of Queue\n",
    "\n",
    "\n",
    "`[1, 2, 3, 4, 5, 6, 7, 8, 9, 10]` \n",
    "\n",
    "`[5, 4, 3, 2, 1, 6, 7, 8, 9, 10]`"
   ]
  },
  {
   "cell_type": "code",
   "execution_count": 7,
   "metadata": {},
   "outputs": [
    {
     "name": "stdout",
     "output_type": "stream",
     "text": [
      "[1, 2, 3, 4, 5, 6, 7, 8, 9, 10]\n",
      "-----------------------------\n",
      "[5, 4, 3, 2, 1, 6, 7, 8, 9, 10]\n"
     ]
    }
   ],
   "source": [
    "def reverseK(queue, k):\n",
    "\n",
    "    if queue.is_empty() or k > queue.size() or k < 0:\n",
    "        return \n",
    "    q = queue.queue_list[k-1: : -1] + queue.queue_list[k:]\n",
    "    #print(q)\n",
    "    res = MyQueue()\n",
    "    for x in q:\n",
    "        res.enqueue(x)\n",
    "    return res\n",
    "\n",
    "\n",
    "\n",
    "# first build the queue\n",
    "queue = MyQueue()\n",
    "for i in range(1, 11):\n",
    "    queue.enqueue(i)\n",
    "    \n",
    "print(queue.queue_list)\n",
    "print('-----------------------------')\n",
    "\n",
    "\n",
    "reversed_queue = reverseK(queue, 5)\n",
    "print(reversed_queue.queue_list)"
   ]
  },
  {
   "cell_type": "markdown",
   "metadata": {},
   "source": [
    "### Solution: Using a queue"
   ]
  },
  {
   "cell_type": "code",
   "execution_count": 8,
   "metadata": {},
   "outputs": [
    {
     "name": "stdout",
     "output_type": "stream",
     "text": [
      "[1, 2, 3, 4, 5, 6, 7, 8, 9, 10]\n",
      "-----------------------------\n",
      "[5, 4, 3, 2, 1, 6, 7, 8, 9, 10]\n"
     ]
    }
   ],
   "source": [
    "def reverseK(queue, k):\n",
    "    if queue.is_empty() or k > queue.size() or k < 0:\n",
    "        return \n",
    "    # create a bew stack to store dequeued elements\n",
    "    stack = MyStack()\n",
    "    # queue: [1, 2, 3, 4, 5, 6, 7, 8, 9, 10]\n",
    "    for i in range(k): # if k is 5\n",
    "        ele = queue.dequeue() # extract the queue elements from left\n",
    "        stack.push(ele) #  stores elements in stack s = [1, 2, 3, 4, 5]\n",
    "    # queue = [6, 7, 8, 9, 10]\n",
    "    # use pop in stack to extract elements from the right side\n",
    "    while stack.is_empty() is not True: # while there is an element in stack\n",
    "        ele = stack.pop() # extract elements from the right side of stack\n",
    "        queue.enqueue(ele) # add elements to the current dequeue\n",
    "    # queue = [6, 7, 8, 9, 10, 5, 4, 3, 2, 1]\n",
    "    # Now we need to put [5, 4, 3, 2, 1] to the first half od queue\n",
    "    # We dequeue from the left and enqueue the same elelement to the right\n",
    "    # [6, 7, 8, 9, 10, 5, 4, 3, 2, 1] >>> [7, 8, 9, 10, 5, 4, 3, 2, 1, 6]\n",
    "    # [8, 9, 10, 5, 4, 3, 2, 1, 6, 7] and so on until getting: [5, 4, 3, 2, 1, 6, 7, 8, 9, 10]\n",
    "    for i in range(queue.size() - k): # equal to the number of elements have not gone to stack\n",
    "        ele = queue.dequeue()\n",
    "        queue.enqueue(ele)\n",
    "    \n",
    "    return queue\n",
    "    \n",
    "        \n",
    "# first build the queue\n",
    "queue = MyQueue()\n",
    "for i in range(1, 11):\n",
    "    queue.enqueue(i)\n",
    "    \n",
    "print(queue.queue_list)\n",
    "print('-----------------------------')\n",
    "\n",
    "\n",
    "reversed_queue = reverseK(queue, 5)\n",
    "print(reversed_queue.queue_list)"
   ]
  },
  {
   "cell_type": "markdown",
   "metadata": {},
   "source": [
    "### Same function using `deque`"
   ]
  },
  {
   "cell_type": "code",
   "execution_count": 9,
   "metadata": {},
   "outputs": [
    {
     "name": "stdout",
     "output_type": "stream",
     "text": [
      "[1, 2, 3, 4, 5, 6, 7, 8, 9, 10]\n",
      "--------------------------\n",
      "<class 'collections.deque'>\n"
     ]
    },
    {
     "data": {
      "text/plain": [
       "deque([5, 4, 3, 2, 1, 6, 7, 8, 9, 10])"
      ]
     },
     "execution_count": 9,
     "metadata": {},
     "output_type": "execute_result"
    }
   ],
   "source": [
    "def reverseK(queue, k):\n",
    "    if not queue or k > len(queue) or k < 0:\n",
    "        return \n",
    "    \n",
    "    from collections import deque\n",
    "    # if input is list convert it to deque first\n",
    "    q = deque(queue) if isinstance(queue, list) else queue\n",
    "    s = deque()\n",
    "    print(type(q))\n",
    "    \n",
    "    for i in range(k):\n",
    "        s.append(q.popleft()) # s = [1, 2, 3, 4, 5]\n",
    "        \n",
    "    while s: # while len(s) is not 0\n",
    "        q.append(s.pop())  # q = [6, 7, 8, 9, 10, 5, 4, 3, 2, 1]\n",
    "    \n",
    "    for i in range(len(q) - k):\n",
    "        q.append(q.popleft())\n",
    "        \n",
    "    return q\n",
    "\n",
    "\n",
    "from collections import deque\n",
    "q = deque([1, 2, 3, 4, 5, 6, 7, 8, 9, 10])\n",
    "q = [1, 2, 3, 4, 5, 6, 7, 8, 9, 10]\n",
    "print(q)\n",
    "print('--------------------------')\n",
    "\n",
    "reverseK(q, 5)\n"
   ]
  },
  {
   "cell_type": "markdown",
   "metadata": {},
   "source": [
    "## Challenge 4: Implement a Queue Using Stacks\n",
    "- You have to implement the enqueue() and dequeue() functions using the MyStack class we created earlier.\n",
    "- enqueue() will insert a value into the queue and dequeue will remove a value from the queue."
   ]
  },
  {
   "cell_type": "code",
   "execution_count": 10,
   "metadata": {},
   "outputs": [],
   "source": [
    "class NewQueue:\n",
    "    def __init__(self):\n",
    "        self.main_stack = MyStack()\n",
    "        self.s = MyStack()\n",
    "\n",
    "    # Inserts Element in the Queue\n",
    "    def enqueue(self, value):\n",
    "        self.main_stack.push(value)\n",
    "        return True\n",
    "\n",
    "    # Removes the oldest Element From Queue\n",
    "    def dequeue(self):\n",
    "        if self.main_stack.is_empty():\n",
    "            return None\n",
    "        \n",
    "        # self.main_stack = [1, 2, 3, 4]\n",
    "        while self.main_stack.is_empty() is not True: # extract all elements and save them in new stack \n",
    "            self.s.push(self.main_stack.pop()) # s = [4, 3, 2, 1]\n",
    "            #print(s.stack_list)\n",
    "            \n",
    "        first_element = self.s.pop() # [1], get the first element of the initial stack\n",
    "        #print(first_element)\n",
    "        \n",
    "        # recunstructing  self.main_stack\n",
    "        while self.s.is_empty() is not True: # [4, 3, 2] # reverse the order of remaining elements of the initial stack\n",
    "            self.main_stack.push(self.s.pop())\n",
    "\n",
    "        return first_element"
   ]
  },
  {
   "cell_type": "code",
   "execution_count": 11,
   "metadata": {},
   "outputs": [
    {
     "name": "stdout",
     "output_type": "stream",
     "text": [
      "[1, 2, 3, 4]\n",
      "--------------------------\n",
      "[1, 2, 3, 4, 5]\n",
      "--------------------------\n",
      "1\n"
     ]
    }
   ],
   "source": [
    "n = NewQueue()\n",
    "for i in range(1, 5):\n",
    "    n.enqueue(i)\n",
    "    \n",
    "print(n.main_stack.stack_list)\n",
    "print('--------------------------')\n",
    "\n",
    "n.enqueue(5)\n",
    "print(n.main_stack.stack_list)\n",
    "print('--------------------------')\n",
    "\n",
    "print(n.dequeue())"
   ]
  },
  {
   "cell_type": "markdown",
   "metadata": {},
   "source": [
    "## Challenge 6: Evaluate Postfix Expression Using a Stack\n",
    "- `exp = \"921 * - 8 - 4 +\" # 9 - 2 * 1 - 8 + 4`\n",
    "\n",
    "1. If it’s a number, push it into the stack.\n",
    "\n",
    "2. If it’s an operator, pop two elements and perform the operation and push the result to the stack"
   ]
  },
  {
   "cell_type": "code",
   "execution_count": 12,
   "metadata": {},
   "outputs": [
    {
     "name": "stdout",
     "output_type": "stream",
     "text": [
      "1\n"
     ]
    }
   ],
   "source": [
    "import operator\n",
    "ops = { \"+\": operator.add,\n",
    "       \"-\": operator.sub,\n",
    "       \"*\": operator.mul,\n",
    "       \"/\": operator.truediv\n",
    "      } # etc.\n",
    "\n",
    "char = \"-\"\n",
    "print (ops[char](2,1)) # prints 2 "
   ]
  },
  {
   "cell_type": "code",
   "execution_count": 13,
   "metadata": {},
   "outputs": [
    {
     "name": "stdout",
     "output_type": "stream",
     "text": [
      "921 * - 8 - 4 + \n",
      " 3\n",
      "--------------------------\n",
      "642/+ \n",
      " 8.0\n",
      "--------------------------\n",
      "Result: Invalid Syntax\n"
     ]
    }
   ],
   "source": [
    "def evaluate_post_fix(exp):\n",
    "    # to convert strings to operators\n",
    "    import operator\n",
    "    ops = { \"+\": operator.add,\n",
    "           \"-\": operator.sub,\n",
    "           \"*\": operator.mul,\n",
    "           \"/\": operator.truediv\n",
    "          } # etc.\n",
    "    \n",
    "    s = MyStack()\n",
    "    if len(exp) == 0:\n",
    "        return None\n",
    "    \n",
    "    # remove all spaces\n",
    "    exp = exp.replace(\" \", \"\")\n",
    "    try: # We use try so if the exp is invalid, the programd doesn't crash\n",
    "        for char in exp:\n",
    "            # if char is a digit, convert it to number and push to the stack\n",
    "            if char.isnumeric(): \n",
    "                s.push(int(char))\n",
    "            else: # if char is an operator\n",
    "                n1 = s.pop() # 2x1 \n",
    "                n2 = s.pop() # 9\n",
    "                res = ops[char](n2, n1) # 9 - 2x1 , calculate the result of the operation\n",
    "                # calculation is like this: n2 operator n1 \n",
    "                s.push(res) # push the calculated result to the stack\n",
    "        return s.pop()\n",
    "    \n",
    "    except TypeError:\n",
    "        return \"Invalid Syntax\"\n",
    "            \n",
    "exp = \"921 * - 8 - 4 +\" # 9 - 2 * 1 - 8 + 4       \n",
    "\n",
    "result = evaluate_post_fix(exp)        \n",
    "print(exp,\"\\n\", result)\n",
    "print('--------------------------')\n",
    "\n",
    "exp = \"642/+\"\n",
    "result = evaluate_post_fix(exp)        \n",
    "print(exp,\"\\n\", result)\n",
    "print('--------------------------')\n",
    "\n",
    "print(\"Result: \" + str(evaluate_post_fix(\"921*-8--4+\")))"
   ]
  },
  {
   "cell_type": "code",
   "execution_count": 14,
   "metadata": {},
   "outputs": [
    {
     "name": "stdout",
     "output_type": "stream",
     "text": [
      "Result: 3\n",
      "Result: Invalid Sequence\n"
     ]
    }
   ],
   "source": [
    "def evaluate_post_fix(exp):\n",
    "    exp = exp.replace(\" \", \"\")\n",
    "    stack = MyStack()\n",
    "    try:\n",
    "        for char in exp:\n",
    "            if char.isdigit():\n",
    "                # Push numbers in stack\n",
    "                stack.push(char)\n",
    "            else:\n",
    "                # use top two numbers and evaluate\n",
    "                right = stack.pop()\n",
    "                left = stack.pop()\n",
    "                stack.push(str(eval(left + char + right)))\n",
    "        # final answer should be a number\n",
    "        return int(float(stack.pop()))\n",
    "    except TypeError:\n",
    "        return \"Invalid Sequence\"\n",
    "\n",
    "\n",
    "print(\"Result: \" + str(evaluate_post_fix(\"921*-8-4+\")))\n",
    "print(\"Result: \" + str(evaluate_post_fix(\"921*-8--4+\")))"
   ]
  },
  {
   "cell_type": "markdown",
   "metadata": {},
   "source": [
    "## Challenge 7: Next Greater Element Using a Stack\n",
    "- The next greater element is the first element towards the right which is greater than the given element. \n",
    "- For example, in the list `[1, 3, 8, 4, 10, 5]`, the next greater element of 3 is 8 and the next greater element for 8 is 10."
   ]
  },
  {
   "cell_type": "code",
   "execution_count": 15,
   "metadata": {},
   "outputs": [
    {
     "name": "stdout",
     "output_type": "stream",
     "text": [
      "top(): 4\n"
     ]
    }
   ],
   "source": [
    "s = MyStack()\n",
    "\n",
    "for i in range(5):  # Pushing values in\n",
    "    s.push(i)\n",
    "\n",
    "print(\"top(): \" + str(s.top()))\n",
    "\n",
    "# for x in range(5):  # Removing values\n",
    "#     print(stack.pop())\n",
    "\n",
    "# print(\"is_empty(): \" + str(stack.is_empty()))  # Checking if its empty"
   ]
  },
  {
   "cell_type": "code",
   "execution_count": 16,
   "metadata": {},
   "outputs": [
    {
     "name": "stdout",
     "output_type": "stream",
     "text": [
      "[6, 8, 8, 8, -1, -1]\n"
     ]
    },
    {
     "data": {
      "text/plain": [
       "[6, 8, 8, 8, 9, 9, -1, -1, -1]"
      ]
     },
     "execution_count": 16,
     "metadata": {},
     "output_type": "execute_result"
    }
   ],
   "source": [
    "def next_greater_element(lst):\n",
    "    if len(lst) == 0:\n",
    "        return -1\n",
    "    \n",
    "    for i in range(len(lst)): # outer loop\n",
    "        NGE = -1 # default NGE is -1\n",
    "        for j in range(i+1, len(lst)):\n",
    "            #print(lst[i], lst[j])\n",
    "            if lst[j] > lst[i]:\n",
    "                NGE = lst[j] # when greater element found, NGE becomes the greater element \n",
    "                break   # when greater element found, break the outerloop   \n",
    "        lst[i] = NGE # when all elemenets in outer loop is checked replace NGE in the original list\n",
    "        \n",
    "    return lst\n",
    "\n",
    "print(next_greater_element([4, 6, 3, 2, 8, 1]))\n",
    "next_greater_element([4, 6, 3, 2, 8, 1, 9, 9, 9])"
   ]
  },
  {
   "cell_type": "markdown",
   "metadata": {},
   "source": [
    "### Using Stack"
   ]
  },
  {
   "cell_type": "markdown",
   "metadata": {},
   "source": [
    "- elemenst in the stack are those who don't have a next greater yet\n",
    "\n",
    "> each element who has a greater element, leave the stack\n",
    "\n",
    "- each element in the stack must be sameller than the previous element"
   ]
  },
  {
   "cell_type": "markdown",
   "metadata": {},
   "source": [
    "- In each iteration we add a new element to the stack, but we need to add it in the proper place.\n",
    "\n",
    "> If the new element is smaller than the last stack element, we add it on top the the lat stack element\n",
    "\n",
    "> otherwise, we pop another stack element and compare it with the new element untill reaching the end of stack or find an element greater than new element, then we add the new element to the stack\n",
    "\n"
   ]
  },
  {
   "cell_type": "markdown",
   "metadata": {},
   "source": [
    "### In the below code, we append the index of each element to the stack and not the element itself!"
   ]
  },
  {
   "cell_type": "code",
   "execution_count": 17,
   "metadata": {},
   "outputs": [
    {
     "data": {
      "text/plain": [
       "[6, 8, 8, 8, 9, 9, -1, -1, -1]"
      ]
     },
     "execution_count": 17,
     "metadata": {},
     "output_type": "execute_result"
    }
   ],
   "source": [
    "from collections import deque\n",
    " # WE ADD INDECIES TO THE STACK\n",
    "\n",
    "    \n",
    "def findNextGreaterElements(L):\n",
    "    result = [-1] * len(L)\n",
    " \n",
    "    # create an empty stack\n",
    "    s = MyStack() # s = deque()\n",
    "    \n",
    "    # do for each element\n",
    "    for i in range(len(L)):\n",
    "      \n",
    "        # loop till we have a greater element on top or stack becomes empty.\n",
    "        # Keep popping elements from the stack smaller than the current\n",
    "        # element, and set their next greater element to the current element\n",
    "        \n",
    "        while s.is_empty() is False and L[s.top()] < L[i]: # it means a greater value is found\n",
    "            \n",
    "            # l[s.top()] is the list value of the top element of the stack, list Value of an index!\n",
    "            # s.top() is the last element in the stack which is the index of an element in the list\n",
    "            result[s.top()] = L[i] # # Assign L[i] as the NGE for the top element of stack in res\n",
    "            s.pop() # pop the next elemen till finding the element greater than next\n",
    " \n",
    "        # push current \"index\" into the stack\n",
    "        s.push(i)\n",
    "\n",
    "    return result\n",
    "\n",
    "\n",
    "findNextGreaterElements([4, 6, 3, 2, 8, 1, 9, 9, 9])"
   ]
  },
  {
   "cell_type": "markdown",
   "metadata": {},
   "source": [
    "### Same algo but using deque instead of MyStack()"
   ]
  },
  {
   "cell_type": "code",
   "execution_count": 18,
   "metadata": {},
   "outputs": [
    {
     "data": {
      "text/plain": [
       "[6, 8, 8, 8, 9, 9, -1, -1, -1]"
      ]
     },
     "execution_count": 18,
     "metadata": {},
     "output_type": "execute_result"
    }
   ],
   "source": [
    "def next_greater_element(lst):\n",
    "    s = deque()\n",
    "    res = [-1]*len(lst)\n",
    "    \n",
    "    for i in range(len(lst)):\n",
    "#       top_index = s[-1] # top element of stach which is an index of an element in the list\n",
    "        next_ele = lst[i]\n",
    "        while len(s) != 0 and lst[s[-1]] < next_ele:\n",
    "            res[s[-1]] = next_ele # Assign next_ele as the NGE for the top stack element in res\n",
    "            s.pop() # pop the next element till reaching an smaller element or end of the stack\n",
    "            \n",
    "        s.append(i) # puch the index of the new element\n",
    "    return res\n",
    "    \n",
    "    \n",
    "\n",
    "next_greater_element([4, 6, 3, 2, 8, 1, 9, 9, 9])"
   ]
  },
  {
   "cell_type": "markdown",
   "metadata": {},
   "source": [
    "## Challenge 9: min() Function Using a Stack in O(1)\n"
   ]
  },
  {
   "cell_type": "code",
   "execution_count": 37,
   "metadata": {},
   "outputs": [
    {
     "name": "stdout",
     "output_type": "stream",
     "text": [
      "Main stack: [5, 0, 2, 4, 1, 3, 0]\n",
      "Min stack: [5, 0, 0, 0, 0, 0, 0]\n",
      "Minimum value: 0\n",
      "**************************\n",
      "Main stack: [5, 0, 2, 4, 1, 3, -2]\n",
      "Min stack: [5, 0, 0, 0, 0, 0, -2]\n",
      "Minimum value: -2\n",
      "**************************\n",
      "Main stack: [5, 0, 2, 4, 1, 3]\n",
      "Min stack: [5, 0, 0, 0, 0, 0]\n",
      "Minimum value: 0\n"
     ]
    }
   ],
   "source": [
    "class MinStack:\n",
    "    # Constructor\n",
    "    def __init__(self):\n",
    "        self.min_stack = MyStack()\n",
    "        self.main_stack = MyStack()\n",
    "        return\n",
    "\n",
    "        # Removes and returns value from min_stack\n",
    "    def pop(self):\n",
    "        self.min_stack.pop()\n",
    "        return self.main_stack.pop()\n",
    "\n",
    "        # Pushes values into min_stack\n",
    "    def push(self, value):\n",
    "        self.main_stack.push(value)\n",
    "        if(self.min_stack.is_empty() or self.min_stack.top() > value): # if value is smaller than min, add it to min_stack\n",
    "            self.min_stack.push(value) \n",
    "        else:\n",
    "            self.min_stack.push(self.min_stack.top()) # if value is greater than min, add min instead of value to min_stack\n",
    "        # Returns minimum value from newStack in O(1) Time\n",
    "    def min(self):\n",
    "        if not self.min_stack.is_empty():\n",
    "            return self.min_stack.top()\n",
    "\n",
    "\n",
    "        \n",
    "stack = MinStack()\n",
    "stack.push(5)\n",
    "stack.push(0)\n",
    "stack.push(2)\n",
    "stack.push(4)\n",
    "stack.push(1)\n",
    "stack.push(3)\n",
    "stack.push(0)\n",
    "\n",
    "print(\"Main stack:\", stack.main_stack.stack_list)\n",
    "print(\"Min stack:\", stack.min_stack.stack_list)\n",
    "print(\"Minimum value: \" + str(stack.min()))\n",
    "print('**************************')\n",
    "\n",
    "stack.pop()\n",
    "stack.push(-2)\n",
    "\n",
    "print(\"Main stack:\", stack.main_stack.stack_list)\n",
    "print(\"Min stack:\", stack.min_stack.stack_list)\n",
    "print(\"Minimum value: \" + str(stack.min()))\n",
    "stack.pop()\n",
    "\n",
    "print('**************************')\n",
    "print(\"Main stack:\", stack.main_stack.stack_list)\n",
    "print(\"Min stack:\", stack.min_stack.stack_list)\n",
    "print(\"Minimum value: \" + str(stack.min()))"
   ]
  },
  {
   "cell_type": "markdown",
   "metadata": {},
   "source": [
    "### Same algo using deque"
   ]
  },
  {
   "cell_type": "code",
   "execution_count": 36,
   "metadata": {},
   "outputs": [
    {
     "name": "stdout",
     "output_type": "stream",
     "text": [
      "Main stack: deque([5, 0, 2, 4, 1, 3, 0])\n",
      "Min stack: deque([5, 0, 0, 0, 0, 0, 0])\n",
      "Minimum value: 0\n",
      "**************************\n",
      "Main stack: deque([5, 0, 2, 4, -2])\n",
      "Min stack: deque([5, 0, 0, 0, -2])\n",
      "Minimum value: -2\n",
      "**************************\n",
      "Main stack: deque([5, 0, 2, 4])\n",
      "Min stack: deque([5, 0, 0, 0])\n",
      "Minimum value: 0\n"
     ]
    }
   ],
   "source": [
    "class MinStack:\n",
    "    # Constructor\n",
    "    def __init__(self):\n",
    "        from collections import deque\n",
    "        self.main_stack = deque()\n",
    "        self.min_stack = deque()\n",
    "\n",
    "        # Removes and return value from newStack\n",
    "\n",
    "    def pop(self):\n",
    "        if len(self.main_stack) == 0:\n",
    "            return\n",
    "        self.min_stack.pop()\n",
    "        return self.main_stack.pop()\n",
    "\n",
    "        # Pushes values into newStack\n",
    "    def push(self, value):\n",
    "        self.main_stack.append(value)\n",
    "        if len(self.min_stack) == 0:\n",
    "            self.min_stack.append(value)\n",
    "        else:\n",
    "            if value < self.min_stack[-1]:\n",
    "                self.min_stack.append(value)\n",
    "            else:\n",
    "                current_min =  self.min_stack[-1]\n",
    "                self.min_stack.append(current_min)\n",
    "        \n",
    "\n",
    "        # Returns minimum value from newStack in O(1) Time\n",
    "    def min(self):\n",
    "        if len(self.min_stack) != 0:\n",
    "            return self.min_stack[-1]\n",
    "\n",
    "\n",
    "        \n",
    "stack = MinStack()\n",
    "stack.push(5)\n",
    "stack.push(0)\n",
    "stack.push(2)\n",
    "stack.push(4)\n",
    "stack.push(1)\n",
    "stack.push(3)\n",
    "stack.push(0)\n",
    "\n",
    "print(\"Main stack:\", stack.main_stack)\n",
    "print(\"Min stack:\", stack.min_stack)\n",
    "print(\"Minimum value: \" + str(stack.min()))\n",
    "print('**************************')\n",
    "\n",
    "stack.pop()\n",
    "stack.pop()\n",
    "stack.pop()\n",
    "stack.push(-2)\n",
    "\n",
    "print(\"Main stack:\", stack.main_stack)\n",
    "print(\"Min stack:\", stack.min_stack)\n",
    "print(\"Minimum value: \" + str(stack.min()))\n",
    "print('**************************')\n",
    "\n",
    "stack.pop()\n",
    "print(\"Main stack:\", stack.main_stack)\n",
    "print(\"Min stack:\", stack.min_stack)\n",
    "print(\"Minimum value: \" + str(stack.min()))\n"
   ]
  },
  {
   "cell_type": "markdown",
   "metadata": {},
   "source": [
    "## Check for balanced parentheses in Python\n",
    "- Difficulty Level : Easy\n",
    "\n",
    "- Given an expression string, write a python program to find whether a given string has balanced parentheses or not.\n",
    "\n",
    "Examples:\n",
    "\n",
    "```python\n",
    "Input : {[]{()}}\n",
    "Output : Balanced\n",
    "\n",
    "Input : [{}{}(]\n",
    "Output : Unbalanced```"
   ]
  },
  {
   "cell_type": "code",
   "execution_count": 37,
   "metadata": {
    "scrolled": true
   },
   "outputs": [
    {
     "name": "stdout",
     "output_type": "stream",
     "text": [
      "Main stack: [5, 0, 2, 4, 1, 3, 0]\n",
      "Min stack: [5, 0, 0, 0, 0, 0, 0]\n",
      "Minimum value: 0\n",
      "**************************\n",
      "Main stack: [5, 0, 2, 4, 1, 3, -2]\n",
      "Min stack: [5, 0, 0, 0, 0, 0, -2]\n",
      "Minimum value: -2\n",
      "**************************\n",
      "Main stack: [5, 0, 2, 4, 1, 3]\n",
      "Min stack: [5, 0, 0, 0, 0, 0]\n",
      "Minimum value: 0\n"
     ]
    }
   ],
   "source": [
    "class MinStack:\n",
    "    # Constructor\n",
    "    def __init__(self):\n",
    "        self.min_stack = MyStack()\n",
    "        self.main_stack = MyStack()\n",
    "        return\n",
    "\n",
    "        # Removes and returns value from min_stack\n",
    "    def pop(self):\n",
    "        self.min_stack.pop()\n",
    "        return self.main_stack.pop()\n",
    "\n",
    "        # Pushes values into min_stack\n",
    "    def push(self, value):\n",
    "        self.main_stack.push(value)\n",
    "        if(self.min_stack.is_empty() or self.min_stack.top() > value):\n",
    "            self.min_stack.push(value)\n",
    "        else:\n",
    "            self.min_stack.push(self.min_stack.top())\n",
    "        # Returns minimum value from newStack in O(1) Time\n",
    "    def min(self):\n",
    "        if not self.min_stack.is_empty():\n",
    "            return self.min_stack.top()\n",
    "\n",
    "\n",
    "        \n",
    "stack = MinStack()\n",
    "stack.push(5)\n",
    "stack.push(0)\n",
    "stack.push(2)\n",
    "stack.push(4)\n",
    "stack.push(1)\n",
    "stack.push(3)\n",
    "stack.push(0)\n",
    "\n",
    "print(\"Main stack:\", stack.main_stack.stack_list)\n",
    "print(\"Min stack:\", stack.min_stack.stack_list)\n",
    "print(\"Minimum value: \" + str(stack.min()))\n",
    "print('**************************')\n",
    "\n",
    "stack.pop()\n",
    "stack.push(-2)\n",
    "\n",
    "print(\"Main stack:\", stack.main_stack.stack_list)\n",
    "print(\"Min stack:\", stack.min_stack.stack_list)\n",
    "print(\"Minimum value: \" + str(stack.min()))\n",
    "stack.pop()\n",
    "\n",
    "print('**************************')\n",
    "print(\"Main stack:\", stack.main_stack.stack_list)\n",
    "print(\"Min stack:\", stack.min_stack.stack_list)\n",
    "print(\"Minimum value: \" + str(stack.min()))"
   ]
  },
  {
   "cell_type": "markdown",
   "metadata": {},
   "source": [
    "## Check for balanced parentheses in Python"
   ]
  },
  {
   "cell_type": "markdown",
   "metadata": {},
   "source": [
    "### Elimination"
   ]
  },
  {
   "cell_type": "markdown",
   "metadata": {},
   "source": [
    "### The any() function returns a boolean value:\n",
    "\n",
    "- True if at least one element of an iterable is true\n",
    "\n",
    "- False if all elements are false or if an iterable is empty"
   ]
  },
  {
   "cell_type": "code",
   "execution_count": 112,
   "metadata": {},
   "outputs": [
    {
     "name": "stdout",
     "output_type": "stream",
     "text": [
      "{[]{()}} - Balanced\n",
      "[{}{[}] - Unbalanced\n"
     ]
    }
   ],
   "source": [
    "# Python3 code to Check for \n",
    "# balanced parentheses in an expression\n",
    "def check(my_string):\n",
    "    brackets = ['()', '{}', '[]']\n",
    "    \n",
    "    # for x, each element of brackets, True if x in my_string and False if not\n",
    "    # The output of the below code is a list of True and False\n",
    "    # any(list of boolean) works as long as there is a True in the argument\n",
    "    while any([x in my_string for x in brackets]): # while any of th\"ese values are True:\n",
    "        for br in brackets: # check all these brackets elements\n",
    "            my_string = my_string.replace(br, '') # replace the found bracket with \"\"\n",
    "    return not my_string\n",
    "   \n",
    "    \n",
    "    \n",
    "# Driver code\n",
    "string = \"{[]{()}}\"\n",
    "print(string, \"-\", \"Balanced\" \n",
    "      if check(string) else \"Unbalanced\")\n",
    "\n",
    "string = \"[{}{[}]\"\n",
    "print(string, \"-\", \"Balanced\" \n",
    "      if check(string) else \"Unbalanced\")"
   ]
  },
  {
   "cell_type": "code",
   "execution_count": 102,
   "metadata": {},
   "outputs": [
    {
     "data": {
      "text/plain": [
       "[True, False, True]"
      ]
     },
     "execution_count": 102,
     "metadata": {},
     "output_type": "execute_result"
    }
   ],
   "source": [
    "my_string =  \"{[]{()}}\"\n",
    "brackets = ['()', '{}', '[]']\n",
    "[x in my_string for x in brackets]"
   ]
  },
  {
   "cell_type": "markdown",
   "metadata": {},
   "source": [
    "### Using stack"
   ]
  },
  {
   "cell_type": "code",
   "execution_count": 159,
   "metadata": {},
   "outputs": [
    {
     "data": {
      "text/plain": [
       "False"
      ]
     },
     "execution_count": 159,
     "metadata": {},
     "output_type": "execute_result"
    }
   ],
   "source": [
    "# when we have only paranthesis\n",
    "def BalancedBrackets(st):\n",
    "    s = deque()\n",
    "\n",
    "    for char in st:\n",
    "        #print(s)\n",
    "        if char == '(' or char == '[' or char == '{':\n",
    "            s.append(char)\n",
    "        elif char == ')' or char ==  ']' or char ==  '}':\n",
    "            if len(s) == 0:\n",
    "                return False\n",
    "            top_ele = s.pop()           \n",
    "            if char == ')' and top_ele ==  '(':\n",
    "                continue\n",
    "            if char ==  ']' or top_ele ==  '[':\n",
    "                continue\n",
    "            if char == '}' and top_ele ==  '{':\n",
    "                continue\n",
    "            else:\n",
    "                return False\n",
    "    \n",
    "    print(s)\n",
    "    if len(s) == 0:\n",
    "        return True\n",
    "    else:\n",
    "        return False\n",
    "        \n",
    "        \n",
    "BalancedBrackets(\"{123(456[.768{(})])}\")"
   ]
  },
  {
   "cell_type": "code",
   "execution_count": null,
   "metadata": {},
   "outputs": [],
   "source": []
  }
 ],
 "metadata": {
  "kernelspec": {
   "display_name": "Python 3",
   "language": "python",
   "name": "python3"
  },
  "language_info": {
   "codemirror_mode": {
    "name": "ipython",
    "version": 3
   },
   "file_extension": ".py",
   "mimetype": "text/x-python",
   "name": "python",
   "nbconvert_exporter": "python",
   "pygments_lexer": "ipython3",
   "version": "3.7.4"
  }
 },
 "nbformat": 4,
 "nbformat_minor": 2
}
