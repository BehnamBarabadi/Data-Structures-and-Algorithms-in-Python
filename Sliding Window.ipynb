{
 "cells": [
  {
   "cell_type": "markdown",
   "metadata": {},
   "source": [
    "# **Sliding Window**"
   ]
  },
  {
   "cell_type": "code",
   "execution_count": 1,
   "metadata": {},
   "outputs": [
    {
     "data": {
      "text/html": [
       "<style>.container { width:100% !important; }</style>"
      ],
      "text/plain": [
       "<IPython.core.display.HTML object>"
      ]
     },
     "metadata": {},
     "output_type": "display_data"
    }
   ],
   "source": [
    "from IPython.core.display import display, HTML\n",
    "display(HTML(\"<style>.container { width:100% !important; }</style>\"))"
   ]
  },
  {
   "cell_type": "markdown",
   "metadata": {},
   "source": [
    "### Find or calculate something among all the **contiguous subarrays** (or sublists) of a **given size**."
   ]
  },
  {
   "cell_type": "markdown",
   "metadata": {},
   "source": [
    "## Find the average of all contiguous subarrays of size ‘K’ \n",
    "Given an array, find the average of all contiguous subarrays of size ‘K’ in it."
   ]
  },
  {
   "cell_type": "markdown",
   "metadata": {},
   "source": [
    "### A. Brute Force\n",
    "$ O(N.K) $"
   ]
  },
  {
   "cell_type": "code",
   "execution_count": null,
   "metadata": {},
   "outputs": [],
   "source": [
    "def find_averages_of_subarrays(K, arr):\n",
    "    res = []\n",
    "    for i in range(len(arr)-K + 1):\n",
    "        sum_ = 0\n",
    "        for j in range(i, i+K):\n",
    "            sum_ += arr[j]\n",
    "        res.append(sum_ / 5)\n",
    "\n",
    "    return res\n",
    "\n",
    "\n",
    "\n",
    "result = find_averages_of_subarrays(5, [1, 3, 2, 6, -1, 4, 1, 8, 2])\n",
    "print(\"Averages of subarrays of size K: \" + str(result))"
   ]
  },
  {
   "cell_type": "markdown",
   "metadata": {},
   "source": [
    "## B. Sliding Window\n",
    "$ O(N)$"
   ]
  },
  {
   "cell_type": "code",
   "execution_count": null,
   "metadata": {},
   "outputs": [],
   "source": [
    "def find_averages_of_subarrays(K, arr):\n",
    "    res = []\n",
    "    start_index, end_index = 0 , 0\n",
    "    sum_ = 0\n",
    "    for end_index in range(len(arr)):\n",
    "        sum_ += arr[end_index]\n",
    "        # In the beginning, we keep adding values to sum untill reaching the Kth element\n",
    "        # Then on the the next iterations, we avg and remove the first element\n",
    "        if end_index >= K - 1: \n",
    "            res.append(sum_ / K)\n",
    "            sum_ -= arr[start_index]\n",
    "            start_index += 1\n",
    "    return res\n",
    "\n",
    "\n",
    "result = find_averages_of_subarrays(5, [1, 3, 2, 6, -1, 4, 1, 8, 2])\n",
    "print(\"Averages of subarrays of size K: \" + str(result))"
   ]
  },
  {
   "cell_type": "markdown",
   "metadata": {},
   "source": [
    "### C. Same algo using while instead of for"
   ]
  },
  {
   "cell_type": "code",
   "execution_count": null,
   "metadata": {},
   "outputs": [],
   "source": [
    "def find_averages_of_subarrays(K, arr):\n",
    "    res = []\n",
    "    start_index, end_index = 0 , 0\n",
    "    sum_ = 0\n",
    "    while end_index < len(arr):\n",
    "        sum_ += arr[end_index]\n",
    "        # In the beginning, we keep adding values to sum untill reaching the Kth element\n",
    "        # Then on the the next iterations, we avg and remove the first element\n",
    "        if end_index >= K - 1: \n",
    "            res.append(sum_ / K)\n",
    "            sum_ -= arr[start_index]\n",
    "            start_index += 1\n",
    "        end_index += 1\n",
    "    return res\n",
    "\n",
    "\n",
    "result = find_averages_of_subarrays(5, [1, 3, 2, 6, -1, 4, 1, 8, 2])\n",
    "print(\"Averages of subarrays of size K: \" + str(result))"
   ]
  },
  {
   "cell_type": "markdown",
   "metadata": {},
   "source": [
    "## Maximum Sum Subarray of Size K (easy)\n",
    "Given an array of positive numbers and a positive number ‘k,’ find the maximum sum of any contiguous subarray of size ‘k’."
   ]
  },
  {
   "cell_type": "code",
   "execution_count": 81,
   "metadata": {},
   "outputs": [
    {
     "name": "stdout",
     "output_type": "stream",
     "text": [
      "Maximum sum of a subarray of size K: [(9, [2, 4])]\n",
      "Maximum sum of a subarray of size K: [(7, [1, 2])]\n"
     ]
    }
   ],
   "source": [
    "def max_sub_array_of_size_k(k, arr):\n",
    "    res = [()]\n",
    "    start_index, end_index = 0,0\n",
    "    global_sum, curr_sum = 0, 0\n",
    "    while end_index < len(arr):\n",
    "        curr_sum += arr[end_index]\n",
    "        if end_index >= k-1: # when reaching kth element\n",
    "        ######## this is the alternative ######\n",
    "        # if (end_index - start_index + 1) == k:   \n",
    "        #    global_sum = max( curr_sum, global_sum)   \n",
    "        #######################################\n",
    "            if curr_sum > global_sum:\n",
    "                global_sum = curr_sum\n",
    "                res[0] = (global_sum, [start_index, end_index]) # replacing values in res with new values\n",
    "\n",
    "            curr_sum -= arr[start_index]\n",
    "            start_index += 1\n",
    "        end_index += 1\n",
    "    return res\n",
    "    \n",
    "\n",
    "print(\"Maximum sum of a subarray of size K: \" + str(max_sub_array_of_size_k(3, [2, 1, 5, 1, 3, 2])))\n",
    "print(\"Maximum sum of a subarray of size K: \" + str(max_sub_array_of_size_k(2, [2, 3, 4, 1, 5])))"
   ]
  },
  {
   "cell_type": "markdown",
   "metadata": {},
   "source": [
    "## Smallest Subarray with a given sum (easy)\n",
    "Given an array of positive numbers and a positive number ‘S,’ find the length of the smallest contiguous subarray whose sum is greater than or equal to ‘S’. Return 0 if no such subarray exists."
   ]
  },
  {
   "cell_type": "code",
   "execution_count": null,
   "metadata": {},
   "outputs": [],
   "source": [
    "def smallest_subarray_with_given_sum(k, arr):\n",
    "    res = []\n",
    "    min_length = float('inf')\n",
    "    start_indedx, end_index = 0, 0\n",
    "    sum_ = 0\n",
    "    while end_index < len(arr):\n",
    "        sum_ += arr[end_index]us\n",
    "        \n",
    "        while sum_ >= k:\n",
    "            if (end_index -  start_indedx + 1) < min_length:\n",
    "                min_length = (end_index - start_indedx + 1)\n",
    "                s = start_indedx\n",
    "                e = end_index\n",
    "                \n",
    "            sum_ -= arr[start_indedx]\n",
    "            start_indedx += 1\n",
    "            \n",
    "        end_index += 1\n",
    "    if min_length ==float('inf'):\n",
    "        return 0\n",
    "    return min_length, arr[s: e+1]\n",
    "\n",
    "\n",
    "print(\"Smallest subarray length: \" + str(smallest_subarray_with_given_sum(7, [2, 1, 5, 2, 3, 2])))\n",
    "print(\"Smallest subarray length: \" + str(smallest_subarray_with_given_sum(7, [2, 1, 5, 2, 8])))\n",
    "print(\"Smallest subarray length: \" + str(smallest_subarray_with_given_sum(8, [3, 4, 1, 1, 6])))"
   ]
  },
  {
   "cell_type": "markdown",
   "metadata": {},
   "source": [
    "## Longest Substring with K Distinct Characters (medium)\n",
    "Given a string, find the length of the longest substring in it with no more than K distinct characters.\n",
    "\n",
    "https://leetcode.com/problems/longest-substring-with-at-most-k-distinct-characters/solution/"
   ]
  },
  {
   "cell_type": "markdown",
   "metadata": {},
   "source": [
    "### A. Brute Force"
   ]
  },
  {
   "cell_type": "code",
   "execution_count": null,
   "metadata": {
    "scrolled": true
   },
   "outputs": [],
   "source": [
    "def longest_substring_with_k_distinct(str, k):\n",
    "    longest_sub = float('-inf')\n",
    "    \n",
    "    # we start from each element and check the next elemenets\n",
    "    for i in range(len(str)- 1):\n",
    "        sub = [] # with each new star letter, create a new empty sunstring\n",
    "        sub.append(str[i])\n",
    "        for j in range(i+1, len(str)):\n",
    "            # when next_letter is new and number of unique letters in sub is less than k\n",
    "            if str[j] not in sub and len(set(sub)) < k:\n",
    "                sub.append(str[j])\n",
    "                \n",
    "            # when next_letter is not new and sub doesn't have more than k distinct elements\n",
    "            elif str[j] in sub and len(set(sub)) <= k:\n",
    "                sub.append(str[j])\n",
    "                continue # got to the next letter in j loop\n",
    "                \n",
    "            # when next_letter is new and sub already has k distinct element\n",
    "            elif str[j] not in sub and len(set(sub)) == k:  \n",
    "                if len(sub) > longest_sub: longest_sub = len(sub)  \n",
    "                break # This loop is finished and go to the next letter in i loop\n",
    "\n",
    "    return longest_sub\n",
    "\n",
    "\n",
    "\n",
    "print(\"Length of the longest substring: \" + str(longest_substring_with_k_distinct(\"araaci\", 2)))\n",
    "print(\"Length of the longest substring: \" + str(longest_substring_with_k_distinct(\"araaci\", 1)))\n",
    "print(\"Length of the longest substring: \" + str(longest_substring_with_k_distinct(\"cbbebi\", 3)))"
   ]
  },
  {
   "cell_type": "markdown",
   "metadata": {},
   "source": [
    "## B. Sliding Window and Hashmap\n",
    "$ O(N)$\n",
    "- his problem follows the Sliding Window pattern, and we can use a similar dynamic sliding window strategy as discussed in Smallest Subarray with a given sum. We can use a HashMap to remember the frequency of each character we have processed. Here is how we will solve this problem:"
   ]
  },
  {
   "cell_type": "code",
   "execution_count": 31,
   "metadata": {},
   "outputs": [
    {
     "name": "stdout",
     "output_type": "stream",
     "text": [
      "Length of the longest substring: 4\n",
      "Length of the longest substring: 2\n",
      "Length of the longest substring: 5\n"
     ]
    }
   ],
   "source": [
    "def longest_substring_with_k_distinct(str, k):\n",
    "    from collections import Counter\n",
    "    letter_freq = Counter()\n",
    "    \n",
    "    start_indedx, end_index = 0, 0\n",
    "    max_length = 0\n",
    "    \n",
    "    while end_index < len(str):\n",
    "        # count and store each element in letter_freq\n",
    "        letter_freq[str[end_index]] += 1\n",
    "\n",
    "# while number of ditinct letters in letter_freq is greater than k\n",
    "# shrink the sliding window, until we are left with 'k' distinct characters in the char_frequency\n",
    "        while len(letter_freq) > k:\n",
    "            letter_freq[str[start_indedx]] -= 1 # reduce the count of the most left character\n",
    "            if letter_freq[str[start_indedx]] == 0: \n",
    "# the goal is decrease the freq of a letter untill we delete a distinc letter from letter_freq \n",
    "# so that it's length decreses\n",
    "                del letter_freq[str[start_indedx]]\n",
    "            start_indedx += 1\n",
    "\n",
    "        l = (end_index - start_indedx) + 1\n",
    "        max_length = max(max_length, l) # this stores the length of the longest substring \n",
    "        end_index += 1\n",
    "    \n",
    "    return max_length\n",
    "\n",
    "\n",
    "\n",
    "print(\"Length of the longest substring: \" + str(longest_substring_with_k_distinct(\"araaci\", 2)))\n",
    "print(\"Length of the longest substring: \" + str(longest_substring_with_k_distinct(\"araaci\", 1)))\n",
    "print(\"Length of the longest substring: \" + str(longest_substring_with_k_distinct(\"cbbebi\", 3)))"
   ]
  },
  {
   "cell_type": "code",
   "execution_count": 32,
   "metadata": {},
   "outputs": [
    {
     "name": "stdout",
     "output_type": "stream",
     "text": [
      "Length of the longest substring: 3\n"
     ]
    }
   ],
   "source": [
    "Fruit=['A', 'B', 'C', 'B', 'B', 'C']\n",
    "Fruit2=['A', 'B', 'C', 'A', 'C']\n",
    "print(\"Length of the longest substring: \" + str(longest_substring_with_k_distinct(Fruit2, 2)))"
   ]
  },
  {
   "cell_type": "markdown",
   "metadata": {},
   "source": [
    "## Fruits into Baskets (medium)\n",
    "Given an array of characters where each character represents a fruit tree, you are given two baskets, and your goal is to put maximum number of fruits in each basket. The only restriction is that each basket can have only one type of fruit.\n",
    "\n",
    "https://leetcode.com/problems/fruit-into-baskets/"
   ]
  },
  {
   "cell_type": "code",
   "execution_count": null,
   "metadata": {},
   "outputs": [],
   "source": [
    "def fruits_into_baskets(fruits):\n",
    "    from collections import Counter\n",
    "    fruit_freq = Counter()\n",
    "    start_index , end_index  = 0, 0\n",
    "    max_length = float('-inf')\n",
    "    \n",
    "    while end_index < len(fruits):\n",
    "        fruit_freq[fruits[end_index]] += 1\n",
    "        while len(fruit_freq) > 2:\n",
    "            # when we have only 1 of a fruit, we need to delete it (count 0 meants deletion)\n",
    "            if fruit_freq[fruits[start_index]] == 1:\n",
    "                del fruit_freq[fruits[start_index]]\n",
    "            else:\n",
    "                fruit_freq[fruits[start_index]] -= 1\n",
    "            start_index += 1\n",
    "\n",
    "        max_length =  max(max_length, (end_index - start_index + 1))\n",
    "        end_index += 1\n",
    "\n",
    "    return max_length\n",
    "\n",
    "\n",
    "print(\"Maximum number of fruits: \" + str(fruits_into_baskets(['A', 'B', 'C', 'A', 'C'])))\n",
    "print(\"Maximum number of fruits: \" + str(fruits_into_baskets(['A', 'B', 'C', 'B', 'B', 'C'])))\n"
   ]
  },
  {
   "cell_type": "markdown",
   "metadata": {},
   "source": [
    "## No-repeat Substring (hard)\n",
    "Given a string, find the length of the longest substring, which has no repeating characters."
   ]
  },
  {
   "cell_type": "markdown",
   "metadata": {},
   "source": [
    "### A. Brute Force"
   ]
  },
  {
   "cell_type": "code",
   "execution_count": 29,
   "metadata": {},
   "outputs": [
    {
     "name": "stdout",
     "output_type": "stream",
     "text": [
      "Length of the longest substring: 3\n",
      "Length of the longest substring: 2\n",
      "Length of the longest substring: 3\n"
     ]
    }
   ],
   "source": [
    "def non_repeat_substring(str):\n",
    "    max_length = float('-inf')\n",
    "    for i in range(len(str)-1):\n",
    "        s = set()\n",
    "        s.add(str[i])\n",
    "        for j in range(i+1, len(str)):\n",
    "            if str[j] in s:\n",
    "                break\n",
    "            else:\n",
    "                s.add(str[j])\n",
    "                if len(s) > max_length:\n",
    "                    max_length = len(s)\n",
    "            \n",
    "    return max_length\n",
    "\n",
    "print(\"Length of the longest substring: \" + str(non_repeat_substring(\"aabccbb\")))\n",
    "print(\"Length of the longest substring: \" + str(non_repeat_substring(\"abbbb\")))\n",
    "print(\"Length of the longest substring: \" + str(non_repeat_substring(\"abccde\")))"
   ]
  },
  {
   "cell_type": "markdown",
   "metadata": {},
   "source": [
    "### B. Sliding Window\n",
    "The tricky part is when we reach a duplicate. There are 2 situations:\n",
    "1. When the previous index of the duplicate\n",
    "character is greater than `start_index`:\n",
    "\n",
    "> EX. `abba`, when reaching second `b`, `start_index` is 0 but `letter_map[b]` is 1\n",
    "> ### In the current window (`ab` starts from $1st$ `a`) we reached a duplicate ($2nd$ `b`) \n",
    "\n",
    "2. When `start_index` is greater than the previous index of the repated character:\n",
    "\n",
    "> EX. `abba`, when reaching second `a`, `start_index` is 2 but `letter_map[a]` is 0\n",
    " > ### we reached a duplicate ($2nd$ `a`) not in the current window (`ba`starts from $2nd$ `b`)\n",
    "\n",
    "\n",
    "### In both situations, we choose the greatest index as the `start_index`\n",
    "\n",
    "\n",
    "- https://leetcode.com/problems/longest-substring-without-repeating-characters/solution/"
   ]
  },
  {
   "cell_type": "code",
   "execution_count": 30,
   "metadata": {},
   "outputs": [
    {
     "name": "stdout",
     "output_type": "stream",
     "text": [
      "Length of the longest substring: 3\n",
      "Length of the longest substring: 2\n",
      "Length of the longest substring: 3\n",
      "Length of the longest substring: 2\n"
     ]
    }
   ],
   "source": [
    "def non_repeat_substring(str):\n",
    "    max_length = float('-inf')\n",
    "    start, end = 0, 0\n",
    "    letter_map = {}\n",
    "    \n",
    "    while end < len(str):\n",
    "        # if the map already contains the 'right_char', shrink the window from the beginning \n",
    "        # so that # we have only one occurrence of 'right_char'\n",
    "        if str[end] in letter_map:\n",
    "            # this is tricky; start is the maximum of current start and \n",
    "            # 1 + index of the last occurance of the duplicate letter\n",
    "            # we add 1 because current window starts from the next letter of the previous occurance\n",
    "            start = max(start, letter_map[str[end]] + 1)\n",
    "        letter_map[str[end]] = end\n",
    "        max_length = max(max_length, end-start+1 )\n",
    "        end += 1\n",
    "\n",
    "    return max_length\n",
    "\n",
    "print(\"Length of the longest substring: \" + str(non_repeat_substring(\"aabccbb\")))\n",
    "print(\"Length of the longest substring: \" + str(non_repeat_substring(\"abbbb\")))\n",
    "print(\"Length of the longest substring: \" + str(non_repeat_substring(\"abccde\")))\n",
    "print(\"Length of the longest substring: \" + str(non_repeat_substring(\"abba\")))"
   ]
  },
  {
   "cell_type": "markdown",
   "metadata": {},
   "source": [
    "## Longest Substring with Same Letters after Replacement (hard)\n",
    "Given a string with lowercase letters only, if you are allowed to replace no more than ‘k’ letters with any letter, find the length of the longest substring having the same letters after replacement."
   ]
  },
  {
   "cell_type": "markdown",
   "metadata": {},
   "source": [
    "If we there was not k constraints:\n",
    "\n",
    "> `the number of elemenets to change = string length - the number of occurance of the most frequent letter`\n",
    "\n",
    "Now for each substring:\n",
    "\n",
    "> `the number of elemenets to change = subtsring length - the number of occurance of the most frequent letter in that substring`\n"
   ]
  },
  {
   "cell_type": "markdown",
   "metadata": {},
   "source": [
    "We start from the first element and add elements to the substring, whenever `the number of elemenets to change ` in the current substring exceeds `k`, we shrink the window from left by increasing `start_index` and decrease the frequency of each removed letter in `frequency_map`\n",
    "\n",
    "### The **number of letters to change** in each substring is :\n",
    "        (end - start + 1) - max(letter_freq.values()) "
   ]
  },
  {
   "cell_type": "code",
   "execution_count": 54,
   "metadata": {},
   "outputs": [
    {
     "name": "stdout",
     "output_type": "stream",
     "text": [
      "5\n",
      "4\n",
      "3\n"
     ]
    }
   ],
   "source": [
    "def length_of_longest_substring(str, k):\n",
    "    start, end = 0, 0\n",
    "    max_length = float('-inf')\n",
    "    from collections import Counter\n",
    "    letter_freq = Counter()\n",
    "\n",
    "    for end, right_char in enumerate(str):\n",
    "        letter_freq[right_char] += 1\n",
    "\n",
    "        # now count the number of letters to change in current substring which is :\n",
    "        # (end - start + 1) - max(letter_freq.values()) \n",
    "        while (end - start + 1) - max(letter_freq.values()) > k:\n",
    "            letter_freq[str[start]] -= 1\n",
    "            start += 1\n",
    "            \n",
    "        if (end - start + 1) > max_length:\n",
    "            max_length = end - start + 1\n",
    "\n",
    "    return max_length\n",
    "\n",
    "\n",
    "print(length_of_longest_substring(\"aabccbb\", 2))\n",
    "print(length_of_longest_substring(\"abbcb\", 1))\n",
    "print(length_of_longest_substring(\"abccde\", 1))\n"
   ]
  },
  {
   "cell_type": "markdown",
   "metadata": {},
   "source": [
    "## Longest Subarray with Ones after Replacement (hard)\n",
    "Given an array containing 0s and 1s, if you are allowed to replace no more than ‘k’ 0s with 1s, find the length of the longest contiguous subarray having all 1s."
   ]
  },
  {
   "cell_type": "markdown",
   "metadata": {},
   "source": [
    "### This is very simillar to the previous question with one difference,\n",
    "Here we can only change 0 to 1. So the number of elements to change is equal to thye number of 0s in the current window."
   ]
  },
  {
   "cell_type": "code",
   "execution_count": 72,
   "metadata": {},
   "outputs": [
    {
     "name": "stdout",
     "output_type": "stream",
     "text": [
      "6\n",
      "9\n"
     ]
    }
   ],
   "source": [
    "def length_of_longest_substring(arr, k):\n",
    "    start, end = 0, 0\n",
    "    max_length = float('-inf')\n",
    "    zero_count = 0 # to counts the occurance of zeros\n",
    "    \n",
    "    for end, right_digit in enumerate(arr):\n",
    "        if right_digit == 0:\n",
    "            zero_count += 1\n",
    "        # when number of zeros in the current window exceed k, we need to shrink the window    \n",
    "        while zero_count > k:\n",
    "            if arr[start] == 0:\n",
    "                zero_count -= 1\n",
    "            start += 1 # regradless of value of start, we increase start one by one\n",
    "            \n",
    "        max_length = max(max_length, end - start + 1)\n",
    "\n",
    "    return max_length\n",
    "\n",
    "\n",
    "print(length_of_longest_substring([0, 1, 1, 0, 0, 0, 1, 1, 0, 1, 1], 2))\n",
    "print(length_of_longest_substring([0, 1, 0, 0, 1, 1, 0, 1, 1, 0, 0, 1, 1], 3))"
   ]
  },
  {
   "cell_type": "markdown",
   "metadata": {},
   "source": [
    "## Problem Challenge 1\n",
    "### Permutation in a String (hard) #\n",
    "Given a string and a pattern, find out if the string contains any permutation of the pattern.\n",
    "\n",
    "Permutation is defined as the re-arranging of the characters of the string. For example, “abc” has the following six permutations:\n",
    "\n",
    "abc\n",
    "acb\n",
    "bac\n",
    "bca\n",
    "cab\n",
    "cba\n",
    "If a string has ‘n’ distinct characters, it will have n!n! permutations."
   ]
  },
  {
   "cell_type": "code",
   "execution_count": 140,
   "metadata": {},
   "outputs": [
    {
     "name": "stdout",
     "output_type": "stream",
     "text": [
      "Permutation exist: True\n",
      "Permutation exist: False\n",
      "Permutation exist: True\n",
      "Permutation exist: True\n",
      "Permutation exist: False\n"
     ]
    }
   ],
   "source": [
    "def find_permutation(str, pat):\n",
    "    from collections import Counter\n",
    "    c = Counter(pat)\n",
    "    \n",
    "    for i, char in enumerate(str):\n",
    "        c = Counter(pat)\n",
    "        if char in c: # when the first common element found\n",
    "            for j in range(i, i + len(pat)): # the next elements in str must be in pattern with any order\n",
    "                if j == len(str): # whe the numner of left chracters is less than pattern length\n",
    "                    break\n",
    "                if str[j] in c: # when a common chrcater found\n",
    "                    if c[str[j]] > 1:\n",
    "                        c[str[j]] -= 1 # decrese its count if count is greater than 1 \n",
    "                    else: \n",
    "                        del c[str[j]] # remove the character if count is 1 \n",
    "            if len(c) == 0: # when all elemets searched and length of counter is 0, means pattern exsists\n",
    "                return True\n",
    "    return False\n",
    "\n",
    "\n",
    "\n",
    "print('Permutation exist: ' + str(find_permutation(\"oidbcaf\", \"abc\")))\n",
    "print('Permutation exist: ' + str(find_permutation(\"odicf\", \"dc\")))\n",
    "print('Permutation exist: ' + str(find_permutation(\"bcdxabcdy\", \"bcdyabcdx\")))\n",
    "print('Permutation exist: ' + str(find_permutation(\"aaacb\", \"abc\")))\n",
    "print('Permutation exist: ' + str(find_permutation(\"ooolleoooleh\", \"hello\")))"
   ]
  },
  {
   "cell_type": "markdown",
   "metadata": {},
   "source": [
    "### B. Sliding Window Solution\n",
    "https://leetcode.com/problems/permutation-in-string/discuss/175592/Python-8-lines-Sliding-Window"
   ]
  },
  {
   "cell_type": "markdown",
   "metadata": {},
   "source": [
    "### The idea is we create a sliding window (a counter) of size of the pattern from the input string and  move it forward one element at a time and hceck it against the pattern counter.\n",
    "\n",
    "We gradually add elemenets to the end of winodw and drop elements from the start. If in any step, sliding window counter becomes the same as pattern counter, retun `True` and if this nevere hapopened, return `False`"
   ]
  },
  {
   "cell_type": "code",
   "execution_count": 18,
   "metadata": {},
   "outputs": [
    {
     "name": "stdout",
     "output_type": "stream",
     "text": [
      "Permutation exist: True\n",
      "Permutation exist: False\n",
      "Permutation exist: True\n",
      "Permutation exist: True\n",
      "Permutation exist: False\n"
     ]
    }
   ],
   "source": [
    "def find_permutation(string, pattern):\n",
    "    start = 0\n",
    "        \n",
    "    from collections import Counter\n",
    "    pattern_counter = Counter(pattern)\n",
    "    window_counter = Counter(string[:len(pattern)])\n",
    "\n",
    "    if window_counter == pattern_counter:\n",
    "        return True\n",
    "\n",
    "    for value in string[len(pattern):]:\n",
    "        # add annd remove new elements\n",
    "        window_counter[value] += 1\n",
    "        window_counter[string[start]] -= 1\n",
    "        \n",
    "        # we need to delete the characters with count of 0 from window_counter otherwise,\n",
    "        # window_counter and pattern_counter never be the same cuase pattern_counter doesn't\n",
    "        # have any key with value of 0.\n",
    "        if window_counter[string[start]] == 0:\n",
    "            del window_counter[string[start]]\n",
    "        start += 1\n",
    "        #print(window_counter , pattern_counter)\n",
    "        if window_counter == pattern_counter:\n",
    "            return True\n",
    "\n",
    "    return False\n",
    "\n",
    "\n",
    "print('Permutation exist: ' + str(find_permutation(\"oidbcaf\", \"abc\")))\n",
    "print('Permutation exist: ' + str(find_permutation(\"odicf\", \"dc\")))\n",
    "print('Permutation exist: ' + str(find_permutation(\"bcdxabcdy\", \"bcdyabcdx\")))\n",
    "print('Permutation exist: ' + str(find_permutation(\"aaacb\", \"abc\")))\n",
    "print('Permutation exist: ' + str(find_permutation(\"lleoleh\", \"hello\")))"
   ]
  },
  {
   "cell_type": "markdown",
   "metadata": {},
   "source": [
    "## Problem Challenge 2\n",
    "### String Anagrams (hard) #\n",
    "Given a string and a pattern, find all anagrams of the pattern in the given string.\n",
    "\n",
    "Every anagram is a permutation of a string. As we know, when we are not allowed to repeat characters while finding permutations of a string, we get N!N! permutations (or anagrams) of a string having NN characters\n",
    "\n",
    "https://leetcode.com/problems/find-all-anagrams-in-a-string/submissions/"
   ]
  },
  {
   "cell_type": "code",
   "execution_count": 19,
   "metadata": {},
   "outputs": [
    {
     "name": "stdout",
     "output_type": "stream",
     "text": [
      "Counter({'p': 2}) Counter({'p': 1, 'q': 1})\n",
      "equal:  Counter({'p': 1, 'q': 1}) Counter({'p': 1, 'q': 1})\n",
      "equal:  Counter({'p': 1, 'q': 1}) Counter({'p': 1, 'q': 1})\n",
      "Counter({'b': 2, 'a': 1}) Counter({'a': 1, 'b': 1, 'c': 1})\n",
      "equal:  Counter({'b': 1, 'c': 1, 'a': 1}) Counter({'a': 1, 'b': 1, 'c': 1})\n",
      "equal:  Counter({'b': 1, 'c': 1, 'a': 1}) Counter({'a': 1, 'b': 1, 'c': 1})\n",
      "equal:  Counter({'b': 1, 'c': 1, 'a': 1}) Counter({'a': 1, 'b': 1, 'c': 1})\n"
     ]
    },
    {
     "data": {
      "text/plain": [
       "[2, 3, 4]"
      ]
     },
     "execution_count": 19,
     "metadata": {},
     "output_type": "execute_result"
    }
   ],
   "source": [
    "def find_string_anagrams(str, pattern):\n",
    "    res = []\n",
    "    start = 0\n",
    "    \n",
    "    from collections import Counter\n",
    "    pattern_counter = Counter(pattern)\n",
    "    window_counter = Counter(str[:len(pattern)])\n",
    "    print(window_counter, pattern_counter)\n",
    "    \n",
    "    if window_counter == pattern_counter:\n",
    "        print(window_counter, pattern_counter)\n",
    "        res.append(start)\n",
    "    for char in str[len(pattern):]:\n",
    "        # add annd remove new elements\n",
    "        window_counter[char] += 1\n",
    "        window_counter[str[start]] -= 1\n",
    "        \n",
    "        if window_counter[str[start]] == 0:\n",
    "            del window_counter[str[start]] \n",
    "            \n",
    "        start += 1\n",
    "        if window_counter == pattern_counter:\n",
    "            print('equal: ', window_counter, pattern_counter)\n",
    "            res.append(start)\n",
    "\n",
    "    return res\n",
    "\n",
    "\n",
    "String=\"ppqp\"\n",
    "Pattern=\"pq\"\n",
    "find_string_anagrams(String, Pattern)\n",
    "\n",
    "String=\"abbcabc\"\n",
    "Pattern=\"abc\"\n",
    "find_string_anagrams(String, Pattern)"
   ]
  },
  {
   "cell_type": "markdown",
   "metadata": {},
   "source": [
    "## Subarrays with Product Less than a Target (medium)\n",
    "Given an array with positive numbers and a target number, find all of its subarrays whose product is less than the target number.\n",
    "- **NOT Contiguous**"
   ]
  },
  {
   "cell_type": "code",
   "execution_count": 161,
   "metadata": {},
   "outputs": [
    {
     "name": "stdout",
     "output_type": "stream",
     "text": [
      "******************\n",
      "s:  0 e:  0 sum:  2\n",
      "res:  [[2]]\n",
      "s:  0 e:  1 sum:  6\n",
      "res:  [[2], [2, 3]]\n",
      "s:  0 e:  2 sum:  30\n",
      "******************\n",
      "s:  1 e:  1 sum:  3\n",
      "res:  [[2], [2, 3], [3]]\n",
      "s:  1 e:  2 sum:  15\n",
      "res:  [[2], [2, 3], [3], [3, 5]]\n",
      "s:  1 e:  3 sum:  150\n",
      "******************\n",
      "s:  2 e:  2 sum:  5\n",
      "res:  [[2], [2, 3], [3], [3, 5], [5]]\n",
      "s:  2 e:  3 sum:  50\n",
      "******************\n",
      "s:  3 e:  3 sum:  10\n",
      "res:  [[2], [2, 3], [3], [3, 5], [5], [10]]\n"
     ]
    },
    {
     "data": {
      "text/plain": [
       "[[2], [2, 3], [3], [3, 5], [5], [10]]"
      ]
     },
     "execution_count": 161,
     "metadata": {},
     "output_type": "execute_result"
    }
   ],
   "source": [
    "def find_subarrays(arr, target):\n",
    "    arr.sort()\n",
    "    res  = []\n",
    "    for i in range(len(arr)):\n",
    "        print('******************')\n",
    "        curr_sum = 1\n",
    "        start = i\n",
    "        end = i \n",
    "        while end < len(arr):\n",
    "            \n",
    "            curr_sum *= arr[end]\n",
    "            print('s: ',  start, 'e: ', end, 'sum: ', curr_sum)\n",
    "            if curr_sum >= target:\n",
    "                break\n",
    "            else:\n",
    "                res.append(arr[start:end+1])\n",
    "                end += 1\n",
    "            print('res: ', res)\n",
    "    return res\n",
    "\n",
    "\n",
    "find_subarrays([2, 5, 3, 10], target=30 )"
   ]
  },
  {
   "cell_type": "code",
   "execution_count": null,
   "metadata": {},
   "outputs": [],
   "source": []
  },
  {
   "cell_type": "code",
   "execution_count": null,
   "metadata": {},
   "outputs": [],
   "source": []
  },
  {
   "cell_type": "code",
   "execution_count": null,
   "metadata": {},
   "outputs": [],
   "source": []
  },
  {
   "cell_type": "code",
   "execution_count": null,
   "metadata": {},
   "outputs": [],
   "source": []
  },
  {
   "cell_type": "code",
   "execution_count": null,
   "metadata": {},
   "outputs": [],
   "source": []
  },
  {
   "cell_type": "code",
   "execution_count": null,
   "metadata": {},
   "outputs": [],
   "source": []
  },
  {
   "cell_type": "code",
   "execution_count": null,
   "metadata": {},
   "outputs": [],
   "source": []
  },
  {
   "cell_type": "code",
   "execution_count": null,
   "metadata": {},
   "outputs": [],
   "source": []
  },
  {
   "cell_type": "code",
   "execution_count": null,
   "metadata": {},
   "outputs": [],
   "source": []
  },
  {
   "cell_type": "code",
   "execution_count": null,
   "metadata": {},
   "outputs": [],
   "source": []
  },
  {
   "cell_type": "code",
   "execution_count": null,
   "metadata": {},
   "outputs": [],
   "source": []
  },
  {
   "cell_type": "code",
   "execution_count": null,
   "metadata": {},
   "outputs": [],
   "source": []
  },
  {
   "cell_type": "code",
   "execution_count": null,
   "metadata": {},
   "outputs": [],
   "source": []
  },
  {
   "cell_type": "code",
   "execution_count": null,
   "metadata": {},
   "outputs": [],
   "source": []
  },
  {
   "cell_type": "code",
   "execution_count": null,
   "metadata": {},
   "outputs": [],
   "source": []
  }
 ],
 "metadata": {
  "kernelspec": {
   "display_name": "Python 3",
   "language": "python",
   "name": "python3"
  },
  "language_info": {
   "codemirror_mode": {
    "name": "ipython",
    "version": 3
   },
   "file_extension": ".py",
   "mimetype": "text/x-python",
   "name": "python",
   "nbconvert_exporter": "python",
   "pygments_lexer": "ipython3",
   "version": "3.7.4"
  }
 },
 "nbformat": 4,
 "nbformat_minor": 2
}
