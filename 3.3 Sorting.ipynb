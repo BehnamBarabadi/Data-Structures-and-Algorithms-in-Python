{
 "cells": [
  {
   "cell_type": "markdown",
   "metadata": {},
   "source": [
    "# **SORTING**"
   ]
  },
  {
   "cell_type": "code",
   "execution_count": 1,
   "metadata": {},
   "outputs": [
    {
     "data": {
      "text/html": [
       "<style>.container { width:80% !important; }</style>"
      ],
      "text/plain": [
       "<IPython.core.display.HTML object>"
      ]
     },
     "metadata": {},
     "output_type": "display_data"
    }
   ],
   "source": [
    "from IPython.core.display import display, HTML\n",
    "display(HTML(\"<style>.container { width:80% !important; }</style>\"))"
   ]
  },
  {
   "cell_type": "markdown",
   "metadata": {},
   "source": [
    "## 1. Bubble Sort\n",
    "- In each run of algorith, `for i in range(n-1)` only the bigest element is soretd so we need to run in mutiple times `(n-1)` times, so all the elemenets sort.\n",
    "- When we sort `n-1` elemenst, the last element is already soretd"
   ]
  },
  {
   "cell_type": "markdown",
   "metadata": {},
   "source": [
    "\n",
    "<img src=\"images\\bubble_sort.jpg\" width=\"500\" >\n"
   ]
  },
  {
   "cell_type": "code",
   "execution_count": null,
   "metadata": {},
   "outputs": [],
   "source": [
    "def bubble_sort(arr):\n",
    "    n = len(arr)\n",
    "    for i in range(n-1): #number of times to run the comparisons(sorting n-1 elements is equal to sorting all elements)\n",
    "        for j in range(n -1- i): # ith element is already sorted\n",
    "            if arr[j] > arr[j+1]:\n",
    "                arr[j], arr[j+1] = arr[j+1], arr[j]\n",
    "    return(arr)\n",
    "            \n",
    "bubble_sort([10,12,3,15,6,2])"
   ]
  },
  {
   "cell_type": "markdown",
   "metadata": {},
   "source": [
    "## 2. Merge Sort\n",
    "1. Devide the array in 2 haves\n",
    "2. Recusrively call `merge_sort` on each half untill we reach the arrays of one element so the return would be the element in that array\n",
    "3. Merge this single element arrays back together using `merge` function to create sorted arrays of 2 elements arrays\n",
    "4. Merge these arrays togethert to recinstruct the final sorted array"
   ]
  },
  {
   "cell_type": "markdown",
   "metadata": {},
   "source": [
    "<img src=\"images\\merge_sort.jpg\">"
   ]
  },
  {
   "cell_type": "code",
   "execution_count": null,
   "metadata": {},
   "outputs": [],
   "source": [
    "def merge_sort(array):\n",
    "    print(\"Splitting \",array)\n",
    "    if len(array) <= 1:\n",
    "        return array\n",
    "\n",
    "    mid = len(array) // 2\n",
    "\n",
    "    left  = merge_sort(array[ :mid])\n",
    "    print('right of this array is input to right', array)\n",
    "    right = merge_sort(array[mid: ])\n",
    "    \n",
    "    print(\"Merging \", array)\n",
    "    print(\"return: \", merge(left, right))\n",
    "    print('--------------------------')\n",
    "    return merge(left, right)\n",
    "\n",
    "\n",
    "def merge(left, right):\n",
    "\n",
    "    result = []\n",
    "    l_pointer = r_pointer = 0\n",
    "\n",
    "    while l_pointer < len(left) and r_pointer < len(right):\n",
    "\n",
    "        if left[l_pointer] < right[r_pointer]:\n",
    "            result.append(left[l_pointer])\n",
    "            l_pointer += 1\n",
    "\n",
    "        else:\n",
    "            result.append(right[r_pointer])\n",
    "            r_pointer += 1\n",
    "    \n",
    "    #print(\"left\", right[r_pointer:])\n",
    "    result.extend(left[l_pointer:])\n",
    "    result.extend(right[r_pointer:])\n",
    "\n",
    "    return result\n",
    "\n",
    "\n",
    "nlist = [14,46,43,27]\n",
    "merge_sort(nlist)"
   ]
  },
  {
   "cell_type": "markdown",
   "metadata": {},
   "source": [
    "## 3.Quick Sort\n",
    "1. Set the last elemnt as pivot\n",
    "2. Create 2 lists of smaller and greater elemenets than pivot\n",
    "3. Recursively run `quick_sort` until each list has only one element\n",
    "4. Add all lists together to reconstruct the sorted arrau"
   ]
  },
  {
   "cell_type": "markdown",
   "metadata": {},
   "source": [
    "<img src=\"images\\quick_sort.jpg\">"
   ]
  },
  {
   "cell_type": "code",
   "execution_count": null,
   "metadata": {},
   "outputs": [],
   "source": [
    "def quick_sort(arr):\n",
    "    while len(arr) > 1:\n",
    "        piv = arr[-1]\n",
    "        s = [x for x in arr if x < piv]\n",
    "        g = [x for x in arr if x > piv]            \n",
    "        return quick_sort(s) + [piv] + quick_sort(g)\n",
    "    return arr\n",
    "        \n",
    "    \n",
    "test = [21, 4, 1, 3, 9, 23, 26, 20]\n",
    "quick_sort(test)"
   ]
  },
  {
   "cell_type": "code",
   "execution_count": null,
   "metadata": {},
   "outputs": [],
   "source": []
  }
 ],
 "metadata": {
  "kernelspec": {
   "display_name": "Python 3",
   "language": "python",
   "name": "python3"
  },
  "language_info": {
   "codemirror_mode": {
    "name": "ipython",
    "version": 3
   },
   "file_extension": ".py",
   "mimetype": "text/x-python",
   "name": "python",
   "nbconvert_exporter": "python",
   "pygments_lexer": "ipython3",
   "version": "3.7.4"
  }
 },
 "nbformat": 4,
 "nbformat_minor": 2
}
