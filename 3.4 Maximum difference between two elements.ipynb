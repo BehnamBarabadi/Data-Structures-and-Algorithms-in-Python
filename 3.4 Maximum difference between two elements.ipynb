{
 "cells": [
  {
   "cell_type": "markdown",
   "metadata": {},
   "source": [
    "## **Maximum difference between two elements such that larger element appears after the smaller number**\n",
    "- Difficulty Level : Medium\n",
    "- Given an array array of integers, find out the maximum difference between any two elements such that larger element appears after the smaller number."
   ]
  },
  {
   "cell_type": "markdown",
   "metadata": {},
   "source": [
    "Input : `arr = {2, 3, 10, 6, 4, 8, 1}`\n",
    "\n",
    "Output : `8`\n",
    "\n",
    "Explanation : The maximum difference is between 10 and 2.\n",
    "\n",
    "\n",
    "Input : `arr = {7, 9, 5, 6, 3, 2}`\n",
    "\n",
    "Output : `2`\n",
    "\n",
    "Explanation : The maximum difference is between 9 and 7."
   ]
  },
  {
   "cell_type": "markdown",
   "metadata": {},
   "source": [
    "### Method 1 (Simple)\n",
    "Use two loops. In the outer loop, pick elements one by one and in the inner loop calculate the difference of the picked element with every other element in the array and compare the difference with the maximum difference calculated so far. Below is the implementation of the above approach :\n",
    "\n",
    "`Time Complexity : O(n^2)`"
   ]
  },
  {
   "cell_type": "code",
   "execution_count": 10,
   "metadata": {},
   "outputs": [
    {
     "data": {
      "text/plain": [
       "(109, 110, 1)"
      ]
     },
     "execution_count": 10,
     "metadata": {},
     "output_type": "execute_result"
    }
   ],
   "source": [
    "def diff_finder(arr):\n",
    "    n = len(arr)\n",
    "    max_dif = arr[1] - arr[0]\n",
    "    best_j, best_i = arr[1], arr[0]\n",
    "    for i in range(n-1): # we can use n here but the last element doesn't have any elemenest after that\n",
    "        for j in range(i+1, n):\n",
    "            if arr[j] - arr[i] >  max_dif:\n",
    "                max_dif = arr[j] - arr[i]\n",
    "                best_j, best_i = arr[j], arr[i]\n",
    "    return max_dif,  best_j, best_i\n",
    "\n",
    "arr = [1, 2, 90, 10, 110]\n",
    "diff_finder(arr)"
   ]
  },
  {
   "cell_type": "code",
   "execution_count": 11,
   "metadata": {},
   "outputs": [
    {
     "data": {
      "text/plain": [
       "(20, 15, -5)"
      ]
     },
     "execution_count": 11,
     "metadata": {},
     "output_type": "execute_result"
    }
   ],
   "source": [
    "arr = [0, -5, 15, 10, 12]\n",
    "diff_finder(arr)"
   ]
  },
  {
   "cell_type": "markdown",
   "metadata": {},
   "source": [
    "### Method 2 (Tricky and Efficient)\n",
    "In this method, instead of taking difference of the picked element with every other element, we take the difference with the minimum element found so far. So we need to keep track of 2 things:\n",
    "1. Maximum difference found so far (max_diff).\n",
    "2. Minimum number visited so far (min_element).\n",
    "\n",
    "`Time Complexity : O(n)`"
   ]
  },
  {
   "cell_type": "code",
   "execution_count": 14,
   "metadata": {},
   "outputs": [
    {
     "data": {
      "text/plain": [
       "(109, 110, 1)"
      ]
     },
     "execution_count": 14,
     "metadata": {},
     "output_type": "execute_result"
    }
   ],
   "source": [
    "def diff_finder_2(arr):\n",
    "    n = len(arr)\n",
    "    max_dif = arr[1] - arr[0]\n",
    "    best_j, min_elem = arr[1], arr[0]\n",
    "    for i in range(1, n): # the 1st element is already set as the min_elem\n",
    "        if arr[i] - min_elem >  max_dif:\n",
    "            max_dif = arr[i] - min_elem\n",
    "            best_j = arr[i]\n",
    "        if arr[i] < min_elem:\n",
    "            min_elem = arr[i]\n",
    "    return max_dif,  best_j, min_elem\n",
    "\n",
    "arr = [1, 2, 90, 10, 110]\n",
    "diff_finder_2(arr)"
   ]
  },
  {
   "cell_type": "code",
   "execution_count": 15,
   "metadata": {},
   "outputs": [
    {
     "data": {
      "text/plain": [
       "(20, 15, -5)"
      ]
     },
     "execution_count": 15,
     "metadata": {},
     "output_type": "execute_result"
    }
   ],
   "source": [
    "arr = [0, -5, 15, 10, 12]\n",
    "diff_finder_2(arr)"
   ]
  },
  {
   "cell_type": "code",
   "execution_count": null,
   "metadata": {},
   "outputs": [],
   "source": []
  }
 ],
 "metadata": {
  "kernelspec": {
   "display_name": "Python 3",
   "language": "python",
   "name": "python3"
  },
  "language_info": {
   "codemirror_mode": {
    "name": "ipython",
    "version": 3
   },
   "file_extension": ".py",
   "mimetype": "text/x-python",
   "name": "python",
   "nbconvert_exporter": "python",
   "pygments_lexer": "ipython3",
   "version": "3.7.4"
  }
 },
 "nbformat": 4,
 "nbformat_minor": 2
}
