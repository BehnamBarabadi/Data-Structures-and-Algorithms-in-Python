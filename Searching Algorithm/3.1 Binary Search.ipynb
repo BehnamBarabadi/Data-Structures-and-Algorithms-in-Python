{
 "cells": [
  {
   "cell_type": "markdown",
   "metadata": {},
   "source": [
    "# Binary Search"
   ]
  },
  {
   "cell_type": "code",
   "execution_count": 2,
   "metadata": {},
   "outputs": [
    {
     "name": "stdout",
     "output_type": "stream",
     "text": [
      "-1\n",
      "------\n",
      "4\n"
     ]
    }
   ],
   "source": [
    "test_list = [1,3,9,11,15,19,29]\n",
    "test_val1 = 25\n",
    "test_val2 = 15\n",
    "print (binary_search(test_list, test_val1))\n",
    "print('------')\n",
    "print (binary_search(test_list, test_val2))"
   ]
  },
  {
   "cell_type": "code",
   "execution_count": 1,
   "metadata": {},
   "outputs": [],
   "source": [
    "def binary_search(arr, val):\n",
    "    s = 0\n",
    "    e = len(arr)-1\n",
    "    while s <= e:\n",
    "        m = (s + e)//2\n",
    "        if arr[m] == val:\n",
    "            return m\n",
    "        elif arr[m] > val:\n",
    "            e = m -1\n",
    "        else:\n",
    "            s = m + 1\n",
    "    return -1\n",
    "            "
   ]
  },
  {
   "cell_type": "markdown",
   "metadata": {},
   "source": [
    "You're going to write a binary search function.\n",
    "You should use an iterative approach - meaning\n",
    "using loops.\n",
    "\n",
    "Your function should take two inputs:\n",
    "a Python list to search through, and the value\n",
    "you're searching for.\n",
    "\n",
    "Assume the list only has distinct elements,\n",
    "meaning there are no repeated values, and \n",
    "elements are in a strictly increasing order.\n",
    "\n",
    "Return the index of value, or -1 if the value\n",
    "doesn't exist in the list.\n",
    "\n"
   ]
  },
  {
   "cell_type": "markdown",
   "metadata": {},
   "source": [
    "![image info](https://www.w3resource.com/w3r_images/python-search-and-sorting-exercise-1.png)"
   ]
  },
  {
   "cell_type": "markdown",
   "metadata": {},
   "source": [
    "### The goal is that mid, high and low converge at the searched value"
   ]
  },
  {
   "cell_type": "code",
   "execution_count": 10,
   "metadata": {},
   "outputs": [
    {
     "name": "stdout",
     "output_type": "stream",
     "text": [
      "0 3 6\n",
      "4 5 6\n",
      "6 6 6\n",
      "25 not found\n",
      "None\n",
      "------\n",
      "0 3 6\n",
      "4 5 6\n",
      "4 4 4\n",
      "15 found at index 4\n",
      "4\n"
     ]
    }
   ],
   "source": [
    "def binary_search(input_array, value):\n",
    "    low = 0\n",
    "    high = len(input_array) - 1\n",
    "    while low <= high:\n",
    "        mid = (low + high) // 2\n",
    "        print(low, mid, high)\n",
    "        if value == input_array[mid]:\n",
    "            print(f\"{value} found at index {mid}\")\n",
    "            return mid \n",
    "        elif value < input_array[mid]: # If x is smaller, ignore right half\n",
    "            high = mid - 1\n",
    "        else: # If x is greater, ignore left half \n",
    "            low = mid + 1\n",
    "    return print(f\"{value} not found\")\n",
    "\n",
    "test_list = [1,3,9,11,15,19,29]\n",
    "test_val1 = 25\n",
    "test_val2 = 15\n",
    "print (binary_search(test_list, test_val1))\n",
    "print('------')\n",
    "print (binary_search(test_list, test_val2))"
   ]
  },
  {
   "cell_type": "code",
   "execution_count": null,
   "metadata": {},
   "outputs": [],
   "source": []
  }
 ],
 "metadata": {
  "kernelspec": {
   "display_name": "Python 3",
   "language": "python",
   "name": "python3"
  },
  "language_info": {
   "codemirror_mode": {
    "name": "ipython",
    "version": 3
   },
   "file_extension": ".py",
   "mimetype": "text/x-python",
   "name": "python",
   "nbconvert_exporter": "python",
   "pygments_lexer": "ipython3",
   "version": "3.7.4"
  }
 },
 "nbformat": 4,
 "nbformat_minor": 2
}
