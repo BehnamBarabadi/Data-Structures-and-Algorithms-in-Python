{
 "cells": [
  {
   "cell_type": "markdown",
   "metadata": {},
   "source": [
    "# Recursion\n"
   ]
  },
  {
   "cell_type": "markdown",
   "metadata": {},
   "source": [
    "### 1. Define the base case which is the simplest form of the problem\n",
    "\n",
    "Example:\n",
    "1. in calculating factorial, the simplest form is when `n=1` and foctorel is `1`\n",
    "2. in revesring a string, the simplest form is when the string has only one element.\n",
    "3. in finding a to power b, the simplest form is when `b=1` (to the power of 1) which is a itself."
   ]
  },
  {
   "cell_type": "markdown",
   "metadata": {},
   "source": [
    "### 2. Write the sequence of answer and choose one step simpler and call it recustsively \n",
    "Example:\n",
    "1. in calculating `4! = 1 x 2 x 3 x 4`, one step simpler is `3! = 1 x 2 x 3`\n",
    "2. in calculating geometric sum `1 + (1/2) + (1/4) + (1/8) + (1/16)` one step simpler is `1 + (1/2) + (1/4) + (1/8)`\n",
    "3. in chechking if `amoma` is a palindorm, one step simplere is checking `mom` which is 1 character shorter form each side."
   ]
  },
  {
   "cell_type": "markdown",
   "metadata": {},
   "source": [
    "### What is base condition in recursion? \n",
    "In the recursive program, the solution to the base case is provided and the solution of the bigger problem is expressed in terms of smaller problem\n",
    "```python\n",
    "int fact(int n)\n",
    "{\n",
    "    if (n < = 1) // base case\n",
    "        return 1;\n",
    "    else    \n",
    "        return n*fact(n-1);    \n",
    "}\n",
    "```\n",
    "In the above example, base case for n < = 1 is defined and larger value of number can be solved by converting to smaller one till base case is reached.\n",
    "\n",
    "### How a particular problem is solved using recursion? \n",
    "The idea is to represent a problem in terms of one or more smaller problems, and add one or more base conditions that stop the recursion. "
   ]
  },
  {
   "cell_type": "markdown",
   "metadata": {},
   "source": [
    "### EX.1 Write a recursive function that will return a reversed copy of a given string"
   ]
  },
  {
   "cell_type": "markdown",
   "metadata": {},
   "source": [
    "> The problem one step simpler would be to reverse a string that is one letter shorter."
   ]
  },
  {
   "cell_type": "markdown",
   "metadata": {},
   "source": [
    "<img src=\"images\\rec_1.jpg\">\n"
   ]
  },
  {
   "cell_type": "code",
   "execution_count": 17,
   "metadata": {},
   "outputs": [],
   "source": [
    "def string_reverse(string):\n",
    "    if len(string) == 1:\n",
    "        return string\n",
    "    return string_reverse(string[1: ]) + string[0]\n",
    "    # string_reverse(string[1: ])  is one step smaller version of the original input"
   ]
  },
  {
   "cell_type": "code",
   "execution_count": 18,
   "metadata": {},
   "outputs": [
    {
     "data": {
      "text/plain": [
       "'ilA'"
      ]
     },
     "execution_count": 18,
     "metadata": {},
     "output_type": "execute_result"
    }
   ],
   "source": [
    "test = \"Ali\"\n",
    "string_reverse(test)"
   ]
  },
  {
   "cell_type": "markdown",
   "metadata": {},
   "source": [
    "### EX.2 Go through an array and print out all of the elements"
   ]
  },
  {
   "cell_type": "markdown",
   "metadata": {},
   "source": [
    "> The problem one step simpler would be to print an array that is one letter shorter"
   ]
  },
  {
   "cell_type": "markdown",
   "metadata": {},
   "source": [
    "<img src=\"images\\rec_2.jpg\">"
   ]
  },
  {
   "cell_type": "code",
   "execution_count": 40,
   "metadata": {},
   "outputs": [],
   "source": [
    "def print_array(arr):\n",
    "    if len(arr) == 1:\n",
    "        # print(arr)\n",
    "        return arr\n",
    "    return print_array(arr[ :-1]) + [arr[-1]]\n",
    "    "
   ]
  },
  {
   "cell_type": "code",
   "execution_count": 41,
   "metadata": {},
   "outputs": [
    {
     "data": {
      "text/plain": [
       "[2, 4, 6, 10]"
      ]
     },
     "execution_count": 41,
     "metadata": {},
     "output_type": "execute_result"
    }
   ],
   "source": [
    "test = [2, 4, 6, 10]\n",
    "print_array(test)"
   ]
  },
  {
   "cell_type": "markdown",
   "metadata": {},
   "source": [
    "### EX.3 Determine whether or not a string is a palindrome"
   ]
  },
  {
   "cell_type": "markdown",
   "metadata": {},
   "source": [
    "1. In the function, if the length of the string is equal to 1, return True.\n",
    "2. If the last letter is equal to the first letter, recursively call the function with the argument as the sliced list with the first character and last character removed else return False.\n",
    "\n",
    "> 1 step simpler would be a string with one character shorter from both sides"
   ]
  },
  {
   "cell_type": "markdown",
   "metadata": {},
   "source": [
    "<img src=\"images\\rec_2.jpg\">"
   ]
  },
  {
   "cell_type": "code",
   "execution_count": 68,
   "metadata": {},
   "outputs": [],
   "source": [
    "def is_Palindorme(string):\n",
    "    if len(string) <= 1: # If there is zero or one character (base condition)\n",
    "        return True\n",
    "    else:\n",
    "        if string[0] == string[-1]: # If first and last characters match \n",
    "            return is_Palindorme(string[1:-1]) # check the middle string\n",
    "        else:\n",
    "            return False\n",
    "    "
   ]
  },
  {
   "cell_type": "code",
   "execution_count": 69,
   "metadata": {},
   "outputs": [
    {
     "data": {
      "text/plain": [
       "True"
      ]
     },
     "execution_count": 69,
     "metadata": {},
     "output_type": "execute_result"
    }
   ],
   "source": [
    "is_Palindorme('ihhi')"
   ]
  },
  {
   "cell_type": "markdown",
   "metadata": {},
   "source": [
    "### EX.4 Calculate a raised to the power of b"
   ]
  },
  {
   "cell_type": "code",
   "execution_count": 169,
   "metadata": {},
   "outputs": [],
   "source": [
    "def to_power(a, b):\n",
    "    if b == 1: # base condition\n",
    "        return a\n",
    "    else:\n",
    "        return to_power(a, b-1) * a"
   ]
  },
  {
   "cell_type": "code",
   "execution_count": 170,
   "metadata": {},
   "outputs": [
    {
     "data": {
      "text/plain": [
       "1000"
      ]
     },
     "execution_count": 170,
     "metadata": {},
     "output_type": "execute_result"
    }
   ],
   "source": [
    "to_power(10, 3)"
   ]
  },
  {
   "cell_type": "markdown",
   "metadata": {},
   "source": [
    "### EX.4 Find sum of numbers in a given list"
   ]
  },
  {
   "cell_type": "code",
   "execution_count": 108,
   "metadata": {},
   "outputs": [],
   "source": [
    "def calc_sum(arr):\n",
    "    if len(arr) == 1:\n",
    "        return arr[0] # use arr[0] to get the value of this list's element\n",
    "    else:\n",
    "        return calc_sum(arr[1:]) + arr[0]"
   ]
  },
  {
   "cell_type": "code",
   "execution_count": 113,
   "metadata": {},
   "outputs": [
    {
     "data": {
      "text/plain": [
       "31"
      ]
     },
     "execution_count": 113,
     "metadata": {},
     "output_type": "execute_result"
    }
   ],
   "source": [
    "calc_sum([1, 2 , 3 , 4, 5, 6, 10])"
   ]
  },
  {
   "cell_type": "markdown",
   "metadata": {},
   "source": [
    "### EX.5 Write a Python program to get the sum of a non-negative integer"
   ]
  },
  {
   "cell_type": "code",
   "execution_count": 114,
   "metadata": {},
   "outputs": [
    {
     "data": {
      "text/plain": [
       "12"
      ]
     },
     "execution_count": 114,
     "metadata": {},
     "output_type": "execute_result"
    }
   ],
   "source": [
    "128//10 # to get all digigts axcept the last one"
   ]
  },
  {
   "cell_type": "code",
   "execution_count": 122,
   "metadata": {},
   "outputs": [
    {
     "data": {
      "text/plain": [
       "2"
      ]
     },
     "execution_count": 122,
     "metadata": {},
     "output_type": "execute_result"
    }
   ],
   "source": [
    "12%10 # to get the last digit"
   ]
  },
  {
   "cell_type": "code",
   "execution_count": 119,
   "metadata": {},
   "outputs": [],
   "source": [
    "def int_sum(inp):\n",
    "    if inp < 10:\n",
    "        return inp\n",
    "    else:\n",
    "        return int_sum(inp//10) + inp%10"
   ]
  },
  {
   "cell_type": "code",
   "execution_count": 121,
   "metadata": {},
   "outputs": [
    {
     "data": {
      "text/plain": [
       "(12, 9)"
      ]
     },
     "execution_count": 121,
     "metadata": {},
     "output_type": "execute_result"
    }
   ],
   "source": [
    "int_sum(345), int_sum(45)"
   ]
  },
  {
   "cell_type": "markdown",
   "metadata": {},
   "source": [
    "### EX.6 Write a Python program to calculate the sum of the positive integers of:  \n",
    "`n+(n-2)+(n-4)... (until n-x =< 0)`"
   ]
  },
  {
   "cell_type": "code",
   "execution_count": 144,
   "metadata": {},
   "outputs": [],
   "source": [
    "def sum_series(inp):\n",
    "    if inp < 1:\n",
    "        return 0\n",
    "    else:\n",
    "        return sum_series(inp - 2) + inp"
   ]
  },
  {
   "cell_type": "code",
   "execution_count": 145,
   "metadata": {},
   "outputs": [
    {
     "name": "stdout",
     "output_type": "stream",
     "text": [
      "12\n",
      "25\n"
     ]
    }
   ],
   "source": [
    "print(sum_series(6))\n",
    "print(sum_series(9))"
   ]
  },
  {
   "cell_type": "markdown",
   "metadata": {},
   "source": [
    "### EX.7 Find the sum of all previous positive number upto any given number "
   ]
  },
  {
   "cell_type": "code",
   "execution_count": 146,
   "metadata": {},
   "outputs": [],
   "source": [
    "def sum(inp):\n",
    "    if inp == 1:\n",
    "        return 1\n",
    "    else:\n",
    "        return sum(inp - 1) + inp"
   ]
  },
  {
   "cell_type": "code",
   "execution_count": 147,
   "metadata": {},
   "outputs": [
    {
     "data": {
      "text/plain": [
       "55"
      ]
     },
     "execution_count": 147,
     "metadata": {},
     "output_type": "execute_result"
    }
   ],
   "source": [
    "sum(10)"
   ]
  },
  {
   "cell_type": "markdown",
   "metadata": {},
   "source": [
    "### EX.8 Write a Python program to calculate the harmonic sum of n-1. \n",
    "- Note: The harmonic sum is the sum of reciprocals of the positive integers.\n",
    "\n",
    "\n",
    "Example : `for n = 4 >> 1 + (1/2) + (1/3) `"
   ]
  },
  {
   "cell_type": "markdown",
   "metadata": {},
   "source": [
    "<img src=\"images\\rec_5.jpg\">"
   ]
  },
  {
   "cell_type": "code",
   "execution_count": 150,
   "metadata": {},
   "outputs": [],
   "source": [
    "def harmonic_sum(n):\n",
    "    if n == 1:\n",
    "        return 1\n",
    "    else:\n",
    "        return (1/n) + harmonic_sum(n-1)"
   ]
  },
  {
   "cell_type": "code",
   "execution_count": 156,
   "metadata": {},
   "outputs": [
    {
     "data": {
      "text/plain": [
       "2.083333333333333"
      ]
     },
     "execution_count": 156,
     "metadata": {},
     "output_type": "execute_result"
    }
   ],
   "source": [
    "harmonic_sum(4)"
   ]
  },
  {
   "cell_type": "markdown",
   "metadata": {},
   "source": [
    "### EX.9 Write a Python program to calculate the geometric sum of n-1. Go to the editor\n",
    "\n",
    "- Note: In mathematics, a geometric series is a series with a constant ratio between successive terms.\n",
    "\n",
    "Example : for n = 4 >> `1 + (1/2) + (1/4) + (1/8) + (1/16)`\n"
   ]
  },
  {
   "cell_type": "code",
   "execution_count": 159,
   "metadata": {},
   "outputs": [],
   "source": [
    "def geometric_sum(n):\n",
    "    if n <= 1:\n",
    "        return 1\n",
    "    else:\n",
    "        return (1/2**(n-1)) + geometric_sum(n-1)"
   ]
  },
  {
   "cell_type": "code",
   "execution_count": 162,
   "metadata": {},
   "outputs": [
    {
     "name": "stdout",
     "output_type": "stream",
     "text": [
      "1.75\n",
      "1.875\n"
     ]
    }
   ],
   "source": [
    "print(geometric_sum(3))\n",
    "print(geometric_sum(4))"
   ]
  },
  {
   "cell_type": "markdown",
   "metadata": {},
   "source": [
    "### EX.10 Write a Python program to find  the greatest common divisor (gcd) of two integers.\n",
    "\n",
    "Example: `gcd(12, 8) = 4`"
   ]
  },
  {
   "cell_type": "markdown",
   "metadata": {},
   "source": [
    "### <img src=\"images\\rec_4.jpg\">"
   ]
  },
  {
   "cell_type": "code",
   "execution_count": 173,
   "metadata": {},
   "outputs": [
    {
     "data": {
      "text/plain": [
       "3"
      ]
     },
     "execution_count": 173,
     "metadata": {},
     "output_type": "execute_result"
    }
   ],
   "source": [
    "12%9"
   ]
  },
  {
   "cell_type": "code",
   "execution_count": null,
   "metadata": {},
   "outputs": [],
   "source": [
    "def Recurgcd(a, b):\n",
    "    low = min(a, b)\n",
    "    high = max(a, b)\n",
    "    \n",
    "    if low == 0: # when one number is the devisor of the other one\n",
    "        return high\n",
    "    elif low == 1: # when 2 numbers have no common devisor\n",
    "        retturn 1\n",
    "    else:\n",
    "        def Recurgcd(high, high%low)"
   ]
  },
  {
   "cell_type": "markdown",
   "metadata": {},
   "source": [
    "### EX11. For a given number, go to one and come back to the number and print all numbers.\n",
    "- Example: `n=3 >> 3 2 1 1 2 3 `"
   ]
  },
  {
   "cell_type": "markdown",
   "metadata": {},
   "source": [
    "<img src=\"images\\rec_6.jpg\">"
   ]
  },
  {
   "cell_type": "code",
   "execution_count": 1,
   "metadata": {},
   "outputs": [
    {
     "name": "stdout",
     "output_type": "stream",
     "text": [
      "3 2 1 1 2 3 "
     ]
    }
   ],
   "source": [
    " def printFun(test):\n",
    " \n",
    "    if (test < 1): # base condition\n",
    "        return\n",
    "    else:\n",
    " \n",
    "        print(test, end=\" \")\n",
    "        printFun(test-1)  # statement 2\n",
    "        print(test, end=\" \")\n",
    "        return\n",
    " "
   ]
  },
  {
   "cell_type": "code",
   "execution_count": 2,
   "metadata": {},
   "outputs": [
    {
     "name": "stdout",
     "output_type": "stream",
     "text": [
      "3 2 1 1 2 3 "
     ]
    }
   ],
   "source": [
    "# Driver Code\n",
    "test = 3\n",
    "printFun(test)"
   ]
  },
  {
   "cell_type": "markdown",
   "metadata": {},
   "source": [
    "### EX.12 Just check the algorithm"
   ]
  },
  {
   "cell_type": "markdown",
   "metadata": {},
   "source": [
    "<img src=\"images\\rec_7.jpg\">"
   ]
  },
  {
   "cell_type": "code",
   "execution_count": 17,
   "metadata": {},
   "outputs": [],
   "source": [
    "def rec(inp):\n",
    "    if inp <= 0:\n",
    "        print(\"when inp is smaller >>>\", inp)\n",
    "        return inp\n",
    "    else:\n",
    "        out = rec(inp -1)\n",
    "        print(\"when inp is greater >>>\", out)\n",
    "        return (out+10)"
   ]
  },
  {
   "cell_type": "code",
   "execution_count": 20,
   "metadata": {},
   "outputs": [
    {
     "name": "stdout",
     "output_type": "stream",
     "text": [
      "when inp is smaller >>> 0\n"
     ]
    },
    {
     "data": {
      "text/plain": [
       "0"
      ]
     },
     "execution_count": 20,
     "metadata": {},
     "output_type": "execute_result"
    }
   ],
   "source": [
    "rec(0)"
   ]
  },
  {
   "cell_type": "code",
   "execution_count": 19,
   "metadata": {},
   "outputs": [
    {
     "name": "stdout",
     "output_type": "stream",
     "text": [
      "when inp is smaller >>> 0\n",
      "when inp is greater >>> 0\n"
     ]
    },
    {
     "data": {
      "text/plain": [
       "10"
      ]
     },
     "execution_count": 19,
     "metadata": {},
     "output_type": "execute_result"
    }
   ],
   "source": [
    "rec(1)"
   ]
  },
  {
   "cell_type": "code",
   "execution_count": 21,
   "metadata": {},
   "outputs": [
    {
     "name": "stdout",
     "output_type": "stream",
     "text": [
      "when inp is smaller >>> 0\n",
      "when inp is greater >>> 0\n",
      "when inp is greater >>> 10\n"
     ]
    },
    {
     "data": {
      "text/plain": [
       "20"
      ]
     },
     "execution_count": 21,
     "metadata": {},
     "output_type": "execute_result"
    }
   ],
   "source": [
    "rec(2)"
   ]
  },
  {
   "cell_type": "code",
   "execution_count": 22,
   "metadata": {},
   "outputs": [
    {
     "name": "stdout",
     "output_type": "stream",
     "text": [
      "when inp is smaller >>> 0\n",
      "when inp is greater >>> 0\n",
      "when inp is greater >>> 10\n",
      "when inp is greater >>> 20\n"
     ]
    },
    {
     "data": {
      "text/plain": [
       "30"
      ]
     },
     "execution_count": 22,
     "metadata": {},
     "output_type": "execute_result"
    }
   ],
   "source": [
    "rec(3)"
   ]
  },
  {
   "cell_type": "markdown",
   "metadata": {},
   "source": [
    "## EX.13 Factorial"
   ]
  },
  {
   "cell_type": "code",
   "execution_count": null,
   "metadata": {},
   "outputs": [],
   "source": [
    "def factorial(x):\n",
    "    \"\"\"This is a recursive function\n",
    "    to find the factorial of an integer\"\"\"\n",
    "\n",
    "    if x == 1:\n",
    "        return 1\n",
    "    else:\n",
    "        return (x * factorial(x-1))\n",
    "\n",
    "\n",
    "num = 3\n",
    "print(\"The factorial of\", num, \"is\", factorial(num))"
   ]
  },
  {
   "cell_type": "markdown",
   "metadata": {},
   "source": [
    "### EX.12 Fibonacci sequence\n",
    "\n"
   ]
  },
  {
   "cell_type": "markdown",
   "metadata": {},
   "source": [
    "```python\n",
    "fib_seq = []\n",
    "fib_seq[0] = 0\n",
    "fib_seq[1] = 1\n",
    "fib_seq[2] = 1\n",
    "fib_seq[3] = 2\n",
    "fib_seq[4] = 3\n",
    "fib_seq[5] = 5\n",
    "fib_seq[6] = 8\n",
    "fib_seq[7] = 13\n",
    "fib_seq[8] = 21\n",
    "fib_seq[9] = 34```"
   ]
  },
  {
   "cell_type": "code",
   "execution_count": 1,
   "metadata": {},
   "outputs": [
    {
     "name": "stdout",
     "output_type": "stream",
     "text": [
      "34\n",
      "89\n",
      "0\n"
     ]
    }
   ],
   "source": [
    "def get_fib(position):\n",
    "    if position == 0 or position ==1 :\n",
    "        return position\n",
    "    else:\n",
    "        return get_fib(position-2) + get_fib(position-1)\n",
    "    #return position\n",
    "    \n",
    "\n",
    "# Test cases\n",
    "print (get_fib(9))\n",
    "print (get_fib(11))\n",
    "print (get_fib(0))"
   ]
  },
  {
   "cell_type": "markdown",
   "metadata": {},
   "source": [
    "# Binary search\n"
   ]
  },
  {
   "cell_type": "code",
   "execution_count": 22,
   "metadata": {},
   "outputs": [
    {
     "data": {
      "text/plain": [
       "3"
      ]
     },
     "execution_count": 22,
     "metadata": {},
     "output_type": "execute_result"
    }
   ],
   "source": [
    "def binary_search_recursive(arr, val, s = 0, e = None):\n",
    "    if e is None:\n",
    "        e = len(arr) - 1\n",
    "    while e >= s:\n",
    "        m = (s + e)//2\n",
    "        if val == arr[m]:\n",
    "            return m\n",
    "        elif val > arr[m]:\n",
    "            return binary_search_recursive(arr, val, m+1, e)\n",
    "        else:\n",
    "            return binary_search_recursive(arr, val, s, m-1)\n",
    "    else:\n",
    "        return ('Not Found')\n",
    "    \n",
    "arr = [ 2, 3, 4, 10, 40 ] \n",
    "x = 1\n",
    "\n",
    "# Function call \n",
    "result = binary_search_recursive(arr, x) \n",
    "result"
   ]
  },
  {
   "cell_type": "code",
   "execution_count": null,
   "metadata": {},
   "outputs": [],
   "source": []
  }
 ],
 "metadata": {
  "kernelspec": {
   "display_name": "Python 3",
   "language": "python",
   "name": "python3"
  },
  "language_info": {
   "codemirror_mode": {
    "name": "ipython",
    "version": 3
   },
   "file_extension": ".py",
   "mimetype": "text/x-python",
   "name": "python",
   "nbconvert_exporter": "python",
   "pygments_lexer": "ipython3",
   "version": "3.7.4"
  }
 },
 "nbformat": 4,
 "nbformat_minor": 2
}
