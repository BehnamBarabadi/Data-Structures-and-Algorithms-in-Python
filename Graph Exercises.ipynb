{
 "cells": [
  {
   "cell_type": "markdown",
   "metadata": {},
   "source": [
    "# **Graph Exercises**"
   ]
  },
  {
   "cell_type": "code",
   "execution_count": 48,
   "metadata": {},
   "outputs": [
    {
     "data": {
      "text/html": [
       "<style>.container { width:100% !important; }</style>"
      ],
      "text/plain": [
       "<IPython.core.display.HTML object>"
      ]
     },
     "metadata": {},
     "output_type": "display_data"
    }
   ],
   "source": [
    "from IPython.core.display import display, HTML\n",
    "display(HTML(\"<style>.container { width:100% !important; }</style>\"))"
   ]
  },
  {
   "cell_type": "markdown",
   "metadata": {},
   "source": [
    "## Implementation Using **Adjacency List**\n",
    "Using an adjacency list:\n",
    "\n",
    "- The keys of the dictionary used are the nodes of our graph and the corresponding values are lists with each nodes, which are connecting by an edge. \n",
    "\n",
    "- The following code implements a graph using an adjacency list: `add_vertex(v)` adds new vertex v to the graph, and `add_edge(v1, v2, e)` adds an edge with weight e between vertices v1 and v2.\n",
    "            \n",
    "            \n",
    "        "
   ]
  },
  {
   "cell_type": "markdown",
   "metadata": {},
   "source": [
    "```python\n",
    "a -> c\n",
    "b -> c\n",
    "b -> e\n",
    "c -> a\n",
    "c -> b\n",
    "c -> d\n",
    "c -> e\n",
    "d -> c\n",
    "e -> c\n",
    "e -> b\n",
    "\n",
    "\n",
    "It can be represented by the following Python data structure. This is a dictionary whose keys are the nodes of the graph. For each key, the corresponding value is a list containing the nodes that are connected by a direct arc from this node. \n",
    " \n",
    "\n",
    "graph = { \"a\" : [\"c\"],\n",
    "          \"b\" : [\"c\", \"e\"],\n",
    "          \"c\" : [\"a\", \"b\", \"d\", \"e\"],\n",
    "          \"d\" : [\"c\"],\n",
    "          \"e\" : [\"c\", \"b\"],\n",
    "          \"f\" : []\n",
    "        } \n",
    "```"
   ]
  },
  {
   "cell_type": "code",
   "execution_count": 4,
   "metadata": {},
   "outputs": [
    {
     "name": "stdout",
     "output_type": "stream",
     "text": [
      "defaultdict(<class 'list'>,\n",
      "            {1: [[2, 1], [3, 1]],\n",
      "             2: [[3, 3]],\n",
      "             3: [[4, 4]],\n",
      "             4: [[1, 5]],\n",
      "             6: [[1, 6]]})\n",
      "\n",
      "1 -> 2 with weight : 1\n",
      "1 -> 3 with weight : 1\n",
      "2 -> 3 with weight : 3\n",
      "3 -> 4 with weight : 4\n",
      "4 -> 1 with weight : 5\n",
      "6 -> 1 with weight : 6\n"
     ]
    }
   ],
   "source": [
    "from collections import defaultdict\n",
    "from pprint import pprint\n",
    "\n",
    "\n",
    "# Func to add a vertex to the dictionary\n",
    "def add_vertex(graph, node):\n",
    "    if node in graph:\n",
    "        print(f\"Node {node} already exists\")\n",
    "    else:\n",
    "        graph[node] = [] # create a new node with an empty list as its adjacent nodes \n",
    "\n",
    "        \n",
    "# func to # Add an edge between vertex v1 and v2 with edge weight w\n",
    "def add_edge(graph, v1, v2, w):\n",
    "    if v1 not in graph:\n",
    "        add_vertex(graph, v1)\n",
    "        \n",
    "    if v2 not in graph:\n",
    "        add_vertex(graph, v2)\n",
    "        \n",
    "    graph[v1].append([v2, w])\n",
    "    \n",
    "    \n",
    "# Print the graph\n",
    "def print_graph(graph):\n",
    "    for node in graph: # each vertex\n",
    "        for edge in graph[node]: # for all adjacent nodes of each vetex\n",
    "            print(f\"{node} -> {edge[0]} with weight : {edge[1]}\")\n",
    "        \n",
    "        \n",
    "#creating the graph\n",
    "graph = defaultdict(list)\n",
    "\n",
    "# adding vertices\n",
    "add_vertex(graph, 1)\n",
    "add_vertex(graph, 2)\n",
    "add_vertex(graph, 3)\n",
    "add_vertex(graph, 4)\n",
    "\n",
    "# Add the edges between the vertices by specifying\n",
    "# the from and to vertex along with the edge weights.\n",
    "add_edge(graph, 1, 2, 1)\n",
    "add_edge(graph, 1, 3, 1)\n",
    "add_edge(graph, 2, 3, 3)\n",
    "add_edge(graph, 3, 4, 4)\n",
    "add_edge(graph, 4, 1, 5)\n",
    "add_edge(graph, 6, 1, 6)\n",
    "\n",
    "pprint(graph) # pprint() prints graph in seperate lines\n",
    "print()\n",
    "\n",
    "print_graph(graph)"
   ]
  },
  {
   "cell_type": "markdown",
   "metadata": {},
   "source": [
    "## 2. Using an **Adjacency Matrix**\n",
    "- The graph is represemted with a list of lists (matrix)\n",
    "-  We sepereately store vertices in another list"
   ]
  },
  {
   "cell_type": "code",
   "execution_count": 5,
   "metadata": {},
   "outputs": [
    {
     "name": "stdout",
     "output_type": "stream",
     "text": [
      "Internal representation:  [[0]]\n",
      "Internal representation:  [[0, 0], [0, 0]]\n",
      "[0, 1, 1, 0] [0, 0, 3, 0] [0, 0, 0, 4] [5, 0, 0, 0]\n",
      "0 -(1)-> 1\n",
      "0 -(1)-> 2\n",
      "1 -(3)-> 2\n",
      "2 -(4)-> 3\n",
      "3 -(5)-> 0\n"
     ]
    }
   ],
   "source": [
    "def add_vertex(graph, vertices, node):\n",
    "    if node in vertices:\n",
    "        print(f\"Node {node} is already exist.\")\n",
    "        return\n",
    "    else:\n",
    "        vertices.append(node)\n",
    "        # if we had a node before this one we need to extend the length of all rows (list)\n",
    "        if len(vertices) > 1:\n",
    "            for row in graph:\n",
    "                row.append(0)\n",
    "        # Now we need to append a new row for the added node\n",
    "        row = [0] * len(vertices)\n",
    "        graph.append(row)\n",
    "\n",
    "        \n",
    "def add_edge(graph, vertices, n1, n2, weight):\n",
    "    if n1 not in vertices:\n",
    "        add_vertex(graph, vertices, n1)\n",
    "        \n",
    "    if n2 not in vertices:\n",
    "        add_vertex(graph, vertices, n2)\n",
    "        \n",
    "    index1 = vertices.index(n1)\n",
    "    index2 = vertices.index(n2)\n",
    "    graph[index1][index2] = weight\n",
    "\n",
    "    \n",
    "def print_graph(graph, vertices):\n",
    "    for row in range(len(vertices)):\n",
    "        for col in range(len(vertices)):\n",
    "            if graph[row][col] != 0:\n",
    "                print(f\"{row} -({graph[row][col]})-> {col}\")\n",
    "    \n",
    "    \n",
    "    \n",
    "    \n",
    "# stores the vertices in the graph\n",
    "vertices = []\n",
    "graph = []\n",
    "\n",
    "# Add vertices to the graph\n",
    "add_vertex(graph, vertices, 1)\n",
    "print(\"Internal representation: \", graph)\n",
    "add_vertex(graph, vertices,2)\n",
    "print(\"Internal representation: \", graph)\n",
    "add_vertex(graph, vertices,3)\n",
    "add_vertex(graph, vertices,4)\n",
    "\n",
    "\n",
    "add_edge(graph, vertices, 1, 2, 1)\n",
    "add_edge(graph, vertices, 1, 3, 1)\n",
    "add_edge(graph, vertices, 2, 3, 3)\n",
    "add_edge(graph, vertices, 3, 4, 4)\n",
    "add_edge(graph, vertices, 4, 1, 5)\n",
    "print(*graph)\n",
    "print_graph(graph, vertices)"
   ]
  },
  {
   "cell_type": "code",
   "execution_count": 6,
   "metadata": {},
   "outputs": [
    {
     "name": "stdout",
     "output_type": "stream",
     "text": [
      "defaultdict(<class 'list'>,\n",
      "            {1: [(2, 1), (3, 1)],\n",
      "             2: [(3, 3)],\n",
      "             3: [(4, 4)],\n",
      "             4: [(1, 5)],\n",
      "             6: [(1, 6)]})\n",
      "\n",
      "1 -(1)-> 2\n",
      "1 -(1)-> 3\n",
      "2 -(3)-> 3\n",
      "3 -(4)-> 4\n",
      "4 -(5)-> 1\n",
      "6 -(6)-> 1\n"
     ]
    }
   ],
   "source": [
    "from collections import defaultdict\n",
    "from pprint import pprint\n",
    "\n",
    "\n",
    "# Func to add a vertex to the dictionary\n",
    "def add_vertex(graph, node):\n",
    "    if node in graph:\n",
    "        return\n",
    "    graph[node] = []\n",
    "    \n",
    "\n",
    "        \n",
    "# func to # Add an edge between vertex v1 and v2 with edge weight w\n",
    "def add_edge(graph, n1, n2, weight):\n",
    "    if n1 not in vertices:\n",
    "        add_vertex(graph, n1)\n",
    "        \n",
    "    if n2 not in vertices:\n",
    "        add_vertex(graph, n2)\n",
    "    graph[n1].append((n2, weight))\n",
    "    \n",
    "# Print the graph\n",
    "def print_graph(graph):\n",
    "    for node in graph:\n",
    "        for neighbours in graph[node]:\n",
    "            print(f\"{node} -({neighbours[1]})-> {neighbours[0]}\")\n",
    "        \n",
    "#creating the graph\n",
    "graph = defaultdict(list)\n",
    "\n",
    "# adding vertices\n",
    "add_vertex(graph, 1)\n",
    "add_vertex(graph, 2)\n",
    "add_vertex(graph, 3)\n",
    "add_vertex(graph, 4)\n",
    "\n",
    "# Add the edges between the vertices by specifying\n",
    "# the from and to vertex along with the edge weights.\n",
    "add_edge(graph, 1, 2, 1)\n",
    "add_edge(graph, 1, 3, 1)\n",
    "add_edge(graph, 2, 3, 3)\n",
    "add_edge(graph, 3, 4, 4)\n",
    "add_edge(graph, 4, 1, 5)\n",
    "add_edge(graph, 6, 1, 6)\n",
    "\n",
    "pprint(graph) # pprint() prints graph in seperate lines\n",
    "print()\n",
    "\n",
    "print_graph(graph)"
   ]
  },
  {
   "cell_type": "markdown",
   "metadata": {},
   "source": [
    "## Challenge 1: Implement Breadth First Search"
   ]
  },
  {
   "cell_type": "code",
   "execution_count": 44,
   "metadata": {},
   "outputs": [
    {
     "name": "stdout",
     "output_type": "stream",
     "text": [
      "A\n",
      "B\n",
      "C\n",
      "E\n",
      "D\n",
      "G\n"
     ]
    },
    {
     "data": {
      "text/plain": [
       "'A -> B -> C -> E -> D -> G'"
      ]
     },
     "execution_count": 44,
     "metadata": {},
     "output_type": "execute_result"
    }
   ],
   "source": [
    "# BFS, visits all the nodes of a graph (connected component) using BFS\n",
    "def bfs_traversal(graph, start_node):\n",
    "    res = \"\"\n",
    "    # keep track of all visited nodes, set is much faster to search tha list\n",
    "    visited = set(start_node)\n",
    "    # keep track of nodes to be checked\n",
    "    from collections import deque\n",
    "    q = deque(start_node)\n",
    "    #queue = [start]\n",
    "\n",
    "    # keep looping until there are nodes still to be checked\n",
    "    while len(q) > 0:\n",
    "    # pop shallowest node (first node) from queue\n",
    "        curr_node = q.popleft()\n",
    "        print(curr_node)\n",
    "        res += curr_node + \" -> \"\n",
    "        for neighbour in graph[curr_node]:\n",
    "            if neighbour not in visited:\n",
    "               # add node to list of checked nodes\n",
    "               visited.add(neighbour)\n",
    "               # add neighbours of node to queue\n",
    "               q.append(neighbour)\n",
    "    return res[:-4] # to remove the last arrow\n",
    "\n",
    "\n",
    "# sample graph implemented as a dictionary\n",
    "graph = {'A': ['B', 'C', 'E'],\n",
    "         'B': ['A','D', 'E'],\n",
    "         'C': ['A', 'G'],\n",
    "         'D': ['B'],\n",
    "         'E': [],\n",
    "         'G': []}\n",
    "\n",
    "\n",
    "bfs_traversal(graph,'A') # returns ['A', 'B', 'C', 'E', 'D', 'F', 'G']"
   ]
  },
  {
   "cell_type": "markdown",
   "metadata": {},
   "source": [
    "## Challenge 2: Implement Depth First Search"
   ]
  },
  {
   "cell_type": "markdown",
   "metadata": {},
   "source": [
    "### 1. Using Recursion:"
   ]
  },
  {
   "cell_type": "code",
   "execution_count": 29,
   "metadata": {},
   "outputs": [
    {
     "name": "stdout",
     "output_type": "stream",
     "text": [
      "A -> B -> D -> E -> C -> G -> "
     ]
    },
    {
     "data": {
      "text/plain": [
       "['A', 'B', 'D', 'E', 'C', 'G']"
      ]
     },
     "execution_count": 29,
     "metadata": {},
     "output_type": "execute_result"
    }
   ],
   "source": [
    "def dfs_traversal(graph, start_node, visited = None):\n",
    "    if visited is None:\n",
    "        visited = set() # we use set because it's much faster for look up than list\n",
    "        \n",
    "    \n",
    "    visited.add(start_node)  \n",
    "    print(start_node, end = ' -> ')\n",
    "    path.append(start_node) # we use path if we want to return the path as well as printing it\n",
    "    # We can't use set for storing the path because set has no order\n",
    "    \n",
    "    for neighbour in graph[start_node]:\n",
    "        if neighbour not in visited:\n",
    "            visited.add(neighbour)\n",
    "            dfs_traversal(graph, neighbour, visited)\n",
    "            \n",
    "    return path        \n",
    "\n",
    "# sample graph implemented as a dictionary\n",
    "global path\n",
    "path = []\n",
    "\n",
    "\n",
    "graph = {'A': ['B', 'C', 'E'],\n",
    "         'B': ['A','D', 'E'],\n",
    "         'C': ['A', 'G'],\n",
    "         'D': ['B'],\n",
    "         'E': [],\n",
    "         'G': []}\n",
    "\n",
    "dfs_traversal(graph, 'A')"
   ]
  },
  {
   "cell_type": "markdown",
   "metadata": {},
   "source": [
    "### B. Using Stack"
   ]
  },
  {
   "cell_type": "code",
   "execution_count": 190,
   "metadata": {},
   "outputs": [
    {
     "name": "stdout",
     "output_type": "stream",
     "text": [
      "A -> E -> C -> G -> B -> D -> "
     ]
    },
    {
     "data": {
      "text/plain": [
       "['A', 'E', 'C', 'G', 'B', 'D']"
      ]
     },
     "execution_count": 190,
     "metadata": {},
     "output_type": "execute_result"
    }
   ],
   "source": [
    "def dfs_stack(graph, start_node, visited = None):\n",
    "    if visited is None:\n",
    "        visited = set()\n",
    "        \n",
    "    path =  []\n",
    "    \n",
    "    from collections import deque\n",
    "    s = deque(start_node)\n",
    "    visited = set(start_node)\n",
    "    \n",
    "    while len(s) > 0:\n",
    "        curr_node = s.pop()\n",
    "        print(curr_node, end = ' -> ')\n",
    "        path.append(curr_node)\n",
    "        visited.add(curr_node)\n",
    "        \n",
    "        for neighbour in graph[curr_node]:\n",
    "            if neighbour not in visited: \n",
    "                visited.add(neighbour)\n",
    "                s.append(neighbour)\n",
    "        \n",
    "    return path\n",
    "        \n",
    "# sample graph implemented as a dictionary\n",
    "graph = {'A': ['B', 'C', 'E'],\n",
    "         'B': ['A','D', 'E'],\n",
    "         'C': ['A', 'G'],\n",
    "         'D': ['B'],\n",
    "         'E': [],\n",
    "         'G': []}\n",
    "\n",
    "dfs_stack(graph, 'A')"
   ]
  },
  {
   "cell_type": "markdown",
   "metadata": {},
   "source": [
    "### C. Using Recursion without  specific Start Node"
   ]
  },
  {
   "cell_type": "code",
   "execution_count": 30,
   "metadata": {
    "scrolled": true
   },
   "outputs": [
    {
     "name": "stdout",
     "output_type": "stream",
     "text": [
      "A -> C -> G -> E -> B -> D -> "
     ]
    },
    {
     "data": {
      "text/plain": [
       "['A', 'C', 'G', 'E', 'B', 'D']"
      ]
     },
     "execution_count": 30,
     "metadata": {},
     "output_type": "execute_result"
    }
   ],
   "source": [
    "def dfs_traversal(graph):\n",
    "    \n",
    "    visited = set() # set() is much faster than list to look up visited nodes\n",
    "    path = []       \n",
    "    def dfs(graph, start_node):\n",
    "        \n",
    "        visited.add(start_node)  \n",
    "        print(start_node, end = ' -> ')\n",
    "        path.append(start_node) # we use path if we want to return the traversal path as well as \n",
    "        # printing it, We can't use set for storing traversal path because set has no order\n",
    "\n",
    "        for neighbour in graph[start_node]:\n",
    "            if neighbour not in visited:\n",
    "                visited.add(neighbour)\n",
    "                dfs(graph, neighbour)\n",
    "\n",
    "    for node in graph: # run DFS for all nodes as if not visted yet\n",
    "        if node not in visited:\n",
    "            dfs(graph, node)\n",
    "\n",
    "    return path       \n",
    "\n",
    "\n",
    "graph = {'A': [ 'C', 'E'],\n",
    "         'B': ['D'],\n",
    "         'C': ['A', 'G'],\n",
    "         'D': ['B'],\n",
    "         'E': ['B'],\n",
    "         'G': []}\n",
    "\n",
    "dfs_traversal(graph)"
   ]
  },
  {
   "cell_type": "markdown",
   "metadata": {},
   "source": [
    "### Challenge 3: Detect Cycle in a Directed Graph\n",
    "Here's another coding challenge on directed graphs. You'll implement a cool function which detects loops!"
   ]
  },
  {
   "cell_type": "markdown",
   "metadata": {},
   "source": [
    "### Using **DFS**"
   ]
  },
  {
   "cell_type": "markdown",
   "metadata": {},
   "source": [
    "### Attention! \n",
    "- To print the return of `dfs()` function:\n",
    "we need to write it like this:\n",
    "\n",
    "```python\n",
    "if dfs(neighbour) is True:\n",
    "        return True```\n",
    "        \n",
    "#### and not\n",
    "        \n",
    "```python\n",
    "return dfs(neighbour)```\n",
    "The reason is if we find even one cycle, then we return True and later inside\n",
    "\n",
    "```python\n",
    "for node in graph:\n",
    "        if node not in visited:\n",
    "            if dfs(node) is True:\n",
    "                return True\n",
    "    return False```\n",
    "we check all nodes and even if one of them returns True the final result woul be True But if we use\n",
    "```python\n",
    "if dfs(neighbour) is True:\n",
    "        return True```\n",
    "    every leaf(last node in a path) would produce False but there might be another sibling node with a cycle which would yield a True but because we already have a False from leaf, the final result would be False. In ther words, each leaf makes the whole parent node to False and stop the algorithm to search sibeling nodes."
   ]
  },
  {
   "cell_type": "code",
   "execution_count": 281,
   "metadata": {},
   "outputs": [
    {
     "name": "stdout",
     "output_type": "stream",
     "text": [
      "************************\n",
      "A {'A'} {'A'}\n",
      "neighbour:  C\n",
      "************************\n",
      "C {'C', 'A'} {'C', 'A'}\n",
      "neighbour:  A\n"
     ]
    },
    {
     "data": {
      "text/plain": [
       "True"
      ]
     },
     "execution_count": 281,
     "metadata": {},
     "output_type": "execute_result"
    }
   ],
   "source": [
    "def is_cyclic(graph):\n",
    "    \"\"\"Return True if the directed graph graph has a cycle.\n",
    "    graph must be represented as a dictionary mapping vertices to\n",
    "    iterables of neighbouring nodes.\n",
    "    \"\"\"\n",
    "    path = set()\n",
    "    visited = set()\n",
    "    \n",
    "    def dfs(start_node):\n",
    "        visited.add(start_node)\n",
    "        path.add(start_node)\n",
    "        print('************************')\n",
    "        print(start_node, path, visited)\n",
    "        for neighbour in graph[start_node]:\n",
    "            print(\"neighbour: \", neighbour)\n",
    "            if neighbour in path:\n",
    "                return True\n",
    "            if dfs(neighbour) is True:\n",
    "                return True\n",
    "\n",
    "        path.remove(start_node) # backtrack to remove the start_node from path\n",
    "        return False # if no cycle found for the current call, return False \n",
    "\n",
    "    for node in graph:\n",
    "        if node not in visited:\n",
    "            if dfs(node) is True:\n",
    "                return True\n",
    "    return False # If no cycle is found for all nodes return False\n",
    "#     return any(dfs(node) for node in graph if node not in visited) # a better way of writing the above code\n",
    "\n",
    "\n",
    "graph = {'A': ['C', 'B'],\n",
    "         'B': ['D', 'E'],\n",
    "         'C': [  'A', 'G'],\n",
    "         'D': [],\n",
    "         'E': ['C'],\n",
    "         'G': []}\n",
    "\n",
    "is_cyclic(graph)"
   ]
  },
  {
   "cell_type": "code",
   "execution_count": 282,
   "metadata": {},
   "outputs": [
    {
     "name": "stdout",
     "output_type": "stream",
     "text": [
      "************************\n",
      "A {'A'} {'A'}\n",
      "neighbour:  B\n",
      "************************\n",
      "B {'B', 'A'} {'B', 'A'}\n",
      "neighbour:  D\n",
      "************************\n",
      "D {'D', 'B', 'A'} {'D', 'B', 'A'}\n",
      "neighbour:  E\n",
      "************************\n",
      "E {'B', 'A', 'E'} {'D', 'B', 'A', 'E'}\n",
      "neighbour:  C\n",
      "************************\n",
      "C {'A', 'C', 'B', 'E'} {'A', 'C', 'D', 'B', 'E'}\n",
      "neighbour:  G\n",
      "************************\n",
      "G {'A', 'C', 'B', 'G', 'E'} {'A', 'C', 'D', 'B', 'G', 'E'}\n",
      "neighbour:  A\n",
      "True\n"
     ]
    }
   ],
   "source": [
    "graph = {'A': ['B', 'C'],\n",
    "         'B': ['D', 'E'],\n",
    "         'C': [ 'G', 'A'],\n",
    "         'D': [],\n",
    "         'E': ['C'],\n",
    "         'G': []}\n",
    "print(is_cyclic(graph))"
   ]
  },
  {
   "cell_type": "code",
   "execution_count": 283,
   "metadata": {},
   "outputs": [
    {
     "name": "stdout",
     "output_type": "stream",
     "text": [
      "************************\n",
      "A {'A'} {'A'}\n",
      "neighbour:  B\n",
      "************************\n",
      "B {'B', 'A'} {'B', 'A'}\n",
      "neighbour:  D\n",
      "************************\n",
      "D {'D', 'B', 'A'} {'D', 'B', 'A'}\n",
      "neighbour:  E\n",
      "************************\n",
      "E {'B', 'A', 'E'} {'D', 'B', 'A', 'E'}\n",
      "neighbour:  C\n",
      "************************\n",
      "C {'A', 'C', 'B', 'E'} {'A', 'C', 'D', 'B', 'E'}\n",
      "neighbour:  G\n",
      "************************\n",
      "G {'A', 'C', 'B', 'G', 'E'} {'A', 'C', 'D', 'B', 'G', 'E'}\n",
      "neighbour:  A\n"
     ]
    },
    {
     "data": {
      "text/plain": [
       "True"
      ]
     },
     "execution_count": 283,
     "metadata": {},
     "output_type": "execute_result"
    }
   ],
   "source": [
    "graph = {'A': ['B', 'C'],\n",
    "         'B': ['D', 'E'],\n",
    "         'C': [ 'G', 'A'],\n",
    "         'D': [],\n",
    "         'E': ['C'],\n",
    "         'G': []}\n",
    "\n",
    "is_cyclic(graph)"
   ]
  },
  {
   "cell_type": "code",
   "execution_count": 284,
   "metadata": {},
   "outputs": [
    {
     "name": "stdout",
     "output_type": "stream",
     "text": [
      "************************\n",
      "A {'A'} {'A'}\n",
      "neighbour:  B\n",
      "************************\n",
      "B {'B', 'A'} {'B', 'A'}\n",
      "neighbour:  D\n",
      "************************\n",
      "D {'D', 'B', 'A'} {'D', 'B', 'A'}\n",
      "neighbour:  E\n",
      "************************\n",
      "E {'B', 'A', 'E'} {'D', 'B', 'A', 'E'}\n",
      "neighbour:  C\n",
      "************************\n",
      "C {'A', 'C'} {'A', 'C', 'D', 'B', 'E'}\n",
      "neighbour:  G\n",
      "************************\n",
      "G {'A', 'C', 'G'} {'A', 'C', 'D', 'B', 'G', 'E'}\n",
      "neighbour:  E\n",
      "************************\n",
      "E {'A', 'C', 'E'} {'A', 'C', 'D', 'B', 'G', 'E'}\n",
      "False\n"
     ]
    }
   ],
   "source": [
    "graph = {'A': ['B', 'C'],\n",
    "         'B': ['D', 'E'],\n",
    "         'C': [ 'G', 'E'],\n",
    "         'D': [],\n",
    "         'E': [],\n",
    "         'G': []}\n",
    "print(is_cyclic(graph))"
   ]
  },
  {
   "cell_type": "code",
   "execution_count": 285,
   "metadata": {},
   "outputs": [
    {
     "name": "stdout",
     "output_type": "stream",
     "text": [
      "True\n"
     ]
    }
   ],
   "source": [
    "def is_cyclic(graph):\n",
    "    visited = set()\n",
    "    path = set()\n",
    "    \n",
    "    def dfs(start_node):\n",
    "        if start_node in visited: # not not in visited checks here\n",
    "            return False\n",
    "        visited.add(start_node)\n",
    "        path.add(start_node)\n",
    "        \n",
    "        for neighbour in graph[start_node]:\n",
    "            if neighbour in path:\n",
    "                return True\n",
    "            if dfs(neighbour) is True:\n",
    "                return True\n",
    "        path.remove(start_node)\n",
    "        return False\n",
    "    \n",
    "    return any(dfs(node) for node in graph)\n",
    "\n",
    "\n",
    "\n",
    "graph = {'A': ['B', 'D'],\n",
    "         'B': ['D', 'E', 'A'],\n",
    "         'C': [ 'G', 'E'],\n",
    "         'D': [],\n",
    "         'E': ['C'],\n",
    "         'G': []}\n",
    "print(is_cyclic(graph))"
   ]
  },
  {
   "cell_type": "code",
   "execution_count": 286,
   "metadata": {},
   "outputs": [
    {
     "name": "stdout",
     "output_type": "stream",
     "text": [
      "True\n"
     ]
    }
   ],
   "source": [
    "graph = {'A': ['B', 'C'],\n",
    "         'B': ['D', 'E'],\n",
    "         'C': [ 'G', 'A'],\n",
    "         'D': [],\n",
    "         'E': ['C'],\n",
    "         'G': []}\n",
    "print(is_cyclic(graph))"
   ]
  },
  {
   "cell_type": "markdown",
   "metadata": {},
   "source": [
    "## Challenge 4: Find a \"Mother Vertex\" in a Directed Graph\n",
    "Given a directed graph, can you find a vertex from which all other vertices are reachable?\n",
    "- the mother vertex is not directly connected to every vertex, but can reach it through a path traversal. Hence, there can be multiple mother vertices."
   ]
  },
  {
   "cell_type": "markdown",
   "metadata": {},
   "source": [
    "### BruteForce:\n",
    "- We run a `DFS` on each vertex using `dfs_traversal` and keep track of the number of vertices visited in the search. If it is equal to number of vertecies, then that vertex can reach all the vertices and is, hence, a mother vertex."
   ]
  },
  {
   "cell_type": "code",
   "execution_count": 168,
   "metadata": {},
   "outputs": [
    {
     "name": "stdout",
     "output_type": "stream",
     "text": [
      "A\n",
      "B\n"
     ]
    },
    {
     "data": {
      "text/plain": [
       "-1"
      ]
     },
     "execution_count": 168,
     "metadata": {},
     "output_type": "execute_result"
    }
   ],
   "source": [
    "def find_mother_vertex(graph):\n",
    "    # FOR EACH NODE WE DO A dfs SERACH AND STORE VISITED NODES IN A LIST,\n",
    "    # IF len OF THAT LIST IS EQUAL TO THE TOTAL NUMBER ON NODES, THAT NODE IS A MOTHER NODE \n",
    "    def dfs_traversal(start_node, visited = None):\n",
    "        if visited is None:\n",
    "            visited = [start_node] # visited must be a list to keep the order of added nodes\n",
    "\n",
    "        for neighbour in graph[start_node]:\n",
    "            if neighbour not in visited:\n",
    "                visited.append(neighbour)\n",
    "                dfs_traversal(neighbour, visited)\n",
    "        return visited\n",
    "\n",
    "    for node in graph:\n",
    "        visited = None\n",
    "        if len(dfs_traversal(node, visited)) == len(graph):\n",
    "            return node\n",
    "    return -1\n",
    "    \n",
    "    \n",
    "graph = {'A': ['B', 'D'],\n",
    "         'B': ['D', 'E'],\n",
    "         'C': [ 'G'],\n",
    "         'D': [],\n",
    "         'E': ['C'],\n",
    "         'G': []}\n",
    "print(find_mother_vertex(graph))\n",
    "\n",
    "\n",
    "graph = {'A': ['C'],\n",
    "         'B': ['A','D', 'E'],\n",
    "         'C': ['G', 'A'],\n",
    "         'D': ['B'],\n",
    "         'E': [],\n",
    "         'G': []}\n",
    "print(find_mother_vertex(graph))\n",
    "\n",
    "\n",
    "graph = {'A': ['C'],\n",
    "         'B': ['A','D', 'E'],\n",
    "         'C': ['A'],\n",
    "         'D': ['B'],\n",
    "         'E': [],\n",
    "         'G': ['C']}\n",
    "find_mother_vertex(graph)"
   ]
  },
  {
   "cell_type": "code",
   "execution_count": null,
   "metadata": {},
   "outputs": [],
   "source": []
  },
  {
   "cell_type": "code",
   "execution_count": 1,
   "metadata": {
    "scrolled": true
   },
   "outputs": [
    {
     "name": "stdout",
     "output_type": "stream",
     "text": [
      "A -> C -> G -> B -> D -> E -> "
     ]
    },
    {
     "data": {
      "text/plain": [
       "['A', 'C', 'G', 'B', 'D', 'E']"
      ]
     },
     "execution_count": 1,
     "metadata": {},
     "output_type": "execute_result"
    }
   ],
   "source": [
    "def dfs_traversal(graph):\n",
    "    \n",
    "    visited = set() # set() is much faster than list to look up visited nodes\n",
    "    path = []       \n",
    "    def dfs(graph, start_node):\n",
    "        \n",
    "        visited.add(start_node)  \n",
    "        print(start_node, end = ' -> ')\n",
    "        path.append(start_node) # we use path if we want to return the traversal path as well as \n",
    "        # printing it, We can't use set for storing traversal path because set has no order\n",
    "\n",
    "        for neighbour in graph[start_node]:\n",
    "            if neighbour not in visited:\n",
    "                visited.add(neighbour)\n",
    "                dfs(graph, neighbour)\n",
    "\n",
    "    for node in graph: # run DFS for all nodes as if not visted yet\n",
    "        if node not in visited:\n",
    "            dfs(graph, node)\n",
    "\n",
    "    return path       \n",
    "\n",
    "\n",
    "\n",
    "graph = {'A': [ 'C'],\n",
    "         'B': ['D'],\n",
    "         'C': ['A', 'G'],\n",
    "         'D': ['B'],\n",
    "         'E': ['A', 'B'],\n",
    "         'G': []}\n",
    "\n",
    "graph = {'A': ['C'],\n",
    "         'B': ['A','D', 'E'],\n",
    "         'C': ['G'],\n",
    "         'D': ['B'],\n",
    "         'E': [],\n",
    "         'G': []}\n",
    "\n",
    "dfs_traversal(graph)"
   ]
  },
  {
   "cell_type": "markdown",
   "metadata": {},
   "source": [
    "## Challenge 5: Count Number of Edges in an Undirected Graph\n",
    "In this lesson, we will figure out if it's possible to count the total number of edges in an undirected graph."
   ]
  },
  {
   "cell_type": "code",
   "execution_count": 87,
   "metadata": {},
   "outputs": [
    {
     "data": {
      "text/plain": [
       "6"
      ]
     },
     "execution_count": 87,
     "metadata": {},
     "output_type": "execute_result"
    }
   ],
   "source": [
    "def num_edges(graph):\n",
    "    edge_count = 0\n",
    "    for node in graph:\n",
    "        edge_count += len(graph[node])\n",
    "    return int(edge_count/2)\n",
    "\n",
    "\n",
    "graph = {'A': [ 'C', 'G', 'E'],\n",
    "         'B': ['D', 'E'],\n",
    "         'C': ['A', 'G'],\n",
    "         'D': ['B'],\n",
    "         'E': ['A', 'B'],\n",
    "         'G': ['A', 'C']}\n",
    "num_edges(graph)"
   ]
  },
  {
   "cell_type": "code",
   "execution_count": 88,
   "metadata": {},
   "outputs": [
    {
     "data": {
      "text/plain": [
       "{'A', 'B', 'C', 'D', 'E', 'G'}"
      ]
     },
     "execution_count": 88,
     "metadata": {},
     "output_type": "execute_result"
    }
   ],
   "source": [
    "set(graph)"
   ]
  },
  {
   "cell_type": "markdown",
   "metadata": {},
   "source": [
    "## Challenge 6: Check if a Path Exists Between Two Vertices\n",
    "Given a directed graph and two vertices, can you write a code to check if a path exists between the two vertices?"
   ]
  },
  {
   "cell_type": "code",
   "execution_count": 189,
   "metadata": {},
   "outputs": [],
   "source": [
    "graph = {'A': [ 'B', 'E'],\n",
    "         'B': ['D', 'C'],\n",
    "         'C': ['F'],\n",
    "         'D': [],\n",
    "         'E': ['C', 'F'],\n",
    "         'F': ['G', 'H', 'D'],\n",
    "         'G': ['H'],\n",
    "         'H': []}\n",
    "\n",
    "source, destination = 'A', 'F'\n",
    "if {'A', 'F'} > set(graph):\n",
    "        print('here')"
   ]
  },
  {
   "cell_type": "code",
   "execution_count": 190,
   "metadata": {},
   "outputs": [
    {
     "name": "stdout",
     "output_type": "stream",
     "text": [
      "yes\n"
     ]
    }
   ],
   "source": [
    "res = [True, False]\n",
    "if any(res):\n",
    "    print('yes')"
   ]
  },
  {
   "cell_type": "code",
   "execution_count": 12,
   "metadata": {},
   "outputs": [
    {
     "name": "stdout",
     "output_type": "stream",
     "text": [
      "['A', 'B', 'D', 'C', 'F']\n"
     ]
    },
    {
     "data": {
      "text/plain": [
       "True"
      ]
     },
     "execution_count": 12,
     "metadata": {},
     "output_type": "execute_result"
    }
   ],
   "source": [
    "def check_path(graph, source, destination):\n",
    "    if {source, destination} > set(graph): # if source and destination NOT in graph\n",
    "        print('here')\n",
    "        return \n",
    "    \n",
    "    visited = set()\n",
    "    path = []\n",
    "    res = []\n",
    "    def check_cycle(source):\n",
    "        visited.add(source)\n",
    "        path.append(source)\n",
    "        for neighbour in graph[source]:\n",
    "\n",
    "            if neighbour == destination: # when destiantion found\n",
    "                path.append(neighbour) # append it to path because no recusrion is execurted\n",
    "                for node in graph: visited.add(node) # add all nodes to visited so no more dfs is executed\n",
    "                res.append(True) # add a True to res\n",
    "                return res\n",
    "            if neighbour not in visited:\n",
    "                check_cycle(neighbour)\n",
    "\n",
    "   \n",
    "    check_cycle(source)\n",
    "    print(path)\n",
    "    return any(res)\n",
    "\n",
    "\n",
    "\n",
    "graph = {'A': [ 'B', 'E'],\n",
    "         'B': ['D', 'C'],\n",
    "         'C': ['F'],\n",
    "         'D': [],\n",
    "         'E': ['C', 'F'],\n",
    "         'F': ['G', 'H', 'D'],\n",
    "         'G': ['H'],\n",
    "         'H': []}\n",
    "\n",
    "check_path(graph, 'A', 'F')"
   ]
  },
  {
   "cell_type": "markdown",
   "metadata": {},
   "source": [
    "## Challenge 7: Check if a Given **Undirected** Graph is Tree or not?"
   ]
  },
  {
   "cell_type": "markdown",
   "metadata": {},
   "source": [
    "- The logic for this problem is the same as Challenge 3 where you have to detect a cycle in the graph. We make a path of vertices in `check_cycle()`. This path grows recursively. \n",
    "- The only difference is that we keep track of the parent vertex since a backward link to the parent does not count as a cycle (undirected graph).\n",
    "- If a cycle is found in the graph, `check_cycle` will return True."
   ]
  },
  {
   "cell_type": "markdown",
   "metadata": {},
   "source": [
    "### 1. All elements of visited must be true (connected graph)\n",
    "### 2. `check_cycle` should return False (no cycle in graph)"
   ]
  },
  {
   "cell_type": "code",
   "execution_count": 172,
   "metadata": {},
   "outputs": [
    {
     "data": {
      "text/plain": [
       "['G', 'E']"
      ]
     },
     "execution_count": 172,
     "metadata": {},
     "output_type": "execute_result"
    }
   ],
   "source": [
    "list(set(graph['A']) - set('C'))"
   ]
  },
  {
   "cell_type": "code",
   "execution_count": 287,
   "metadata": {},
   "outputs": [
    {
     "name": "stdout",
     "output_type": "stream",
     "text": [
      "G and C are connected so there is a cycle and NOT a tree\n",
      "False\n",
      "\n",
      "G and C are not connected so there is a no cycle and it is a tree\n"
     ]
    },
    {
     "data": {
      "text/plain": [
       "True"
      ]
     },
     "execution_count": 287,
     "metadata": {},
     "output_type": "execute_result"
    }
   ],
   "source": [
    "def is_tree(graph):\n",
    "    # we need to keep track of the parent node cause it's undirected graph \n",
    "    # and each node is a neighbour of its child node in a path\n",
    "    # for each node we run a dfs and path to check if it is occured in \n",
    "    # for neighbour in graph[node] - parent\n",
    "    visited = set()\n",
    "    path = []\n",
    "    def check_cycle(start_node, parent):\n",
    "        visited.add(start_node)\n",
    "        path.append(start_node)\n",
    "        # for each node we need to EXCLUDE ITS PARENT form the list of neighbours,\n",
    "        # because it's a directed graph and each neighbour is connected to its parent(2-sided connecteion)\n",
    "        for neighbour in list(set(graph[start_node]) - set(parent)):# \n",
    "            #print(start_node, neighbour)\n",
    "            if neighbour in path:\n",
    "                return True\n",
    "            if check_cycle(neighbour, start_node):\n",
    "                return True\n",
    "        path.remove(start_node)\n",
    "        return False\n",
    "    \n",
    "    # For each node, if no cycle detetcted and all nodes are connected(in visited) then it is a Tree(True)\n",
    "    for node in graph:\n",
    "        if node not in visited:\n",
    "            # for NOT being a tree it's enough even for one node if:\n",
    "            # one node is not visited (not a connected graph) >>> visited != set(graph)\n",
    "            # check_cycle be True (tree doesn't have any cycle) >>> check_cycle(node, parent = '')\n",
    "            if  check_cycle(node, parent = '') or visited != set(graph):\n",
    "                return False\n",
    "    return True \n",
    "\n",
    "\n",
    "graph = {'A': [ 'C', 'E', 'G'],\n",
    "         'B': ['D', 'E'],\n",
    "         'C': ['A', 'G'],\n",
    "         'D': ['B'],\n",
    "         'E': ['A', 'B'],\n",
    "         'G': ['C', 'A']}\n",
    "print('G and C are connected so there is a cycle and NOT a tree')\n",
    "print(is_tree(graph))\n",
    "print()\n",
    "\n",
    "graph = {'A': [ 'C', 'E', 'G'],\n",
    "         'B': ['D', 'E'],\n",
    "         'C': ['A'],\n",
    "         'D': ['B'],\n",
    "         'E': ['A', 'B'],\n",
    "         'G': [ 'A']}\n",
    "print('G and C are not connected so there is a no cycle and it is a tree')\n",
    "is_tree(graph)"
   ]
  },
  {
   "cell_type": "markdown",
   "metadata": {},
   "source": [
    "## Challenge 8: Find the Shortest Path Between Two Vertices\n",
    "- The shortest path will contain the minimum number of edges.\n",
    "- BFS is better for findinf the shortest path"
   ]
  },
  {
   "cell_type": "code",
   "execution_count": 145,
   "metadata": {},
   "outputs": [
    {
     "data": {
      "text/plain": [
       "4"
      ]
     },
     "execution_count": 145,
     "metadata": {},
     "output_type": "execute_result"
    }
   ],
   "source": [
    "def find_shortest_apth(garph, source, destination):\n",
    "    # BFS\n",
    "    visited = set(source)\n",
    "    from collections import deque\n",
    "    q = deque()\n",
    "    #path = [source]\n",
    "    q.append((source, 0))\n",
    "    #distance = {source: 0} # distance keeps the distance of each node from the source\n",
    "    while len(q) > 0:\n",
    "        (curr_node, distance) = q.popleft()\n",
    "        for neighbour in graph[curr_node]:\n",
    "            if neighbour not in visited:\n",
    "                visited.add(neighbour)\n",
    "                distance += 1\n",
    "                q.append((neighbour, distance))\n",
    "                #path.append(neighbour)\n",
    "                # for each neighbour, add 1 to its parent's distance and save it in distance dictionary\n",
    "                #distance[neighbour] = distance[curr_node] + 1\n",
    "                if neighbour == destination:\n",
    "                    #print(path)\n",
    "                    return distance\n",
    "                \n",
    "                \n",
    "    return -1    \n",
    "\n",
    "graph = {'A': [ 'B', 'C', 'D', 'E'],\n",
    "         'B': [],\n",
    "         'C': ['E'],\n",
    "         'D': ['F'],\n",
    "         'E': ['D'],\n",
    "         'F': ['E']}\n",
    "\n",
    "find_shortest_apth(graph, 'A', 'F')"
   ]
  },
  {
   "cell_type": "markdown",
   "metadata": {},
   "source": [
    "### A. Returning only the path length\n",
    "\n",
    "- https://aquarchitect.github.io/swift-algorithm-club/Shortest%20Path%20%28Unweighted%29/"
   ]
  },
  {
   "cell_type": "code",
   "execution_count": 142,
   "metadata": {},
   "outputs": [
    {
     "data": {
      "text/plain": [
       "2"
      ]
     },
     "execution_count": 142,
     "metadata": {},
     "output_type": "execute_result"
    }
   ],
   "source": [
    "def find_shortest_apth(garph, source, destination):\n",
    "    # BFS\n",
    "    visited = set(source)\n",
    "    from collections import deque\n",
    "    q = deque()\n",
    "    #path = [source]\n",
    "    q.append(source)\n",
    "    distance = {source: 0} # distance keeps the distance of each node from the source\n",
    "    while len(q) > 0:\n",
    "        curr_node = q.popleft()\n",
    "        for neighbour in graph[curr_node]:\n",
    "            if neighbour not in visited:\n",
    "                visited.add(neighbour)\n",
    "                q.append(neighbour)\n",
    "                #path.append(neighbour)\n",
    "                # for each neighbour, add 1 to its parent's distance and save it in distance dictionary\n",
    "                distance[neighbour] = distance[curr_node] + 1\n",
    "                if neighbour == destination:\n",
    "                    #print(path)\n",
    "                    return distance[neighbour]\n",
    "                \n",
    "                \n",
    "    return -1    \n",
    "\n",
    "graph = {'A': [ 'B', 'C', 'D', 'E'],\n",
    "         'B': [],\n",
    "         'C': ['E'],\n",
    "         'D': ['F'],\n",
    "         'E': ['D'],\n",
    "         'F': ['E']}\n",
    "\n",
    "find_shortest_apth(graph, 'A', 'F')"
   ]
  },
  {
   "cell_type": "code",
   "execution_count": 144,
   "metadata": {},
   "outputs": [
    {
     "data": {
      "text/plain": [
       "3"
      ]
     },
     "execution_count": 144,
     "metadata": {},
     "output_type": "execute_result"
    }
   ],
   "source": [
    "graph = {'A': [ 'C', 'E', 'G'],\n",
    "         'B': [ 'E'],\n",
    "         'C': ['G'],\n",
    "         'D': ['B'],\n",
    "         'E': ['D'],\n",
    "         'G': [ 'A']}\n",
    "find_shortest_apth(graph, 'A', 'B')"
   ]
  },
  {
   "cell_type": "code",
   "execution_count": 126,
   "metadata": {},
   "outputs": [
    {
     "data": {
      "text/plain": [
       "('A', ['A', 'B'])"
      ]
     },
     "execution_count": 126,
     "metadata": {},
     "output_type": "execute_result"
    }
   ],
   "source": [
    "from collections import deque\n",
    "    \n",
    "queue = deque()\n",
    "queue.append(('A', ['A', 'B']))\n",
    "queue.popleft()\n",
    "#print(queue)"
   ]
  },
  {
   "cell_type": "markdown",
   "metadata": {},
   "source": [
    "### B. Returning the path \n",
    "- https://www.codespeedy.com/python-program-to-find-shortest-path-in-an-unweighted-graph/\n",
    "- In this approach for each node, we store its value as well as it's path"
   ]
  },
  {
   "cell_type": "code",
   "execution_count": 139,
   "metadata": {},
   "outputs": [
    {
     "name": "stdout",
     "output_type": "stream",
     "text": [
      "['A', 'E', 'D', 'B']\n",
      "['1', '2', '5']\n"
     ]
    }
   ],
   "source": [
    "def shortest_path_bfs (garph, source, destination):\n",
    "    from collections import deque\n",
    "    q = deque()\n",
    "    q.append((source, [source]))\n",
    "    while len(q) > 0:\n",
    "        (node, path) = q.pop()\n",
    "        for neighbour in graph[node]:\n",
    "            if neighbour not in path: # each node has its own path which works like visited\n",
    "                if destination == neighbour:\n",
    "                    return path + [neighbour]\n",
    "                else:\n",
    "                    q.append((neighbour, path + [neighbour]))\n",
    "    \n",
    "    \n",
    "\n",
    "graph = {'A': [ 'C', 'E', 'G'],\n",
    "         'B': [ 'E'],\n",
    "         'C': ['G'],\n",
    "         'D': ['B'],\n",
    "         'E': ['D'],\n",
    "         'G': [ 'A']}\n",
    "\n",
    "print(list(shortest_path_bfs(graph, 'A', 'B')))\n",
    "\n",
    "graph = {'1': set(['2', '3']),\n",
    "         '2': set(['1', '5']),\n",
    "         '3': set(['1', '4']),\n",
    "         '4': set(['3','5']),\n",
    "         '5': set(['2', '4'])}\n",
    "\n",
    "print(list(bfs(graph, '1', '5')))"
   ]
  },
  {
   "cell_type": "markdown",
   "metadata": {},
   "source": [
    "## Challenge: Find all Pathes Between Two Vertices\n"
   ]
  },
  {
   "cell_type": "code",
   "execution_count": 140,
   "metadata": {},
   "outputs": [
    {
     "name": "stdout",
     "output_type": "stream",
     "text": [
      "source:  A\n",
      "neighbour:  B\n",
      "path:  ['A']\n",
      "*****************************\n",
      "source:  B\n",
      "Path poped:  ['A']\n",
      "neighbour:  C\n",
      "path:  ['A']\n",
      "*****************************\n",
      "source:  C\n",
      "neighbour:  E\n",
      "path:  ['A', 'C']\n",
      "*****************************\n",
      "res:  [['A', 'C', 'E']]\n",
      "Path poped:  ['A']\n",
      "neighbour:  D\n",
      "path:  ['A']\n",
      "*****************************\n",
      "source:  D\n",
      "neighbour:  F\n",
      "path:  ['A', 'D']\n",
      "*****************************\n",
      "source:  F\n",
      "neighbour:  E\n",
      "path:  ['A', 'D', 'F']\n",
      "*****************************\n",
      "res:  [['A', 'C', 'E'], ['A', 'D', 'F', 'E']]\n",
      "Path poped:  ['A', 'D']\n",
      "Path poped:  ['A']\n",
      "neighbour:  E\n",
      "path:  ['A']\n",
      "*****************************\n",
      "res:  [['A', 'C', 'E'], ['A', 'D', 'F', 'E'], ['A', 'E']]\n",
      "Path poped:  []\n"
     ]
    },
    {
     "data": {
      "text/plain": [
       "[['A', 'C', 'E'], ['A', 'D', 'F', 'E'], ['A', 'E']]"
      ]
     },
     "execution_count": 140,
     "metadata": {},
     "output_type": "execute_result"
    }
   ],
   "source": [
    "def find_all_pathes(graph, source, destination):\n",
    "     # if source and destination NOT in graph\n",
    "    if {source, destination} > set(graph):\n",
    "        print('here')\n",
    "        return \n",
    "\n",
    "    path = [] # each node has its own path\n",
    "    res = [] # store all pathes between source and destination \n",
    "    def find_path(source):\n",
    "        print('source: ', source)\n",
    "        path.append(source)\n",
    "        for neighbour in graph[source]:\n",
    "            print('neighbour: ', neighbour)\n",
    "            #print('visited: ', visited)\n",
    "            print('path: ', path)\n",
    "            print('*****************************')\n",
    "            if neighbour == destination: # when destiantion found\n",
    "                path.append(neighbour) # append detsination to path because no recusrion is needed\n",
    "                res.append(list(path)) # use list(path) otherwisw res would have only one list\n",
    "                print('res: ', res)\n",
    "                path.pop() # remove destination from the current successful path\n",
    "\n",
    "            else: # when destination is not found: \n",
    "                find_path(neighbour) # dfs neighbour nodes\n",
    "        path.remove(source) # when start_node is fully searched, remove it from path and go to the other nodes\n",
    "        print('Path poped: ', path)\n",
    "\n",
    "   \n",
    "    find_path(source)\n",
    "    return res\n",
    "\n",
    "graph = {'A': [ 'B', 'C', 'D', 'E'],\n",
    "         'B': [],\n",
    "         'C': ['E'],\n",
    "         'D': ['F'],\n",
    "         'E': ['E'],\n",
    "         'F': ['E']}\n",
    "\n",
    "find_all_pathes(graph, 'A', 'E')"
   ]
  },
  {
   "cell_type": "code",
   "execution_count": null,
   "metadata": {},
   "outputs": [],
   "source": []
  },
  {
   "cell_type": "code",
   "execution_count": null,
   "metadata": {},
   "outputs": [],
   "source": []
  },
  {
   "cell_type": "code",
   "execution_count": null,
   "metadata": {},
   "outputs": [],
   "source": []
  },
  {
   "cell_type": "code",
   "execution_count": null,
   "metadata": {},
   "outputs": [],
   "source": []
  },
  {
   "cell_type": "code",
   "execution_count": null,
   "metadata": {},
   "outputs": [],
   "source": []
  },
  {
   "cell_type": "code",
   "execution_count": null,
   "metadata": {},
   "outputs": [],
   "source": []
  },
  {
   "cell_type": "code",
   "execution_count": null,
   "metadata": {},
   "outputs": [],
   "source": []
  },
  {
   "cell_type": "code",
   "execution_count": null,
   "metadata": {},
   "outputs": [],
   "source": []
  },
  {
   "cell_type": "code",
   "execution_count": null,
   "metadata": {},
   "outputs": [],
   "source": []
  },
  {
   "cell_type": "code",
   "execution_count": null,
   "metadata": {},
   "outputs": [],
   "source": []
  },
  {
   "cell_type": "code",
   "execution_count": null,
   "metadata": {},
   "outputs": [],
   "source": []
  },
  {
   "cell_type": "code",
   "execution_count": null,
   "metadata": {},
   "outputs": [],
   "source": []
  },
  {
   "cell_type": "code",
   "execution_count": null,
   "metadata": {},
   "outputs": [],
   "source": []
  },
  {
   "cell_type": "code",
   "execution_count": null,
   "metadata": {},
   "outputs": [],
   "source": []
  },
  {
   "cell_type": "code",
   "execution_count": null,
   "metadata": {},
   "outputs": [],
   "source": []
  },
  {
   "cell_type": "code",
   "execution_count": null,
   "metadata": {},
   "outputs": [],
   "source": []
  },
  {
   "cell_type": "code",
   "execution_count": null,
   "metadata": {},
   "outputs": [],
   "source": []
  },
  {
   "cell_type": "code",
   "execution_count": null,
   "metadata": {},
   "outputs": [],
   "source": []
  },
  {
   "cell_type": "code",
   "execution_count": null,
   "metadata": {},
   "outputs": [],
   "source": []
  },
  {
   "cell_type": "code",
   "execution_count": null,
   "metadata": {},
   "outputs": [],
   "source": []
  },
  {
   "cell_type": "code",
   "execution_count": null,
   "metadata": {},
   "outputs": [],
   "source": []
  },
  {
   "cell_type": "code",
   "execution_count": null,
   "metadata": {},
   "outputs": [],
   "source": []
  },
  {
   "cell_type": "code",
   "execution_count": null,
   "metadata": {},
   "outputs": [],
   "source": []
  },
  {
   "cell_type": "code",
   "execution_count": null,
   "metadata": {},
   "outputs": [],
   "source": []
  },
  {
   "cell_type": "code",
   "execution_count": null,
   "metadata": {},
   "outputs": [],
   "source": []
  },
  {
   "cell_type": "code",
   "execution_count": null,
   "metadata": {},
   "outputs": [],
   "source": []
  },
  {
   "cell_type": "code",
   "execution_count": null,
   "metadata": {},
   "outputs": [],
   "source": []
  },
  {
   "cell_type": "code",
   "execution_count": null,
   "metadata": {},
   "outputs": [],
   "source": []
  },
  {
   "cell_type": "code",
   "execution_count": null,
   "metadata": {},
   "outputs": [],
   "source": []
  },
  {
   "cell_type": "code",
   "execution_count": null,
   "metadata": {},
   "outputs": [],
   "source": []
  },
  {
   "cell_type": "code",
   "execution_count": null,
   "metadata": {},
   "outputs": [],
   "source": []
  },
  {
   "cell_type": "code",
   "execution_count": null,
   "metadata": {},
   "outputs": [],
   "source": []
  }
 ],
 "metadata": {
  "kernelspec": {
   "display_name": "Python 3",
   "language": "python",
   "name": "python3"
  },
  "language_info": {
   "codemirror_mode": {
    "name": "ipython",
    "version": 3
   },
   "file_extension": ".py",
   "mimetype": "text/x-python",
   "name": "python",
   "nbconvert_exporter": "python",
   "pygments_lexer": "ipython3",
   "version": "3.7.4"
  }
 },
 "nbformat": 4,
 "nbformat_minor": 2
}
