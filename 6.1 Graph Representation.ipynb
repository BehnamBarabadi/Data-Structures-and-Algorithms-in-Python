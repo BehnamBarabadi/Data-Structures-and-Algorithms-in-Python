{
 "cells": [
  {
   "cell_type": "markdown",
   "metadata": {},
   "source": [
    "# **Graph Representation**"
   ]
  },
  {
   "cell_type": "code",
   "execution_count": 1,
   "metadata": {},
   "outputs": [
    {
     "data": {
      "text/html": [
       "<style>.container { width:85% !important; }</style>"
      ],
      "text/plain": [
       "<IPython.core.display.HTML object>"
      ]
     },
     "metadata": {},
     "output_type": "display_data"
    }
   ],
   "source": [
    "from IPython.core.display import display, HTML\n",
    "display(HTML(\"<style>.container { width:85% !important; }</style>\"))"
   ]
  },
  {
   "cell_type": "markdown",
   "metadata": {},
   "source": [
    "### Each edge is saved twice:\n",
    "1. one inside `node.edges` (each Node could have some edges)\n",
    "2. one inside `graph.edges` (list of all edges of the graph)\n",
    "\n",
    "### Each node is saved twice:\n",
    "1. one as `node_from` or `node_to` for each edge (each edge has 2 nodes a source and destination)\n",
    "2. one inside `graph.nodes' (list of all nodes)"
   ]
  },
  {
   "cell_type": "markdown",
   "metadata": {},
   "source": [
    "### Attention!\n",
    "- When we crete a new Node:\n",
    "> we add all its edges to it\n",
    "- When creating a new Edge:\n",
    "> we add 2 Nodes to it (`node_from` and `node_to`)"
   ]
  },
  {
   "cell_type": "markdown",
   "metadata": {},
   "source": [
    "### Attention:\n",
    "- Unlike Trees, Graphs has a list of all nodes (Trees only keep record of the root(1st node))\n",
    "\n",
    "> The reason for that is because each node could have multiple connected nodes so we don't know how many related node each node has!"
   ]
  },
  {
   "cell_type": "markdown",
   "metadata": {},
   "source": [
    "\n",
    "<img src=\"images\\graph_rep.jpg\" width=\"700\" >"
   ]
  },
  {
   "cell_type": "markdown",
   "metadata": {},
   "source": [
    "## 1.My Approach"
   ]
  },
  {
   "cell_type": "code",
   "execution_count": 20,
   "metadata": {},
   "outputs": [],
   "source": [
    "class Node():\n",
    "    def __init__ (self, val):\n",
    "        self.value = val\n",
    "        self.edges = []\n"
   ]
  },
  {
   "cell_type": "code",
   "execution_count": 21,
   "metadata": {},
   "outputs": [],
   "source": [
    "# each edge object has 3 properties:\n",
    "class Edge():\n",
    "    def __init__ (self, val, node_from, node_to):\n",
    "        self.value = val # value\n",
    "        self.node_from = node_from # which is the source node\n",
    "        self.node_to = node_to # which is the destination node\n",
    "        "
   ]
  },
  {
   "cell_type": "code",
   "execution_count": 22,
   "metadata": {},
   "outputs": [],
   "source": [
    "class Graph():\n",
    "    def __init__(self, nodes = [], edges= []):\n",
    "        self.nodes = nodes # self.nodes is a list of Node objects\n",
    "        self.edges = edges # self.edges is a list of Edge objects\n",
    "        \n",
    "    def insert_node(self, new_node_val):\n",
    "        new_node = Node(new_node_val)\n",
    "        self.nodes.append(new_node)\n",
    "        \n",
    "    def insert_edge(self, new_edge_val, new_from_val, new_to_val):\n",
    "        new_from_node = None\n",
    "        new_to_node = None\n",
    "        for node in self.nodes:\n",
    "            if new_from_val == node.value:\n",
    "                new_from_node = node\n",
    "            if new_to_val == node.value:\n",
    "                new_to_node = node\n",
    "                \n",
    "        if new_from_node == None: # when new_from_val doesn't exists and we need to create new node for that and append it to nodes\n",
    "            new_from_node = Node(new_from_val)  # create a new_node \n",
    "            self.nodes.append(new_from_node) # and append it to nodes         \n",
    "            \n",
    "        if new_to_node == None: # when new_to_val doesn't exists and we need to create a new node for that  and append it to nodes\n",
    "            new_to_node = Node(new_to_val) # create a new_node \n",
    "            self.nodes.append(new_to_node) # and append it to nodes       \n",
    "        \n",
    "        new_edge = Edge(new_edge_val, new_from_node, new_to_node) # now create the new edge with its value and corresponding nodes\n",
    "        new_from_node.edges.append(new_edge) # add the source of the newly made edge\n",
    "        new_to_node.edges.append(new_edge) # add the destination of the newly made edge\n",
    "        self.edges.append(new_edge)\n",
    "        \n",
    "    def get_edge_list(self):\n",
    "        \"\"\"Return a list of triples that looks like this:\n",
    "        (Edge Value, From Node Value, To Node Value)\"\"\"\n",
    "        return [(e.value, e.node_from.value, e.node_to.value) for e in self.edges]\n",
    "    \n",
    "    \n",
    "    def get_adjacency_list(self):\n",
    "        \"\"\" You'll return a dictionary.\n",
    "        {node_value: [(To Node, Edge Value)]}\"\"\"\n",
    "        node_values = [node.value for node in self.nodes] # list of all nodes value\n",
    "        print(\"Nodes:\", node_values)\n",
    "        adj_list = {}\n",
    "        for node in self.nodes:\n",
    "            l_temp = [] # to save the edges with the current node as their source \n",
    "            for edge in node.edges:                \n",
    "                if edge.node_from.value == node.value: # if the source of this edge is the current node\n",
    "                    found = True\n",
    "                    l_temp.append((edge.node_to.value, edge.value)) # we append the destination and value of the edge\n",
    "            if len(l_temp) == 0: # for each node if l_temp is empty\n",
    "                l_temp.append(None) # nodes with no outgoing edge will be represented with None\n",
    "            #adj_list.append([node.value, l_temp])\n",
    "            adj_list[node.value] = l_temp\n",
    "        return adj_list\n",
    "    \n",
    "    def get_adjacency_matrix(self):\n",
    "        adj_matrix = []\n",
    "        node_values = [node.value for node in self.nodes] # list of all nodes value\n",
    "        print(\"Nodes:\", node_values)\n",
    "        for node in self.nodes:\n",
    "            l_temp = [0] * len(self.nodes) # for each node(row of matix) we initiate a list of 0s with size equal to the number of nodes\n",
    "            for edge in node.edges:\n",
    "                if edge.node_from.value == node.value: # if this edge source is the current node\n",
    "                    index = node_values.index(edge.node_to.value) # get the index of the edge destination node in node_values list\n",
    "                    l_temp[index] = edge.value # set the value of this element in the l_temp to the weight of the edge\n",
    "            adj_matrix.append(l_temp)\n",
    "        return adj_matrix"
   ]
  },
  {
   "cell_type": "code",
   "execution_count": 25,
   "metadata": {
    "scrolled": true
   },
   "outputs": [
    {
     "name": "stdout",
     "output_type": "stream",
     "text": [
      "Edge List:\n",
      "[(100, 1, 2), (101, 1, 3), (102, 1, 4), (103, 3, 4), ('XXX', 'A', 4), (100, 1, 2), (101, 1, 3), (102, 1, 4), (103, 3, 4), ('XXX', 'A', 4), (100, 1, 2), (101, 1, 3), (102, 1, 4), (103, 3, 4), ('XXX', 'A', 4)]\n",
      "\n",
      "Adjacency List:\n",
      "Nodes: [1, 2, 3, 4, 'A']\n",
      "{1: [(2, 100), (3, 101), (4, 102), (2, 100), (3, 101), (4, 102), (2, 100), (3, 101), (4, 102)], 2: [None], 3: [(4, 103), (4, 103), (4, 103)], 4: [None], 'A': [(4, 'XXX'), (4, 'XXX'), (4, 'XXX')]}\n",
      "\n",
      "Adjacency Matrix:\n",
      "Nodes: [1, 2, 3, 4, 'A']\n",
      "[[0, 100, 101, 102, 0], [0, 0, 0, 0, 0], [0, 0, 0, 103, 0], [0, 0, 0, 0, 0], [0, 0, 0, 'XXX', 0]]\n"
     ]
    }
   ],
   "source": [
    "graph = Graph()\n",
    "graph.insert_edge(100, 1, 2)\n",
    "graph.insert_edge(101, 1, 3)\n",
    "graph.insert_edge(102, 1, 4)\n",
    "graph.insert_edge(103, 3, 4)\n",
    "graph.insert_edge('XXX', 'A', 4)\n",
    "# Should be [(100, 1, 2), (101, 1, 3), (102, 1, 4), (103, 3, 4)]\n",
    "print(\"Edge List:\")\n",
    "print(graph.get_edge_list())\n",
    "print()\n",
    "\n",
    "# Should be [None, [(2, 100), (3, 101), (4, 102)], None, [(4, 103)], None]\n",
    "print(\"Adjacency List:\")\n",
    "print(graph.get_adjacency_list())\n",
    "print()\n",
    "\n",
    "print(\"Adjacency Matrix:\")\n",
    "print (graph.get_adjacency_matrix())\n"
   ]
  },
  {
   "cell_type": "markdown",
   "metadata": {},
   "source": [
    "## 2.Udacity"
   ]
  },
  {
   "cell_type": "code",
   "execution_count": 37,
   "metadata": {},
   "outputs": [],
   "source": [
    "class Node(object):\n",
    "    def __init__(self, value):\n",
    "        self.value = value\n",
    "        self.edges = []\n",
    "\n",
    "class Edge(object):\n",
    "    def __init__(self, value, node_from, node_to):\n",
    "        self.value = value\n",
    "        self.node_from = node_from\n",
    "        self.node_to = node_to\n",
    "\n",
    "class Graph(object):\n",
    "    def __init__(self, nodes=[], edges=[]):\n",
    "        self.nodes = nodes\n",
    "        self.edges = edges\n",
    "\n",
    "    def insert_node(self, new_node_val):\n",
    "        new_node = Node(new_node_val)\n",
    "        self.nodes.append(new_node)\n",
    "        \n",
    "    def insert_edge(self, new_edge_val, node_from_val, node_to_val):\n",
    "        from_found = None\n",
    "        to_found = None\n",
    "        for node in self.nodes:\n",
    "            if node_from_val == node.value:\n",
    "                from_found = node\n",
    "            if node_to_val == node.value:\n",
    "                to_found = node\n",
    "        if from_found == None:\n",
    "            from_found = Node(node_from_val)\n",
    "            self.nodes.append(from_found)\n",
    "        if to_found == None:\n",
    "            to_found = Node(node_to_val)\n",
    "            self.nodes.append(to_found)\n",
    "        new_edge = Edge(new_edge_val, from_found, to_found)\n",
    "        from_found.edges.append(new_edge)\n",
    "        to_found.edges.append(new_edge)\n",
    "        self.edges.append(new_edge)\n",
    "        \n",
    "    def get_edge_list(self):\n",
    "        edge_list = []\n",
    "        for edge_object in self.edges:\n",
    "            edge = (edge_object.value, edge_object.node_from.value, edge_object.node_to.value)\n",
    "            edge_list.append(edge)\n",
    "        return edge_list\n",
    "\n",
    "    def get_adjacency_list(self):\n",
    "        max_index = self.find_max_index()\n",
    "        adjacency_list = [None] * (max_index + 1)\n",
    "        for edge_object in self.edges:\n",
    "            if adjacency_list[edge_object.node_from.value]:\n",
    "                adjacency_list[edge_object.node_from.value].append((edge_object.node_to.value, edge_object.value))\n",
    "            else:\n",
    "                adjacency_list[edge_object.node_from.value] = [(edge_object.node_to.value, edge_object.value)]\n",
    "        return adjacency_list\n",
    "\n",
    "    def get_adjacency_matrix(self):\n",
    "        max_index = self.find_max_index()\n",
    "        adjacency_matrix = [[0 for i in range(max_index + 1)] for j in range(max_index + 1)]\n",
    "        for edge_object in self.edges:\n",
    "            adjacency_matrix[edge_object.node_from.value][edge_object.node_to.value] = edge_object.value\n",
    "        return adjacency_matrix\n",
    "\n",
    "    def find_max_index(self):\n",
    "        max_index = -1\n",
    "        if len(self.nodes):\n",
    "            for node in self.nodes:\n",
    "                if node.value > max_index:\n",
    "                    max_index = node.value\n",
    "        return max_index\n"
   ]
  },
  {
   "cell_type": "code",
   "execution_count": 41,
   "metadata": {},
   "outputs": [
    {
     "name": "stdout",
     "output_type": "stream",
     "text": [
      "Edge List:\n",
      "[(100, 1, 2), (101, 1, 3), (102, 1, 4), (103, 3, 4), (100, 1, 2), (101, 1, 3), (102, 1, 4), (103, 3, 4), (100, 1, 2), (101, 1, 3), (102, 1, 4), (103, 3, 4), (100, 1, 2), (101, 1, 3), (102, 1, 4), (103, 3, 4)]\n",
      "\n",
      "Adjacency List:\n",
      "[None, [(2, 100), (3, 101), (4, 102), (2, 100), (3, 101), (4, 102), (2, 100), (3, 101), (4, 102), (2, 100), (3, 101), (4, 102)], None, [(4, 103), (4, 103), (4, 103), (4, 103)], None]\n",
      "\n",
      "Adjacency Matrix:\n",
      "[[0, 0, 0, 0, 0], [0, 0, 100, 101, 102], [0, 0, 0, 0, 0], [0, 0, 0, 0, 103], [0, 0, 0, 0, 0]]\n"
     ]
    }
   ],
   "source": [
    "graph = Graph()\n",
    "graph.insert_edge(100, 1, 2)\n",
    "graph.insert_edge(101, 1, 3)\n",
    "graph.insert_edge(102, 1, 4)\n",
    "graph.insert_edge(103, 3, 4)\n",
    "# Should be [(100, 1, 2), (101, 1, 3), (102, 1, 4), (103, 3, 4)]\n",
    "print(\"Edge List:\")\n",
    "print(graph.get_edge_list())\n",
    "print()\n",
    "\n",
    "# Should be [None, [(2, 100), (3, 101), (4, 102)], None, [(4, 103)], None]\n",
    "print(\"Adjacency List:\")\n",
    "print(graph.get_adjacency_list())\n",
    "print()\n",
    "\n",
    "print(\"Adjacency Matrix:\")\n",
    "print (graph.get_adjacency_matrix())"
   ]
  },
  {
   "cell_type": "markdown",
   "metadata": {},
   "source": [
    "## 3.  https://www.educative.io/edpresso/how-to-implement-a-graph-in-python"
   ]
  },
  {
   "cell_type": "code",
   "execution_count": 28,
   "metadata": {},
   "outputs": [
    {
     "name": "stdout",
     "output_type": "stream",
     "text": [
      "1  ->  2  edge weight:  10\n",
      "1  ->  3  edge weight:  10\n",
      "2  ->  3  edge weight:  30\n",
      "3  ->  4  edge weight:  40\n",
      "4  ->  1  edge weight:  50\n",
      "Internal representation:  {1: [[2, 10], [3, 10]], 2: [[3, 30]], 3: [[4, 40]], 4: [[1, 50]]}\n"
     ]
    }
   ],
   "source": [
    "# Add a vertex to the dictionary\n",
    "def add_vertex(v):\n",
    "  global graph\n",
    "  global vertices_no\n",
    "  if v in graph:\n",
    "    print(\"Vertex \", v, \" already exists.\")\n",
    "  else:\n",
    "    vertices_no = vertices_no + 1\n",
    "    graph[v] = []\n",
    "\n",
    "# Add an edge between vertex v1 and v2 with edge weight e\n",
    "def add_edge(v1, v2, e):\n",
    "  global graph\n",
    "  # Check if vertex v1 is a valid vertex\n",
    "  if v1 not in graph:\n",
    "    print(\"Vertex \", v1, \" does not exist.\")\n",
    "  # Check if vertex v2 is a valid vertex\n",
    "  elif v2 not in graph:\n",
    "    print(\"Vertex \", v2, \" does not exist.\")\n",
    "  else:\n",
    "    # Since this code is not restricted to a directed or \n",
    "    # an undirected graph, an edge between v1 v2 does not\n",
    "    # imply that an edge exists between v2 and v1\n",
    "    temp = [v2, e]\n",
    "    graph[v1].append(temp)\n",
    "\n",
    "# Print the graph\n",
    "def print_graph():\n",
    "  global graph\n",
    "  for vertex in graph:\n",
    "    for edges in graph[vertex]:\n",
    "      print(vertex, \" -> \", edges[0], \" edge weight: \", edges[1])\n",
    "\n",
    "# driver code\n",
    "graph = {}\n",
    "# stores the number of vertices in the graph\n",
    "vertices_no = 0\n",
    "add_vertex(1)\n",
    "add_vertex(2)\n",
    "add_vertex(3)\n",
    "add_vertex(4)\n",
    "# Add the edges between the vertices by specifying\n",
    "# the from and to vertex along with the edge weights.\n",
    "add_edge(1, 2, 10)\n",
    "add_edge(1, 3, 10)\n",
    "add_edge(2, 3, 30)\n",
    "add_edge(3, 4, 40)\n",
    "add_edge(4, 1, 50)\n",
    "print_graph()\n",
    "# Reminder: the second element of each list inside the dictionary\n",
    "# denotes the edge weight.\n",
    "print (\"Internal representation: \", graph)"
   ]
  },
  {
   "cell_type": "code",
   "execution_count": 31,
   "metadata": {},
   "outputs": [
    {
     "name": "stdout",
     "output_type": "stream",
     "text": [
      "1  ->  2  edge weight:  1\n",
      "1  ->  3  edge weight:  1\n",
      "2  ->  3  edge weight:  3\n",
      "3  ->  4  edge weight:  4\n",
      "4  ->  1  edge weight:  5\n",
      "Internal representation:  [[0, 1, 1, 0], [0, 0, 3, 0], [0, 0, 0, 4], [5, 0, 0, 0]]\n"
     ]
    }
   ],
   "source": [
    "# Add a vertex to the set of vertices and the graph\n",
    "def add_vertex(v):\n",
    "  global graph\n",
    "  global vertices_no\n",
    "  global vertices\n",
    "  if v in vertices:\n",
    "    print(\"Vertex \", v, \" already exists\")\n",
    "  else:\n",
    "    vertices_no = vertices_no + 1\n",
    "    vertices.append(v)\n",
    "    if vertices_no > 1:\n",
    "        for vertex in graph:\n",
    "            vertex.append(0)\n",
    "    temp = []\n",
    "    for i in range(vertices_no):\n",
    "        temp.append(0)\n",
    "    graph.append(temp)\n",
    "\n",
    "# Add an edge between vertex v1 and v2 with edge weight e\n",
    "def add_edge(v1, v2, e):\n",
    "    global graph\n",
    "    global vertices_no\n",
    "    global vertices\n",
    "    # Check if vertex v1 is a valid vertex\n",
    "    if v1 not in vertices:\n",
    "        print(\"Vertex \", v1, \" does not exist.\")\n",
    "    # Check if vertex v1 is a valid vertex\n",
    "    elif v2 not in vertices:\n",
    "        print(\"Vertex \", v2, \" does not exist.\")\n",
    "    # Since this code is not restricted to a directed or \n",
    "    # an undirected graph, an edge between v1 v2 does not\n",
    "    # imply that an edge exists between v2 and v1\n",
    "    else:\n",
    "        index1 = vertices.index(v1)\n",
    "        index2 = vertices.index(v2)\n",
    "        graph[index1][index2] = e\n",
    "\n",
    "# Print the graph\n",
    "def print_graph():\n",
    "  global graph\n",
    "  global vertices_no\n",
    "  for i in range(vertices_no):\n",
    "    for j in range(vertices_no):\n",
    "      if graph[i][j] != 0:\n",
    "        print(vertices[i], \" -> \", vertices[j], \\\n",
    "        \" edge weight: \", graph[i][j])\n",
    "\n",
    "# Driver code        \n",
    "# stores the vertices in the graph\n",
    "vertices = []\n",
    "# stores the number of vertices in the graph\n",
    "vertices_no = 0\n",
    "graph = []\n",
    "# Add vertices to the graph\n",
    "add_vertex(1)\n",
    "add_vertex(2)\n",
    "add_vertex(3)\n",
    "add_vertex(4)\n",
    "# Add the edges between the vertices by specifying\n",
    "# the from and to vertex along with the edge weights.\n",
    "add_edge(1, 2, 1)\n",
    "add_edge(1, 3, 1)\n",
    "add_edge(2, 3, 3)\n",
    "add_edge(3, 4, 4)\n",
    "add_edge(4, 1, 5)\n",
    "print_graph()\n",
    "print(\"Internal representation: \", graph)"
   ]
  },
  {
   "cell_type": "code",
   "execution_count": null,
   "metadata": {},
   "outputs": [],
   "source": [
    "\n"
   ]
  }
 ],
 "metadata": {
  "kernelspec": {
   "display_name": "Python 3",
   "language": "python",
   "name": "python3"
  },
  "language_info": {
   "codemirror_mode": {
    "name": "ipython",
    "version": 3
   },
   "file_extension": ".py",
   "mimetype": "text/x-python",
   "name": "python",
   "nbconvert_exporter": "python",
   "pygments_lexer": "ipython3",
   "version": "3.7.4"
  }
 },
 "nbformat": 4,
 "nbformat_minor": 2
}
