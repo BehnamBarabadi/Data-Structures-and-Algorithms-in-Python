{
 "cells": [
  {
   "cell_type": "code",
   "execution_count": 1,
   "metadata": {},
   "outputs": [
    {
     "data": {
      "text/html": [
       "<style>.container { width:85% !important; }</style>"
      ],
      "text/plain": [
       "<IPython.core.display.HTML object>"
      ]
     },
     "metadata": {},
     "output_type": "display_data"
    }
   ],
   "source": [
    "from IPython.core.display import display, HTML\n",
    "display(HTML(\"<style>.container { width:85% !important; }</style>\"))"
   ]
  },
  {
   "cell_type": "markdown",
   "metadata": {},
   "source": [
    "# **DFS and BFS**"
   ]
  },
  {
   "cell_type": "markdown",
   "metadata": {},
   "source": [
    "<img src=\"images\\graph_bfs_dfs.jpg\" width=\"500\" >"
   ]
  },
  {
   "cell_type": "markdown",
   "metadata": {},
   "source": [
    "<img src=\"images\\graph_path.jpg\" width=\"700\" >"
   ]
  },
  {
   "cell_type": "markdown",
   "metadata": {},
   "source": [
    "## 1.My Approach"
   ]
  },
  {
   "cell_type": "code",
   "execution_count": 1,
   "metadata": {},
   "outputs": [],
   "source": [
    "class Node():\n",
    "    def __init__(self, value):\n",
    "        self.value = value\n",
    "        self.edges = []\n",
    "        self.visited = False\n",
    "\n",
    "        \n",
    "class Edge():\n",
    "    def __init__(self, value, node_from, node_to):\n",
    "        self.value = value\n",
    "        self.node_from = node_from\n",
    "        self.node_to = node_to\n",
    "\n",
    "        \n",
    "class Graph():\n",
    "    def __init__(self, nodes=[], edges=[]):\n",
    "        self.nodes = nodes\n",
    "        self.edges = edges\n",
    "        \n",
    "    def insert_node(self, new_node_val):\n",
    "        new_node = Node(new_node_val)\n",
    "        self.nodes.append(new_node)\n",
    "        \n",
    "        \n",
    "    def insert_edge(self, new_edge_val, node_from_val, node_to_val):\n",
    "        from_found = None\n",
    "        to_found = None\n",
    "        for node in self.nodes:\n",
    "            if node_from_val == node.value:\n",
    "                from_found = node\n",
    "            if node_to_val == node.value:\n",
    "                to_found = node\n",
    "        if from_found == None:\n",
    "            from_found = Node(node_from_val)\n",
    "            self.nodes.append(from_found)\n",
    "        if to_found == None:\n",
    "            to_found = Node(node_to_val)\n",
    "            self.nodes.append(to_found)\n",
    "        new_edge = Edge(new_edge_val, from_found, to_found)\n",
    "        from_found.edges.append(new_edge)\n",
    "        to_found.edges.append(new_edge)\n",
    "        self.edges.append(new_edge)\n",
    "        \n",
    "    def get_edge_list(self):\n",
    "        return [(edge.value, edge.node_from.value, edge.node_to.value) for edge in self.edges]\n",
    "    \n",
    "    def adjacency_list(self):\n",
    "        adj_list = {}\n",
    "        for node in self.nodes:\n",
    "            temp_l = []\n",
    "            for edge in node.edges:\n",
    "                if edge.node_from.value == node.value: # current node is the source of this edge\n",
    "                    temp_l.append((edge.value, edge.node_to.value))\n",
    "            adj_list[node.value] = temp_l\n",
    "        return adj_list\n",
    "        \n",
    "    def adjacency_matrix(self):\n",
    "        adj_matrix = []\n",
    "        node_values = [node.value for node in self.nodes] # list of all node values\n",
    "        for node in self.nodes:\n",
    "            l_temp = [0]* len(self.nodes) # a list of all zeros with legth of number of nodes in the graph\n",
    "            for edge in node.edges:\n",
    "                if edge.node_from.value  == node.value:\n",
    "                    index = node_values.index(edge.node_to.value) # get the index of the destination of this edge\n",
    "                    l_temp[index] = edge.value # set the valeu for that index to edge value\n",
    "            adj_matrix.append(l_temp)\n",
    "        return adj_matrix\n",
    "        \n",
    "        \n",
    "    def BFS(self):\n",
    "        for node in self.nodes: node.visited = False # set all visits to False before searching\n",
    "        from collections import deque\n",
    "        q = deque()\n",
    "        ret_list = [] #output of this function\n",
    "        # When visiting each new element we do 3 things: append it to queue, mark it as visited, append it to ret_list\n",
    "        q.append(self.nodes[0])\n",
    "        ret_list.append(self.nodes[0].value)\n",
    "        self.nodes[0].visited = True\n",
    "        while len(q) > 0:\n",
    "            current_node = q.popleft() # for queue use popleft\n",
    "            for edge in current_node.edges:\n",
    "                if edge.node_to.visited == False: # if the destination of the current edge is not visited\n",
    "                    q.append(edge.node_to) # append the current edge's destination node to the queue\n",
    "                    edge.node_to.visited = True # mark it as visited\n",
    "                    ret_list.append(edge.node_to.value) # append it to the ret_list\n",
    "        return ret_list\n",
    "\n",
    "\n",
    "    def DFS(self):\n",
    "        for node in self.nodes: node.visited = False  # set all visits to False before searching\n",
    "        start_node = self.nodes[0]\n",
    "        return self.dfs_helper(start_node)\n",
    "    \n",
    "    def dfs_helper(self, start_node):\n",
    "        ret_list = [start_node.value]\n",
    "        start_node.visited = True\n",
    "        edges_out = [e for e in start_node.edges if e.node_to.value != start_node.value] # find outgoing edges for the start_node\n",
    "        for edge in edges_out: # this works like a base case, when there's no outgoing edge, it skip the recusrion and returns the start_node.value as ret_list\n",
    "            if edge.node_to.visited == False: # if the edge's destination node is Not visited\n",
    "                ret_list.extend(self.dfs_helper(edge.node_to)) # recursively call dfs_helper() function on the detination node\n",
    "        return ret_list\n",
    "    \n",
    "    def find_shortest_path_unweighted(self, from_val, to_val):\n",
    "        # first we need to find the nodes corresponding to each searched value\n",
    "        start_node = None\n",
    "        end_node = None\n",
    "        for node in self.nodes:\n",
    "            if from_val == node.value:\n",
    "                start_node = node\n",
    "            if to_val == node.value:\n",
    "                end_node = node\n",
    "        # if the serached values are not in the graph:\n",
    "        if start_node == None or end_node == None:\n",
    "            print('value not found')\n",
    "            return\n",
    "        \n",
    "        # BFS search        \n",
    "        for node in self.nodes: node.visited = False # set all visits to False before searching\n",
    "        from collections import deque\n",
    "        q = deque() # q stores the pathes and NOT the node values\n",
    "        path = [start_node] # path is a list of nodes and NOT node values\n",
    "        start_node.visited = True\n",
    "        q.append(path)\n",
    "\n",
    "        while len(q) > 0:\n",
    "            path = q.popleft()\n",
    "            current_node = path[-1] # we only want to work with the last elekent\n",
    "            if current_node.value == to_val: # when the last element in the path is equal to the serached value\n",
    "                return  [n.value for n in path] # because path is a list of nodes and NOt node values, we need to print their values\n",
    "            edges_out = [e for e in current_node.edges if e.node_from.value == current_node.value] # list of outgoing edges for the current_node\n",
    "            for edge in edges_out:\n",
    "                if edge.node_to.visited == False: # if the destination of the current edge is not visited\n",
    "                    new_path = list(path) # for each adjacent node, create a new path from the pass we already have and append that adjacent node to it\n",
    "                    new_path.append(edge.node_to)\n",
    "                    q.append(new_path) # append the new_oath to the queue\n",
    "\n"
   ]
  },
  {
   "cell_type": "code",
   "execution_count": 4,
   "metadata": {},
   "outputs": [
    {
     "name": "stdout",
     "output_type": "stream",
     "text": [
      "Edge List:\n",
      "[(100, 1, 2), ('2XC', 2, 'C'), ('CXD', 'C', 'D'), (101, 1, 3), (102, 1, 4), (103, 3, 4), ('3XA', 3, 'A'), ('AXF', 'A', 'E'), ('4XF', 4, 'F')]\n",
      "\n",
      "Adjacency List:\n",
      "{1: [(100, 2), (101, 3), (102, 4)], 2: [('2XC', 'C')], 'C': [('CXD', 'D')], 'D': [], 3: [(103, 4), ('3XA', 'A')], 4: [('4XF', 'F')], 'A': [('AXF', 'E')], 'E': [], 'F': []}\n",
      "\n",
      "Adjacency Matrix:\n",
      "[[0, 100, 0, 0, 101, 102, 0, 0, 0], [0, 0, '2XC', 0, 0, 0, 0, 0, 0], [0, 0, 0, 'CXD', 0, 0, 0, 0, 0], [0, 0, 0, 0, 0, 0, 0, 0, 0], [0, 0, 0, 0, 0, 103, '3XA', 0, 0], [0, 0, 0, 0, 0, 0, 0, 0, '4XF'], [0, 0, 0, 0, 0, 0, 0, 'AXF', 0], [0, 0, 0, 0, 0, 0, 0, 0, 0], [0, 0, 0, 0, 0, 0, 0, 0, 0]]\n",
      "\n",
      "DFS:\n",
      "[1, 2, 'C', 'D', 3, 4, 'F', 'A', 'E']\n",
      "\n",
      "BFS:\n",
      "[1, 2, 3, 4, 'C', 'A', 'F', 'D', 'E']\n",
      "\n",
      "find path: \n",
      "[1, 4, 'F']\n"
     ]
    }
   ],
   "source": [
    "graph = Graph(nodes = [], edges = [])\n",
    "\n",
    "graph.insert_edge(100, 1, 2)\n",
    "graph.insert_edge('2XC', 2, 'C')\n",
    "graph.insert_edge('CXD', 'C', 'D')\n",
    "graph.insert_edge(101, 1, 3)\n",
    "graph.insert_edge(102, 1, 4)\n",
    "graph.insert_edge(103, 3, 4)\n",
    "graph.insert_edge('3XA', 3, 'A')\n",
    "graph.insert_edge('AXF', 'A', 'E')\n",
    "graph.insert_edge('4XF', 4, 'F')\n",
    "\n",
    "#Should be [(100, 1, 2), (101, 1, 3), (102, 1, 4), (103, 3, 4)]\n",
    "print(\"Edge List:\")\n",
    "print(graph.get_edge_list())\n",
    "print()\n",
    "\n",
    "print(\"Adjacency List:\")\n",
    "print(graph.adjacency_list())\n",
    "print()\n",
    "\n",
    "print(\"Adjacency Matrix:\")\n",
    "print (graph.adjacency_matrix())\n",
    "print()\n",
    "\n",
    "\n",
    "print(\"DFS:\")\n",
    "print (graph.DFS())\n",
    "print()\n",
    "\n",
    "\n",
    "print(\"BFS:\")\n",
    "print (graph.BFS())\n",
    "print()\n",
    "\n",
    "print(\"find path: \")\n",
    "print(graph.find_shortest_path_unweighted(1, 'F'))"
   ]
  },
  {
   "cell_type": "markdown",
   "metadata": {},
   "source": [
    "## Udacity Example"
   ]
  },
  {
   "cell_type": "code",
   "execution_count": 142,
   "metadata": {},
   "outputs": [
    {
     "name": "stdout",
     "output_type": "stream",
     "text": [
      "Edge List:\n",
      "[(51, 'Mountain View', 'San Francisco'), (51, 'San Francisco', 'Mountain View'), (9950, 'Mountain View', 'Shanghai'), (9950, 'Shanghai', 'Mountain View'), (10375, 'Mountain View', 'Bangalore'), (10375, 'Bangalore', 'Mountain View'), (9900, 'San Francisco', 'Shanghai'), (9900, 'Shanghai', 'San Francisco'), (9130, 'San Francisco', 'Berlin'), (9130, 'Berlin', 'San Francisco'), (9217, 'London', 'Shanghai'), (9217, 'Shanghai', 'London'), (932, 'London', 'Berlin'), (932, 'Berlin', 'London'), (9471, 'London', 'Bangalore'), (9471, 'Bangalore', 'London')]\n",
      "\n",
      "Adjacency List:\n",
      "{'Mountain View': [(51, 'San Francisco'), (9950, 'Shanghai'), (10375, 'Bangalore')], 'San Francisco': [(51, 'Mountain View'), (9900, 'Shanghai'), (9130, 'Berlin')], 'Shanghai': [(9950, 'Mountain View'), (9900, 'San Francisco'), (9217, 'London')], 'Bangalore': [(10375, 'Mountain View'), (9471, 'London')], 'Berlin': [(9130, 'San Francisco'), (932, 'London')], 'London': [(9217, 'Shanghai'), (932, 'Berlin'), (9471, 'Bangalore')]}\n",
      "\n",
      "Adjacency Matrix:\n",
      "[[0, 51, 9950, 10375, 0, 0], [51, 0, 9900, 0, 9130, 0], [9950, 9900, 0, 0, 0, 9217], [10375, 0, 0, 0, 0, 9471], [0, 9130, 0, 0, 0, 932], [0, 0, 9217, 9471, 932, 0]]\n",
      "\n",
      "DFS:\n",
      "['Mountain View', 'San Francisco', 'Shanghai', 'London', 'Berlin', 'Bangalore']\n"
     ]
    }
   ],
   "source": [
    "graph = Graph(nodes = [], edges = [])\n",
    "\n",
    "graph.insert_edge(51, 'Mountain View', 'San Francisco')     # MV <-> SF\n",
    "graph.insert_edge(51, 'San Francisco', 'Mountain View')     # SF <-> MV\n",
    "graph.insert_edge(9950, 'Mountain View', 'Shanghai')   # MV <-> Shanghai\n",
    "graph.insert_edge(9950, 'Shanghai', 'Mountain View')   # Shanghai <-> MV\n",
    "graph.insert_edge(10375, 'Mountain View', 'Bangalore')  # MV <-> Sao Paolo\n",
    "graph.insert_edge(10375, 'Bangalore', 'Mountain View')  # Sao Paolo <-> MV\n",
    "graph.insert_edge(9900, 'San Francisco', 'Shanghai')   # SF <-> Shanghai\n",
    "graph.insert_edge(9900, 'Shanghai', 'San Francisco')   # Shanghai <-> SF\n",
    "graph.insert_edge(9130, 'San Francisco',  'Berlin')   # SF <-> Berlin\n",
    "graph.insert_edge(9130,  'Berlin', 'San Francisco')   # Berlin <-> SF\n",
    "graph.insert_edge(9217, 'London', 'Shanghai')   # London <-> Shanghai\n",
    "graph.insert_edge(9217, 'Shanghai', 'London')   # Shanghai <-> London\n",
    "graph.insert_edge(932, 'London',  'Berlin')    # London <-> Berlin\n",
    "graph.insert_edge(932,  'Berlin', 'London')    # Berlin <-> London\n",
    "graph.insert_edge(9471, 'London', 'Bangalore')   # London <-> Sao Paolo\n",
    "graph.insert_edge(9471, 'Bangalore', 'London')   # Sao Paolo <-> London\n",
    "\n",
    "print(\"Edge List:\")\n",
    "print(graph.get_edge_list())\n",
    "print()\n",
    "\n",
    "print(\"Adjacency List:\")\n",
    "print(graph.adjacency_list())\n",
    "print()\n",
    "\n",
    "print(\"Adjacency Matrix:\")\n",
    "print (graph.adjacency_matrix())\n",
    "print()\n",
    "\n",
    "print(\"DFS:\")\n",
    "print (graph.DFS())"
   ]
  }
 ],
 "metadata": {
  "kernelspec": {
   "display_name": "Python 3",
   "language": "python",
   "name": "python3"
  },
  "language_info": {
   "codemirror_mode": {
    "name": "ipython",
    "version": 3
   },
   "file_extension": ".py",
   "mimetype": "text/x-python",
   "name": "python",
   "nbconvert_exporter": "python",
   "pygments_lexer": "ipython3",
   "version": "3.7.4"
  }
 },
 "nbformat": 4,
 "nbformat_minor": 2
}
