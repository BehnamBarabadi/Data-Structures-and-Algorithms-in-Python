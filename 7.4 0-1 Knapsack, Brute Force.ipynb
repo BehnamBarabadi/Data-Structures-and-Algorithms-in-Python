{
 "cells": [
  {
   "cell_type": "code",
   "execution_count": 1,
   "metadata": {},
   "outputs": [
    {
     "data": {
      "text/html": [
       "<style>.container { width:85% !important; }</style>"
      ],
      "text/plain": [
       "<IPython.core.display.HTML object>"
      ]
     },
     "metadata": {},
     "output_type": "display_data"
    }
   ],
   "source": [
    "from IPython.core.display import display, HTML\n",
    "display(HTML(\"<style>.container { width:85% !important; }</style>\"))"
   ]
  },
  {
   "cell_type": "markdown",
   "metadata": {},
   "source": [
    "# **Knapsack, Brute Force, Recusrsive**"
   ]
  },
  {
   "cell_type": "markdown",
   "metadata": {},
   "source": [
    "\n",
    "<img src=\"images\\knapsack.JPG\" width=\"800\" >"
   ]
  },
  {
   "cell_type": "markdown",
   "metadata": {},
   "source": [
    "\n",
    "<img src=\"images\\knapsack - recursive.jpg\" width=\"1000\" >"
   ]
  },
  {
   "cell_type": "code",
   "execution_count": 2,
   "metadata": {},
   "outputs": [
    {
     "name": "stdout",
     "output_type": "stream",
     "text": [
      "220\n"
     ]
    }
   ],
   "source": [
    "# Returns the maximum value that can be put in a knapsack of capacity W \n",
    " \n",
    "def knapSack(Capacity, wt, val, current_index): \n",
    "    # current_index starts with the len(wt) is one more than the actual index value\n",
    "    \n",
    "    # Base Case, the simpleset case is when capacity is zero or when don't have any previous element\n",
    "    if current_index == 0 or Capacity == 0 : \n",
    "        return 0\n",
    "  \n",
    "    # If weight of the current_item is more than of the knapsack  capacity \n",
    "    # then this item cannot be included in the optimal solution \n",
    "    if (wt[current_index-1] > Capacity): \n",
    "        return knapSack(Capacity, wt, val, current_index-1) \n",
    "  \n",
    "    # return the maximum of two cases: \n",
    "    # (1) nth item included \n",
    "    # (2) not included \n",
    "    else: \n",
    "        current_included  = val[current_index-1] + knapSack(Capacity - wt[current_index-1], wt, val, current_index-1)\n",
    "        current_excluded = knapSack(Capacity, wt, val, current_index-1)\n",
    "        return max(current_included, current_excluded) \n",
    "  \n",
    "\n",
    "\n",
    "    \n",
    "# To test above function \n",
    "values = [60, 100, 120] \n",
    "weights = [10, 20, 30] \n",
    "Capacity = 50\n",
    "n = len(values) \n",
    "print (knapSack(Capacity, weights, values, n) )"
   ]
  },
  {
   "cell_type": "code",
   "execution_count": null,
   "metadata": {},
   "outputs": [],
   "source": []
  }
 ],
 "metadata": {
  "kernelspec": {
   "display_name": "Python 3",
   "language": "python",
   "name": "python3"
  },
  "language_info": {
   "codemirror_mode": {
    "name": "ipython",
    "version": 3
   },
   "file_extension": ".py",
   "mimetype": "text/x-python",
   "name": "python",
   "nbconvert_exporter": "python",
   "pygments_lexer": "ipython3",
   "version": "3.7.4"
  }
 },
 "nbformat": 4,
 "nbformat_minor": 2
}
