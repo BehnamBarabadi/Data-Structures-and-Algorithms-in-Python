{
 "cells": [
  {
   "cell_type": "markdown",
   "metadata": {},
   "source": [
    "# **Binary Tree**"
   ]
  },
  {
   "cell_type": "code",
   "execution_count": 1,
   "metadata": {
    "scrolled": true
   },
   "outputs": [
    {
     "data": {
      "text/html": [
       "<style>.container { width:83% !important; }</style>"
      ],
      "text/plain": [
       "<IPython.core.display.HTML object>"
      ]
     },
     "metadata": {},
     "output_type": "display_data"
    }
   ],
   "source": [
    "from IPython.core.display import display, HTML\n",
    "display(HTML(\"<style>.container { width:83% !important; }</style>\"))"
   ]
  },
  {
   "cell_type": "markdown",
   "metadata": {},
   "source": [
    "<img src=\"images\\binary_tree_search.jpg\" width=\"700\" >"
   ]
  },
  {
   "cell_type": "markdown",
   "metadata": {},
   "source": [
    "### Attention!\n",
    "- In Trees unlike Likedlists, we can't use `self.root = self.root.left` because here we have 2 chilldren and by using that command, we loose the right child.\n",
    "- To solve this issue, we need to use a helper function that accepts a specific parent_node and we call that function 2 times, once with left child as the new parent_node and the other time with right chid as the new parent_node."
   ]
  },
  {
   "cell_type": "markdown",
   "metadata": {},
   "source": [
    "# My Approach"
   ]
  },
  {
   "cell_type": "code",
   "execution_count": 80,
   "metadata": {},
   "outputs": [],
   "source": [
    "class node(object):\n",
    "    def __init__(self, val):\n",
    "        self.value = val\n",
    "        self.left = None\n",
    "        self.right = None\n",
    "\n",
    "class binary_tree(object):\n",
    "    def __init__(self, root_val):\n",
    "        self.root = node(root_val) # creare a root node of a given value\n",
    "        \n",
    "\n",
    "    def search(self, val): \n",
    "        \"\"\"\n",
    "        we need to have 2 serach functions because unlike linked lists, we can't use self.root = self.root.left\n",
    "        because have 2 childern, left and right and by using the above command, we will loose self.root.right.\n",
    "        Instead we need to have 2 search methods, one uses the root of the tree and the other one with a given current_node.\n",
    "        \"\"\"\n",
    "        return self.preorder_search(self.root, val)\n",
    "    \n",
    "    def preorder_search(self, current_node, val): # recusrsive serach\n",
    "        if current_node is None: # base case 1\n",
    "            return False\n",
    "        elif current_node.value == val: # base case 2\n",
    "            return True\n",
    "        else:\n",
    "            return self.preorder_search(current_node.left, val) or self.preorder_search(current_node.right, val)\n",
    "                \n",
    "        \n",
    "    def print(self, order = 'preorder'):\n",
    "        if order == 'inorder':\n",
    "            return self.inorder_print(self.root)\n",
    "        else: \n",
    "            return self.preorder_print(self.root)\n",
    "    \n",
    "    def preorder_print(self, current_node):\n",
    "        if current_node is None: # base case 1\n",
    "            return ''\n",
    "        else:\n",
    "            traverse = ' '\n",
    "            traverse += str(current_node.value)\n",
    "            traverse += self.preorder_print(current_node.left)\n",
    "            traverse += self.preorder_print(current_node.right)\n",
    "        return traverse\n",
    "    \n",
    "    def inorder_print(self, current_node):\n",
    "        if current_node is None: # base case 1\n",
    "            return ' '\n",
    "        else:\n",
    "            traverse = ' '\n",
    "            traverse += self.inorder_print(current_node.left)\n",
    "            traverse += str(current_node.value)\n",
    "            traverse += self.inorder_print(current_node.right)\n",
    "     \n",
    "        return traverse\n",
    "\n"
   ]
  },
  {
   "cell_type": "code",
   "execution_count": 85,
   "metadata": {},
   "outputs": [],
   "source": [
    "tree = binary_tree(1)\n",
    "tree.root.left = node(2)\n",
    "tree.root.right = node(3)\n",
    "tree.root.left.left = node(4)\n",
    "tree.root.left.right = node(5)"
   ]
  },
  {
   "cell_type": "code",
   "execution_count": 86,
   "metadata": {},
   "outputs": [
    {
     "name": "stdout",
     "output_type": "stream",
     "text": [
      "True\n",
      "False\n"
     ]
    }
   ],
   "source": [
    "print(tree.search(5))\n",
    "# Should be False\n",
    "print (tree.search(6))"
   ]
  },
  {
   "cell_type": "code",
   "execution_count": 87,
   "metadata": {},
   "outputs": [
    {
     "name": "stdout",
     "output_type": "stream",
     "text": [
      " 1 2 4 5 3\n"
     ]
    }
   ],
   "source": [
    "print(tree.print())"
   ]
  },
  {
   "cell_type": "code",
   "execution_count": 88,
   "metadata": {},
   "outputs": [
    {
     "name": "stdout",
     "output_type": "stream",
     "text": [
      "    4 2  5 1  3 \n"
     ]
    }
   ],
   "source": [
    "print(tree.print(order = 'inorder'))"
   ]
  },
  {
   "cell_type": "markdown",
   "metadata": {},
   "source": [
    "## Udacity"
   ]
  },
  {
   "cell_type": "code",
   "execution_count": 61,
   "metadata": {},
   "outputs": [],
   "source": [
    "class Node(object):\n",
    "    def __init__(self, value):\n",
    "        self.value = value\n",
    "        self.left = None\n",
    "        self.right = None\n",
    "\n",
    "class BinaryTree(object):\n",
    "    def __init__(self, root):\n",
    "        #print(type(root))\n",
    "        self.root = Node(root) # self.root is an object of Node class\n",
    "\n",
    "    def search(self, find_val):\n",
    "        \"\"\"Return True if the value\n",
    "        is in the tree, return\n",
    "        False otherwise.\"\"\"\n",
    "        return self.preorder_search(self.root, find_val) # tree.root is the starting point\n",
    "        \n",
    "    def preorder_search(self, start, find_val):\n",
    "        #print(start.value) if start is not None else \"\"\n",
    "        if start: # Base Condition 1,  if there is an element inside a tree (start point):\n",
    "            if start.value == find_val: # Base Condition 2, if the value of that element is equal to the searched element\n",
    "                return True\n",
    "            else: # if not, recursively search but each time set the the left or right child as the start point\n",
    "                return self.preorder_search(start.left, find_val) or self.preorder_search(start.right, find_val)\n",
    "        return False\n",
    "    \n",
    "    def print_tree(self):\n",
    "        \"\"\"Print out all tree nodes\n",
    "        as they are visited in\n",
    "        a pre-order traversal.\"\"\"\n",
    "        return self.preorder_print(self.root, \"\")[:-1] # [:-1] is added to remove the last - \n",
    "\n",
    "    def preorder_print(self, start, traversal): # traversal is an empty string\n",
    "        \"\"\"Helper method - use this to create a \n",
    "        recursive print solution.\"\"\"\n",
    "        if start:\n",
    "            traversal += str(start.value) + '-'\n",
    "            traversal = self.preorder_print(start.left, traversal)\n",
    "            traversal = self.preorder_print(start.right, traversal)\n",
    "        return traversal\n"
   ]
  },
  {
   "cell_type": "code",
   "execution_count": 62,
   "metadata": {},
   "outputs": [
    {
     "name": "stdout",
     "output_type": "stream",
     "text": [
      "False\n",
      "1-2-4-5-3\n"
     ]
    }
   ],
   "source": [
    "tree = BinaryTree(1) # create a tree with root = 1\n",
    "\n",
    "tree.root.left = Node(2) # set the level 1 left node = 2, each node has value, left and right\n",
    "tree.root.right = Node(3) # set the level 1 right node = 2\n",
    "\n",
    "tree.root.left.left = Node(4)\n",
    "tree.root.left.right = Node(5)\n",
    "\n",
    "print (tree.search(6))\n",
    "# Should be 1-2-4-5-3\n",
    "print (tree.print_tree())"
   ]
  },
  {
   "cell_type": "markdown",
   "metadata": {},
   "source": [
    "### Attention:\n",
    "- `if start` is True from the root node to the leaves\n",
    "- When startpoint becomes left child or right child of a leaf, `if start` is Not True any more and algorithm ends."
   ]
  },
  {
   "cell_type": "markdown",
   "metadata": {},
   "source": [
    "```python\n",
    "def preorder_search(self, start, find_val):```\n",
    "\n",
    "- It starts searching with the given start value, If the start value is the searched value return yes, else:\n",
    "- set the left and right children of the strat value as the new start and seacrh again (recusrsively)\n",
    "- It goes on untill the left and right child are None"
   ]
  },
  {
   "cell_type": "code",
   "execution_count": 63,
   "metadata": {},
   "outputs": [
    {
     "name": "stdout",
     "output_type": "stream",
     "text": [
      "True\n",
      "1-2-4-5-3\n"
     ]
    }
   ],
   "source": [
    "tree.root.left = Node(2) # set the level 1 left node = 2, each node has value, left and right\n",
    "tree.root.right = Node(3) # set the level 1 right node = 2\n",
    "\n",
    "tree.root.left.left = Node(4)\n",
    "tree.root.left.right = Node(5)\n",
    "\n",
    "print (tree.search(2))\n",
    "# Should be 1-2-4-5-3\n",
    "print (tree.print_tree())"
   ]
  },
  {
   "cell_type": "code",
   "execution_count": null,
   "metadata": {},
   "outputs": [],
   "source": []
  }
 ],
 "metadata": {
  "kernelspec": {
   "display_name": "Python 3",
   "language": "python",
   "name": "python3"
  },
  "language_info": {
   "codemirror_mode": {
    "name": "ipython",
    "version": 3
   },
   "file_extension": ".py",
   "mimetype": "text/x-python",
   "name": "python",
   "nbconvert_exporter": "python",
   "pygments_lexer": "ipython3",
   "version": "3.7.4"
  }
 },
 "nbformat": 4,
 "nbformat_minor": 2
}
