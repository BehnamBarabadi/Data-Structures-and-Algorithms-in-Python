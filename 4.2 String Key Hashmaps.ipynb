{
 "cells": [
  {
   "cell_type": "markdown",
   "metadata": {},
   "source": [
    "# Hashmap"
   ]
  },
  {
   "cell_type": "code",
   "execution_count": 11,
   "metadata": {},
   "outputs": [
    {
     "data": {
      "text/html": [
       "<style>.container { width:80% !important; }</style>"
      ],
      "text/plain": [
       "<IPython.core.display.HTML object>"
      ]
     },
     "metadata": {},
     "output_type": "display_data"
    }
   ],
   "source": [
    "from IPython.core.display import display, HTML\n",
    "display(HTML(\"<style>.container { width:80% !important; }</style>\"))"
   ]
  },
  {
   "cell_type": "markdown",
   "metadata": {},
   "source": [
    "### Write a HashTable class that \n",
    "- stores strings in a hash table, where values are given strings and keys are calculated using the first two letters of the string\n",
    "- keys(hashvalues) are index of the list and values are strings stored as lists because for each index (hashvalue) we may have mutiple values (strings)\n",
    "- Don't use dictionary\n",
    "> hash value = (ascii value of first character x 100) + ascii value of 2nd character \n",
    "\n",
    "### ex:\n",
    ">  'UDACITY''s hash value is 8568 and it is stored in the index = 8568 \n",
    "- `list[8568] = ['UDACITY']`\n",
    "\n",
    "> 'UDACIOUS''s hash value is also 8568 and it is stored in the index = 8568 \n",
    "- `list[8568] = ['UDACITY', 'UDACIOUS']`"
   ]
  },
  {
   "cell_type": "code",
   "execution_count": 30,
   "metadata": {},
   "outputs": [
    {
     "name": "stdout",
     "output_type": "stream",
     "text": [
      "8568\n",
      "-1\n",
      "(8568, 'UDACITY')\n",
      "(8568, 'UDACIOUS')\n"
     ]
    }
   ],
   "source": [
    "hash_table = HashTable()\n",
    "\n",
    "print (hash_table.calculate_hash_value('UDACITY')) # Should be 8568\n",
    "\n",
    "print (hash_table.lookup('UDACITY')) #Should be -1\n",
    " \n",
    "hash_table.store('UDACITY') #Test store\n",
    "\n",
    "print (hash_table.lookup('UDACITY'))  # Should be 8568\n",
    "\n",
    "hash_table.store('UDACIOUS') # Test store edge case\n",
    "\n",
    "print (hash_table.lookup('UDACIOUS')) # Should be 8568"
   ]
  },
  {
   "cell_type": "code",
   "execution_count": null,
   "metadata": {},
   "outputs": [],
   "source": []
  },
  {
   "cell_type": "code",
   "execution_count": null,
   "metadata": {},
   "outputs": [],
   "source": []
  },
  {
   "cell_type": "code",
   "execution_count": 31,
   "metadata": {},
   "outputs": [
    {
     "name": "stdout",
     "output_type": "stream",
     "text": [
      "8568\n",
      "None\n",
      "(8568, 'UDACITY')\n",
      "(8568, 'UDACIOUS')\n"
     ]
    }
   ],
   "source": [
    "\"\"\"Write a HashTable class that stores strings\n",
    "in a hash table, where keys are calculated\n",
    "using the first two letters of the string.\"\"\"\n",
    "\n",
    "class HashTable(object):\n",
    "    def __init__(self):\n",
    "        self.table = [None]*10000 # total number of possible hashvalues\n",
    "        \n",
    "    def __str__(self):\n",
    "        print(self.table)\n",
    "\n",
    "    def store(self, string):\n",
    "        \"\"\"Input a string that's stored in \n",
    "        the table.\"\"\"\n",
    "        hv = self.calculate_hash_value(string)\n",
    "        if hv != -1:\n",
    "            if self.table[hv] == None: # if no string is stored in this hv yet\n",
    "                self.table[hv] = [string] # store the string as a list\n",
    "            else:\n",
    "                self.table[hv].append(string) # append the new string to the list element with the same hv\n",
    "\n",
    "    def lookup(self, string):\n",
    "        \"\"\"Return the hash value if the\n",
    "        string is already in the table.\n",
    "        Return -1 otherwise.\"\"\"\n",
    "        hv = self.calculate_hash_value(string)\n",
    "        if hv != -1:\n",
    "            if self.table[hv] != None: # if there is an element in the list with this hv\n",
    "                if string in self.table[hv]: # if the searched string exists in the list of elements with that hv\n",
    "                    return (hv, string)\n",
    "        else:\n",
    "            return -1\n",
    "\n",
    "    def calculate_hash_value(self, string):\n",
    "        chars = string[:2].upper()\n",
    "        val = ord(chars[0])*100 + ord(chars[1])\n",
    "        return val\n",
    "    \n",
    "# Setup\n",
    "hash_table = HashTable()\n",
    "\n",
    "# Test calculate_hash_value\n",
    "# Should be 8568\n",
    "print (hash_table.calculate_hash_value('UDACITY'))\n",
    "\n",
    "# Test lookup edge case\n",
    "# Should be -1\n",
    "print (hash_table.lookup('UDACITY'))\n",
    "\n",
    "#Test store\n",
    "hash_table.store('UDACITY')\n",
    "# Should be 8568\n",
    "print (hash_table.lookup('UDACITY'))\n",
    "\n",
    "# Test store edge case\n",
    "hash_table.store('UDACIOUS')\n",
    "# Should be 8568\n",
    "print (hash_table.lookup('UDACIOUS'))\n",
    "\n",
    "#print(hash_table)"
   ]
  },
  {
   "cell_type": "markdown",
   "metadata": {},
   "source": [
    "### In this example we stored to string with the same hash_value in one element of the hash table"
   ]
  }
 ],
 "metadata": {
  "kernelspec": {
   "display_name": "Python 3",
   "language": "python",
   "name": "python3"
  },
  "language_info": {
   "codemirror_mode": {
    "name": "ipython",
    "version": 3
   },
   "file_extension": ".py",
   "mimetype": "text/x-python",
   "name": "python",
   "nbconvert_exporter": "python",
   "pygments_lexer": "ipython3",
   "version": "3.7.4"
  }
 },
 "nbformat": 4,
 "nbformat_minor": 2
}
